{
 "metadata": {
  "name": "",
  "signature": "sha256:2dc449532bf5c0874e631ad5ed0d7b6839fcbec6bf2f255e515372344f80ec2b"
 },
 "nbformat": 3,
 "nbformat_minor": 0,
 "worksheets": [
  {
   "cells": [
    {
     "cell_type": "code",
     "collapsed": false,
     "input": [
      "import sys, urllib\n",
      "sys.path.append('C:\\Users\\Shweta\\Desktop\\CS 8903\\FINAL\\scripts')\n",
      "from InstaLib import *\n",
      "from analyze_utils import *\n",
      "from match_utils import *\n",
      "from random import shuffle, randint\n",
      "import numpy as np"
     ],
     "language": "python",
     "metadata": {},
     "outputs": [],
     "prompt_number": 24
    },
    {
     "cell_type": "markdown",
     "metadata": {},
     "source": [
      "#### Loading the post file"
     ]
    },
    {
     "cell_type": "code",
     "collapsed": false,
     "input": [
      "post_file = 'C:\\Users\\Shweta\\Desktop\\CS 8903\\FINAL\\Data\\sample_post.txt'\n",
      "post_dict = load_post(post_file)"
     ],
     "language": "python",
     "metadata": {},
     "outputs": [
      {
       "output_type": "stream",
       "stream": "stdout",
       "text": [
        "Loading the post File\n",
        "Loading the post File !! DONE !!"
       ]
      },
      {
       "output_type": "stream",
       "stream": "stdout",
       "text": [
        "\n",
        "Reading through the loaded data into local variables\n",
        "Reading through the loaded data into local variables !! DONE !!"
       ]
      },
      {
       "output_type": "stream",
       "stream": "stdout",
       "text": [
        " 0\n",
        "Setting the local time info\n",
        "Setting the local time info !! DONE !!"
       ]
      },
      {
       "output_type": "stream",
       "stream": "stdout",
       "text": [
        " 3094\n"
       ]
      }
     ],
     "prompt_number": 25
    },
    {
     "cell_type": "code",
     "collapsed": false,
     "input": [
      "# To check the local time setting info \n",
      "count = 0\n",
      "for post_id in post_dict:\n",
      "    if post_dict[post_id].loc and count <10:\n",
      "        print post_dict[post_id].loc_time, post_dict[post_id].local_tz_name\n",
      "        count += 1"
     ],
     "language": "python",
     "metadata": {},
     "outputs": [
      {
       "output_type": "stream",
       "stream": "stdout",
       "text": [
        "2014-11-04 18:41:17 Europe/London\n",
        "2014-03-16 09:43:22 Europe/Rome\n",
        "2013-07-06 23:25:50 Asia/Bangkok\n",
        "2014-10-13 22:07:40 Europe/Stockholm\n",
        "2014-10-07 23:18:01 Asia/Seoul\n",
        "2014-06-28 18:34:13 Europe/Rome\n",
        "2014-09-03 06:36:40 Australia/Brisbane\n",
        "2014-10-02 08:20:15 Asia/Manila\n",
        "2014-09-16 00:03:07 Europe/Rome\n",
        "2013-08-18 23:12:59 America/Guayaquil\n"
       ]
      }
     ],
     "prompt_number": 26
    },
    {
     "cell_type": "markdown",
     "metadata": {},
     "source": [
      "#### Loading the nut info"
     ]
    },
    {
     "cell_type": "code",
     "collapsed": false,
     "input": [
      "nut_info_path = 'C:\\\\Users\\\\Shweta\\\\Desktop\\\\CS 8903\\\\FINAL\\\\results\\\\'\n",
      "nut_info_file_name_list = ['hit_2_step_1.txt','hit_direct.txt','miss.txt']\n",
      "# Reading the file into the system memory\n",
      "lines = []\n",
      "for file_name in nut_info_file_name_list :\n",
      "    with open(nut_info_path+file_name,'r') as f:\n",
      "        lines.extend(list(f))\n",
      "count = 0\n"
     ],
     "language": "python",
     "metadata": {},
     "outputs": [],
     "prompt_number": 27
    },
    {
     "cell_type": "markdown",
     "metadata": {},
     "source": [
      "#### Now Actually setting the nut info"
     ]
    },
    {
     "cell_type": "code",
     "collapsed": false,
     "input": [
      "for line in lines:\n",
      "    post_dict[line.split('\\t')[0]].set_nut_info(line)\n",
      "    count += 1\n",
      "    if not count%1000:\n",
      "        print count"
     ],
     "language": "python",
     "metadata": {},
     "outputs": [
      {
       "output_type": "stream",
       "stream": "stdout",
       "text": [
        "1000\n",
        "2000"
       ]
      },
      {
       "output_type": "stream",
       "stream": "stdout",
       "text": [
        "\n",
        "3000"
       ]
      },
      {
       "output_type": "stream",
       "stream": "stdout",
       "text": [
        "\n",
        "4000"
       ]
      },
      {
       "output_type": "stream",
       "stream": "stdout",
       "text": [
        "\n",
        "5000"
       ]
      },
      {
       "output_type": "stream",
       "stream": "stdout",
       "text": [
        "\n",
        "6000"
       ]
      },
      {
       "output_type": "stream",
       "stream": "stdout",
       "text": [
        "\n",
        "7000"
       ]
      },
      {
       "output_type": "stream",
       "stream": "stdout",
       "text": [
        "\n",
        "8000"
       ]
      },
      {
       "output_type": "stream",
       "stream": "stdout",
       "text": [
        "\n",
        "9000\n"
       ]
      }
     ],
     "prompt_number": 28
    },
    {
     "cell_type": "markdown",
     "metadata": {},
     "source": [
      "#### Removing the Posts without any nut info"
     ]
    },
    {
     "cell_type": "code",
     "collapsed": true,
     "input": [
      "# Now removing the bad ones, i.e. ones which do not have any nut info\n",
      "print len(post_dict)\n",
      "bad = []\n",
      "for post_id in post_dict:\n",
      "    if not post_dict[post_id].has_nuts:\n",
      "        bad.append(post_id)\n",
      "\n",
      "for post_id in bad:\n",
      "    del post_dict[post_id]\n",
      "\n",
      "print len(post_dict)"
     ],
     "language": "python",
     "metadata": {},
     "outputs": [
      {
       "output_type": "stream",
       "stream": "stdout",
       "text": [
        "10000\n",
        "8642\n"
       ]
      }
     ],
     "prompt_number": 29
    },
    {
     "cell_type": "markdown",
     "metadata": {},
     "source": [
      "#### Set comment info"
     ]
    },
    {
     "cell_type": "code",
     "collapsed": false,
     "input": [
      "lines = read_lines('C:\\Users\\Shweta\\Desktop\\CS 8903\\FINAL\\Data\\sample_comments.txt')\n",
      "print 'Setting the comments'\n",
      "for line in lines:\n",
      "    if line.split('\\t')[0] in post_dict:\n",
      "        post_dict[line.split('\\t')[0]].set_comment(line)"
     ],
     "language": "python",
     "metadata": {},
     "outputs": [
      {
       "output_type": "stream",
       "stream": "stdout",
       "text": [
        "Setting the comments\n"
       ]
      }
     ],
     "prompt_number": 30
    },
    {
     "cell_type": "code",
     "collapsed": false,
     "input": [
      "# For how many of the comments is the number of comments not equal to the length of the loaded comments\n",
      "count = 0\n",
      "for post_id in post_dict:\n",
      "    if post_dict[post_id].num_comments !=  -1:\n",
      "        if post_dict[post_id].num_comments !=  len(post_dict[post_id].comm_list):\n",
      "            count += 1\n",
      "print 'For how many of the comments is the number of comments not equal to the length of the loaded comments = ',count"
     ],
     "language": "python",
     "metadata": {},
     "outputs": [
      {
       "output_type": "stream",
       "stream": "stdout",
       "text": [
        "For how many of the comments is the number of comments not equal to the length of the loaded comments =  296\n"
       ]
      }
     ],
     "prompt_number": 31
    },
    {
     "cell_type": "markdown",
     "metadata": {},
     "source": [
      "#### Getting the  median calories info"
     ]
    },
    {
     "cell_type": "code",
     "collapsed": false,
     "input": [
      "with open('post_lat_lon.txt','w+') as f:\n",
      "    for post_id in post_dict:\n",
      "        post = post_dict[post_id]\n",
      "        if post.loc_time_bool:\n",
      "            st = ''\n",
      "            st+= str(post.id) +'\\t'\n",
      "            st+= str(post.time) +'\\t'\n",
      "            st+= str(post.lat) +'\\t'\n",
      "            st+= str(post.lon) +'\\t'\n",
      "            st+= str(post.loc_time) +'\\t'\n",
      "            st+= str(post.loc_name) +'\\t'\n",
      "            st+= str(post.loc_id )+'\\t'\n",
      "            st+= str(post.calories)+'\\n'\n",
      "            f.write(st)       \n",
      "        "
     ],
     "language": "python",
     "metadata": {},
     "outputs": [],
     "prompt_number": 106
    },
    {
     "cell_type": "code",
     "collapsed": false,
     "input": [
      "l = []\n",
      "has_nuts= 0\n",
      "# Computing the median calories, and creating a \n",
      "for post_id in post_dict.keys():\n",
      "    if post_dict[post_id].has_nuts:\n",
      "        has_nuts += 1\n",
      "        l.append(float(post_dict[post_id].calories))\n",
      "zmed = np.median(np.array(l))\n",
      "avg = sum(l)/has_nuts\n"
     ],
     "language": "python",
     "metadata": {},
     "outputs": [],
     "prompt_number": 32
    },
    {
     "cell_type": "code",
     "collapsed": true,
     "input": [
      "len(l)\n",
      "med = np.median(l)\n",
      "l_count = 0\n",
      "h_count = 0\n",
      "for a in l:\n",
      "    if a >= med:\n",
      "        h_count += 1\n",
      "    else:\n",
      "        l_count += 1\n",
      "print h_count, l_count\n",
      "#sort_dict(count_list(l))[:20]\n",
      "#plt.hist(l, bins = 150)\n",
      "#plt.show()\n"
     ],
     "language": "python",
     "metadata": {},
     "outputs": [
      {
       "output_type": "stream",
       "stream": "stdout",
       "text": [
        "4325 4317\n"
       ]
      }
     ],
     "prompt_number": 33
    },
    {
     "cell_type": "markdown",
     "metadata": {},
     "source": [
      "##### Setting if each post is in high cal or low cal"
     ]
    },
    {
     "cell_type": "code",
     "collapsed": false,
     "input": [
      "# Using the set_cal_class function to set the caloric value for all posts\n",
      "for post_id in post_dict:\n",
      "    post_dict[post_id].set_cal_class(post_dict[post_id].calories >= med)\n",
      "# Computing the difference between the number of high_cal posts and low_cal posts\n",
      "x = 0\n",
      "for post_id in post_dict:\n",
      "    x += 1 if post_dict[post_id].high_cal else -1\n",
      "print x"
     ],
     "language": "python",
     "metadata": {},
     "outputs": [
      {
       "output_type": "stream",
       "stream": "stdout",
       "text": [
        "8\n"
       ]
      }
     ],
     "prompt_number": 34
    },
    {
     "cell_type": "markdown",
     "metadata": {},
     "source": [
      "### Graphs from Poster"
     ]
    },
    {
     "cell_type": "code",
     "collapsed": false,
     "input": [
      "from collections import defaultdict\n",
      "import numpy as np\n",
      "import matplotlib.pyplot as plt"
     ],
     "language": "python",
     "metadata": {},
     "outputs": [],
     "prompt_number": 22
    },
    {
     "cell_type": "markdown",
     "metadata": {},
     "source": [
      "##### Creating the data for plotting"
     ]
    },
    {
     "cell_type": "code",
     "collapsed": false,
     "input": [
      "post_cal = defaultdict(int)\n",
      "likes_cal = defaultdict(int)\n",
      "comms_cal = defaultdict(int)\n",
      "for post_id in post_dict:\n",
      "    post = post_dict[post_id]\n",
      "    if post.has_nuts:\n",
      "        cal = np.round(float(post.calories))\n",
      "        post_cal[cal] += 1\n",
      "        likes_cal[cal] += post.likes\n",
      "        comms_cal[cal] += post.num_comments if post.num_comments >= len(post.comm_list) and post.num_comments != -1 else len(post.comm_list)"
     ],
     "language": "python",
     "metadata": {},
     "outputs": [],
     "prompt_number": 23
    },
    {
     "cell_type": "markdown",
     "metadata": {},
     "source": [
      "#### Normalizing the data"
     ]
    },
    {
     "cell_type": "code",
     "collapsed": false,
     "input": [
      "# Normalizing the plots, by the  number of posts\n",
      "#plt.plot( post_cal.keys(),range(0,len(post_cal.keys())) ,'rx'); plt.show()\n",
      "print max(post_cal.keys())\n",
      "for cal in post_cal.keys():\n",
      "    likes_cal[cal] /= post_cal[cal]\n",
      "    comms_cal[cal] /= post_cal[cal]"
     ],
     "language": "python",
     "metadata": {},
     "outputs": [
      {
       "output_type": "stream",
       "stream": "stdout",
       "text": [
        "902.0\n"
       ]
      }
     ],
     "prompt_number": 24
    },
    {
     "cell_type": "code",
     "collapsed": true,
     "input": [
      "#plot_dict(post_cal,'rx')    \n",
      "#plot_dict(likes_cal,'rx')\n",
      "#plot_dict(comms_cal,'rx')"
     ],
     "language": "python",
     "metadata": {},
     "outputs": [],
     "prompt_number": 25
    },
    {
     "cell_type": "markdown",
     "metadata": {},
     "source": [
      "## Location \n",
      "\n",
      "Download the database from this website \n",
      "https://github.com/pegler/pytzwhere/blob/master/tzwhere/tzwhere.py\n",
      "And set it up it will give you direct timezone from th lat long info\n",
      "Not sure if we will have to get some additional information for getting the UTC offset, or if this gives it directly, also there is some description here[url :http://www.pegler.co/p/about.html]"
     ]
    },
    {
     "cell_type": "markdown",
     "metadata": {},
     "source": [
      "1) Get tzone\n",
      "\n",
      "2) Get offset\n",
      "\n",
      "3) Get local time\n",
      "\n",
      "4) Apply offset to local time\n",
      "\n",
      "### To get the location info for any given lat/long, do\n",
      "> from tzwhere import tzwhere \n",
      "\n",
      "> w = tzwhere.tzwhere()\n",
      "\n",
      "> print w.tzNameAt(latitude, longitude)"
     ]
    },
    {
     "cell_type": "markdown",
     "metadata": {},
     "source": [
      "http://stackoverflow.com/questions/17733139/getting-the-correct-timezone-offset-in-python-using-local-timezone\n",
      "How to deal with timestamps"
     ]
    },
    {
     "cell_type": "code",
     "collapsed": false,
     "input": [
      "count = 0\n",
      "post_hour = defaultdict(int)\n",
      "for post_id in post_dict:\n",
      "    post = post_dict[post_id]\n",
      "    if post.loc_time_bool :\n",
      "        time = post.loc_time\n",
      "        if time != None:\n",
      "            post_hour[time.hour*60+(time.minute/10)*10] += 1    "
     ],
     "language": "python",
     "metadata": {},
     "outputs": [],
     "prompt_number": 56
    },
    {
     "cell_type": "code",
     "collapsed": false,
     "input": [
      "print post.loc_time"
     ],
     "language": "python",
     "metadata": {},
     "outputs": [
      {
       "output_type": "stream",
       "stream": "stdout",
       "text": [
        "2014-11-19 21:00:20\n"
       ]
      }
     ],
     "prompt_number": 57
    },
    {
     "cell_type": "code",
     "collapsed": false,
     "input": [
      "post_high_hour = defaultdict(int)\n",
      "for post_id in post_dict:\n",
      "    post = post_dict[post_id]\n",
      "    if post.loc_time_bool  and post.high_cal:\n",
      "        time = post.loc_time\n",
      "        if time != None:\n",
      "            post_high_hour[time.hour*60+(time.minute/10)*10] += 1"
     ],
     "language": "python",
     "metadata": {},
     "outputs": [],
     "prompt_number": 58
    },
    {
     "cell_type": "code",
     "collapsed": false,
     "input": [
      "post_low_hour = defaultdict(int)\n",
      "for post_id in post_dict:\n",
      "    post = post_dict[post_id]\n",
      "    if post.loc_time_bool  and not post.high_cal:\n",
      "        time = post.loc_time\n",
      "        if time != None:\n",
      "            post_low_hour[time.hour*60+(time.minute/10)*10] += 1"
     ],
     "language": "python",
     "metadata": {},
     "outputs": [],
     "prompt_number": 59
    },
    {
     "cell_type": "code",
     "collapsed": false,
     "input": [
      "x_tot  = sorted(post_hour.keys())\n",
      "v_tot = []\n",
      "for k in x_tot:\n",
      "    v_tot.append(post_hour[k])\n",
      "plt.plot(x_tot,v_tot,'gx');"
     ],
     "language": "python",
     "metadata": {},
     "outputs": [],
     "prompt_number": 63
    },
    {
     "cell_type": "code",
     "collapsed": false,
     "input": [
      "x_l  = sorted(post_low_hour.keys())\n",
      "v_l = []\n",
      "for k in x_l:\n",
      "    v_l.append(post_low_hour[k])\n",
      "plt.plot(x_l,v_l,'bx');"
     ],
     "language": "python",
     "metadata": {},
     "outputs": [],
     "prompt_number": 64
    },
    {
     "cell_type": "code",
     "collapsed": false,
     "input": [
      "p_h = defaultdict(int)\n",
      "p_h.update(post_high_hour)\n",
      "x_h  = sorted(post_high_hour.keys())\n",
      "v_h = []\n",
      "for k in x_l:\n",
      "    v_h.append(p_h[k])\n",
      "plt.plot(x_l,v_h,'rx');plt.show()\n",
      "print len(p_h)"
     ],
     "language": "python",
     "metadata": {},
     "outputs": [
      {
       "output_type": "stream",
       "stream": "stdout",
       "text": [
        "140\n"
       ]
      }
     ],
     "prompt_number": 65
    },
    {
     "cell_type": "code",
     "collapsed": false,
     "input": [
      "cal = []\n",
      "for post_id in post_dict:\n",
      "    cal.append(post_dict[post_id].calories)\n",
      "print np.median(cal)\n",
      "print np.mean(cal)\n",
      "plt.hist(cal,bins = 3);plt.show()\n",
      "\n",
      "first= np.percentile(cal,25)\n",
      "mid =np.percentile(cal,50)\n",
      "third= np.percentile(cal,75)\n",
      "\n",
      "bin_1 = []\n",
      "bin_2 = []\n",
      "bin_3 = []\n",
      "bin_4 = []\n",
      "\n",
      "\n",
      "post_1_hour = defaultdict(int)\n",
      "post_2_hour = defaultdict(int)\n",
      "post_3_hour = defaultdict(int)\n",
      "post_4_hour = defaultdict(int)\n",
      "\n",
      "for post_id in post_dict:\n",
      "    if post_dict[post_id].calories <= first and post_dict[post_id].loc_time_bool :\n",
      "        bin_1.append(post_id)\n",
      "        time = post_dict[post_id].loc_time\n",
      "        post_1_hour[time.hour*60+(time.minute/10)*10] += 1\n",
      "    else: \n",
      "        if post_dict[post_id].calories <= med  and post_dict[post_id].loc_time_bool :\n",
      "            bin_2.append(post_id)\n",
      "            time = post_dict[post_id].loc_time\n",
      "            post_2_hour[time.hour*60+(time.minute/10)*10] += 1\n",
      "        else:\n",
      "            if post_dict[post_id].calories <= third  and post_dict[post_id].loc_time_bool :\n",
      "                bin_3.append(post_id)\n",
      "                time = post_dict[post_id].loc_time\n",
      "                post_3_hour[time.hour*60+(time.minute/10)*10] += 1\n",
      "            else:\n",
      "                if True  and post_dict[post_id].loc_time_bool :\n",
      "                    bin_4.append(post_id)\n",
      "                    time = post_dict[post_id].loc_time\n",
      "                    post_4_hour[time.hour*60+(time.minute/10)*10] += 1\n",
      "bin_1 = set(bin_1)\n",
      "bin_2 = set(bin_2)\n",
      "bin_3 = set(bin_3)\n",
      "bin_4 = set(bin_4)"
     ],
     "language": "python",
     "metadata": {},
     "outputs": [
      {
       "output_type": "stream",
       "stream": "stdout",
       "text": [
        "240.385\n",
        "274.719378385\n"
       ]
      }
     ],
     "prompt_number": 98
    },
    {
     "cell_type": "code",
     "collapsed": false,
     "input": [
      "plt.plot(post_1_hour.keys(),post_1_hour.values(),'rx')\n",
      "plt.plot(post_2_hour.keys(),post_2_hour.values(),'gx')\n",
      "plt.plot(post_3_hour.keys(),post_3_hour.values(),'bx')\n",
      "plt.plot(post_4_hour.keys(),post_4_hour.values(),'kx')\n",
      "plt.show()\n",
      "print len(post_1_hour),len(post_2_hour),len(post_3_hour),len(post_4_hour)"
     ],
     "language": "python",
     "metadata": {},
     "outputs": [
      {
       "output_type": "stream",
       "stream": "stdout",
       "text": [
        "124 125 120 121\n"
       ]
      }
     ],
     "prompt_number": 76
    },
    {
     "cell_type": "code",
     "collapsed": false,
     "input": [
      "l = []\n",
      "for k in ((set(post_1_hour.keys()).union(set(post_4_hour.keys()))).union(set(post_3_hour.keys()))).union(set(post_2_hour.keys())):\n",
      "    l.append(max([post_1_hour[k],post_2_hour[k],post_3_hour[k],post_4_hour[k]]))\n",
      "plt.plot(l,'rx-');plt.show()"
     ],
     "language": "python",
     "metadata": {},
     "outputs": [],
     "prompt_number": 89
    },
    {
     "cell_type": "code",
     "collapsed": false,
     "input": [
      "# if it has location, then append the local time to the particular bin\n",
      "l = []\n",
      "for post_id in bin_4:\n",
      "    if post_dict[post_id].loc_time_bool:\n",
      "        l.append(post_dict[post_id].loc_time.hour)\n",
      "plt.plot(l,'rx');plt.show()\n",
      "print len(l)"
     ],
     "language": "python",
     "metadata": {},
     "outputs": [
      {
       "output_type": "stream",
       "stream": "stdout",
       "text": [
        "600\n"
       ]
      }
     ],
     "prompt_number": 55
    },
    {
     "cell_type": "code",
     "collapsed": false,
     "input": [
      "N = len(x_l)\n",
      "menMeans = v_l\n",
      "#menStd =   (2, 3, 4, 1, 2)\n",
      "\n",
      "ind = np.arange(N)  # the x locations for the groups\n",
      "width = 0.21   # the width of the bars\n",
      "\n",
      "fig, ax = plt.subplots()\n",
      "rects1 = ax.bar(ind, v_l, width, color='r')\n",
      "\n",
      "womenMeans = v_h\n",
      "#womenStd =   (3, 5, 2, 3, 3)\n",
      "rects2 = ax.bar(ind, v_h, width, color='b')\n",
      "\n",
      "# add some text for labels, title and axes ticks\n",
      "\n",
      "ax.legend( (rects1[0], rects2[0]), ('Low', 'High') )\n",
      "\n",
      "#def autolabel(rects):\n",
      "    # attach some text labels\n",
      "#    for rect in rects:\n",
      "#        height = rect.get_height()\n",
      "#        ax.text(rect.get_x()+rect.get_width()/2., 1.05*height, '%d'%int(height),\n",
      "#                ha='center', va='bottom')\n",
      "\n",
      "#autolabel(rects1)\n",
      "#autolabel(rects2)\n",
      "\n",
      "plt.show()"
     ],
     "language": "python",
     "metadata": {},
     "outputs": [],
     "prompt_number": 36
    },
    {
     "cell_type": "code",
     "collapsed": false,
     "input": [
      "lis = []\n",
      "for i in range(len(x_l)):\n",
      "    lis.append((v_h[i]-v_l[i]))\n",
      "plt.plot(lis,'bx-');plt.ylim([-5,20]);plt.show()\n",
      "print max(lis)"
     ],
     "language": "python",
     "metadata": {},
     "outputs": [
      {
       "output_type": "stream",
       "stream": "stdout",
       "text": [
        "11\n"
       ]
      }
     ],
     "prompt_number": 90
    },
    {
     "cell_type": "code",
     "collapsed": false,
     "input": [
      "count = 0\n",
      "for post_id in post_dict:\n",
      "    if post_dict[post_id].loc:\n",
      "        if post_dict[post_id].high_cal:\n",
      "            count += 1\n",
      "        else:\n",
      "            count -= 1\n",
      "print count"
     ],
     "language": "python",
     "metadata": {},
     "outputs": [
      {
       "output_type": "stream",
       "stream": "stdout",
       "text": [
        "-60\n"
       ]
      }
     ],
     "prompt_number": 38
    },
    {
     "cell_type": "markdown",
     "metadata": {},
     "source": [
      "#### Plotting on World Map\n",
      "from the website: http://matplotlib.org/basemap/users/examples.html"
     ]
    },
    {
     "cell_type": "code",
     "collapsed": false,
     "input": [
      "from mpl_toolkits.basemap import Basemap\n",
      "import matplotlib.pyplot as plt\n",
      "import numpy as np\n",
      "# set up orthographic map projection with\n",
      "# perspective of satellite looking down at 50N, 100W.\n",
      "# use low resolution coastlines.\n",
      "map = Basemap(projection='ortho',lat_0=45,lon_0=-100,resolution='l')\n",
      "# draw coastlines, country boundaries, fill continents.\n",
      "map.drawcoastlines(linewidth=0.25)\n",
      "map.drawcountries(linewidth=0.25)\n",
      "map.fillcontinents(color='coral',lake_color='aqua')\n",
      "# draw the edge of the map projection region (the projection limb)\n",
      "map.drawmapboundary(fill_color='aqua')\n",
      "# draw lat/lon grid lines every 30 degrees.\n",
      "map.drawmeridians(np.arange(0,360,30))\n",
      "map.drawparallels(np.arange(-90,90,30))\n",
      "# make up some data on a regular lat/lon grid.\n",
      "nlats = 73; nlons = 145; delta = 2.*np.pi/(nlons-1)\n",
      "lats = (0.5*np.pi-delta*np.indices((nlats,nlons))[0,:,:])\n",
      "lons = (delta*np.indices((nlats,nlons))[1,:,:])\n",
      "wave = 0.75*(np.sin(2.*lats)**8*np.cos(4.*lons))\n",
      "mean = 0.5*np.cos(2.*lats)*((np.sin(2.*lats))**2 + 2.)\n",
      "# compute native map projection coordinates of lat/lon grid.\n",
      "x, y = map(lons*180./np.pi, lats*180./np.pi)\n",
      "# contour data over the map.\n",
      "cs = map.contour(x,y,wave+mean,15,linewidths=1.5)\n",
      "plt.title('contour lines over filled continent background')\n",
      "plt.show()"
     ],
     "language": "python",
     "metadata": {},
     "outputs": [],
     "prompt_number": 91
    },
    {
     "cell_type": "markdown",
     "metadata": {},
     "source": [
      "#### Now plotting lat long on the graph\n",
      "http://peak5390.wordpress.com/2012/12/08/matplotlib-basemap-tutorial-plotting-points-on-a-simple-map/"
     ]
    },
    {
     "cell_type": "code",
     "collapsed": false,
     "input": [
      "from mpl_toolkits.basemap import Basemap\n",
      "import matplotlib.pyplot as plt\n",
      "import numpy as np"
     ],
     "language": "python",
     "metadata": {},
     "outputs": [],
     "prompt_number": 1
    },
    {
     "cell_type": "code",
     "collapsed": false,
     "input": [
      "m = Basemap(projection='cyl',resolution = 'c')"
     ],
     "language": "python",
     "metadata": {},
     "outputs": [],
     "prompt_number": 58
    },
    {
     "cell_type": "code",
     "collapsed": false,
     "input": [
      "m.drawcoastlines()\n",
      "m.drawcountries()\n",
      "m.fillcontinents(color = 'pink')\n",
      "m.drawmapboundary()\n",
      "x,y = m(post.lat,post.lon)\n",
      "m.plot(x,y,'bo',markersize=240)"
     ],
     "language": "python",
     "metadata": {},
     "outputs": [
      {
       "metadata": {},
       "output_type": "pyout",
       "prompt_number": 59,
       "text": [
        "[<matplotlib.lines.Line2D at 0x556ad2b0>]"
       ]
      }
     ],
     "prompt_number": 59
    },
    {
     "cell_type": "code",
     "collapsed": false,
     "input": [
      "plt.show()"
     ],
     "language": "python",
     "metadata": {},
     "outputs": [],
     "prompt_number": 60
    },
    {
     "cell_type": "code",
     "collapsed": false,
     "input": [
      "print post"
     ],
     "language": "python",
     "metadata": {},
     "outputs": [
      {
       "output_type": "stream",
       "stream": "stdout",
       "text": [
        "484064605019858578_279040792\n",
        "Created on   = 1371925019.0\n",
        "Tags         = crepe,rum,cherry,raisin,wipingcream,chocolate,icecream,cookie,swensens,fun,yummy,tasty,banana,happy\n",
        "Caption      = Chocolate crepe #Icecream#Rum##Raisin#Cherry#Banana#Wipingcream#Crepe#Chocolate#Cookie#Swensens#Yummy#Tasty#Happy#Fun\n",
        "Nutritional  = True\n",
        "Calories     = 356.434\n",
        "Num Likes    = 11\n",
        "Num Comments = 0\n",
        "\n"
       ]
      }
     ],
     "prompt_number": 47
    },
    {
     "cell_type": "code",
     "collapsed": false,
     "input": [
      "print post.local_tz_name\n",
      "print post.lat, post.lon"
     ],
     "language": "python",
     "metadata": {},
     "outputs": [
      {
       "output_type": "stream",
       "stream": "stdout",
       "text": [
        "Asia/Bangkok\n",
        "14.02 100.525666667\n"
       ]
      }
     ],
     "prompt_number": 74
    },
    {
     "cell_type": "code",
     "collapsed": false,
     "input": [
      "map = Basemap(projection='cyl',\n",
      "    resolution = 'i')#,\n",
      "    #llcrnrlon=-136.25, llcrnrlat=56.0,\n",
      "    #urcrnrlon=-134.25, urcrnrlat=57.75)\n",
      " \n",
      "map.drawcoastlines()\n",
      "map.drawcountries()\n",
      "map.fillcontinents(color = 'gray')\n",
      "map.drawmapboundary()\n",
      "map.drawstates()\n",
      "\n",
      "\n",
      "for post_id in post_dict:\n",
      "    post = post_dict[post_id]\n",
      "    if post.loc:\n",
      "        x,y = map(post.lon, post.lat)\n",
      "        if post_id in bin_1:\n",
      "            map.plot(x, y, 'bx', markersize=7)\n",
      "        elif post_id in bin_2:\n",
      "            map.plot(x, y, 'gx', markersize=7)\n",
      "        elif post_id in bin_3:\n",
      "            map.plot(x, y, 'yx', markersize=7)\n",
      "        elif post_id in bin_4:\n",
      "            map.plot(x, y, 'rx', markersize=7)\n",
      "plt.show()\n"
     ],
     "language": "python",
     "metadata": {},
     "outputs": [],
     "prompt_number": 102
    },
    {
     "cell_type": "code",
     "collapsed": false,
     "input": [
      "# lat\n",
      "# lon\n",
      "# inst_name\n",
      "# inst_id\n",
      "# UTC time\n",
      "# Local time\n",
      "# Calories"
     ],
     "language": "python",
     "metadata": {},
     "outputs": []
    },
    {
     "cell_type": "code",
     "collapsed": false,
     "input": [
      "ap = Basemap(projection='cyl',\n",
      "    resolution = 'i')#,\n",
      "    #llcrnrlon=-136.25, llcrnrlat=56.0,\n",
      "    #urcrnrlon=-134.25, urcrnrlat=57.75)\n",
      " \n",
      "map.drawcoastlines()\n",
      "map.drawcountries()\n",
      "map.fillcontinents(color = 'gray')\n",
      "map.drawmapboundary()\n",
      "map.drawstates()\n",
      "for post_id in post_dict:\n",
      "    post = post_dict[post_id]\n",
      "    if post.loc_time_bool:\n",
      "        x,y = map(post.lon, post.lat)\n",
      "        if post.loc_time.hour<7:# [night before 7]\n",
      "            map.plot(x, y, 'bx', markersize=7)\n",
      "        elif post.loc_time.hour < 13:\n",
      "            map.plot(x, y, 'gx', markersize=7)\n",
      "        elif post.loc_time.hour < 19:\n",
      "            map.plot(x, y, 'yx', markersize=7)\n",
      "        elif post.loc_time.hour < 24:\n",
      "            map.plot(x, y, 'rx', markersize=7)\n",
      "plt.show()"
     ],
     "language": "python",
     "metadata": {},
     "outputs": [],
     "prompt_number": 104
    },
    {
     "cell_type": "code",
     "collapsed": false,
     "input": [
      "day_cal_dict =defaultdict(int)\n",
      "day_post_dict = defaultdict(int)\n",
      "for post_id in post_dict:\n",
      "    post = post_dict[post_id]\n",
      "    if post.loc_time_bool:\n",
      "        day_cal_dict[post.loc_time.isoweekday()]+= post.calories\n",
      "        day_post_dict[post.loc_time.isoweekday()]+= 1\n",
      "# Normalizing it\n",
      "for day in day_cal_dict:\n",
      "    day_cal_dict[day] /= day_post_dict[day]*1.0"
     ],
     "language": "python",
     "metadata": {},
     "outputs": [],
     "prompt_number": 158
    },
    {
     "cell_type": "code",
     "collapsed": false,
     "input": [
      "plt.plot(day_cal_dict.keys(),day_cal_dict.values());\n",
      "plt.ylim([0,max(day_cal_dict.values())+50]);\n",
      "plt.xlabel('Monday  Tuesday   Wednesday   Thursday   Friday   Saturday   Sunday');\n",
      "plt.show()"
     ],
     "language": "python",
     "metadata": {},
     "outputs": [],
     "prompt_number": 168
    },
    {
     "cell_type": "code",
     "collapsed": false,
     "input": [
      "plt.plot(day_post_dict.keys(),day_post_dict.values());plt.ylim([0,max(day_post_dict.values())+50]);plt.show()"
     ],
     "language": "python",
     "metadata": {},
     "outputs": [],
     "prompt_number": 164
    },
    {
     "cell_type": "code",
     "collapsed": false,
     "input": [
      "plt.plot(day_post_dict.keys(),day_post_dict.values(),color = 'b');\n",
      "plt.xlim([0,8]);plt.xlabel('Monday Tuesday Wednesday Thursday Friday Saturday Sunday')\n",
      "plt.ylabel('Number of Posts')\n",
      "plt.show()"
     ],
     "language": "python",
     "metadata": {},
     "outputs": [],
     "prompt_number": 148
    },
    {
     "cell_type": "code",
     "collapsed": false,
     "input": [
      "max(day_post_dict.keys())"
     ],
     "language": "python",
     "metadata": {},
     "outputs": [
      {
       "metadata": {},
       "output_type": "pyout",
       "prompt_number": 130,
       "text": [
        "7"
       ]
      }
     ],
     "prompt_number": 130
    },
    {
     "cell_type": "code",
     "collapsed": false,
     "input": [
      "plt.plot(day_post_dict.keys(),day_post_dict.values(),color = '#40e0d0');plt.show()"
     ],
     "language": "python",
     "metadata": {},
     "outputs": [],
     "prompt_number": 157
    },
    {
     "cell_type": "code",
     "collapsed": false,
     "input": [],
     "language": "python",
     "metadata": {},
     "outputs": []
    }
   ],
   "metadata": {}
  }
 ]
}