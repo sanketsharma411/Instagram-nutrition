{
 "metadata": {
  "name": "",
  "signature": "sha256:eaeeb2fc7087e4e3fb4449543761c2a0a537d8becafce50512acd9904bbee38e"
 },
 "nbformat": 3,
 "nbformat_minor": 0,
 "worksheets": [
  {
   "cells": [
    {
     "cell_type": "code",
     "collapsed": true,
     "input": [
      "import sys, urllib\n",
      "sys.path.append('C:\\Users\\Shweta\\Desktop\\CS 8903\\FINAL\\scripts')\n",
      "from InstaLib import *\n",
      "from analyze_utils import *\n",
      "from match_utils import *\n",
      "from random import shuffle, randint\n",
      "import numpy as np"
     ],
     "language": "python",
     "metadata": {},
     "outputs": [
      {
       "output_type": "stream",
       "stream": "stdout",
       "text": [
        "Loading USDA data\n",
        "Loading USDA data"
       ]
      },
      {
       "output_type": "stream",
       "stream": "stdout",
       "text": [
        "\n"
       ]
      }
     ],
     "prompt_number": 1
    },
    {
     "cell_type": "markdown",
     "metadata": {},
     "source": [
      "#### Loading the post file"
     ]
    },
    {
     "cell_type": "code",
     "collapsed": true,
     "input": [
      "post_file = 'C:\\Users\\Shweta\\Desktop\\CS 8903\\FINAL\\Data\\sample_post.txt'\n",
      "post_dict = load_post(post_file)"
     ],
     "language": "python",
     "metadata": {},
     "outputs": [
      {
       "output_type": "stream",
       "stream": "stdout",
       "text": [
        "Loading the post File\n",
        "Loading the post File !! DONE !!"
       ]
      },
      {
       "output_type": "stream",
       "stream": "stdout",
       "text": [
        "\n",
        "Reading through the loaded data into local variables\n",
        "Reading through the loaded data into local variables !! DONE !!"
       ]
      },
      {
       "output_type": "stream",
       "stream": "stdout",
       "text": [
        " 0\n"
       ]
      }
     ],
     "prompt_number": 2
    },
    {
     "cell_type": "markdown",
     "metadata": {},
     "source": [
      "#### Loading the nut info"
     ]
    },
    {
     "cell_type": "code",
     "collapsed": true,
     "input": [
      "nut_info_path = 'C:\\\\Users\\\\Shweta\\\\Desktop\\\\CS 8903\\\\FINAL\\\\results\\\\'\n",
      "nut_info_file_name_list = ['hit_2_step_1.txt','hit_direct.txt','miss.txt']\n",
      "# Reading the file into the system memory\n",
      "lines = []\n",
      "for file_name in nut_info_file_name_list :\n",
      "    with open(nut_info_path+file_name,'r') as f:\n",
      "        lines.extend(list(f))\n",
      "count = 0\n"
     ],
     "language": "python",
     "metadata": {},
     "outputs": [],
     "prompt_number": 3
    },
    {
     "cell_type": "markdown",
     "metadata": {},
     "source": [
      "#### Now Actually setting the nut info"
     ]
    },
    {
     "cell_type": "code",
     "collapsed": true,
     "input": [
      "for line in lines:\n",
      "    post_dict[line.split('\\t')[0]].set_nut_info(line)\n",
      "    count += 1\n",
      "    if not count%1000:\n",
      "        print count"
     ],
     "language": "python",
     "metadata": {},
     "outputs": [
      {
       "output_type": "stream",
       "stream": "stdout",
       "text": [
        "1000\n",
        "2000"
       ]
      },
      {
       "output_type": "stream",
       "stream": "stdout",
       "text": [
        "\n",
        "3000"
       ]
      },
      {
       "output_type": "stream",
       "stream": "stdout",
       "text": [
        "\n",
        "4000"
       ]
      },
      {
       "output_type": "stream",
       "stream": "stdout",
       "text": [
        "\n",
        "5000"
       ]
      },
      {
       "output_type": "stream",
       "stream": "stdout",
       "text": [
        "\n",
        "6000"
       ]
      },
      {
       "output_type": "stream",
       "stream": "stdout",
       "text": [
        "\n",
        "7000"
       ]
      },
      {
       "output_type": "stream",
       "stream": "stdout",
       "text": [
        "\n",
        "8000"
       ]
      },
      {
       "output_type": "stream",
       "stream": "stdout",
       "text": [
        "\n",
        "9000"
       ]
      },
      {
       "output_type": "stream",
       "stream": "stdout",
       "text": [
        "\n"
       ]
      }
     ],
     "prompt_number": 4
    },
    {
     "cell_type": "markdown",
     "metadata": {},
     "source": [
      "#### Removing the Posts without any nut info"
     ]
    },
    {
     "cell_type": "code",
     "collapsed": false,
     "input": [
      "# Now removing the bad ones, i.e. ones which do not have any nut info\n",
      "print len(post_dict)\n",
      "bad = []\n",
      "for post_id in post_dict:\n",
      "    if not post_dict[post_id].has_nuts:\n",
      "        bad.append(post_id)\n",
      "\n",
      "for post_id in bad:\n",
      "    del post_dict[post_id]\n",
      "\n",
      "print len(post_dict)"
     ],
     "language": "python",
     "metadata": {},
     "outputs": [
      {
       "output_type": "stream",
       "stream": "stdout",
       "text": [
        "10000\n",
        "8642\n"
       ]
      }
     ],
     "prompt_number": 5
    },
    {
     "cell_type": "markdown",
     "metadata": {},
     "source": [
      "#### Getting the  median calories info"
     ]
    },
    {
     "cell_type": "code",
     "collapsed": true,
     "input": [
      "l = []\n",
      "has_nuts= 0\n",
      "# Computing the median calories, and creating a \n",
      "for post_id in post_dict.keys():\n",
      "    if post_dict[post_id].has_nuts:\n",
      "        has_nuts += 1\n",
      "        l.append(float(post_dict[post_id].calories))\n",
      "med = np.median(np.array(l))\n",
      "avg = sum(l)/has_nuts\n"
     ],
     "language": "python",
     "metadata": {},
     "outputs": [],
     "prompt_number": 6
    },
    {
     "cell_type": "code",
     "collapsed": false,
     "input": [
      "len(l)\n",
      "med = np.median(l)\n",
      "l_count = 0\n",
      "h_count = 0\n",
      "for a in l:\n",
      "    if a >= med:\n",
      "        h_count += 1\n",
      "    else:\n",
      "        l_count += 1\n",
      "print h_count, l_count\n",
      "#sort_dict(count_list(l))[:20]\n",
      "plt.hist(l, bins = 900)\n",
      "plt.show()"
     ],
     "language": "python",
     "metadata": {},
     "outputs": [
      {
       "output_type": "stream",
       "stream": "stdout",
       "text": [
        "4325 4317\n"
       ]
      }
     ],
     "prompt_number": 7
    },
    {
     "cell_type": "code",
     "collapsed": true,
     "input": [
      "up = 0\n",
      "down = 0\n",
      "for post_id in post_dict:\n",
      "    post_dict[post_id].set_cal_class(post_dict[post_id].calories >= med)"
     ],
     "language": "python",
     "metadata": {},
     "outputs": [],
     "prompt_number": 8
    },
    {
     "cell_type": "code",
     "collapsed": false,
     "input": [
      "for i in range(10):\n",
      "    post = get_rand_element(post_dict)\n",
      "    print post.high_cal"
     ],
     "language": "python",
     "metadata": {},
     "outputs": [
      {
       "output_type": "stream",
       "stream": "stdout",
       "text": [
        "False\n",
        "False\n",
        "False\n",
        "False\n",
        "False\n",
        "False\n",
        "False\n",
        "True\n",
        "True\n",
        "True\n"
       ]
      }
     ],
     "prompt_number": 9
    },
    {
     "cell_type": "code",
     "collapsed": false,
     "input": [
      "45.412 >= med"
     ],
     "language": "python",
     "metadata": {},
     "outputs": [
      {
       "metadata": {},
       "output_type": "pyout",
       "prompt_number": 10,
       "text": [
        "False"
       ]
      }
     ],
     "prompt_number": 10
    },
    {
     "cell_type": "code",
     "collapsed": false,
     "input": [
      "x = 0\n",
      "k = []\n",
      "for post_id in post_dict:\n",
      "    x += 1 if post_dict[post_id].high_cal else -1\n",
      "print x"
     ],
     "language": "python",
     "metadata": {},
     "outputs": [
      {
       "output_type": "stream",
       "stream": "stdout",
       "text": [
        "8\n"
       ]
      }
     ],
     "prompt_number": 11
    },
    {
     "cell_type": "code",
     "collapsed": false,
     "input": [
      "print x"
     ],
     "language": "python",
     "metadata": {},
     "outputs": [
      {
       "output_type": "stream",
       "stream": "stdout",
       "text": [
        "8\n"
       ]
      }
     ],
     "prompt_number": 12
    },
    {
     "cell_type": "code",
     "collapsed": true,
     "input": [
      "count  = 0\n",
      "l = []\n",
      "for post_id in post_dict:\n",
      "    if post_dict[post_id].loc != 0:\n",
      "        l.append(post_dict[post_id].loc.split(','))"
     ],
     "language": "python",
     "metadata": {},
     "outputs": [
      {
       "ename": "AttributeError",
       "evalue": "'bool' object has no attribute 'split'",
       "output_type": "pyerr",
       "traceback": [
        "\u001b[1;31m---------------------------------------------------------------------------\u001b[0m\n\u001b[1;31mAttributeError\u001b[0m                            Traceback (most recent call last)",
        "\u001b[1;32m<ipython-input-13-86340e90f767>\u001b[0m in \u001b[0;36m<module>\u001b[1;34m()\u001b[0m\n\u001b[0;32m      3\u001b[0m \u001b[1;32mfor\u001b[0m \u001b[0mpost_id\u001b[0m \u001b[1;32min\u001b[0m \u001b[0mpost_dict\u001b[0m\u001b[1;33m:\u001b[0m\u001b[1;33m\u001b[0m\u001b[0m\n\u001b[0;32m      4\u001b[0m     \u001b[1;32mif\u001b[0m \u001b[0mpost_dict\u001b[0m\u001b[1;33m[\u001b[0m\u001b[0mpost_id\u001b[0m\u001b[1;33m]\u001b[0m\u001b[1;33m.\u001b[0m\u001b[0mloc\u001b[0m \u001b[1;33m!=\u001b[0m \u001b[1;36m0\u001b[0m\u001b[1;33m:\u001b[0m\u001b[1;33m\u001b[0m\u001b[0m\n\u001b[1;32m----> 5\u001b[1;33m         \u001b[0ml\u001b[0m\u001b[1;33m.\u001b[0m\u001b[0mappend\u001b[0m\u001b[1;33m(\u001b[0m\u001b[0mpost_dict\u001b[0m\u001b[1;33m[\u001b[0m\u001b[0mpost_id\u001b[0m\u001b[1;33m]\u001b[0m\u001b[1;33m.\u001b[0m\u001b[0mloc\u001b[0m\u001b[1;33m.\u001b[0m\u001b[0msplit\u001b[0m\u001b[1;33m(\u001b[0m\u001b[1;34m','\u001b[0m\u001b[1;33m)\u001b[0m\u001b[1;33m)\u001b[0m\u001b[1;33m\u001b[0m\u001b[0m\n\u001b[0m",
        "\u001b[1;31mAttributeError\u001b[0m: 'bool' object has no attribute 'split'"
       ]
      }
     ],
     "prompt_number": 13
    },
    {
     "cell_type": "markdown",
     "metadata": {},
     "source": [
      "#### Set comment info"
     ]
    },
    {
     "cell_type": "code",
     "collapsed": true,
     "input": [
      "lines = read_lines('C:\\Users\\Shweta\\Desktop\\CS 8903\\FINAL\\Data\\sample_comments.txt')\n",
      "print 'Setting the comments'\n",
      "for line in lines:\n",
      "    if line.split('\\t')[0] in post_dict:\n",
      "        post_dict[line.split('\\t')[0]].set_comment(line)"
     ],
     "language": "python",
     "metadata": {},
     "outputs": []
    },
    {
     "cell_type": "code",
     "collapsed": true,
     "input": [
      "count = 0\n",
      "for post_id in post_dict:\n",
      "    if post_dict[post_id].num_comments !=  -1:\n",
      "        if post_dict[post_id].num_comments !=  len(post_dict[post_id].comm_list):\n",
      "            count += 1\n",
      "print count"
     ],
     "language": "python",
     "metadata": {},
     "outputs": []
    },
    {
     "cell_type": "markdown",
     "metadata": {},
     "source": [
      "### Graphs from Poster"
     ]
    },
    {
     "cell_type": "code",
     "collapsed": true,
     "input": [
      "from collections import defaultdict\n",
      "import numpy as np\n",
      "import matplotlib.pyplot as plt"
     ],
     "language": "python",
     "metadata": {},
     "outputs": []
    },
    {
     "cell_type": "code",
     "collapsed": true,
     "input": [
      "post_cal = defaultdict(int)\n",
      "likes_cal = defaultdict(int)\n",
      "comms_cal = defaultdict(int)"
     ],
     "language": "python",
     "metadata": {},
     "outputs": []
    },
    {
     "cell_type": "code",
     "collapsed": true,
     "input": [
      "for post_id in post_dict:\n",
      "    post = post_dict[post_id]\n",
      "    if post.has_nuts:\n",
      "        cal = np.round(float(post.calories))\n",
      "        post_cal[cal] += 1\n",
      "        likes_cal[cal] += post.likes\n",
      "        comms_cal[cal] += post.num_comments if post.num_comments >= len(post.comm_list) and post.num_comments != -1 else len(post.comm_list)"
     ],
     "language": "python",
     "metadata": {},
     "outputs": []
    },
    {
     "cell_type": "code",
     "collapsed": true,
     "input": [
      "plot_dict(post_cal,'rx')\n",
      "plot_dict(likes_cal,'rx')\n",
      "plot_dict(comms_cal,'rx')"
     ],
     "language": "python",
     "metadata": {},
     "outputs": []
    },
    {
     "cell_type": "code",
     "collapsed": true,
     "input": [
      "# Normalizing the plots, by the  number of posts\n",
      "#plt.plot( post_cal.keys(),range(0,len(post_cal.keys())) ,'rx'); plt.show()\n",
      "print max(post_cal.keys())\n",
      "for cal in post_cal.keys():\n",
      "    likes_cal[cal] /= post_cal[cal]\n",
      "    comms_cal[cal] /= post_cal[cal]\n",
      "plot_dict(post_cal,'rx')    \n",
      "plot_dict(likes_cal,'rx')\n",
      "plot_dict(comms_cal,'rx')"
     ],
     "language": "python",
     "metadata": {},
     "outputs": []
    },
    {
     "cell_type": "markdown",
     "metadata": {},
     "source": [
      "### Now on to the comments, mutual information"
     ]
    },
    {
     "cell_type": "code",
     "collapsed": true,
     "input": [
      "print post"
     ],
     "language": "python",
     "metadata": {},
     "outputs": []
    },
    {
     "cell_type": "code",
     "collapsed": true,
     "input": [
      "for i in range(10):\n",
      "    post = get_rand_element(post_dict)\n",
      "    print post.num_comments, len(post.comm_list),post.get_comm_text()\n",
      "    print post.url, post.id\n",
      "    print '======================'"
     ],
     "language": "python",
     "metadata": {},
     "outputs": []
    },
    {
     "cell_type": "code",
     "collapsed": true,
     "input": [
      "post = post_dict['802479786354909615_29751895']"
     ],
     "language": "python",
     "metadata": {},
     "outputs": []
    },
    {
     "cell_type": "code",
     "collapsed": true,
     "input": [
      "text = post.get_comm_text()"
     ],
     "language": "python",
     "metadata": {},
     "outputs": []
    },
    {
     "cell_type": "code",
     "collapsed": true,
     "input": [
      "print text"
     ],
     "language": "python",
     "metadata": {},
     "outputs": []
    },
    {
     "cell_type": "markdown",
     "metadata": {},
     "source": [
      "##### Text Pre-processing"
     ]
    },
    {
     "cell_type": "code",
     "collapsed": true,
     "input": [
      "from nltk.tokenize import word_tokenize\n",
      "def process(text):\n",
      "    #Convert to lower case\n",
      "    text = text.lower()\n",
      "    #Convert www.* or https?://* to URL\n",
      "    text = re.sub('((www\\.[^\\s]+)|(https?://[^\\s]+))','URL',text)\n",
      "    #Convert @username to AT_USER\n",
      "    text = re.sub('@[^\\s]+','AT_USER',text)\n",
      "    #Remove additional white spaces\n",
      "    text = re.sub('[\\s]+', ' ', text)\n",
      "    #Replace #word with word\n",
      "    text = re.sub(r'#([^\\s]+)', r'\\1', text)\n",
      "    #trim\n",
      "    text = text.strip('\\'\"')\n",
      "    # convert 'nt to nt\n",
      "    text = text.replace('n\\'t','nt')\n",
      "    return word_tokenize(text)"
     ],
     "language": "python",
     "metadata": {},
     "outputs": []
    },
    {
     "cell_type": "code",
     "collapsed": true,
     "input": [
      "print process(text)"
     ],
     "language": "python",
     "metadata": {},
     "outputs": []
    },
    {
     "cell_type": "code",
     "collapsed": true,
     "input": [
      "token_count = {}\n",
      "for post_id in post_dict:\n",
      "    if post_dict[post_id].num_comments > 0:\n",
      "        post = post_dict[post_id]\n",
      "        # It has comments\n",
      "        # Now we get the complete comment text\n",
      "        for token in process(post.get_comm_text()):\n",
      "            if token not in token_count:\n",
      "                token_count[token] = {'h_c':0, 'l_c':0}\n",
      "            if post.high_cal:\n",
      "                token_count[token]['h_c'] += 1\n",
      "            else:\n",
      "                token_count[token]['l_c'] += 1"
     ],
     "language": "python",
     "metadata": {},
     "outputs": []
    },
    {
     "cell_type": "code",
     "collapsed": true,
     "input": [
      "# Now to get the token with the highest difference between h_c and l_c\n",
      "max_diff = 0\n",
      "for token in token_count:\n",
      "    if np.abs(token_count[token]['h_c']-token_count[token]['l_c']) > max_diff:\n",
      "        max_diff = np.abs(token_count[token]['h_c']-token_count[token]['l_c'])\n",
      "        max_token = token"
     ],
     "language": "python",
     "metadata": {},
     "outputs": []
    },
    {
     "cell_type": "code",
     "collapsed": true,
     "input": [
      "# Now creating the mutual information thing\n",
      "# w_pos = w_pos/(w_pos+w_neg)\n",
      "# w_neg = w_neg/(w_pos+w_neg)\n",
      "token_h = {}\n",
      "token_l = {}\n",
      "for token in token_count:\n",
      "    total = token_count[token]['h_c'] + token_count[token]['l_c']\n",
      "    if total > 4:\n",
      "        token_h[token] = token_count[token]['h_c']*1.0/total\n",
      "        token_l[token] = token_count[token]['l_c']*1.0/total"
     ],
     "language": "python",
     "metadata": {},
     "outputs": []
    },
    {
     "cell_type": "code",
     "collapsed": true,
     "input": [
      "# The top 50 most positive tokens\n",
      "import pprint as pp\n",
      "pp.pprint(sort_dict(token_h)[:50])\n",
      "# The to 50 most negative tokens\n",
      "pp.pprint(sort_dict(token_l)[:50])"
     ],
     "language": "python",
     "metadata": {},
     "outputs": []
    },
    {
     "cell_type": "code",
     "collapsed": true,
     "input": [
      "token_sum = {}\n",
      "for token in token_count:\n",
      "    token_sum[token] = token_count[token]['h_c']+token_count[token]['l_c']"
     ],
     "language": "python",
     "metadata": {},
     "outputs": []
    },
    {
     "cell_type": "code",
     "collapsed": true,
     "input": [
      "sort_dict(token_sum)[7000]"
     ],
     "language": "python",
     "metadata": {},
     "outputs": []
    },
    {
     "cell_type": "code",
     "collapsed": true,
     "input": [
      "plt.plot(token_sum.values(),'b+'); plt.show()"
     ],
     "language": "python",
     "metadata": {},
     "outputs": []
    },
    {
     "cell_type": "code",
     "collapsed": true,
     "input": [
      "plot_dict(count_list(token_sum.values()),'rx')"
     ],
     "language": "python",
     "metadata": {},
     "outputs": []
    },
    {
     "cell_type": "code",
     "collapsed": true,
     "input": [
      "t = count_list(token_sum.values())"
     ],
     "language": "python",
     "metadata": {},
     "outputs": []
    },
    {
     "cell_type": "code",
     "collapsed": true,
     "input": [
      "plt.plot(np.log(t.values()),'r'); plt.show()"
     ],
     "language": "python",
     "metadata": {},
     "outputs": []
    },
    {
     "cell_type": "code",
     "collapsed": true,
     "input": [
      "# Largest absolute difference\n",
      "token_diff = dict()\n",
      "for token in token_count:\n",
      "    token_diff[token] = token_count[token]['l_c'] - token_count[token]['h_c']"
     ],
     "language": "python",
     "metadata": {},
     "outputs": []
    },
    {
     "cell_type": "code",
     "collapsed": true,
     "input": [
      "sort_dict(token_diff)[:20]"
     ],
     "language": "python",
     "metadata": {},
     "outputs": []
    },
    {
     "cell_type": "markdown",
     "metadata": {},
     "source": [
      "## Location \n",
      "\n",
      "Download the database from this website \n",
      "https://github.com/pegler/pytzwhere/blob/master/tzwhere/tzwhere.py\n",
      "And set it up it will give you direct timezone from th lat long info\n",
      "Not sure if we will have to get some additional information for getting the UTC offset, or if this gives it directly, also there is some description here[url :http://www.pegler.co/p/about.html]"
     ]
    },
    {
     "cell_type": "code",
     "collapsed": true,
     "input": [
      "lat_list = []\n",
      "lon_list = []\n",
      "name_list = []\n",
      "inst_id_list = [] # Not everyone have this\n",
      "for post_id in post_dict:\n",
      "    post = post_dict[post_id]\n",
      "    if post.loc != 0:\n",
      "        loc_list = post.loc.split(',')\n",
      "        lat_list.append(loc_list[0])\n",
      "        lon_list.append(loc_list[1])\n",
      "        name_list.append(' '.join(loc_list[2:-1]))\n",
      "        inst_id_list.append(loc_list[-1])\n",
      "print len(lat_list),len(set(lat_list))\n",
      "print len(lon_list),len(set(lon_list))\n",
      "print len(name_list),len(set(name_list))\n",
      "print len(inst_id_list),len(set(inst_id_list))    "
     ],
     "language": "python",
     "metadata": {},
     "outputs": []
    },
    {
     "cell_type": "markdown",
     "metadata": {},
     "source": [
      "1) Get tzone\n",
      "\n",
      "2) Get offset\n",
      "\n",
      "3) Get local time\n",
      "\n",
      "4) Apply offset to local time"
     ]
    },
    {
     "cell_type": "code",
     "collapsed": true,
     "input": [
      "from tzwhere import tzwhere \n",
      "w = tzwhere.tzwhere()"
     ],
     "language": "python",
     "metadata": {},
     "outputs": []
    },
    {
     "cell_type": "code",
     "collapsed": true,
     "input": [
      "for i in range(len(post_dict)):\n",
      "    post  = get_rand_element(post_dict)\n",
      "    if post.loc != 0:\n",
      "        lat = float(post.loc.split(',')[0])\n",
      "        lon = float(post.loc.split(',')[1])\n",
      "        tim = float(post.time)\n",
      "        if 'london' in str(w.tzNameAt(lat,lon)).lower():\n",
      "            break\n",
      "print post.loc\n",
      "print str(w.tzNameAt(lat,lon)).lower()"
     ],
     "language": "python",
     "metadata": {},
     "outputs": []
    },
    {
     "cell_type": "code",
     "collapsed": true,
     "input": [
      "# First getting the unix like time from the post\n",
      "lat = float(post.loc.split(',')[0])\n",
      "lon = float(post.loc.split(',')[1])\n",
      "tim = float(post.time)\n",
      "print lat, lon, tim"
     ],
     "language": "python",
     "metadata": {},
     "outputs": []
    },
    {
     "cell_type": "code",
     "collapsed": true,
     "input": [
      "# Now with this lat and long, lets get the pytz timezone\n",
      "print w.tzNameAt(lat,lon)"
     ],
     "language": "python",
     "metadata": {},
     "outputs": []
    },
    {
     "cell_type": "code",
     "collapsed": true,
     "input": [
      "# Now we can either get some offset and add it to the time\n",
      "#                   OR\n",
      "# Lets try the first one first\n",
      "# For which we first see what we have with us in the open tabs"
     ],
     "language": "python",
     "metadata": {},
     "outputs": []
    },
    {
     "cell_type": "markdown",
     "metadata": {},
     "source": [
      "http://stackoverflow.com/questions/17733139/getting-the-correct-timezone-offset-in-python-using-local-timezone\n",
      "How to deal with timestamps"
     ]
    },
    {
     "cell_type": "code",
     "collapsed": true,
     "input": [
      "import datetime"
     ],
     "language": "python",
     "metadata": {},
     "outputs": []
    },
    {
     "cell_type": "code",
     "collapsed": true,
     "input": [
      "dt = datetime.datetime.utcfromtimestamp(tim)\n",
      "dt_og = dt\n",
      "print dt"
     ],
     "language": "python",
     "metadata": {},
     "outputs": []
    },
    {
     "cell_type": "code",
     "collapsed": true,
     "input": [
      "# Now use pytz to localize the time as UTC/our timezone\n",
      "# i.e. attaching UTC location to the time\n",
      "import pytz"
     ],
     "language": "python",
     "metadata": {},
     "outputs": []
    },
    {
     "cell_type": "code",
     "collapsed": true,
     "input": [
      "import datetime\n",
      "def get_local_time(post):\n",
      "    '''\n",
      "    Given the UTC time, latitude and longitude, This converts the passed time into\n",
      "    local time, using the lat, lon info passed\n",
      "    All are expeccted to be floats\n",
      "    '''\n",
      "    if post.loc == 0:\n",
      "        return None\n",
      "    lat = float(post.loc.split(',')[0])\n",
      "    lon = float(post.loc.split(',')[1])\n",
      "    UTC_time = float(post.time)\n",
      "    # Converting back from the timestamp\n",
      "    dt = datetime.datetime.utcfromtimestamp(UTC_time)\n",
      "    # Saving the original unlocalized time\n",
      "    dt_og = dt\n",
      "    # Localizing the time, i.e. attaching the UTC information\n",
      "    dt = pytz.utc.localize(dt)\n",
      "    # Getting the local timezone Name\n",
      "    local_tz_name = w.tzNameAt(lat,lon)\n",
      "    if local_tz_name == None:\n",
      "        return None\n",
      "    # Getting the local timezone\n",
      "    local_tz = pytz.timezone(local_tz_name)\n",
      "    # Getting the offset from UTC to this timezone\n",
      "    offset = dt.astimezone(local_tz).utcoffset()\n",
      "    # Adding the offset to the original time to get the new localized time\n",
      "    # Need to subtract one hour from this time because it is off by one hour, i.e.\n",
      "    # It adds an extra hour\n",
      "    another_offset = datetime.timedelta(0,-3600)\n",
      "    local_tim = dt_og+offset+another_offset\n",
      "    return local_tim"
     ],
     "language": "python",
     "metadata": {},
     "outputs": []
    },
    {
     "cell_type": "code",
     "collapsed": true,
     "input": [
      "for i in range(100):\n",
      "    post = get_rand_element(post_dict)\n",
      "    if post.loc != 0:\n",
      "        tim = float(post.time)\n",
      "        lat = float(post.loc.split(',')[0])\n",
      "        lon = float(post.loc.split(',')[1])\n",
      "        #print datetime.datetime.utcfromtimestamp(tim)\n",
      "        print w.tzNameAt(lat,lon)#, get_local_time(tim, lat, lon)\n",
      "        print '====================================================='"
     ],
     "language": "python",
     "metadata": {},
     "outputs": []
    },
    {
     "cell_type": "code",
     "collapsed": true,
     "input": [
      "print post\n",
      "print post.loc"
     ],
     "language": "python",
     "metadata": {},
     "outputs": []
    },
    {
     "cell_type": "code",
     "collapsed": true,
     "input": [
      "print w.tzNameAt(float(52.523721956),float(5.43754127))"
     ],
     "language": "python",
     "metadata": {},
     "outputs": []
    },
    {
     "cell_type": "code",
     "collapsed": true,
     "input": [
      "i = 0\n",
      "for post_id in post_dict:\n",
      "    while i < 10:\n",
      "        time = get_local_time(get_rand_element(post_dict))\n",
      "        if time != None:\n",
      "            print time.hour, post.high_cal\n",
      "        i+=1"
     ],
     "language": "python",
     "metadata": {},
     "outputs": []
    },
    {
     "cell_type": "code",
     "collapsed": true,
     "input": [
      "# Now to create a plot of the number of posts against time\n",
      "#          X-Axis = The daily hours\n",
      "#          Y-Axis = The Number of posts, will save it in the same method as before"
     ],
     "language": "python",
     "metadata": {},
     "outputs": []
    },
    {
     "cell_type": "code",
     "collapsed": true,
     "input": [
      "count = 0\n",
      "post_hour = defaultdict(int)\n",
      "for post_id in post_dict:\n",
      "    post = post_dict[post_id]\n",
      "    time = get_local_time(post)\n",
      "    if time != None:\n",
      "        post_hour[time.hour*60+np.round(time.minute/15)] += 1"
     ],
     "language": "python",
     "metadata": {},
     "outputs": []
    },
    {
     "cell_type": "code",
     "collapsed": true,
     "input": [
      "#plot_dict(post_hour,'rx')"
     ],
     "language": "python",
     "metadata": {},
     "outputs": []
    },
    {
     "cell_type": "code",
     "collapsed": true,
     "input": [
      "len(post_hour)"
     ],
     "language": "python",
     "metadata": {},
     "outputs": []
    },
    {
     "cell_type": "code",
     "collapsed": true,
     "input": [
      "post_high_hour = defaultdict(int)\n",
      "for post_id in post_dict:\n",
      "    post = post_dict[post_id]\n",
      "    time = get_local_time(post)\n",
      "    if time != None and post.high_cal:\n",
      "        post_high_hour[time.hour*60+np.round(time.minute/15)] += 1"
     ],
     "language": "python",
     "metadata": {},
     "outputs": []
    },
    {
     "cell_type": "code",
     "collapsed": true,
     "input": [
      "#plot_dict(post_high_hour,'r-')"
     ],
     "language": "python",
     "metadata": {},
     "outputs": []
    },
    {
     "cell_type": "code",
     "collapsed": true,
     "input": [
      "post_low_hour = defaultdict(int)\n",
      "for post_id in post_dict:\n",
      "    post = post_dict[post_id]\n",
      "    time = get_local_time(post)\n",
      "    if time != None and not post.high_cal:\n",
      "        post_low_hour[time.hour*60+np.round(time.minute/15)] += 1"
     ],
     "language": "python",
     "metadata": {},
     "outputs": []
    },
    {
     "cell_type": "code",
     "collapsed": true,
     "input": [
      "#plot_dict(post_low_hour,'g-')"
     ],
     "language": "python",
     "metadata": {},
     "outputs": []
    },
    {
     "cell_type": "code",
     "collapsed": false,
     "input": [
      "print sum(post_low_hour.values()),sum(post_high_hour.values())"
     ],
     "language": "python",
     "metadata": {},
     "outputs": []
    },
    {
     "cell_type": "code",
     "collapsed": true,
     "input": [
      "#plt.plot(post_hour.keys(),post_hour.values(),'kx-')\n",
      "plt.plot(post_high_hour.keys(),post_high_hour.values(),'rx')#;plt.show()"
     ],
     "language": "python",
     "metadata": {},
     "outputs": []
    },
    {
     "cell_type": "code",
     "collapsed": false,
     "input": [
      "plt.plot(post_low_hour.keys(),post_low_hour.values(),'gx');plt.show()"
     ],
     "language": "python",
     "metadata": {},
     "outputs": []
    },
    {
     "cell_type": "code",
     "collapsed": true,
     "input": [
      "x_high = []; y_high = []\n",
      "x_low  = []; y_low = []\n",
      "for post_id in post_dict:\n",
      "    if post_dict[post_id].loc != 0:\n",
      "        loc = post_dict[post_id].loc.split(',')\n",
      "        if post.high_cal:\n",
      "            x_high.append(float(loc[0]))\n",
      "            y_high.append(float(loc[1]))\n",
      "        else:\n",
      "            x_low.append(float(loc[0]))\n",
      "            y_low.append(float(loc[1]))"
     ],
     "language": "python",
     "metadata": {},
     "outputs": []
    },
    {
     "cell_type": "code",
     "collapsed": true,
     "input": [
      "len(x_high)"
     ],
     "language": "python",
     "metadata": {},
     "outputs": []
    },
    {
     "cell_type": "code",
     "collapsed": true,
     "input": [
      "plt.plot(x_high,y_high,'rx');\n",
      "plt.plot(x_low,y_low,'gx');plt.show()"
     ],
     "language": "python",
     "metadata": {},
     "outputs": []
    },
    {
     "cell_type": "code",
     "collapsed": true,
     "input": [
      "h = 0\n",
      "l = 0\n",
      "for post_id in post_dict:\n",
      "    if post_dict[post_id].high_cal :\n",
      "        h += 1\n",
      "    else:\n",
      "        l += 1\n",
      "print l, h"
     ],
     "language": "python",
     "metadata": {},
     "outputs": []
    }
   ],
   "metadata": {}
  }
 ]
}