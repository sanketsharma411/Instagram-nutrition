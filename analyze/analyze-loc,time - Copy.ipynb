{
 "metadata": {
  "name": "",
  "signature": "sha256:e463004f8be0a5d9af94bd398f0460511b35a21a82bab6542f1d1548891075d5"
 },
 "nbformat": 3,
 "nbformat_minor": 0,
 "worksheets": [
  {
   "cells": [
    {
     "cell_type": "code",
     "collapsed": false,
     "input": [
      "import sys, urllib\n",
      "sys.path.append('C:\\Users\\Shweta\\Desktop\\CS 8903\\FINAL\\scripts')\n",
      "from InstaLib import *\n",
      "from analyze_utils import *\n",
      "from match_utils import *\n",
      "from random import shuffle, randint\n",
      "import numpy as np"
     ],
     "language": "python",
     "metadata": {},
     "outputs": [
      {
       "output_type": "stream",
       "stream": "stdout",
       "text": [
        "Reading json input file: C:\\Anaconda\\lib\\site-packages\\tzwhere-1.0-py2.7.egg\\tzwhere\\tz_world_compact.json\n",
        "Loading USDA data"
       ]
      },
      {
       "output_type": "stream",
       "stream": "stdout",
       "text": [
        "\n",
        "Loading USDA data"
       ]
      },
      {
       "output_type": "stream",
       "stream": "stdout",
       "text": [
        "\n"
       ]
      }
     ],
     "prompt_number": 1
    },
    {
     "cell_type": "markdown",
     "metadata": {},
     "source": [
      "#### Loading the post file"
     ]
    },
    {
     "cell_type": "code",
     "collapsed": false,
     "input": [
      "post_file = 'C:\\Users\\Shweta\\Desktop\\CS 8903\\FINAL\\Data\\sample_post.txt'\n",
      "post_dict = load_post(post_file)"
     ],
     "language": "python",
     "metadata": {},
     "outputs": [
      {
       "output_type": "stream",
       "stream": "stdout",
       "text": [
        "Loading the post File\n",
        "Loading the post File !! DONE !!"
       ]
      },
      {
       "output_type": "stream",
       "stream": "stdout",
       "text": [
        "\n",
        "Reading through the loaded data into local variables\n",
        "Reading through the loaded data into local variables !! DONE !!"
       ]
      },
      {
       "output_type": "stream",
       "stream": "stdout",
       "text": [
        " 0\n",
        "Setting the local time info\n",
        "Setting the local time info !! DONE !!"
       ]
      },
      {
       "output_type": "stream",
       "stream": "stdout",
       "text": [
        " 1\n",
        "Setting the local time info !! DONE !! 1\n",
        "Setting the local time info !! DONE !! 1\n",
        "Setting the local time info !! DONE !! 1\n",
        "Setting the local time info !! DONE !! 1\n",
        "Setting the local time info !! DONE !! 2\n",
        "Setting the local time info !! DONE !! 2\n",
        "Setting the local time info !! DONE !! 2\n",
        "Setting the local time info !! DONE !!"
       ]
      },
      {
       "output_type": "stream",
       "stream": "stdout",
       "text": [
        " 3\n",
        "Setting the local time info !! DONE !! 3\n",
        "Setting the local time info !! DONE !!"
       ]
      },
      {
       "output_type": "stream",
       "stream": "stdout",
       "text": [
        " 4\n",
        "Setting the local time info !! DONE !! 4\n",
        "Setting the local time info !! DONE !! 4\n",
        "Setting the local time info !! DONE !! 4\n",
        "Setting the local time info !! DONE !! 4\n",
        "Setting the local time info !! DONE !! 4\n",
        "Setting the local time info !! DONE !! 4\n",
        "Setting the local time info !! DONE !! 4\n",
        "Setting the local time info !! DONE !! 4\n",
        "Setting the local time info !! DONE !! 5\n",
        "Setting the local time info !! DONE !! 6\n",
        "Setting the local time info !! DONE !! 6\n",
        "Setting the local time info !! DONE !! 6\n",
        "Setting the local time info !! DONE !!"
       ]
      },
      {
       "output_type": "stream",
       "stream": "stdout",
       "text": [
        " 7\n",
        "Setting the local time info !! DONE !! 7\n",
        "Setting the local time info !! DONE !! 7\n",
        "Setting the local time info !! DONE !! 7\n",
        "Setting the local time info !! DONE !! 8\n",
        "Setting the local time info !! DONE !! 8\n",
        "Setting the local time info !! DONE !! 8\n",
        "Setting the local time info !! DONE !! 9\n",
        "Setting the local time info !! DONE !! 9\n",
        "Setting the local time info !! DONE !! 9\n",
        "Setting the local time info !! DONE !!"
       ]
      },
      {
       "output_type": "stream",
       "stream": "stdout",
       "text": [
        " 10\n",
        "Setting the local time info !! DONE !! 10\n",
        "Setting the local time info !! DONE !! 10\n",
        "Setting the local time info !! DONE !! 10\n",
        "Setting the local time info !! DONE !! 10\n",
        "Setting the local time info !! DONE !! 10\n",
        "Setting the local time info !! DONE !! 11\n",
        "Setting the local time info !! DONE !! 11\n",
        "Setting the local time info !! DONE !! 12\n",
        "Setting the local time info !! DONE !! 12\n",
        "Setting the local time info !! DONE !! 12\n",
        "Setting the local time info !! DONE !! 12\n",
        "Setting the local time info !! DONE !! 12\n",
        "Setting the local time info !! DONE !! 12\n",
        "Setting the local time info !! DONE !! 12\n",
        "Setting the local time info !! DONE !!"
       ]
      },
      {
       "output_type": "stream",
       "stream": "stdout",
       "text": [
        " 13\n",
        "Setting the local time info !! DONE !! 13\n",
        "Setting the local time info !! DONE !! 13\n",
        "Setting the local time info !! DONE !! 14\n",
        "Setting the local time info !! DONE !! 14\n",
        "Setting the local time info !! DONE !!"
       ]
      },
      {
       "output_type": "stream",
       "stream": "stdout",
       "text": [
        " 15\n",
        "Setting the local time info !! DONE !! 15\n",
        "Setting the local time info !! DONE !!"
       ]
      },
      {
       "output_type": "stream",
       "stream": "stdout",
       "text": [
        " 16\n",
        "Setting the local time info !! DONE !! 17\n",
        "Setting the local time info !! DONE !! 17\n",
        "Setting the local time info !! DONE !! 17\n",
        "Setting the local time info !! DONE !! 17\n",
        "Setting the local time info !! DONE !! 17\n",
        "Setting the local time info !! DONE !! 17\n",
        "Setting the local time info !! DONE !! 17\n",
        "Setting the local time info !! DONE !!"
       ]
      },
      {
       "output_type": "stream",
       "stream": "stdout",
       "text": [
        " 18\n",
        "Setting the local time info !! DONE !! 18\n",
        "Setting the local time info !! DONE !! 19\n",
        "Setting the local time info !! DONE !!"
       ]
      },
      {
       "output_type": "stream",
       "stream": "stdout",
       "text": [
        " 20\n",
        "Setting the local time info !! DONE !! 20\n",
        "Setting the local time info !! DONE !! 21\n",
        "Setting the local time info !! DONE !! 21\n",
        "Setting the local time info !! DONE !! 21\n",
        "Setting the local time info !! DONE !! 21\n",
        "Setting the local time info !! DONE !! 22\n",
        "Setting the local time info !! DONE !! 22\n",
        "Setting the local time info !! DONE !! 22\n",
        "Setting the local time info !! DONE !! 23\n",
        "Setting the local time info !! DONE !! 23\n",
        "Setting the local time info !! DONE !!"
       ]
      },
      {
       "output_type": "stream",
       "stream": "stdout",
       "text": [
        " 24\n",
        "Setting the local time info !! DONE !! 24\n",
        "Setting the local time info !! DONE !! 24\n",
        "Setting the local time info !! DONE !! 24\n",
        "Setting the local time info !! DONE !! 24\n",
        "Setting the local time info !! DONE !! 25\n",
        "Setting the local time info !! DONE !! 26\n",
        "Setting the local time info !! DONE !! 26\n",
        "Setting the local time info !! DONE !! 26\n",
        "Setting the local time info !! DONE !! 27\n",
        "Setting the local time info !! DONE !! 27\n",
        "Setting the local time info !! DONE !! 27\n",
        "Setting the local time info !! DONE !!"
       ]
      },
      {
       "output_type": "stream",
       "stream": "stdout",
       "text": [
        " 28\n",
        "Setting the local time info !! DONE !! 28\n",
        "Setting the local time info !! DONE !! 28\n",
        "Setting the local time info !! DONE !! 28\n",
        "Setting the local time info !! DONE !! 29\n",
        "Setting the local time info !! DONE !!"
       ]
      },
      {
       "output_type": "stream",
       "stream": "stdout",
       "text": [
        " 30\n",
        "Setting the local time info !! DONE !! 30\n",
        "Setting the local time info !! DONE !! 30\n",
        "Setting the local time info !! DONE !! 30\n",
        "Setting the local time info !! DONE !! 31\n",
        "Setting the local time info !! DONE !! 31\n",
        "Setting the local time info !! DONE !! 31\n",
        "Setting the local time info !! DONE !! 31\n",
        "Setting the local time info !! DONE !! 31\n",
        "Setting the local time info !! DONE !! 31\n",
        "Setting the local time info !! DONE !!"
       ]
      },
      {
       "output_type": "stream",
       "stream": "stdout",
       "text": [
        " 32\n",
        "Setting the local time info !! DONE !!"
       ]
      },
      {
       "output_type": "stream",
       "stream": "stdout",
       "text": [
        " 33\n",
        "Setting the local time info !! DONE !! 33\n",
        "Setting the local time info !! DONE !! 34\n",
        "Setting the local time info !! DONE !! 35\n",
        "Setting the local time info !! DONE !!"
       ]
      },
      {
       "output_type": "stream",
       "stream": "stdout",
       "text": [
        " 36\n",
        "Setting the local time info !! DONE !! 36\n",
        "Setting the local time info !! DONE !! 36\n",
        "Setting the local time info !! DONE !! 36\n",
        "Setting the local time info !! DONE !! 36\n",
        "Setting the local time info !! DONE !! 36\n",
        "Setting the local time info !! DONE !! 36\n",
        "Setting the local time info !! DONE !! 36\n",
        "Setting the local time info !! DONE !! 36\n",
        "Setting the local time info !! DONE !! 37\n",
        "Setting the local time info !! DONE !! 37\n",
        "Setting the local time info !! DONE !! 37\n",
        "Setting the local time info !! DONE !! 37\n",
        "Setting the local time info !! DONE !! 38\n",
        "Setting the local time info !! DONE !! 38\n",
        "Setting the local time info !! DONE !! 38\n",
        "Setting the local time info !! DONE !!"
       ]
      },
      {
       "output_type": "stream",
       "stream": "stdout",
       "text": [
        " 39\n",
        "Setting the local time info !! DONE !! 39\n",
        "Setting the local time info !! DONE !! 39\n",
        "Setting the local time info !! DONE !! 40\n",
        "Setting the local time info !! DONE !! 40\n",
        "Setting the local time info !! DONE !! 40\n",
        "Setting the local time info !! DONE !! 41\n",
        "Setting the local time info !! DONE !!"
       ]
      },
      {
       "output_type": "stream",
       "stream": "stdout",
       "text": [
        " 42\n",
        "Setting the local time info !! DONE !!"
       ]
      },
      {
       "output_type": "stream",
       "stream": "stdout",
       "text": [
        " 43\n",
        "Setting the local time info !! DONE !! 43\n",
        "Setting the local time info !! DONE !! 43\n",
        "Setting the local time info !! DONE !! 43\n",
        "Setting the local time info !! DONE !! 43\n",
        "Setting the local time info !! DONE !! 43\n",
        "Setting the local time info !! DONE !! 43\n",
        "Setting the local time info !! DONE !! 44\n",
        "Setting the local time info !! DONE !! 45\n",
        "Setting the local time info !! DONE !!"
       ]
      },
      {
       "output_type": "stream",
       "stream": "stdout",
       "text": [
        " 46\n",
        "Setting the local time info !! DONE !! 46\n",
        "Setting the local time info !! DONE !! 46\n",
        "Setting the local time info !! DONE !!"
       ]
      },
      {
       "output_type": "stream",
       "stream": "stdout",
       "text": [
        " 47\n",
        "Setting the local time info !! DONE !! 47\n",
        "Setting the local time info !! DONE !! 48\n",
        "Setting the local time info !! DONE !! 48\n",
        "Setting the local time info !! DONE !! 48\n",
        "Setting the local time info !! DONE !! 48\n",
        "Setting the local time info !! DONE !! 48\n",
        "Setting the local time info !! DONE !!"
       ]
      },
      {
       "output_type": "stream",
       "stream": "stdout",
       "text": [
        " 49\n",
        "Setting the local time info !! DONE !! 49\n",
        "Setting the local time info !! DONE !! 50\n",
        "Setting the local time info !! DONE !! 50\n",
        "Setting the local time info !! DONE !! 50\n",
        "Setting the local time info !! DONE !! 50\n",
        "Setting the local time info !! DONE !! 50\n",
        "Setting the local time info !! DONE !!"
       ]
      },
      {
       "output_type": "stream",
       "stream": "stdout",
       "text": [
        " 51\n",
        "Setting the local time info !! DONE !! 51\n",
        "Setting the local time info !! DONE !! 51\n",
        "Setting the local time info !! DONE !! 52\n",
        "Setting the local time info !! DONE !! 52\n",
        "Setting the local time info !! DONE !! 52\n",
        "Setting the local time info !! DONE !! 53\n",
        "Setting the local time info !! DONE !! 53\n",
        "Setting the local time info !! DONE !! 54\n",
        "Setting the local time info !! DONE !! 54\n",
        "Setting the local time info !! DONE !! 54\n",
        "Setting the local time info !! DONE !!"
       ]
      },
      {
       "output_type": "stream",
       "stream": "stdout",
       "text": [
        " 55\n",
        "Setting the local time info !! DONE !! 55\n",
        "Setting the local time info !! DONE !!"
       ]
      },
      {
       "output_type": "stream",
       "stream": "stdout",
       "text": [
        " 56\n",
        "Setting the local time info !! DONE !! 57\n",
        "Setting the local time info !! DONE !! 57\n",
        "Setting the local time info !! DONE !! 57\n",
        "Setting the local time info !! DONE !! 57\n",
        "Setting the local time info !! DONE !! 58\n",
        "Setting the local time info !! DONE !! 58\n",
        "Setting the local time info !! DONE !! 58\n",
        "Setting the local time info !! DONE !! 58\n",
        "Setting the local time info !! DONE !! 58\n",
        "Setting the local time info !! DONE !! 58\n",
        "Setting the local time info !! DONE !! 58\n",
        "Setting the local time info !! DONE !! 58\n",
        "Setting the local time info !! DONE !!"
       ]
      },
      {
       "output_type": "stream",
       "stream": "stdout",
       "text": [
        " 59\n",
        "Setting the local time info !! DONE !! 59\n",
        "Setting the local time info !! DONE !! 60\n",
        "Setting the local time info !! DONE !! 60\n",
        "Setting the local time info !! DONE !! 60\n",
        "Setting the local time info !! DONE !! 60\n",
        "Setting the local time info !! DONE !! 61\n",
        "Setting the local time info !! DONE !! 61\n",
        "Setting the local time info !! DONE !! 61\n",
        "Setting the local time info !! DONE !! 61\n",
        "Setting the local time info !! DONE !!"
       ]
      },
      {
       "output_type": "stream",
       "stream": "stdout",
       "text": [
        " 62\n",
        "Setting the local time info !! DONE !! 62\n",
        "Setting the local time info !! DONE !! 62\n",
        "Setting the local time info !! DONE !! 62\n",
        "Setting the local time info !! DONE !! 62\n",
        "Setting the local time info !! DONE !! 63\n",
        "Setting the local time info !! DONE !! 63\n",
        "Setting the local time info !! DONE !!"
       ]
      },
      {
       "output_type": "stream",
       "stream": "stdout",
       "text": [
        " 64\n",
        "Setting the local time info !! DONE !! 65\n",
        "Setting the local time info !! DONE !! 65\n",
        "Setting the local time info !! DONE !! 65\n",
        "Setting the local time info !! DONE !! 65\n",
        "Setting the local time info !! DONE !! 65\n",
        "Setting the local time info !! DONE !! 66\n",
        "Setting the local time info !! DONE !!"
       ]
      },
      {
       "output_type": "stream",
       "stream": "stdout",
       "text": [
        " 67\n",
        "Setting the local time info !! DONE !! 67\n",
        "Setting the local time info !! DONE !! 67\n",
        "Setting the local time info !! DONE !! 67\n",
        "Setting the local time info !! DONE !! 67\n",
        "Setting the local time info !! DONE !! 67\n",
        "Setting the local time info !! DONE !! 67\n",
        "Setting the local time info !! DONE !! 67\n",
        "Setting the local time info !! DONE !! 68\n",
        "Setting the local time info !! DONE !! 68\n",
        "Setting the local time info !! DONE !! 69\n",
        "Setting the local time info !! DONE !! 69\n",
        "Setting the local time info !! DONE !! 69\n",
        "Setting the local time info !! DONE !! 69\n",
        "Setting the local time info !! DONE !!"
       ]
      },
      {
       "output_type": "stream",
       "stream": "stdout",
       "text": [
        " 70\n",
        "Setting the local time info !! DONE !! 70\n",
        "Setting the local time info !! DONE !! 70\n",
        "Setting the local time info !! DONE !! 70\n",
        "Setting the local time info !! DONE !! 70\n",
        "Setting the local time info !! DONE !! 70\n",
        "Setting the local time info !! DONE !! 70\n",
        "Setting the local time info !! DONE !! 70\n",
        "Setting the local time info !! DONE !! 70\n",
        "Setting the local time info !! DONE !! 70\n",
        "Setting the local time info !! DONE !! 70\n",
        "Setting the local time info !! DONE !! 70\n",
        "Setting the local time info !! DONE !! 71\n",
        "Setting the local time info !! DONE !! 71\n",
        "Setting the local time info !! DONE !! 71\n",
        "Setting the local time info !! DONE !! 71\n",
        "Setting the local time info !! DONE !!"
       ]
      },
      {
       "output_type": "stream",
       "stream": "stdout",
       "text": [
        " 72\n",
        "Setting the local time info !! DONE !!"
       ]
      },
      {
       "output_type": "stream",
       "stream": "stdout",
       "text": [
        " 73\n",
        "Setting the local time info !! DONE !! 74\n",
        "Setting the local time info !! DONE !! 74\n",
        "Setting the local time info !! DONE !! 74\n",
        "Setting the local time info !! DONE !!"
       ]
      },
      {
       "output_type": "stream",
       "stream": "stdout",
       "text": [
        " 75\n",
        "Setting the local time info !! DONE !!"
       ]
      },
      {
       "output_type": "stream",
       "stream": "stdout",
       "text": [
        " 76\n",
        "Setting the local time info !! DONE !! 77\n",
        "Setting the local time info !! DONE !! 77\n",
        "Setting the local time info !! DONE !! 77\n",
        "Setting the local time info !! DONE !! 77\n",
        "Setting the local time info !! DONE !! 77\n",
        "Setting the local time info !! DONE !! 77\n",
        "Setting the local time info !! DONE !! 77\n",
        "Setting the local time info !! DONE !! 78\n",
        "Setting the local time info !! DONE !! 78\n",
        "Setting the local time info !! DONE !! 78\n",
        "Setting the local time info !! DONE !!"
       ]
      },
      {
       "output_type": "stream",
       "stream": "stdout",
       "text": [
        " 79\n",
        "Setting the local time info !! DONE !! 80\n",
        "Setting the local time info !! DONE !! 80\n",
        "Setting the local time info !! DONE !! 80\n",
        "Setting the local time info !! DONE !! 80\n",
        "Setting the local time info !! DONE !! 80\n",
        "Setting the local time info !! DONE !! 80\n",
        "Setting the local time info !! DONE !!"
       ]
      },
      {
       "output_type": "stream",
       "stream": "stdout",
       "text": [
        " 81\n",
        "Setting the local time info !! DONE !! 82\n",
        "Setting the local time info !! DONE !! 82\n",
        "Setting the local time info !! DONE !!"
       ]
      },
      {
       "output_type": "stream",
       "stream": "stdout",
       "text": [
        " 83\n",
        "Setting the local time info !! DONE !! 84\n",
        "Setting the local time info !! DONE !! 84\n",
        "Setting the local time info !! DONE !! 84\n",
        "Setting the local time info !! DONE !! 84\n",
        "Setting the local time info !! DONE !! 84\n",
        "Setting the local time info !! DONE !!"
       ]
      },
      {
       "output_type": "stream",
       "stream": "stdout",
       "text": [
        " 85\n",
        "Setting the local time info !! DONE !! 85\n",
        "Setting the local time info !! DONE !! 85\n",
        "Setting the local time info !! DONE !! 85\n",
        "Setting the local time info !! DONE !! 85\n",
        "Setting the local time info !! DONE !! 86\n",
        "Setting the local time info !! DONE !!"
       ]
      },
      {
       "output_type": "stream",
       "stream": "stdout",
       "text": [
        " 87\n",
        "Setting the local time info !! DONE !! 87\n",
        "Setting the local time info !! DONE !! 88\n",
        "Setting the local time info !! DONE !! 88\n",
        "Setting the local time info !! DONE !! 89\n",
        "Setting the local time info !! DONE !! 89\n",
        "Setting the local time info !! DONE !! 89\n",
        "Setting the local time info !! DONE !! 89\n",
        "Setting the local time info !! DONE !!"
       ]
      },
      {
       "output_type": "stream",
       "stream": "stdout",
       "text": [
        " 90\n",
        "Setting the local time info !! DONE !! 91\n",
        "Setting the local time info !! DONE !! 92\n",
        "Setting the local time info !! DONE !! 92\n",
        "Setting the local time info !! DONE !!"
       ]
      },
      {
       "output_type": "stream",
       "stream": "stdout",
       "text": [
        " 93\n",
        "Setting the local time info !! DONE !! 93\n",
        "Setting the local time info !! DONE !! 94\n",
        "Setting the local time info !! DONE !! 94\n",
        "Setting the local time info !! DONE !! 94\n",
        "Setting the local time info !! DONE !! 95\n",
        "Setting the local time info !! DONE !! 96\n",
        "Setting the local time info !! DONE !!"
       ]
      },
      {
       "output_type": "stream",
       "stream": "stdout",
       "text": [
        " 97\n",
        "Setting the local time info !! DONE !! 97\n",
        "Setting the local time info !! DONE !! 98\n",
        "Setting the local time info !! DONE !! 98\n",
        "Setting the local time info !! DONE !! 99\n",
        "Setting the local time info !! DONE !! 99\n",
        "Setting the local time info !! DONE !! 99\n",
        "Setting the local time info !! DONE !!"
       ]
      },
      {
       "output_type": "stream",
       "stream": "stdout",
       "text": [
        " 100\n",
        "Setting the local time info !! DONE !! 100\n",
        "Setting the local time info !! DONE !! 100\n",
        "Setting the local time info !! DONE !! 101\n",
        "Setting the local time info !! DONE !!"
       ]
      },
      {
       "output_type": "stream",
       "stream": "stdout",
       "text": [
        " 102\n",
        "Setting the local time info !! DONE !! 102\n",
        "Setting the local time info !! DONE !! 102\n",
        "Setting the local time info !! DONE !! 102\n",
        "Setting the local time info !! DONE !! 102\n",
        "Setting the local time info !! DONE !!"
       ]
      },
      {
       "output_type": "stream",
       "stream": "stdout",
       "text": [
        " 103\n",
        "Setting the local time info !! DONE !!"
       ]
      },
      {
       "output_type": "stream",
       "stream": "stdout",
       "text": [
        " 104\n",
        "Setting the local time info !! DONE !!"
       ]
      },
      {
       "output_type": "stream",
       "stream": "stdout",
       "text": [
        " 105\n",
        "Setting the local time info !! DONE !! 105\n",
        "Setting the local time info !! DONE !! 105\n",
        "Setting the local time info !! DONE !! 105\n",
        "Setting the local time info !! DONE !! 105\n",
        "Setting the local time info !! DONE !! 105\n",
        "Setting the local time info !! DONE !! 105\n",
        "Setting the local time info !! DONE !! 105\n",
        "Setting the local time info !! DONE !! 105\n",
        "Setting the local time info !! DONE !! 105\n",
        "Setting the local time info !! DONE !! 105\n",
        "Setting the local time info !! DONE !! 105\n",
        "Setting the local time info !! DONE !! 105\n",
        "Setting the local time info !! DONE !! 105\n",
        "Setting the local time info !! DONE !! 106\n",
        "Setting the local time info !! DONE !! 106\n",
        "Setting the local time info !! DONE !! 106\n",
        "Setting the local time info !! DONE !! 106\n",
        "Setting the local time info !! DONE !! 106\n",
        "Setting the local time info !! DONE !! 106\n",
        "Setting the local time info !! DONE !! 106\n",
        "Setting the local time info !! DONE !! 106\n",
        "Setting the local time info !! DONE !! 106\n",
        "Setting the local time info !! DONE !! 106\n",
        "Setting the local time info !! DONE !! 106\n",
        "Setting the local time info !! DONE !! 106\n",
        "Setting the local time info !! DONE !! 106\n",
        "Setting the local time info !! DONE !! 106\n",
        "Setting the local time info !! DONE !! 106\n",
        "Setting the local time info !! DONE !! 106\n",
        "Setting the local time info !! DONE !!"
       ]
      },
      {
       "output_type": "stream",
       "stream": "stdout",
       "text": [
        " 107\n",
        "Setting the local time info !! DONE !! 107\n",
        "Setting the local time info !! DONE !! 107\n",
        "Setting the local time info !! DONE !! 107\n",
        "Setting the local time info !! DONE !! 107\n",
        "Setting the local time info !! DONE !!"
       ]
      },
      {
       "output_type": "stream",
       "stream": "stdout",
       "text": [
        " 108\n",
        "Setting the local time info !! DONE !! 109\n",
        "Setting the local time info !! DONE !! 109\n",
        "Setting the local time info !! DONE !! 109\n",
        "Setting the local time info !! DONE !! 109\n",
        "Setting the local time info !! DONE !! 110\n",
        "Setting the local time info !! DONE !! 111\n",
        "Setting the local time info !! DONE !! 111\n",
        "Setting the local time info !! DONE !! 111\n",
        "Setting the local time info !! DONE !!"
       ]
      },
      {
       "output_type": "stream",
       "stream": "stdout",
       "text": [
        " 112\n",
        "Setting the local time info !! DONE !! 112\n",
        "Setting the local time info !! DONE !! 112\n",
        "Setting the local time info !! DONE !! 112\n",
        "Setting the local time info !! DONE !!"
       ]
      },
      {
       "output_type": "stream",
       "stream": "stdout",
       "text": [
        " 113\n",
        "Setting the local time info !! DONE !! 113\n",
        "Setting the local time info !! DONE !! 113\n",
        "Setting the local time info !! DONE !! 113\n",
        "Setting the local time info !! DONE !! 113\n",
        "Setting the local time info !! DONE !! 113\n",
        "Setting the local time info !! DONE !! 113\n",
        "Setting the local time info !! DONE !!"
       ]
      },
      {
       "output_type": "stream",
       "stream": "stdout",
       "text": [
        " 114\n",
        "Setting the local time info !! DONE !!"
       ]
      },
      {
       "output_type": "stream",
       "stream": "stdout",
       "text": [
        " 115\n",
        "Setting the local time info !! DONE !! 115\n",
        "Setting the local time info !! DONE !! 115\n",
        "Setting the local time info !! DONE !! 115\n",
        "Setting the local time info !! DONE !! 115\n",
        "Setting the local time info !! DONE !! 115\n",
        "Setting the local time info !! DONE !!"
       ]
      },
      {
       "output_type": "stream",
       "stream": "stdout",
       "text": [
        " 116\n",
        "Setting the local time info !! DONE !! 116\n",
        "Setting the local time info !! DONE !! 116\n",
        "Setting the local time info !! DONE !! 116\n",
        "Setting the local time info !! DONE !! 116\n",
        "Setting the local time info !! DONE !! 116\n",
        "Setting the local time info !! DONE !! 116\n",
        "Setting the local time info !! DONE !! 117\n",
        "Setting the local time info !! DONE !! 117\n",
        "Setting the local time info !! DONE !! 117\n",
        "Setting the local time info !! DONE !!"
       ]
      },
      {
       "output_type": "stream",
       "stream": "stdout",
       "text": [
        " 118\n",
        "Setting the local time info !! DONE !! 118\n",
        "Setting the local time info !! DONE !! 118\n",
        "Setting the local time info !! DONE !! 119\n",
        "Setting the local time info !! DONE !! 119\n",
        "Setting the local time info !! DONE !! 119\n",
        "Setting the local time info !! DONE !! 119\n",
        "Setting the local time info !! DONE !!"
       ]
      },
      {
       "output_type": "stream",
       "stream": "stdout",
       "text": [
        " 120\n",
        "Setting the local time info !! DONE !! 120\n",
        "Setting the local time info !! DONE !!"
       ]
      },
      {
       "output_type": "stream",
       "stream": "stdout",
       "text": [
        " 121\n",
        "Setting the local time info !! DONE !!"
       ]
      },
      {
       "output_type": "stream",
       "stream": "stdout",
       "text": [
        " 122\n",
        "Setting the local time info !! DONE !! 123\n",
        "Setting the local time info !! DONE !! 123\n",
        "Setting the local time info !! DONE !! 123\n",
        "Setting the local time info !! DONE !! 124\n",
        "Setting the local time info !! DONE !! 124\n",
        "Setting the local time info !! DONE !! 124\n",
        "Setting the local time info !! DONE !!"
       ]
      },
      {
       "output_type": "stream",
       "stream": "stdout",
       "text": [
        " 125\n",
        "Setting the local time info !! DONE !! 125\n",
        "Setting the local time info !! DONE !! 125\n",
        "Setting the local time info !! DONE !!"
       ]
      },
      {
       "output_type": "stream",
       "stream": "stdout",
       "text": [
        " 126\n",
        "Setting the local time info !! DONE !! 126\n",
        "Setting the local time info !! DONE !! 127\n",
        "Setting the local time info !! DONE !! 127\n",
        "Setting the local time info !! DONE !!"
       ]
      },
      {
       "output_type": "stream",
       "stream": "stdout",
       "text": [
        " 128\n",
        "Setting the local time info !! DONE !! 128\n",
        "Setting the local time info !! DONE !! 128\n",
        "Setting the local time info !! DONE !!"
       ]
      },
      {
       "output_type": "stream",
       "stream": "stdout",
       "text": [
        " 129\n",
        "Setting the local time info !! DONE !! 129\n",
        "Setting the local time info !! DONE !! 130\n",
        "Setting the local time info !! DONE !!"
       ]
      },
      {
       "output_type": "stream",
       "stream": "stdout",
       "text": [
        " 131\n",
        "Setting the local time info !! DONE !! 131\n",
        "Setting the local time info !! DONE !! 131\n",
        "Setting the local time info !! DONE !! 132\n",
        "Setting the local time info !! DONE !! 132\n",
        "Setting the local time info !! DONE !! 132\n",
        "Setting the local time info !! DONE !! 132\n",
        "Setting the local time info !! DONE !!"
       ]
      },
      {
       "output_type": "stream",
       "stream": "stdout",
       "text": [
        " 133\n",
        "Setting the local time info !! DONE !! 133\n",
        "Setting the local time info !! DONE !!"
       ]
      },
      {
       "output_type": "stream",
       "stream": "stdout",
       "text": [
        " 134\n",
        "Setting the local time info !! DONE !! 134\n",
        "Setting the local time info !! DONE !! 134\n",
        "Setting the local time info !! DONE !! 134\n",
        "Setting the local time info !! DONE !! 135\n",
        "Setting the local time info !! DONE !! 136\n",
        "Setting the local time info !! DONE !! 136\n",
        "Setting the local time info !! DONE !! 136\n",
        "Setting the local time info !! DONE !! 136\n",
        "Setting the local time info !! DONE !! 137\n",
        "Setting the local time info !! DONE !! 137\n",
        "Setting the local time info !! DONE !! 137\n",
        "Setting the local time info !! DONE !! 137\n",
        "Setting the local time info !! DONE !! 137\n",
        "Setting the local time info !! DONE !! 137\n",
        "Setting the local time info !! DONE !! 137\n",
        "Setting the local time info !! DONE !!"
       ]
      },
      {
       "output_type": "stream",
       "stream": "stdout",
       "text": [
        " 138\n",
        "Setting the local time info !! DONE !! 138\n",
        "Setting the local time info !! DONE !! 138\n",
        "Setting the local time info !! DONE !! 138\n",
        "Setting the local time info !! DONE !! 139\n",
        "Setting the local time info !! DONE !!"
       ]
      },
      {
       "output_type": "stream",
       "stream": "stdout",
       "text": [
        " 140\n",
        "Setting the local time info !! DONE !! 140\n",
        "Setting the local time info !! DONE !! 141\n",
        "Setting the local time info !! DONE !! 141\n",
        "Setting the local time info !! DONE !! 142\n",
        "Setting the local time info !! DONE !! 142\n",
        "Setting the local time info !! DONE !! 142\n",
        "Setting the local time info !! DONE !! 142\n",
        "Setting the local time info !! DONE !!"
       ]
      },
      {
       "output_type": "stream",
       "stream": "stdout",
       "text": [
        " 143\n",
        "Setting the local time info !! DONE !! 143\n",
        "Setting the local time info !! DONE !! 144\n",
        "Setting the local time info !! DONE !! 144\n",
        "Setting the local time info !! DONE !! 144\n",
        "Setting the local time info !! DONE !! 144\n",
        "Setting the local time info !! DONE !! 144\n",
        "Setting the local time info !! DONE !!"
       ]
      },
      {
       "output_type": "stream",
       "stream": "stdout",
       "text": [
        " 145\n",
        "Setting the local time info !! DONE !! 145\n",
        "Setting the local time info !! DONE !! 145\n",
        "Setting the local time info !! DONE !! 145\n",
        "Setting the local time info !! DONE !! 146\n",
        "Setting the local time info !! DONE !!"
       ]
      },
      {
       "output_type": "stream",
       "stream": "stdout",
       "text": [
        " 147\n",
        "Setting the local time info !! DONE !! 147\n",
        "Setting the local time info !! DONE !! 148\n",
        "Setting the local time info !! DONE !!"
       ]
      },
      {
       "output_type": "stream",
       "stream": "stdout",
       "text": [
        " 149\n",
        "Setting the local time info !! DONE !! 149\n",
        "Setting the local time info !! DONE !! 149\n",
        "Setting the local time info !! DONE !! 149\n",
        "Setting the local time info !! DONE !! 149\n",
        "Setting the local time info !! DONE !!"
       ]
      },
      {
       "output_type": "stream",
       "stream": "stdout",
       "text": [
        " 150\n",
        "Setting the local time info !! DONE !! 150\n",
        "Setting the local time info !! DONE !! 150\n",
        "Setting the local time info !! DONE !! 151\n",
        "Setting the local time info !! DONE !!"
       ]
      },
      {
       "output_type": "stream",
       "stream": "stdout",
       "text": [
        " 152\n",
        "Setting the local time info !! DONE !! 152\n",
        "Setting the local time info !! DONE !! 152\n",
        "Setting the local time info !! DONE !! 152\n",
        "Setting the local time info !! DONE !! 152\n",
        "Setting the local time info !! DONE !! 152\n",
        "Setting the local time info !! DONE !! 152\n",
        "Setting the local time info !! DONE !! 152\n",
        "Setting the local time info !! DONE !! 153\n",
        "Setting the local time info !! DONE !! 153\n",
        "Setting the local time info !! DONE !!"
       ]
      },
      {
       "output_type": "stream",
       "stream": "stdout",
       "text": [
        " 154\n",
        "Setting the local time info !! DONE !! 154\n",
        "Setting the local time info !! DONE !! 154\n",
        "Setting the local time info !! DONE !! 154\n",
        "Setting the local time info !! DONE !! 155\n",
        "Setting the local time info !! DONE !! 155\n",
        "Setting the local time info !! DONE !! 155\n",
        "Setting the local time info !! DONE !! 155\n",
        "Setting the local time info !! DONE !! 155\n",
        "Setting the local time info !! DONE !! 155\n",
        "Setting the local time info !! DONE !!"
       ]
      },
      {
       "output_type": "stream",
       "stream": "stdout",
       "text": [
        " 156\n",
        "Setting the local time info !! DONE !! 156\n",
        "Setting the local time info !! DONE !! 156\n",
        "Setting the local time info !! DONE !! 156\n",
        "Setting the local time info !! DONE !! 156\n",
        "Setting the local time info !! DONE !! 156\n",
        "Setting the local time info !! DONE !! 156\n",
        "Setting the local time info !! DONE !! 156\n",
        "Setting the local time info !! DONE !! 156\n",
        "Setting the local time info !! DONE !! 157\n",
        "Setting the local time info !! DONE !! 157\n",
        "Setting the local time info !! DONE !!"
       ]
      },
      {
       "output_type": "stream",
       "stream": "stdout",
       "text": [
        " 158\n",
        "Setting the local time info !! DONE !! 158\n",
        "Setting the local time info !! DONE !! 159\n",
        "Setting the local time info !! DONE !! 160\n",
        "Setting the local time info !! DONE !!"
       ]
      },
      {
       "output_type": "stream",
       "stream": "stdout",
       "text": [
        " 161\n",
        "Setting the local time info !! DONE !! 161\n",
        "Setting the local time info !! DONE !! 161\n",
        "Setting the local time info !! DONE !! 161\n",
        "Setting the local time info !! DONE !! 161\n",
        "Setting the local time info !! DONE !! 161\n",
        "Setting the local time info !! DONE !! 161\n",
        "Setting the local time info !! DONE !! 162\n",
        "Setting the local time info !! DONE !! 162\n",
        "Setting the local time info !! DONE !! 162\n",
        "Setting the local time info !! DONE !! 162\n",
        "Setting the local time info !! DONE !! 162\n",
        "Setting the local time info !! DONE !! 163\n",
        "Setting the local time info !! DONE !! 163\n",
        "Setting the local time info !! DONE !!"
       ]
      },
      {
       "output_type": "stream",
       "stream": "stdout",
       "text": [
        " 164\n",
        "Setting the local time info !! DONE !! 164\n",
        "Setting the local time info !! DONE !! 164\n",
        "Setting the local time info !! DONE !! 165\n",
        "Setting the local time info !! DONE !! 166\n",
        "Setting the local time info !! DONE !!"
       ]
      },
      {
       "output_type": "stream",
       "stream": "stdout",
       "text": [
        " 167\n",
        "Setting the local time info !! DONE !! 167\n",
        "Setting the local time info !! DONE !! 167\n",
        "Setting the local time info !! DONE !!"
       ]
      },
      {
       "output_type": "stream",
       "stream": "stdout",
       "text": [
        " 168\n",
        "Setting the local time info !! DONE !! 168\n",
        "Setting the local time info !! DONE !!"
       ]
      },
      {
       "output_type": "stream",
       "stream": "stdout",
       "text": [
        " 169\n",
        "Setting the local time info !! DONE !! 169\n",
        "Setting the local time info !! DONE !! 169\n",
        "Setting the local time info !! DONE !! 170\n",
        "Setting the local time info !! DONE !! 170\n",
        "Setting the local time info !! DONE !! 170\n",
        "Setting the local time info !! DONE !! 170\n",
        "Setting the local time info !! DONE !! 171\n",
        "Setting the local time info !! DONE !! 171\n",
        "Setting the local time info !! DONE !!"
       ]
      },
      {
       "output_type": "stream",
       "stream": "stdout",
       "text": [
        " 172\n",
        "Setting the local time info !! DONE !! 172\n",
        "Setting the local time info !! DONE !! 172\n",
        "Setting the local time info !! DONE !! 173\n",
        "Setting the local time info !! DONE !! 173\n",
        "Setting the local time info !! DONE !! 173\n",
        "Setting the local time info !! DONE !! 173\n",
        "Setting the local time info !! DONE !! 173\n",
        "Setting the local time info !! DONE !! 173\n",
        "Setting the local time info !! DONE !!"
       ]
      },
      {
       "output_type": "stream",
       "stream": "stdout",
       "text": [
        " 174\n",
        "Setting the local time info !! DONE !! 174\n",
        "Setting the local time info !! DONE !! 175\n",
        "Setting the local time info !! DONE !! 175\n",
        "Setting the local time info !! DONE !! 175\n",
        "Setting the local time info !! DONE !! 175\n",
        "Setting the local time info !! DONE !!"
       ]
      },
      {
       "output_type": "stream",
       "stream": "stdout",
       "text": [
        " 176\n",
        "Setting the local time info !! DONE !! 176\n",
        "Setting the local time info !! DONE !! 177\n",
        "Setting the local time info !! DONE !! 177\n",
        "Setting the local time info !! DONE !!"
       ]
      },
      {
       "output_type": "stream",
       "stream": "stdout",
       "text": [
        " 178\n",
        "Setting the local time info !! DONE !! 178\n",
        "Setting the local time info !! DONE !! 178\n",
        "Setting the local time info !! DONE !! 178\n",
        "Setting the local time info !! DONE !! 179\n",
        "Setting the local time info !! DONE !! 179\n",
        "Setting the local time info !! DONE !! 179\n",
        "Setting the local time info !! DONE !! 179\n",
        "Setting the local time info !! DONE !! 179\n",
        "Setting the local time info !! DONE !! 179\n",
        "Setting the local time info !! DONE !!"
       ]
      },
      {
       "output_type": "stream",
       "stream": "stdout",
       "text": [
        " 180\n",
        "Setting the local time info !! DONE !!"
       ]
      },
      {
       "output_type": "stream",
       "stream": "stdout",
       "text": [
        " 181\n",
        "Setting the local time info !! DONE !! 181\n",
        "Setting the local time info !! DONE !! 181\n",
        "Setting the local time info !! DONE !! 181\n",
        "Setting the local time info !! DONE !! 181\n",
        "Setting the local time info !! DONE !! 182\n",
        "Setting the local time info !! DONE !! 182\n",
        "Setting the local time info !! DONE !! 182\n",
        "Setting the local time info !! DONE !! 182\n",
        "Setting the local time info !! DONE !! 182\n",
        "Setting the local time info !! DONE !!"
       ]
      },
      {
       "output_type": "stream",
       "stream": "stdout",
       "text": [
        " 183\n",
        "Setting the local time info !! DONE !! 183\n",
        "Setting the local time info !! DONE !! 183\n",
        "Setting the local time info !! DONE !! 184\n",
        "Setting the local time info !! DONE !!"
       ]
      },
      {
       "output_type": "stream",
       "stream": "stdout",
       "text": [
        " 185\n",
        "Setting the local time info !! DONE !! 185\n",
        "Setting the local time info !! DONE !!"
       ]
      },
      {
       "output_type": "stream",
       "stream": "stdout",
       "text": [
        " 186\n",
        "Setting the local time info !! DONE !! 186\n",
        "Setting the local time info !! DONE !! 186\n",
        "Setting the local time info !! DONE !! 187\n",
        "Setting the local time info !! DONE !! 188\n",
        "Setting the local time info !! DONE !! 188\n",
        "Setting the local time info !! DONE !! 189\n",
        "Setting the local time info !! DONE !!"
       ]
      },
      {
       "output_type": "stream",
       "stream": "stdout",
       "text": [
        " 190\n",
        "Setting the local time info !! DONE !! 190\n",
        "Setting the local time info !! DONE !! 191\n",
        "Setting the local time info !! DONE !! 191\n",
        "Setting the local time info !! DONE !! 192\n",
        "Setting the local time info !! DONE !! 192\n",
        "Setting the local time info !! DONE !!"
       ]
      },
      {
       "output_type": "stream",
       "stream": "stdout",
       "text": [
        " 193\n",
        "Setting the local time info !! DONE !! 193\n",
        "Setting the local time info !! DONE !! 193\n",
        "Setting the local time info !! DONE !! 194\n",
        "Setting the local time info !! DONE !! 194\n",
        "Setting the local time info !! DONE !! 194\n",
        "Setting the local time info !! DONE !! 194\n",
        "Setting the local time info !! DONE !! 194\n",
        "Setting the local time info !! DONE !!"
       ]
      },
      {
       "output_type": "stream",
       "stream": "stdout",
       "text": [
        " 195\n",
        "Setting the local time info !! DONE !! 196\n",
        "Setting the local time info !! DONE !! 196\n",
        "Setting the local time info !! DONE !! 196\n",
        "Setting the local time info !! DONE !! 196\n",
        "Setting the local time info !! DONE !!"
       ]
      },
      {
       "output_type": "stream",
       "stream": "stdout",
       "text": [
        " 197\n",
        "Setting the local time info !! DONE !! 198\n",
        "Setting the local time info !! DONE !! 198\n",
        "Setting the local time info !! DONE !! 198\n",
        "Setting the local time info !! DONE !! 198\n",
        "Setting the local time info !! DONE !! 198\n",
        "Setting the local time info !! DONE !!"
       ]
      },
      {
       "output_type": "stream",
       "stream": "stdout",
       "text": [
        " 199\n",
        "Setting the local time info !! DONE !!"
       ]
      },
      {
       "output_type": "stream",
       "stream": "stdout",
       "text": [
        " 200\n",
        "Setting the local time info !! DONE !!"
       ]
      },
      {
       "output_type": "stream",
       "stream": "stdout",
       "text": [
        " 201\n",
        "Setting the local time info !! DONE !! 202\n",
        "Setting the local time info !! DONE !! 202\n",
        "Setting the local time info !! DONE !! 202\n",
        "Setting the local time info !! DONE !!"
       ]
      },
      {
       "output_type": "stream",
       "stream": "stdout",
       "text": [
        " 203\n",
        "Setting the local time info !! DONE !! 203\n",
        "Setting the local time info !! DONE !! 203\n",
        "Setting the local time info !! DONE !! 203\n",
        "Setting the local time info !! DONE !!"
       ]
      },
      {
       "output_type": "stream",
       "stream": "stdout",
       "text": [
        " 204\n",
        "Setting the local time info !! DONE !! 204\n",
        "Setting the local time info !! DONE !! 204\n",
        "Setting the local time info !! DONE !! 204\n",
        "Setting the local time info !! DONE !! 204\n",
        "Setting the local time info !! DONE !! 204\n",
        "Setting the local time info !! DONE !! 205\n",
        "Setting the local time info !! DONE !!"
       ]
      },
      {
       "output_type": "stream",
       "stream": "stdout",
       "text": [
        " 206\n",
        "Setting the local time info !! DONE !! 206\n",
        "Setting the local time info !! DONE !! 206\n",
        "Setting the local time info !! DONE !! 206\n",
        "Setting the local time info !! DONE !! 206\n",
        "Setting the local time info !! DONE !! 207\n",
        "Setting the local time info !! DONE !! 208\n",
        "Setting the local time info !! DONE !! 208\n",
        "Setting the local time info !! DONE !! 208\n",
        "Setting the local time info !! DONE !! 208\n",
        "Setting the local time info !! DONE !! 208\n",
        "Setting the local time info !! DONE !! 208\n",
        "Setting the local time info !! DONE !!"
       ]
      },
      {
       "output_type": "stream",
       "stream": "stdout",
       "text": [
        " 209\n",
        "Setting the local time info !! DONE !! 209\n",
        "Setting the local time info !! DONE !! 209\n",
        "Setting the local time info !! DONE !! 209\n",
        "Setting the local time info !! DONE !! 209\n",
        "Setting the local time info !! DONE !! 209\n",
        "Setting the local time info !! DONE !!"
       ]
      },
      {
       "output_type": "stream",
       "stream": "stdout",
       "text": [
        " 210\n",
        "Setting the local time info !! DONE !! 210\n",
        "Setting the local time info !! DONE !! 210\n",
        "Setting the local time info !! DONE !!"
       ]
      },
      {
       "output_type": "stream",
       "stream": "stdout",
       "text": [
        " 211\n",
        "Setting the local time info !! DONE !! 211\n",
        "Setting the local time info !! DONE !! 212\n",
        "Setting the local time info !! DONE !! 212\n",
        "Setting the local time info !! DONE !! 212\n",
        "Setting the local time info !! DONE !! 212\n",
        "Setting the local time info !! DONE !! 212\n",
        "Setting the local time info !! DONE !! 212\n",
        "Setting the local time info !! DONE !! 212\n",
        "Setting the local time info !! DONE !! 212\n",
        "Setting the local time info !! DONE !! 212\n",
        "Setting the local time info !! DONE !! 212\n",
        "Setting the local time info !! DONE !!"
       ]
      },
      {
       "output_type": "stream",
       "stream": "stdout",
       "text": [
        " 213\n",
        "Setting the local time info !! DONE !! 213\n",
        "Setting the local time info !! DONE !! 214\n",
        "Setting the local time info !! DONE !! 214\n",
        "Setting the local time info !! DONE !! 214\n",
        "Setting the local time info !! DONE !! 215\n",
        "Setting the local time info !! DONE !! 215\n",
        "Setting the local time info !! DONE !! 216\n",
        "Setting the local time info !! DONE !!"
       ]
      },
      {
       "output_type": "stream",
       "stream": "stdout",
       "text": [
        " 217\n",
        "Setting the local time info !! DONE !! 218\n",
        "Setting the local time info !! DONE !! 218\n",
        "Setting the local time info !! DONE !!"
       ]
      },
      {
       "output_type": "stream",
       "stream": "stdout",
       "text": [
        " 219\n",
        "Setting the local time info !! DONE !! 219\n",
        "Setting the local time info !! DONE !! 219\n",
        "Setting the local time info !! DONE !! 219\n",
        "Setting the local time info !! DONE !! 219\n",
        "Setting the local time info !! DONE !! 220\n",
        "Setting the local time info !! DONE !! 221\n",
        "Setting the local time info !! DONE !!"
       ]
      },
      {
       "output_type": "stream",
       "stream": "stdout",
       "text": [
        " 222\n",
        "Setting the local time info !! DONE !! 223\n",
        "Setting the local time info !! DONE !! 223\n",
        "Setting the local time info !! DONE !! 224\n",
        "Setting the local time info !! DONE !! 224\n",
        "Setting the local time info !! DONE !! 224\n",
        "Setting the local time info !! DONE !! 224\n",
        "Setting the local time info !! DONE !! 224\n",
        "Setting the local time info !! DONE !!"
       ]
      },
      {
       "output_type": "stream",
       "stream": "stdout",
       "text": [
        " 225\n",
        "Setting the local time info !! DONE !! 225\n",
        "Setting the local time info !! DONE !! 225\n",
        "Setting the local time info !! DONE !! 225\n",
        "Setting the local time info !! DONE !! 226\n",
        "Setting the local time info !! DONE !! 226\n",
        "Setting the local time info !! DONE !! 226\n",
        "Setting the local time info !! DONE !!"
       ]
      },
      {
       "output_type": "stream",
       "stream": "stdout",
       "text": [
        " 227\n",
        "Setting the local time info !! DONE !! 228\n",
        "Setting the local time info !! DONE !! 228\n",
        "Setting the local time info !! DONE !! 228\n",
        "Setting the local time info !! DONE !! 228\n",
        "Setting the local time info !! DONE !! 228\n",
        "Setting the local time info !! DONE !! 229\n",
        "Setting the local time info !! DONE !!"
       ]
      },
      {
       "output_type": "stream",
       "stream": "stdout",
       "text": [
        " 230\n",
        "Setting the local time info !! DONE !! 230\n",
        "Setting the local time info !! DONE !! 230\n",
        "Setting the local time info !! DONE !! 230\n",
        "Setting the local time info !! DONE !! 231\n",
        "Setting the local time info !! DONE !! 231\n",
        "Setting the local time info !! DONE !! 231\n",
        "Setting the local time info !! DONE !! 231\n",
        "Setting the local time info !! DONE !! 231\n",
        "Setting the local time info !! DONE !! 232\n",
        "Setting the local time info !! DONE !! 232\n",
        "Setting the local time info !! DONE !!"
       ]
      },
      {
       "output_type": "stream",
       "stream": "stdout",
       "text": [
        " 233\n",
        "Setting the local time info !! DONE !! 233\n",
        "Setting the local time info !! DONE !! 233\n",
        "Setting the local time info !! DONE !! 234\n",
        "Setting the local time info !! DONE !! 234\n",
        "Setting the local time info !! DONE !! 234\n",
        "Setting the local time info !! DONE !! 234\n",
        "Setting the local time info !! DONE !! 235\n",
        "Setting the local time info !! DONE !! 235\n",
        "Setting the local time info !! DONE !!"
       ]
      },
      {
       "output_type": "stream",
       "stream": "stdout",
       "text": [
        " 236\n",
        "Setting the local time info !! DONE !! 237\n",
        "Setting the local time info !! DONE !! 238\n",
        "Setting the local time info !! DONE !! 238\n",
        "Setting the local time info !! DONE !! 238\n",
        "Setting the local time info !! DONE !! 238\n",
        "Setting the local time info !! DONE !! 238\n",
        "Setting the local time info !! DONE !! 239\n",
        "Setting the local time info !! DONE !!"
       ]
      },
      {
       "output_type": "stream",
       "stream": "stdout",
       "text": [
        " 240\n",
        "Setting the local time info !! DONE !! 240\n",
        "Setting the local time info !! DONE !! 240\n",
        "Setting the local time info !! DONE !! 240\n",
        "Setting the local time info !! DONE !! 240\n",
        "Setting the local time info !! DONE !! 241\n",
        "Setting the local time info !! DONE !! 241\n",
        "Setting the local time info !! DONE !! 241\n",
        "Setting the local time info !! DONE !! 241\n",
        "Setting the local time info !! DONE !!"
       ]
      },
      {
       "output_type": "stream",
       "stream": "stdout",
       "text": [
        " 242\n",
        "Setting the local time info !! DONE !! 243\n",
        "Setting the local time info !! DONE !! 243\n",
        "Setting the local time info !! DONE !! 243\n",
        "Setting the local time info !! DONE !!"
       ]
      },
      {
       "output_type": "stream",
       "stream": "stdout",
       "text": [
        " 244\n",
        "Setting the local time info !! DONE !! 244\n",
        "Setting the local time info !! DONE !! 245\n",
        "Setting the local time info !! DONE !! 245\n",
        "Setting the local time info !! DONE !!"
       ]
      },
      {
       "output_type": "stream",
       "stream": "stdout",
       "text": [
        " 246\n",
        "Setting the local time info !! DONE !! 246\n",
        "Setting the local time info !! DONE !! 246\n",
        "Setting the local time info !! DONE !! 246\n",
        "Setting the local time info !! DONE !! 247\n",
        "Setting the local time info !! DONE !!"
       ]
      },
      {
       "output_type": "stream",
       "stream": "stdout",
       "text": [
        " 248\n",
        "Setting the local time info !! DONE !! 249\n",
        "Setting the local time info !! DONE !! 249\n",
        "Setting the local time info !! DONE !! 249\n",
        "Setting the local time info !! DONE !! 249\n",
        "Setting the local time info !! DONE !!"
       ]
      },
      {
       "output_type": "stream",
       "stream": "stdout",
       "text": [
        " 250\n",
        "Setting the local time info !! DONE !! 250\n",
        "Setting the local time info !! DONE !! 251\n",
        "Setting the local time info !! DONE !! 251\n",
        "Setting the local time info !! DONE !! 251\n",
        "Setting the local time info !! DONE !! 251\n",
        "Setting the local time info !! DONE !!"
       ]
      },
      {
       "output_type": "stream",
       "stream": "stdout",
       "text": [
        " 252\n",
        "Setting the local time info !! DONE !! 253\n",
        "Setting the local time info !! DONE !!"
       ]
      },
      {
       "output_type": "stream",
       "stream": "stdout",
       "text": [
        " 254\n",
        "Setting the local time info !! DONE !!"
       ]
      },
      {
       "output_type": "stream",
       "stream": "stdout",
       "text": [
        " 255\n",
        "Setting the local time info !! DONE !! 256\n",
        "Setting the local time info !! DONE !!"
       ]
      },
      {
       "output_type": "stream",
       "stream": "stdout",
       "text": [
        " 257\n",
        "Setting the local time info !! DONE !! 257\n",
        "Setting the local time info !! DONE !! 257\n",
        "Setting the local time info !! DONE !! 257\n",
        "Setting the local time info !! DONE !! 257\n",
        "Setting the local time info !! DONE !!"
       ]
      },
      {
       "output_type": "stream",
       "stream": "stdout",
       "text": [
        " 258\n",
        "Setting the local time info !! DONE !! 258\n",
        "Setting the local time info !! DONE !! 258\n",
        "Setting the local time info !! DONE !! 258\n",
        "Setting the local time info !! DONE !! 259\n",
        "Setting the local time info !! DONE !! 259\n",
        "Setting the local time info !! DONE !! 259\n",
        "Setting the local time info !! DONE !! 259\n",
        "Setting the local time info !! DONE !! 259\n",
        "Setting the local time info !! DONE !! 259\n",
        "Setting the local time info !! DONE !! 260\n",
        "Setting the local time info !! DONE !! 260\n",
        "Setting the local time info !! DONE !! 260\n",
        "Setting the local time info !! DONE !! 260\n",
        "Setting the local time info !! DONE !! 260\n",
        "Setting the local time info !! DONE !! 260\n",
        "Setting the local time info !! DONE !! 260\n",
        "Setting the local time info !! DONE !! 260\n",
        "Setting the local time info !! DONE !! 260\n",
        "Setting the local time info !! DONE !! 260\n",
        "Setting the local time info !! DONE !! 260\n",
        "Setting the local time info !! DONE !! 260\n",
        "Setting the local time info !! DONE !! 260\n",
        "Setting the local time info !! DONE !! 260\n",
        "Setting the local time info !! DONE !! 260\n",
        "Setting the local time info !! DONE !! 260\n",
        "Setting the local time info !! DONE !! 260\n",
        "Setting the local time info !! DONE !!"
       ]
      },
      {
       "output_type": "stream",
       "stream": "stdout",
       "text": [
        " 261\n",
        "Setting the local time info !! DONE !! 261\n",
        "Setting the local time info !! DONE !! 261\n",
        "Setting the local time info !! DONE !! 261\n",
        "Setting the local time info !! DONE !! 261\n",
        "Setting the local time info !! DONE !! 261\n",
        "Setting the local time info !! DONE !! 261\n",
        "Setting the local time info !! DONE !! 261\n",
        "Setting the local time info !! DONE !! 261\n",
        "Setting the local time info !! DONE !! 261\n",
        "Setting the local time info !! DONE !! 261\n",
        "Setting the local time info !! DONE !! 261\n",
        "Setting the local time info !! DONE !! 261\n",
        "Setting the local time info !! DONE !! 261\n",
        "Setting the local time info !! DONE !! 262\n",
        "Setting the local time info !! DONE !! 262\n",
        "Setting the local time info !! DONE !!"
       ]
      },
      {
       "output_type": "stream",
       "stream": "stdout",
       "text": [
        " 263\n",
        "Setting the local time info !! DONE !! 263\n",
        "Setting the local time info !! DONE !! 263\n",
        "Setting the local time info !! DONE !!"
       ]
      },
      {
       "output_type": "stream",
       "stream": "stdout",
       "text": [
        " 264\n",
        "Setting the local time info !! DONE !! 265\n",
        "Setting the local time info !! DONE !! 265\n",
        "Setting the local time info !! DONE !! 265\n",
        "Setting the local time info !! DONE !! 265\n",
        "Setting the local time info !! DONE !! 265\n",
        "Setting the local time info !! DONE !! 266\n",
        "Setting the local time info !! DONE !! 266\n",
        "Setting the local time info !! DONE !! 267\n",
        "Setting the local time info !! DONE !!"
       ]
      },
      {
       "output_type": "stream",
       "stream": "stdout",
       "text": [
        " 268\n",
        "Setting the local time info !! DONE !! 268\n",
        "Setting the local time info !! DONE !! 268\n",
        "Setting the local time info !! DONE !! 269\n",
        "Setting the local time info !! DONE !! 270\n",
        "Setting the local time info !! DONE !! 270\n",
        "Setting the local time info !! DONE !! 270\n",
        "Setting the local time info !! DONE !!"
       ]
      },
      {
       "output_type": "stream",
       "stream": "stdout",
       "text": [
        " 271\n",
        "Setting the local time info !! DONE !! 271\n",
        "Setting the local time info !! DONE !! 271\n",
        "Setting the local time info !! DONE !! 272\n",
        "Setting the local time info !! DONE !! 272\n",
        "Setting the local time info !! DONE !! 272\n",
        "Setting the local time info !! DONE !! 273\n",
        "Setting the local time info !! DONE !!"
       ]
      },
      {
       "output_type": "stream",
       "stream": "stdout",
       "text": [
        " 274\n",
        "Setting the local time info !! DONE !! 274\n",
        "Setting the local time info !! DONE !! 274\n",
        "Setting the local time info !! DONE !! 275\n",
        "Setting the local time info !! DONE !! 276\n",
        "Setting the local time info !! DONE !! 276\n",
        "Setting the local time info !! DONE !! 276\n",
        "Setting the local time info !! DONE !! 276\n",
        "Setting the local time info !! DONE !! 276\n",
        "Setting the local time info !! DONE !! 276\n",
        "Setting the local time info !! DONE !! 276\n",
        "Setting the local time info !! DONE !! 276\n",
        "Setting the local time info !! DONE !! 276\n",
        "Setting the local time info !! DONE !!"
       ]
      },
      {
       "output_type": "stream",
       "stream": "stdout",
       "text": [
        " 277\n",
        "Setting the local time info !! DONE !! 277\n",
        "Setting the local time info !! DONE !! 278\n",
        "Setting the local time info !! DONE !! 278\n",
        "Setting the local time info !! DONE !! 278\n",
        "Setting the local time info !! DONE !!"
       ]
      },
      {
       "output_type": "stream",
       "stream": "stdout",
       "text": [
        " 279\n",
        "Setting the local time info !! DONE !! 279\n",
        "Setting the local time info !! DONE !! 280\n",
        "Setting the local time info !! DONE !!"
       ]
      },
      {
       "output_type": "stream",
       "stream": "stdout",
       "text": [
        " 281\n",
        "Setting the local time info !! DONE !! 282\n",
        "Setting the local time info !! DONE !! 282\n",
        "Setting the local time info !! DONE !!"
       ]
      },
      {
       "output_type": "stream",
       "stream": "stdout",
       "text": [
        " 283\n",
        "Setting the local time info !! DONE !! 283\n",
        "Setting the local time info !! DONE !! 283\n",
        "Setting the local time info !! DONE !! 284\n",
        "Setting the local time info !! DONE !!"
       ]
      },
      {
       "output_type": "stream",
       "stream": "stdout",
       "text": [
        " 285\n",
        "Setting the local time info !! DONE !! 285\n",
        "Setting the local time info !! DONE !! 285\n",
        "Setting the local time info !! DONE !! 286\n",
        "Setting the local time info !! DONE !! 287\n",
        "Setting the local time info !! DONE !! 287\n",
        "Setting the local time info !! DONE !! 287\n",
        "Setting the local time info !! DONE !! 287\n",
        "Setting the local time info !! DONE !! 287\n",
        "Setting the local time info !! DONE !!"
       ]
      },
      {
       "output_type": "stream",
       "stream": "stdout",
       "text": [
        " 288\n",
        "Setting the local time info !! DONE !!"
       ]
      },
      {
       "output_type": "stream",
       "stream": "stdout",
       "text": [
        " 289\n",
        "Setting the local time info !! DONE !! 290\n",
        "Setting the local time info !! DONE !! 290\n",
        "Setting the local time info !! DONE !! 290\n",
        "Setting the local time info !! DONE !! 290\n",
        "Setting the local time info !! DONE !! 290\n",
        "Setting the local time info !! DONE !! 290\n",
        "Setting the local time info !! DONE !! 290\n",
        "Setting the local time info !! DONE !! 290\n",
        "Setting the local time info !! DONE !! 290\n",
        "Setting the local time info !! DONE !! 290\n",
        "Setting the local time info !! DONE !!"
       ]
      },
      {
       "output_type": "stream",
       "stream": "stdout",
       "text": [
        " 291\n",
        "Setting the local time info !! DONE !! 291\n",
        "Setting the local time info !! DONE !! 291\n",
        "Setting the local time info !! DONE !! 291\n",
        "Setting the local time info !! DONE !!"
       ]
      },
      {
       "output_type": "stream",
       "stream": "stdout",
       "text": [
        " 292\n",
        "Setting the local time info !! DONE !! 292\n",
        "Setting the local time info !! DONE !! 292\n",
        "Setting the local time info !! DONE !!"
       ]
      },
      {
       "output_type": "stream",
       "stream": "stdout",
       "text": [
        " 293\n",
        "Setting the local time info !! DONE !! 293\n",
        "Setting the local time info !! DONE !! 293\n",
        "Setting the local time info !! DONE !! 293\n",
        "Setting the local time info !! DONE !! 293\n",
        "Setting the local time info !! DONE !! 293\n",
        "Setting the local time info !! DONE !! 293\n",
        "Setting the local time info !! DONE !! 293\n",
        "Setting the local time info !! DONE !! 293\n",
        "Setting the local time info !! DONE !!"
       ]
      },
      {
       "output_type": "stream",
       "stream": "stdout",
       "text": [
        " 294\n",
        "Setting the local time info !! DONE !! 294\n",
        "Setting the local time info !! DONE !! 295\n",
        "Setting the local time info !! DONE !! 295\n",
        "Setting the local time info !! DONE !! 295\n",
        "Setting the local time info !! DONE !!"
       ]
      },
      {
       "output_type": "stream",
       "stream": "stdout",
       "text": [
        " 296\n",
        "Setting the local time info !! DONE !! 296\n",
        "Setting the local time info !! DONE !! 296\n",
        "Setting the local time info !! DONE !!"
       ]
      },
      {
       "output_type": "stream",
       "stream": "stdout",
       "text": [
        " 297\n",
        "Setting the local time info !! DONE !! 297\n",
        "Setting the local time info !! DONE !! 297\n",
        "Setting the local time info !! DONE !! 297\n",
        "Setting the local time info !! DONE !! 297\n",
        "Setting the local time info !! DONE !! 297\n",
        "Setting the local time info !! DONE !! 297\n",
        "Setting the local time info !! DONE !! 297\n",
        "Setting the local time info !! DONE !! 297\n",
        "Setting the local time info !! DONE !! 297\n",
        "Setting the local time info !! DONE !! 297\n",
        "Setting the local time info !! DONE !! 298\n",
        "Setting the local time info !! DONE !! 298\n",
        "Setting the local time info !! DONE !! 298\n",
        "Setting the local time info !! DONE !! 298\n",
        "Setting the local time info !! DONE !!"
       ]
      },
      {
       "output_type": "stream",
       "stream": "stdout",
       "text": [
        " 299\n",
        "Setting the local time info !! DONE !! 299\n",
        "Setting the local time info !! DONE !! 300\n",
        "Setting the local time info !! DONE !! 300\n",
        "Setting the local time info !! DONE !! 300\n",
        "Setting the local time info !! DONE !! 300\n",
        "Setting the local time info !! DONE !!"
       ]
      },
      {
       "output_type": "stream",
       "stream": "stdout",
       "text": [
        " 301\n",
        "Setting the local time info !! DONE !! 302\n",
        "Setting the local time info !! DONE !! 302\n",
        "Setting the local time info !! DONE !! 302\n",
        "Setting the local time info !! DONE !! 302\n",
        "Setting the local time info !! DONE !! 302\n",
        "Setting the local time info !! DONE !!"
       ]
      },
      {
       "output_type": "stream",
       "stream": "stdout",
       "text": [
        " 303\n",
        "Setting the local time info !! DONE !! 304\n",
        "Setting the local time info !! DONE !! 304\n",
        "Setting the local time info !! DONE !! 304\n",
        "Setting the local time info !! DONE !!"
       ]
      },
      {
       "output_type": "stream",
       "stream": "stdout",
       "text": [
        " 305\n",
        "Setting the local time info !! DONE !! 305\n",
        "Setting the local time info !! DONE !! 305\n",
        "Setting the local time info !! DONE !! 305\n",
        "Setting the local time info !! DONE !! 306\n",
        "Setting the local time info !! DONE !! 306\n",
        "Setting the local time info !! DONE !!"
       ]
      },
      {
       "output_type": "stream",
       "stream": "stdout",
       "text": [
        " 307\n",
        "Setting the local time info !! DONE !! 308\n",
        "Setting the local time info !! DONE !!"
       ]
      },
      {
       "output_type": "stream",
       "stream": "stdout",
       "text": [
        " 309\n",
        "Setting the local time info !! DONE !! 309\n",
        "Setting the local time info !! DONE !! 309\n",
        "Setting the local time info !! DONE !! 309\n",
        "Setting the local time info !! DONE !!"
       ]
      },
      {
       "output_type": "stream",
       "stream": "stdout",
       "text": [
        " 310\n",
        "Setting the local time info !! DONE !! 310\n",
        "Setting the local time info !! DONE !! 311\n",
        "Setting the local time info !! DONE !! 311\n",
        "Setting the local time info !! DONE !! 311\n",
        "Setting the local time info !! DONE !! 311\n",
        "Setting the local time info !! DONE !! 311\n",
        "Setting the local time info !! DONE !!"
       ]
      },
      {
       "output_type": "stream",
       "stream": "stdout",
       "text": [
        " 312\n",
        "Setting the local time info !! DONE !! 312\n",
        "Setting the local time info !! DONE !! 312\n",
        "Setting the local time info !! DONE !! 313\n",
        "Setting the local time info !! DONE !! 313\n",
        "Setting the local time info !! DONE !! 313\n",
        "Setting the local time info !! DONE !! 313\n",
        "Setting the local time info !! DONE !! 314\n",
        "Setting the local time info !! DONE !! 314\n",
        "Setting the local time info !! DONE !! 314\n",
        "Setting the local time info !! DONE !! 314\n",
        "Setting the local time info !! DONE !! 314\n",
        "Setting the local time info !! DONE !! 314\n",
        "Setting the local time info !! DONE !! 315\n",
        "Setting the local time info !! DONE !! 315\n",
        "Setting the local time info !! DONE !! 315\n",
        "Setting the local time info !! DONE !! 315\n",
        "Setting the local time info !! DONE !! 315\n",
        "Setting the local time info !! DONE !! 315\n",
        "Setting the local time info !! DONE !! 315\n",
        "Setting the local time info !! DONE !!"
       ]
      },
      {
       "output_type": "stream",
       "stream": "stdout",
       "text": [
        " 316\n",
        "Setting the local time info !! DONE !! 316\n",
        "Setting the local time info !! DONE !! 317\n",
        "Setting the local time info !! DONE !! 317\n",
        "Setting the local time info !! DONE !! 318\n",
        "Setting the local time info !! DONE !! 318\n",
        "Setting the local time info !! DONE !! 318\n",
        "Setting the local time info !! DONE !! 318\n",
        "Setting the local time info !! DONE !!"
       ]
      },
      {
       "output_type": "stream",
       "stream": "stdout",
       "text": [
        " 319\n",
        "Setting the local time info !! DONE !! 320\n",
        "Setting the local time info !! DONE !! 320\n",
        "Setting the local time info !! DONE !! 320\n",
        "Setting the local time info !! DONE !! 321\n",
        "Setting the local time info !! DONE !! 321\n",
        "Setting the local time info !! DONE !! 321\n",
        "Setting the local time info !! DONE !!"
       ]
      },
      {
       "output_type": "stream",
       "stream": "stdout",
       "text": [
        " 322\n",
        "Setting the local time info !! DONE !! 323\n",
        "Setting the local time info !! DONE !! 324\n",
        "Setting the local time info !! DONE !! 325\n",
        "Setting the local time info !! DONE !! 325\n",
        "Setting the local time info !! DONE !! 325\n",
        "Setting the local time info !! DONE !! 325\n",
        "Setting the local time info !! DONE !! 325\n",
        "Setting the local time info !! DONE !!"
       ]
      },
      {
       "output_type": "stream",
       "stream": "stdout",
       "text": [
        " 326\n",
        "Setting the local time info !! DONE !! 326\n",
        "Setting the local time info !! DONE !! 326\n",
        "Setting the local time info !! DONE !! 326\n",
        "Setting the local time info !! DONE !! 326\n",
        "Setting the local time info !! DONE !! 326\n",
        "Setting the local time info !! DONE !! 326\n",
        "Setting the local time info !! DONE !! 326\n",
        "Setting the local time info !! DONE !! 326\n",
        "Setting the local time info !! DONE !!"
       ]
      },
      {
       "output_type": "stream",
       "stream": "stdout",
       "text": [
        " 327\n",
        "Setting the local time info !! DONE !! 328\n",
        "Setting the local time info !! DONE !!"
       ]
      },
      {
       "output_type": "stream",
       "stream": "stdout",
       "text": [
        " 329\n",
        "Setting the local time info !! DONE !! 329\n",
        "Setting the local time info !! DONE !! 329\n",
        "Setting the local time info !! DONE !! 329\n",
        "Setting the local time info !! DONE !! 329\n",
        "Setting the local time info !! DONE !! 330\n",
        "Setting the local time info !! DONE !! 330\n",
        "Setting the local time info !! DONE !! 330\n",
        "Setting the local time info !! DONE !! 330\n",
        "Setting the local time info !! DONE !! 330\n",
        "Setting the local time info !! DONE !! 330\n",
        "Setting the local time info !! DONE !! 330\n",
        "Setting the local time info !! DONE !! 330\n",
        "Setting the local time info !! DONE !! 331\n",
        "Setting the local time info !! DONE !! 331\n",
        "Setting the local time info !! DONE !!"
       ]
      },
      {
       "output_type": "stream",
       "stream": "stdout",
       "text": [
        " 332\n",
        "Setting the local time info !! DONE !! 333\n",
        "Setting the local time info !! DONE !! 333\n",
        "Setting the local time info !! DONE !! 333\n",
        "Setting the local time info !! DONE !! 334\n",
        "Setting the local time info !! DONE !! 335\n",
        "Setting the local time info !! DONE !! 335\n",
        "Setting the local time info !! DONE !! 335\n",
        "Setting the local time info !! DONE !! 335\n",
        "Setting the local time info !! DONE !!"
       ]
      },
      {
       "output_type": "stream",
       "stream": "stdout",
       "text": [
        " 336\n",
        "Setting the local time info !! DONE !! 336\n",
        "Setting the local time info !! DONE !! 336\n",
        "Setting the local time info !! DONE !! 336\n",
        "Setting the local time info !! DONE !! 337\n",
        "Setting the local time info !! DONE !!"
       ]
      },
      {
       "output_type": "stream",
       "stream": "stdout",
       "text": [
        " 338\n",
        "Setting the local time info !! DONE !! 339\n",
        "Setting the local time info !! DONE !! 339\n",
        "Setting the local time info !! DONE !! 339\n",
        "Setting the local time info !! DONE !!"
       ]
      },
      {
       "output_type": "stream",
       "stream": "stdout",
       "text": [
        " 340\n",
        "Setting the local time info !! DONE !! 340\n",
        "Setting the local time info !! DONE !! 341\n",
        "Setting the local time info !! DONE !! 341\n",
        "Setting the local time info !! DONE !! 341\n",
        "Setting the local time info !! DONE !! 341\n",
        "Setting the local time info !! DONE !! 342\n",
        "Setting the local time info !! DONE !! 342\n",
        "Setting the local time info !! DONE !!"
       ]
      },
      {
       "output_type": "stream",
       "stream": "stdout",
       "text": [
        " 343\n",
        "Setting the local time info !! DONE !! 344\n",
        "Setting the local time info !! DONE !! 344\n",
        "Setting the local time info !! DONE !! 344\n",
        "Setting the local time info !! DONE !! 344\n",
        "Setting the local time info !! DONE !! 344\n",
        "Setting the local time info !! DONE !! 344\n",
        "Setting the local time info !! DONE !! 344\n",
        "Setting the local time info !! DONE !! 344\n",
        "Setting the local time info !! DONE !! 344\n",
        "Setting the local time info !! DONE !! 344\n",
        "Setting the local time info !! DONE !! 344\n",
        "Setting the local time info !! DONE !! 344\n",
        "Setting the local time info !! DONE !! 344\n",
        "Setting the local time info !! DONE !! 344\n",
        "Setting the local time info !! DONE !!"
       ]
      },
      {
       "output_type": "stream",
       "stream": "stdout",
       "text": [
        " 345\n",
        "Setting the local time info !! DONE !! 346\n",
        "Setting the local time info !! DONE !! 346\n",
        "Setting the local time info !! DONE !!"
       ]
      },
      {
       "output_type": "stream",
       "stream": "stdout",
       "text": [
        " 347\n",
        "Setting the local time info !! DONE !! 347\n",
        "Setting the local time info !! DONE !! 347\n",
        "Setting the local time info !! DONE !! 347\n",
        "Setting the local time info !! DONE !! 348\n",
        "Setting the local time info !! DONE !! 348\n",
        "Setting the local time info !! DONE !! 348\n",
        "Setting the local time info !! DONE !! 348\n",
        "Setting the local time info !! DONE !! 349\n",
        "Setting the local time info !! DONE !! 349\n",
        "Setting the local time info !! DONE !! 349\n",
        "Setting the local time info !! DONE !! 349\n",
        "Setting the local time info !! DONE !!"
       ]
      },
      {
       "output_type": "stream",
       "stream": "stdout",
       "text": [
        " 350\n",
        "Setting the local time info !! DONE !! 350\n",
        "Setting the local time info !! DONE !! 350\n",
        "Setting the local time info !! DONE !! 350\n",
        "Setting the local time info !! DONE !! 350\n",
        "Setting the local time info !! DONE !! 351\n",
        "Setting the local time info !! DONE !! 351\n",
        "Setting the local time info !! DONE !! 351\n",
        "Setting the local time info !! DONE !! 351\n",
        "Setting the local time info !! DONE !! 351\n",
        "Setting the local time info !! DONE !! 352\n",
        "Setting the local time info !! DONE !! 353\n",
        "Setting the local time info !! DONE !! 353\n",
        "Setting the local time info !! DONE !!"
       ]
      },
      {
       "output_type": "stream",
       "stream": "stdout",
       "text": [
        " 354\n",
        "Setting the local time info !! DONE !! 354\n",
        "Setting the local time info !! DONE !! 355\n",
        "Setting the local time info !! DONE !! 355\n",
        "Setting the local time info !! DONE !! 356\n",
        "Setting the local time info !! DONE !! 356\n",
        "Setting the local time info !! DONE !! 357\n",
        "Setting the local time info !! DONE !! 357\n",
        "Setting the local time info !! DONE !! 357\n",
        "Setting the local time info !! DONE !!"
       ]
      },
      {
       "output_type": "stream",
       "stream": "stdout",
       "text": [
        " 358\n",
        "Setting the local time info !! DONE !!"
       ]
      },
      {
       "output_type": "stream",
       "stream": "stdout",
       "text": [
        " 359\n",
        "Setting the local time info !! DONE !! 359\n",
        "Setting the local time info !! DONE !! 360\n",
        "Setting the local time info !! DONE !! 360\n",
        "Setting the local time info !! DONE !! 360\n",
        "Setting the local time info !! DONE !! 360\n",
        "Setting the local time info !! DONE !! 360\n",
        "Setting the local time info !! DONE !! 360\n",
        "Setting the local time info !! DONE !! 360\n",
        "Setting the local time info !! DONE !! 360\n",
        "Setting the local time info !! DONE !! 360\n",
        "Setting the local time info !! DONE !! 360\n",
        "Setting the local time info !! DONE !! 361\n",
        "Setting the local time info !! DONE !!"
       ]
      },
      {
       "output_type": "stream",
       "stream": "stdout",
       "text": [
        " 362\n",
        "Setting the local time info !! DONE !! 363\n",
        "Setting the local time info !! DONE !! 363\n",
        "Setting the local time info !! DONE !! 363\n",
        "Setting the local time info !! DONE !! 364\n",
        "Setting the local time info !! DONE !!"
       ]
      },
      {
       "output_type": "stream",
       "stream": "stdout",
       "text": [
        " 365\n",
        "Setting the local time info !! DONE !! 366\n",
        "Setting the local time info !! DONE !! 366\n",
        "Setting the local time info !! DONE !! 366\n",
        "Setting the local time info !! DONE !! 366\n",
        "Setting the local time info !! DONE !! 366\n",
        "Setting the local time info !! DONE !! 366\n",
        "Setting the local time info !! DONE !! 366\n",
        "Setting the local time info !! DONE !! 366\n",
        "Setting the local time info !! DONE !!"
       ]
      },
      {
       "output_type": "stream",
       "stream": "stdout",
       "text": [
        " 367\n",
        "Setting the local time info !! DONE !! 367\n",
        "Setting the local time info !! DONE !! 367\n",
        "Setting the local time info !! DONE !! 368\n",
        "Setting the local time info !! DONE !!"
       ]
      },
      {
       "output_type": "stream",
       "stream": "stdout",
       "text": [
        " 369\n",
        "Setting the local time info !! DONE !! 369\n",
        "Setting the local time info !! DONE !!"
       ]
      },
      {
       "output_type": "stream",
       "stream": "stdout",
       "text": [
        " 370\n",
        "Setting the local time info !! DONE !! 370\n",
        "Setting the local time info !! DONE !! 370\n",
        "Setting the local time info !! DONE !! 370\n",
        "Setting the local time info !! DONE !! 370\n",
        "Setting the local time info !! DONE !! 371\n",
        "Setting the local time info !! DONE !! 371\n",
        "Setting the local time info !! DONE !! 371\n",
        "Setting the local time info !! DONE !! 371\n",
        "Setting the local time info !! DONE !! 371\n",
        "Setting the local time info !! DONE !! 371\n",
        "Setting the local time info !! DONE !! 371\n",
        "Setting the local time info !! DONE !! 371\n",
        "Setting the local time info !! DONE !! 372\n",
        "Setting the local time info !! DONE !! 373\n",
        "Setting the local time info !! DONE !! 373\n",
        "Setting the local time info !! DONE !! 373\n",
        "Setting the local time info !! DONE !! 373\n",
        "Setting the local time info !! DONE !! 373\n",
        "Setting the local time info !! DONE !! 373\n",
        "Setting the local time info !! DONE !! 373\n",
        "Setting the local time info !! DONE !!"
       ]
      },
      {
       "output_type": "stream",
       "stream": "stdout",
       "text": [
        " 374\n",
        "Setting the local time info !! DONE !! 374\n",
        "Setting the local time info !! DONE !!"
       ]
      },
      {
       "output_type": "stream",
       "stream": "stdout",
       "text": [
        " 375\n",
        "Setting the local time info !! DONE !! 376\n",
        "Setting the local time info !! DONE !! 376\n",
        "Setting the local time info !! DONE !!"
       ]
      },
      {
       "output_type": "stream",
       "stream": "stdout",
       "text": [
        " 377\n",
        "Setting the local time info !! DONE !! 378\n",
        "Setting the local time info !! DONE !! 378\n",
        "Setting the local time info !! DONE !! 378\n",
        "Setting the local time info !! DONE !! 378\n",
        "Setting the local time info !! DONE !!"
       ]
      },
      {
       "output_type": "stream",
       "stream": "stdout",
       "text": [
        " 379\n",
        "Setting the local time info !! DONE !! 379\n",
        "Setting the local time info !! DONE !!"
       ]
      },
      {
       "output_type": "stream",
       "stream": "stdout",
       "text": [
        " 380\n",
        "Setting the local time info !! DONE !! 381\n",
        "Setting the local time info !! DONE !! 381\n",
        "Setting the local time info !! DONE !! 381\n",
        "Setting the local time info !! DONE !!"
       ]
      },
      {
       "output_type": "stream",
       "stream": "stdout",
       "text": [
        " 382\n",
        "Setting the local time info !! DONE !! 382\n",
        "Setting the local time info !! DONE !! 383\n",
        "Setting the local time info !! DONE !! 383\n",
        "Setting the local time info !! DONE !! 383\n",
        "Setting the local time info !! DONE !! 383\n",
        "Setting the local time info !! DONE !! 383\n",
        "Setting the local time info !! DONE !! 383\n",
        "Setting the local time info !! DONE !!"
       ]
      },
      {
       "output_type": "stream",
       "stream": "stdout",
       "text": [
        " 384\n",
        "Setting the local time info !! DONE !! 384\n",
        "Setting the local time info !! DONE !! 385\n",
        "Setting the local time info !! DONE !! 385\n",
        "Setting the local time info !! DONE !! 385\n",
        "Setting the local time info !! DONE !! 385\n",
        "Setting the local time info !! DONE !! 385\n",
        "Setting the local time info !! DONE !! 385\n",
        "Setting the local time info !! DONE !! 386\n",
        "Setting the local time info !! DONE !! 386\n",
        "Setting the local time info !! DONE !! 386\n",
        "Setting the local time info !! DONE !! 386\n",
        "Setting the local time info !! DONE !! 386\n",
        "Setting the local time info !! DONE !! 386\n",
        "Setting the local time info !! DONE !! 387\n",
        "Setting the local time info !! DONE !!"
       ]
      },
      {
       "output_type": "stream",
       "stream": "stdout",
       "text": [
        " 388\n",
        "Setting the local time info !! DONE !! 388\n",
        "Setting the local time info !! DONE !! 388\n",
        "Setting the local time info !! DONE !! 389\n",
        "Setting the local time info !! DONE !! 389\n",
        "Setting the local time info !! DONE !! 389\n",
        "Setting the local time info !! DONE !! 390\n",
        "Setting the local time info !! DONE !! 390\n",
        "Setting the local time info !! DONE !! 390\n",
        "Setting the local time info !! DONE !! 390\n",
        "Setting the local time info !! DONE !! 391\n",
        "Setting the local time info !! DONE !! 391\n",
        "Setting the local time info !! DONE !! 391\n",
        "Setting the local time info !! DONE !! 391\n",
        "Setting the local time info !! DONE !! 391\n",
        "Setting the local time info !! DONE !! 391\n",
        "Setting the local time info !! DONE !! 391\n",
        "Setting the local time info !! DONE !! 391\n",
        "Setting the local time info !! DONE !!"
       ]
      },
      {
       "output_type": "stream",
       "stream": "stdout",
       "text": [
        " 392\n",
        "Setting the local time info !! DONE !! 392\n",
        "Setting the local time info !! DONE !! 393\n",
        "Setting the local time info !! DONE !! 393\n",
        "Setting the local time info !! DONE !! 393\n",
        "Setting the local time info !! DONE !! 393\n",
        "Setting the local time info !! DONE !! 393\n",
        "Setting the local time info !! DONE !! 393\n",
        "Setting the local time info !! DONE !! 393\n",
        "Setting the local time info !! DONE !! 393\n",
        "Setting the local time info !! DONE !! 393\n",
        "Setting the local time info !! DONE !! 393\n",
        "Setting the local time info !! DONE !! 393\n",
        "Setting the local time info !! DONE !! 393\n",
        "Setting the local time info !! DONE !! 394\n",
        "Setting the local time info !! DONE !! 394\n",
        "Setting the local time info !! DONE !! 394\n",
        "Setting the local time info !! DONE !! 394\n",
        "Setting the local time info !! DONE !! 394\n",
        "Setting the local time info !! DONE !! 394\n",
        "Setting the local time info !! DONE !! 394\n",
        "Setting the local time info !! DONE !! 394\n",
        "Setting the local time info !! DONE !! 394\n",
        "Setting the local time info !! DONE !!"
       ]
      },
      {
       "output_type": "stream",
       "stream": "stdout",
       "text": [
        " 395\n",
        "Setting the local time info !! DONE !! 395\n",
        "Setting the local time info !! DONE !! 395\n",
        "Setting the local time info !! DONE !! 395\n",
        "Setting the local time info !! DONE !! 395\n",
        "Setting the local time info !! DONE !! 395\n",
        "Setting the local time info !! DONE !! 396\n",
        "Setting the local time info !! DONE !! 396\n",
        "Setting the local time info !! DONE !! 396\n",
        "Setting the local time info !! DONE !! 396\n",
        "Setting the local time info !! DONE !! 397\n",
        "Setting the local time info !! DONE !! 397\n",
        "Setting the local time info !! DONE !! 397\n",
        "Setting the local time info !! DONE !! 397\n",
        "Setting the local time info !! DONE !!"
       ]
      },
      {
       "output_type": "stream",
       "stream": "stdout",
       "text": [
        " 398\n",
        "Setting the local time info !! DONE !! 399\n",
        "Setting the local time info !! DONE !! 399\n",
        "Setting the local time info !! DONE !!"
       ]
      },
      {
       "output_type": "stream",
       "stream": "stdout",
       "text": [
        " 400\n",
        "Setting the local time info !! DONE !! 400\n",
        "Setting the local time info !! DONE !! 401\n",
        "Setting the local time info !! DONE !! 401\n",
        "Setting the local time info !! DONE !! 401\n",
        "Setting the local time info !! DONE !! 401\n",
        "Setting the local time info !! DONE !! 401\n",
        "Setting the local time info !! DONE !!"
       ]
      },
      {
       "output_type": "stream",
       "stream": "stdout",
       "text": [
        " 402\n",
        "Setting the local time info !! DONE !! 402\n",
        "Setting the local time info !! DONE !! 402\n",
        "Setting the local time info !! DONE !! 403\n",
        "Setting the local time info !! DONE !! 403\n",
        "Setting the local time info !! DONE !!"
       ]
      },
      {
       "output_type": "stream",
       "stream": "stdout",
       "text": [
        " 404\n",
        "Setting the local time info !! DONE !!"
       ]
      },
      {
       "output_type": "stream",
       "stream": "stdout",
       "text": [
        " 405\n",
        "Setting the local time info !! DONE !! 405\n",
        "Setting the local time info !! DONE !! 405\n",
        "Setting the local time info !! DONE !! 405\n",
        "Setting the local time info !! DONE !! 406\n",
        "Setting the local time info !! DONE !! 406\n",
        "Setting the local time info !! DONE !! 406\n",
        "Setting the local time info !! DONE !! 406\n",
        "Setting the local time info !! DONE !! 406\n",
        "Setting the local time info !! DONE !!"
       ]
      },
      {
       "output_type": "stream",
       "stream": "stdout",
       "text": [
        " 407\n",
        "Setting the local time info !! DONE !! 408\n",
        "Setting the local time info !! DONE !! 408\n",
        "Setting the local time info !! DONE !!"
       ]
      },
      {
       "output_type": "stream",
       "stream": "stdout",
       "text": [
        " 409\n",
        "Setting the local time info !! DONE !! 410\n",
        "Setting the local time info !! DONE !! 410\n",
        "Setting the local time info !! DONE !! 410\n",
        "Setting the local time info !! DONE !! 410\n",
        "Setting the local time info !! DONE !! 410\n",
        "Setting the local time info !! DONE !! 410\n",
        "Setting the local time info !! DONE !! 410\n",
        "Setting the local time info !! DONE !! 410\n",
        "Setting the local time info !! DONE !! 410\n",
        "Setting the local time info !! DONE !! 410\n",
        "Setting the local time info !! DONE !! 410\n",
        "Setting the local time info !! DONE !! 410\n",
        "Setting the local time info !! DONE !! 411\n",
        "Setting the local time info !! DONE !! 412\n",
        "Setting the local time info !! DONE !! 412\n",
        "Setting the local time info !! DONE !! 412\n",
        "Setting the local time info !! DONE !! 412\n",
        "Setting the local time info !! DONE !! 412\n",
        "Setting the local time info !! DONE !! 412\n",
        "Setting the local time info !! DONE !! 413\n",
        "Setting the local time info !! DONE !! 414\n",
        "Setting the local time info !! DONE !! 414\n",
        "Setting the local time info !! DONE !! 414\n",
        "Setting the local time info !! DONE !! 414\n",
        "Setting the local time info !! DONE !! 414\n",
        "Setting the local time info !! DONE !! 414\n",
        "Setting the local time info !! DONE !! 414\n",
        "Setting the local time info !! DONE !! 415\n",
        "Setting the local time info !! DONE !! 415\n",
        "Setting the local time info !! DONE !!"
       ]
      },
      {
       "output_type": "stream",
       "stream": "stdout",
       "text": [
        " 416\n",
        "Setting the local time info !! DONE !! 417\n",
        "Setting the local time info !! DONE !! 417\n",
        "Setting the local time info !! DONE !! 417\n",
        "Setting the local time info !! DONE !! 417\n",
        "Setting the local time info !! DONE !! 417\n",
        "Setting the local time info !! DONE !!"
       ]
      },
      {
       "output_type": "stream",
       "stream": "stdout",
       "text": [
        " 418\n",
        "Setting the local time info !! DONE !! 419\n",
        "Setting the local time info !! DONE !! 419\n",
        "Setting the local time info !! DONE !! 419\n",
        "Setting the local time info !! DONE !! 419\n",
        "Setting the local time info !! DONE !! 419\n",
        "Setting the local time info !! DONE !! 419\n",
        "Setting the local time info !! DONE !! 419\n",
        "Setting the local time info !! DONE !! 420\n",
        "Setting the local time info !! DONE !! 420\n",
        "Setting the local time info !! DONE !!"
       ]
      },
      {
       "output_type": "stream",
       "stream": "stdout",
       "text": [
        " 421\n",
        "Setting the local time info !! DONE !! 422\n",
        "Setting the local time info !! DONE !! 422\n",
        "Setting the local time info !! DONE !!"
       ]
      },
      {
       "output_type": "stream",
       "stream": "stdout",
       "text": [
        " 423\n",
        "Setting the local time info !! DONE !! 423\n",
        "Setting the local time info !! DONE !! 423\n",
        "Setting the local time info !! DONE !! 423\n",
        "Setting the local time info !! DONE !! 423\n",
        "Setting the local time info !! DONE !! 423\n",
        "Setting the local time info !! DONE !! 423\n",
        "Setting the local time info !! DONE !! 424\n",
        "Setting the local time info !! DONE !!"
       ]
      },
      {
       "output_type": "stream",
       "stream": "stdout",
       "text": [
        " 425\n",
        "Setting the local time info !! DONE !! 426\n",
        "Setting the local time info !! DONE !! 426\n",
        "Setting the local time info !! DONE !! 426\n",
        "Setting the local time info !! DONE !! 426\n",
        "Setting the local time info !! DONE !! 427\n",
        "Setting the local time info !! DONE !! 428\n",
        "Setting the local time info !! DONE !! 428\n",
        "Setting the local time info !! DONE !! 428\n",
        "Setting the local time info !! DONE !!"
       ]
      },
      {
       "output_type": "stream",
       "stream": "stdout",
       "text": [
        " 429\n",
        "Setting the local time info !! DONE !! 430\n",
        "Setting the local time info !! DONE !! 430\n",
        "Setting the local time info !! DONE !! 430\n",
        "Setting the local time info !! DONE !! 431\n",
        "Setting the local time info !! DONE !! 431\n",
        "Setting the local time info !! DONE !! 431\n",
        "Setting the local time info !! DONE !! "
       ]
      },
      {
       "output_type": "stream",
       "stream": "stdout",
       "text": [
        "431\n",
        "Setting the local time info !! DONE !! 431\n",
        "Setting the local time info !! DONE !! 431\n",
        "Setting the local time info !! DONE !! 431\n",
        "Setting the local time info !! DONE !! 432\n",
        "Setting the local time info !! DONE !! 432\n",
        "Setting the local time info !! DONE !! 432\n",
        "Setting the local time info !! DONE !! 432\n",
        "Setting the local time info !! DONE !! 432\n",
        "Setting the local time info !! DONE !! 432\n",
        "Setting the local time info !! DONE !! 432\n",
        "Setting the local time info !! DONE !! 432\n",
        "Setting the local time info !! DONE !!"
       ]
      },
      {
       "output_type": "stream",
       "stream": "stdout",
       "text": [
        " 433\n",
        "Setting the local time info !! DONE !! 433\n",
        "Setting the local time info !! DONE !! 434\n",
        "Setting the local time info !! DONE !! 434\n",
        "Setting the local time info !! DONE !! 434\n",
        "Setting the local time info !! DONE !! 434\n",
        "Setting the local time info !! DONE !! 434\n",
        "Setting the local time info !! DONE !! 434\n",
        "Setting the local time info !! DONE !! 435\n",
        "Setting the local time info !! DONE !! 435\n",
        "Setting the local time info !! DONE !! 435\n",
        "Setting the local time info !! DONE !! 435\n",
        "Setting the local time info !! DONE !!"
       ]
      },
      {
       "output_type": "stream",
       "stream": "stdout",
       "text": [
        " 436\n",
        "Setting the local time info !! DONE !! 436\n",
        "Setting the local time info !! DONE !! 436\n",
        "Setting the local time info !! DONE !! 436\n",
        "Setting the local time info !! DONE !! 437\n",
        "Setting the local time info !! DONE !! 437\n",
        "Setting the local time info !! DONE !! 437\n",
        "Setting the local time info !! DONE !! 438\n",
        "Setting the local time info !! DONE !! 438\n",
        "Setting the local time info !! DONE !! 438\n",
        "Setting the local time info !! DONE !! 438\n",
        "Setting the local time info !! DONE !! 438\n",
        "Setting the local time info !! DONE !!"
       ]
      },
      {
       "output_type": "stream",
       "stream": "stdout",
       "text": [
        " 439\n",
        "Setting the local time info !! DONE !! 439\n",
        "Setting the local time info !! DONE !! 439\n",
        "Setting the local time info !! DONE !! 439\n",
        "Setting the local time info !! DONE !! 439\n",
        "Setting the local time info !! DONE !! 439\n",
        "Setting the local time info !! DONE !! 439\n",
        "Setting the local time info !! DONE !! 439\n",
        "Setting the local time info !! DONE !! 440\n",
        "Setting the local time info !! DONE !! 440\n",
        "Setting the local time info !! DONE !!"
       ]
      },
      {
       "output_type": "stream",
       "stream": "stdout",
       "text": [
        " 441\n",
        "Setting the local time info !! DONE !!"
       ]
      },
      {
       "output_type": "stream",
       "stream": "stdout",
       "text": [
        " 442\n",
        "Setting the local time info !! DONE !! 442\n",
        "Setting the local time info !! DONE !! 442\n",
        "Setting the local time info !! DONE !! 442\n",
        "Setting the local time info !! DONE !!"
       ]
      },
      {
       "output_type": "stream",
       "stream": "stdout",
       "text": [
        " 443\n",
        "Setting the local time info !! DONE !! 444\n",
        "Setting the local time info !! DONE !!"
       ]
      },
      {
       "output_type": "stream",
       "stream": "stdout",
       "text": [
        " 445\n",
        "Setting the local time info !! DONE !! 445\n",
        "Setting the local time info !! DONE !! 445\n",
        "Setting the local time info !! DONE !! 445\n",
        "Setting the local time info !! DONE !! 445\n",
        "Setting the local time info !! DONE !! 445\n",
        "Setting the local time info !! DONE !! 445\n",
        "Setting the local time info !! DONE !! 445\n",
        "Setting the local time info !! DONE !! 445\n",
        "Setting the local time info !! DONE !! 445\n",
        "Setting the local time info !! DONE !! 445\n",
        "Setting the local time info !! DONE !! 445\n",
        "Setting the local time info !! DONE !! 445\n",
        "Setting the local time info !! DONE !! 445\n",
        "Setting the local time info !! DONE !! 445\n",
        "Setting the local time info !! DONE !! 445\n",
        "Setting the local time info !! DONE !! 445\n",
        "Setting the local time info !! DONE !! 445\n",
        "Setting the local time info !! DONE !! 445\n",
        "Setting the local time info !! DONE !! 445\n",
        "Setting the local time info !! DONE !! 445\n",
        "Setting the local time info !! DONE !! 445\n",
        "Setting the local time info !! DONE !! 445\n",
        "Setting the local time info !! DONE !! 445\n",
        "Setting the local time info !! DONE !! 446\n",
        "Setting the local time info !! DONE !! 447\n",
        "Setting the local time info !! DONE !! 447\n",
        "Setting the local time info !! DONE !! 447\n",
        "Setting the local time info !! DONE !! 447\n",
        "Setting the local time info !! DONE !! 447\n",
        "Setting the local time info !! DONE !! 447\n",
        "Setting the local time info !! DONE !! 447\n",
        "Setting the local time info !! DONE !!"
       ]
      },
      {
       "output_type": "stream",
       "stream": "stdout",
       "text": [
        " 448\n",
        "Setting the local time info !! DONE !! 449\n",
        "Setting the local time info !! DONE !! 449\n",
        "Setting the local time info !! DONE !! 450\n",
        "Setting the local time info !! DONE !!"
       ]
      },
      {
       "output_type": "stream",
       "stream": "stdout",
       "text": [
        " 451\n",
        "Setting the local time info !! DONE !! 451\n",
        "Setting the local time info !! DONE !! 452\n",
        "Setting the local time info !! DONE !! 452\n",
        "Setting the local time info !! DONE !! 452\n",
        "Setting the local time info !! DONE !! 452\n",
        "Setting the local time info !! DONE !!"
       ]
      },
      {
       "output_type": "stream",
       "stream": "stdout",
       "text": [
        " 453\n",
        "Setting the local time info !! DONE !! 453\n",
        "Setting the local time info !! DONE !! 454\n",
        "Setting the local time info !! DONE !! 454\n",
        "Setting the local time info !! DONE !! 455\n",
        "Setting the local time info !! DONE !! 455\n",
        "Setting the local time info !! DONE !!"
       ]
      },
      {
       "output_type": "stream",
       "stream": "stdout",
       "text": [
        " 456\n",
        "Setting the local time info !! DONE !! 456\n",
        "Setting the local time info !! DONE !! 457\n",
        "Setting the local time info !! DONE !! 457\n",
        "Setting the local time info !! DONE !! 457\n",
        "Setting the local time info !! DONE !! 457\n",
        "Setting the local time info !! DONE !! 457\n",
        "Setting the local time info !! DONE !! 457\n",
        "Setting the local time info !! DONE !! 457\n",
        "Setting the local time info !! DONE !! 457\n",
        "Setting the local time info !! DONE !! 457\n",
        "Setting the local time info !! DONE !! 458\n",
        "Setting the local time info !! DONE !! 459\n",
        "Setting the local time info !! DONE !!"
       ]
      },
      {
       "output_type": "stream",
       "stream": "stdout",
       "text": [
        " 459\n",
        "Setting the local time info !! DONE !! 459\n",
        "Setting the local time info !! DONE !! 459\n",
        "Setting the local time info !! DONE !! 459\n",
        "Setting the local time info !! DONE !! 460\n",
        "Setting the local time info !! DONE !! 460\n",
        "Setting the local time info !! DONE !! 460\n",
        "Setting the local time info !! DONE !! 460\n",
        "Setting the local time info !! DONE !! 460\n",
        "Setting the local time info !! DONE !! 460\n",
        "Setting the local time info !! DONE !! 460\n",
        "Setting the local time info !! DONE !! 461\n",
        "Setting the local time info !! DONE !! 462\n",
        "Setting the local time info !! DONE !!"
       ]
      },
      {
       "output_type": "stream",
       "stream": "stdout",
       "text": [
        " 463\n",
        "Setting the local time info !! DONE !! 463\n",
        "Setting the local time info !! DONE !! 463\n",
        "Setting the local time info !! DONE !! 463\n",
        "Setting the local time info !! DONE !! 463\n",
        "Setting the local time info !! DONE !! 463\n",
        "Setting the local time info !! DONE !! 463\n",
        "Setting the local time info !! DONE !! 463\n",
        "Setting the local time info !! DONE !! 463\n",
        "Setting the local time info !! DONE !! 464\n",
        "Setting the local time info !! DONE !!"
       ]
      },
      {
       "output_type": "stream",
       "stream": "stdout",
       "text": [
        " 465\n",
        "Setting the local time info !! DONE !! 466\n",
        "Setting the local time info !! DONE !! 466\n",
        "Setting the local time info !! DONE !! 466\n",
        "Setting the local time info !! DONE !! 466\n",
        "Setting the local time info !! DONE !! 467\n",
        "Setting the local time info !! DONE !!"
       ]
      },
      {
       "output_type": "stream",
       "stream": "stdout",
       "text": [
        " 468\n",
        "Setting the local time info !! DONE !! 468\n",
        "Setting the local time info !! DONE !! 468\n",
        "Setting the local time info !! DONE !! 469\n",
        "Setting the local time info !! DONE !! 470\n",
        "Setting the local time info !! DONE !! 470\n",
        "Setting the local time info !! DONE !! 470\n",
        "Setting the local time info !! DONE !! 470\n",
        "Setting the local time info !! DONE !!"
       ]
      },
      {
       "output_type": "stream",
       "stream": "stdout",
       "text": [
        " 471\n",
        "Setting the local time info !! DONE !! 472\n",
        "Setting the local time info !! DONE !! 473\n",
        "Setting the local time info !! DONE !! 473\n",
        "Setting the local time info !! DONE !! 473\n",
        "Setting the local time info !! DONE !! 473\n",
        "Setting the local time info !! DONE !!"
       ]
      },
      {
       "output_type": "stream",
       "stream": "stdout",
       "text": [
        " 474\n",
        "Setting the local time info !! DONE !! 475\n",
        "Setting the local time info !! DONE !! 475\n",
        "Setting the local time info !! DONE !! 475\n",
        "Setting the local time info !! DONE !! 475\n",
        "Setting the local time info !! DONE !!"
       ]
      },
      {
       "output_type": "stream",
       "stream": "stdout",
       "text": [
        " 476\n",
        "Setting the local time info !! DONE !! 476\n",
        "Setting the local time info !! DONE !! 476\n",
        "Setting the local time info !! DONE !! 476\n",
        "Setting the local time info !! DONE !! 476\n",
        "Setting the local time info !! DONE !! 477\n",
        "Setting the local time info !! DONE !!"
       ]
      },
      {
       "output_type": "stream",
       "stream": "stdout",
       "text": [
        " 478\n",
        "Setting the local time info !! DONE !! 478\n",
        "Setting the local time info !! DONE !! 479\n",
        "Setting the local time info !! DONE !! 479\n",
        "Setting the local time info !! DONE !! 479\n",
        "Setting the local time info !! DONE !! 479\n",
        "Setting the local time info !! DONE !! 479\n",
        "Setting the local time info !! DONE !! 480\n",
        "Setting the local time info !! DONE !! 480\n",
        "Setting the local time info !! DONE !! 480\n",
        "Setting the local time info !! DONE !! 480\n",
        "Setting the local time info !! DONE !!"
       ]
      },
      {
       "output_type": "stream",
       "stream": "stdout",
       "text": [
        " 481\n",
        "Setting the local time info !! DONE !! 481\n",
        "Setting the local time info !! DONE !! 482\n",
        "Setting the local time info !! DONE !! 482\n",
        "Setting the local time info !! DONE !! 482\n",
        "Setting the local time info !! DONE !! 483\n",
        "Setting the local time info !! DONE !!"
       ]
      },
      {
       "output_type": "stream",
       "stream": "stdout",
       "text": [
        " 484\n",
        "Setting the local time info !! DONE !! 485\n",
        "Setting the local time info !! DONE !! 486\n",
        "Setting the local time info !! DONE !! 486\n",
        "Setting the local time info !! DONE !! 486\n",
        "Setting the local time info !! DONE !! 486\n",
        "Setting the local time info !! DONE !! 486\n",
        "Setting the local time info !! DONE !! 486\n",
        "Setting the local time info !! DONE !! 486\n",
        "Setting the local time info !! DONE !! 486\n",
        "Setting the local time info !! DONE !! 486\n",
        "Setting the local time info !! DONE !! 486\n",
        "Setting the local time info !! DONE !! 486\n",
        "Setting the local time info !! DONE !! 486\n",
        "Setting the local time info !! DONE !! 486\n",
        "Setting the local time info !! DONE !! 486\n",
        "Setting the local time info !! DONE !! 486\n",
        "Setting the local time info !! DONE !! 486\n",
        "Setting the local time info !! DONE !! 486\n",
        "Setting the local time info !! DONE !! 486\n",
        "Setting the local time info !! DONE !! 486\n",
        "Setting the local time info !! DONE !!"
       ]
      },
      {
       "output_type": "stream",
       "stream": "stdout",
       "text": [
        " 487\n",
        "Setting the local time info !! DONE !! 487\n",
        "Setting the local time info !! DONE !! 487\n",
        "Setting the local time info !! DONE !! 487\n",
        "Setting the local time info !! DONE !! 487\n",
        "Setting the local time info !! DONE !! 487\n",
        "Setting the local time info !! DONE !! 487\n",
        "Setting the local time info !! DONE !! 487\n",
        "Setting the local time info !! DONE !!"
       ]
      },
      {
       "output_type": "stream",
       "stream": "stdout",
       "text": [
        " 488\n",
        "Setting the local time info !! DONE !!"
       ]
      },
      {
       "output_type": "stream",
       "stream": "stdout",
       "text": [
        " 489\n",
        "Setting the local time info !! DONE !! 489\n",
        "Setting the local time info !! DONE !! 489\n",
        "Setting the local time info !! DONE !! 489\n",
        "Setting the local time info !! DONE !! 489\n",
        "Setting the local time info !! DONE !!"
       ]
      },
      {
       "output_type": "stream",
       "stream": "stdout",
       "text": [
        " 490\n",
        "Setting the local time info !! DONE !! 490\n",
        "Setting the local time info !! DONE !! 490\n",
        "Setting the local time info !! DONE !! 491\n",
        "Setting the local time info !! DONE !! 492\n",
        "Setting the local time info !! DONE !! 492\n",
        "Setting the local time info !! DONE !! 492\n",
        "Setting the local time info !! DONE !! 492\n",
        "Setting the local time info !! DONE !! 492\n",
        "Setting the local time info !! DONE !! 492\n",
        "Setting the local time info !! DONE !! 492\n",
        "Setting the local time info !! DONE !! 492\n",
        "Setting the local time info !! DONE !! 492\n",
        "Setting the local time info !! DONE !! 492\n",
        "Setting the local time info !! DONE !! 492\n",
        "Setting the local time info !! DONE !! 492\n",
        "Setting the local time info !! DONE !! 492\n",
        "Setting the local time info !! DONE !! 492\n",
        "Setting the local time info !! DONE !! 492\n",
        "Setting the local time info !! DONE !!"
       ]
      },
      {
       "output_type": "stream",
       "stream": "stdout",
       "text": [
        " 493\n",
        "Setting the local time info !! DONE !! 493\n",
        "Setting the local time info !! DONE !! 493\n",
        "Setting the local time info !! DONE !!"
       ]
      },
      {
       "output_type": "stream",
       "stream": "stdout",
       "text": [
        " 494\n",
        "Setting the local time info !! DONE !! 494\n",
        "Setting the local time info !! DONE !! 494\n",
        "Setting the local time info !! DONE !! 495\n",
        "Setting the local time info !! DONE !!"
       ]
      },
      {
       "output_type": "stream",
       "stream": "stdout",
       "text": [
        " 496\n",
        "Setting the local time info !! DONE !! 496\n",
        "Setting the local time info !! DONE !! 497\n",
        "Setting the local time info !! DONE !!"
       ]
      },
      {
       "output_type": "stream",
       "stream": "stdout",
       "text": [
        " 498\n",
        "Setting the local time info !! DONE !! 498\n",
        "Setting the local time info !! DONE !! 498\n",
        "Setting the local time info !! DONE !! 498\n",
        "Setting the local time info !! DONE !! 498\n",
        "Setting the local time info !! DONE !! 498\n",
        "Setting the local time info !! DONE !! 498\n",
        "Setting the local time info !! DONE !! 498\n",
        "Setting the local time info !! DONE !! 498\n",
        "Setting the local time info !! DONE !! 498\n",
        "Setting the local time info !! DONE !!"
       ]
      },
      {
       "output_type": "stream",
       "stream": "stdout",
       "text": [
        " 499\n",
        "Setting the local time info !! DONE !! 500\n",
        "Setting the local time info !! DONE !! 500\n",
        "Setting the local time info !! DONE !! 500\n",
        "Setting the local time info !! DONE !!"
       ]
      },
      {
       "output_type": "stream",
       "stream": "stdout",
       "text": [
        " 501\n",
        "Setting the local time info !! DONE !! 501\n",
        "Setting the local time info !! DONE !! 501\n",
        "Setting the local time info !! DONE !! 501\n",
        "Setting the local time info !! DONE !! 502\n",
        "Setting the local time info !! DONE !! 502\n",
        "Setting the local time info !! DONE !! 502\n",
        "Setting the local time info !! DONE !! 502\n",
        "Setting the local time info !! DONE !! 502\n",
        "Setting the local time info !! DONE !!"
       ]
      },
      {
       "output_type": "stream",
       "stream": "stdout",
       "text": [
        " 503\n",
        "Setting the local time info !! DONE !! 504\n",
        "Setting the local time info !! DONE !! 504\n",
        "Setting the local time info !! DONE !! 504\n",
        "Setting the local time info !! DONE !! 504\n",
        "Setting the local time info !! DONE !! 504\n",
        "Setting the local time info !! DONE !!"
       ]
      },
      {
       "output_type": "stream",
       "stream": "stdout",
       "text": [
        " 505\n",
        "Setting the local time info !! DONE !! 506\n",
        "Setting the local time info !! DONE !!"
       ]
      },
      {
       "output_type": "stream",
       "stream": "stdout",
       "text": [
        " 507\n",
        "Setting the local time info !! DONE !! 507\n",
        "Setting the local time info !! DONE !! 507\n",
        "Setting the local time info !! DONE !! 507\n",
        "Setting the local time info !! DONE !! 507\n",
        "Setting the local time info !! DONE !! 507\n",
        "Setting the local time info !! DONE !! 507\n",
        "Setting the local time info !! DONE !! 508\n",
        "Setting the local time info !! DONE !! 508\n",
        "Setting the local time info !! DONE !!"
       ]
      },
      {
       "output_type": "stream",
       "stream": "stdout",
       "text": [
        " 509\n",
        "Setting the local time info !! DONE !! 509\n",
        "Setting the local time info !! DONE !! 510\n",
        "Setting the local time info !! DONE !!"
       ]
      },
      {
       "output_type": "stream",
       "stream": "stdout",
       "text": [
        " 511\n",
        "Setting the local time info !! DONE !! 511\n",
        "Setting the local time info !! DONE !! 511\n",
        "Setting the local time info !! DONE !! 511\n",
        "Setting the local time info !! DONE !! 511\n",
        "Setting the local time info !! DONE !!"
       ]
      },
      {
       "output_type": "stream",
       "stream": "stdout",
       "text": [
        " 512\n",
        "Setting the local time info !! DONE !! 513\n",
        "Setting the local time info !! DONE !! 513\n",
        "Setting the local time info !! DONE !! 513\n",
        "Setting the local time info !! DONE !! 513\n",
        "Setting the local time info !! DONE !! 513\n",
        "Setting the local time info !! DONE !! 514\n",
        "Setting the local time info !! DONE !!"
       ]
      },
      {
       "output_type": "stream",
       "stream": "stdout",
       "text": [
        " 515\n",
        "Setting the local time info !! DONE !! 515\n",
        "Setting the local time info !! DONE !! 515\n",
        "Setting the local time info !! DONE !! 515\n",
        "Setting the local time info !! DONE !! 515\n",
        "Setting the local time info !! DONE !! 515\n",
        "Setting the local time info !! DONE !! 515\n",
        "Setting the local time info !! DONE !! 515\n",
        "Setting the local time info !! DONE !! 516\n",
        "Setting the local time info !! DONE !! 517\n",
        "Setting the local time info !! DONE !! 517\n",
        "Setting the local time info !! DONE !! 517\n",
        "Setting the local time info !! DONE !! 517\n",
        "Setting the local time info !! DONE !! 518\n",
        "Setting the local time info !! DONE !! 518\n",
        "Setting the local time info !! DONE !! 518\n",
        "Setting the local time info !! DONE !! 518\n",
        "Setting the local time info !! DONE !! 518\n",
        "Setting the local time info !! DONE !!"
       ]
      },
      {
       "output_type": "stream",
       "stream": "stdout",
       "text": [
        " 519\n",
        "Setting the local time info !! DONE !! 519\n",
        "Setting the local time info !! DONE !! 520\n",
        "Setting the local time info !! DONE !! 520\n",
        "Setting the local time info !! DONE !! 520\n",
        "Setting the local time info !! DONE !! 520\n",
        "Setting the local time info !! DONE !! 520\n",
        "Setting the local time info !! DONE !! 520\n",
        "Setting the local time info !! DONE !! 520\n",
        "Setting the local time info !! DONE !! 521\n",
        "Setting the local time info !! DONE !! 521\n",
        "Setting the local time info !! DONE !! 521\n",
        "Setting the local time info !! DONE !! 521\n",
        "Setting the local time info !! DONE !! 522\n",
        "Setting the local time info !! DONE !! 522\n",
        "Setting the local time info !! DONE !! 522\n",
        "Setting the local time info !! DONE !! 522\n",
        "Setting the local time info !! DONE !! 522\n",
        "Setting the local time info !! DONE !! 522\n",
        "Setting the local time info !! DONE !! 522\n",
        "Setting the local time info !! DONE !! 522\n",
        "Setting the local time info !! DONE !!"
       ]
      },
      {
       "output_type": "stream",
       "stream": "stdout",
       "text": [
        " 523\n",
        "Setting the local time info !! DONE !! 523\n",
        "Setting the local time info !! DONE !! 523\n",
        "Setting the local time info !! DONE !! 523\n",
        "Setting the local time info !! DONE !! 523\n",
        "Setting the local time info !! DONE !! 523\n",
        "Setting the local time info !! DONE !! 523\n",
        "Setting the local time info !! DONE !! 523\n",
        "Setting the local time info !! DONE !! 524\n",
        "Setting the local time info !! DONE !!"
       ]
      },
      {
       "output_type": "stream",
       "stream": "stdout",
       "text": [
        " 525\n",
        "Setting the local time info !! DONE !! 526\n",
        "Setting the local time info !! DONE !! 526\n",
        "Setting the local time info !! DONE !! 527\n",
        "Setting the local time info !! DONE !! 527\n",
        "Setting the local time info !! DONE !!"
       ]
      },
      {
       "output_type": "stream",
       "stream": "stdout",
       "text": [
        " 528\n",
        "Setting the local time info !! DONE !! 528\n",
        "Setting the local time info !! DONE !! 528\n",
        "Setting the local time info !! DONE !! 529\n",
        "Setting the local time info !! DONE !! 529\n",
        "Setting the local time info !! DONE !! 529\n",
        "Setting the local time info !! DONE !! 529\n",
        "Setting the local time info !! DONE !! 529\n",
        "Setting the local time info !! DONE !! 529\n",
        "Setting the local time info !! DONE !! 529\n",
        "Setting the local time info !! DONE !! 529\n",
        "Setting the local time info !! DONE !! 530\n",
        "Setting the local time info !! DONE !! 530\n",
        "Setting the local time info !! DONE !! 530\n",
        "Setting the local time info !! DONE !! 531\n",
        "Setting the local time info !! DONE !!"
       ]
      },
      {
       "output_type": "stream",
       "stream": "stdout",
       "text": [
        " 532\n",
        "Setting the local time info !! DONE !! 532\n",
        "Setting the local time info !! DONE !! 532\n",
        "Setting the local time info !! DONE !! 532\n",
        "Setting the local time info !! DONE !! 532\n",
        "Setting the local time info !! DONE !!"
       ]
      },
      {
       "output_type": "stream",
       "stream": "stdout",
       "text": [
        " 533\n",
        "Setting the local time info !! DONE !! 534\n",
        "Setting the local time info !! DONE !! 534\n",
        "Setting the local time info !! DONE !! 535\n",
        "Setting the local time info !! DONE !! 535\n",
        "Setting the local time info !! DONE !! 535\n",
        "Setting the local time info !! DONE !! 536\n",
        "Setting the local time info !! DONE !!"
       ]
      },
      {
       "output_type": "stream",
       "stream": "stdout",
       "text": [
        " 537\n",
        "Setting the local time info !! DONE !! 538\n",
        "Setting the local time info !! DONE !! 539\n",
        "Setting the local time info !! DONE !! 539\n",
        "Setting the local time info !! DONE !!"
       ]
      },
      {
       "output_type": "stream",
       "stream": "stdout",
       "text": [
        " 540\n",
        "Setting the local time info !! DONE !! 540\n",
        "Setting the local time info !! DONE !!"
       ]
      },
      {
       "output_type": "stream",
       "stream": "stdout",
       "text": [
        " 541\n",
        "Setting the local time info !! DONE !! 541\n",
        "Setting the local time info !! DONE !! 541\n",
        "Setting the local time info !! DONE !! 541\n",
        "Setting the local time info !! DONE !!"
       ]
      },
      {
       "output_type": "stream",
       "stream": "stdout",
       "text": [
        " 542\n",
        "Setting the local time info !! DONE !! 542\n",
        "Setting the local time info !! DONE !! 542\n",
        "Setting the local time info !! DONE !! 543\n",
        "Setting the local time info !! DONE !!"
       ]
      },
      {
       "output_type": "stream",
       "stream": "stdout",
       "text": [
        " 544\n",
        "Setting the local time info !! DONE !! 544\n",
        "Setting the local time info !! DONE !! 545\n",
        "Setting the local time info !! DONE !! 546\n",
        "Setting the local time info !! DONE !! 546\n",
        "Setting the local time info !! DONE !! 546\n",
        "Setting the local time info !! DONE !!"
       ]
      },
      {
       "output_type": "stream",
       "stream": "stdout",
       "text": [
        " 547\n",
        "Setting the local time info !! DONE !! 547\n",
        "Setting the local time info !! DONE !! 547\n",
        "Setting the local time info !! DONE !! 548\n",
        "Setting the local time info !! DONE !! 548\n",
        "Setting the local time info !! DONE !! 548\n",
        "Setting the local time info !! DONE !! 548\n",
        "Setting the local time info !! DONE !! 548\n",
        "Setting the local time info !! DONE !! 549\n",
        "Setting the local time info !! DONE !!"
       ]
      },
      {
       "output_type": "stream",
       "stream": "stdout",
       "text": [
        " 550\n",
        "Setting the local time info !! DONE !! 550\n",
        "Setting the local time info !! DONE !! 551\n",
        "Setting the local time info !! DONE !! 551\n",
        "Setting the local time info !! DONE !! 551\n",
        "Setting the local time info !! DONE !!"
       ]
      },
      {
       "output_type": "stream",
       "stream": "stdout",
       "text": [
        " 552\n",
        "Setting the local time info !! DONE !!"
       ]
      },
      {
       "output_type": "stream",
       "stream": "stdout",
       "text": [
        " 553\n",
        "Setting the local time info !! DONE !! 553\n",
        "Setting the local time info !! DONE !! 554\n",
        "Setting the local time info !! DONE !! 554\n",
        "Setting the local time info !! DONE !! 554\n",
        "Setting the local time info !! DONE !! 554\n",
        "Setting the local time info !! DONE !! 555\n",
        "Setting the local time info !! DONE !! 555\n",
        "Setting the local time info !! DONE !!"
       ]
      },
      {
       "output_type": "stream",
       "stream": "stdout",
       "text": [
        " 556\n",
        "Setting the local time info !! DONE !! 556\n",
        "Setting the local time info !! DONE !! 556\n",
        "Setting the local time info !! DONE !! 556\n",
        "Setting the local time info !! DONE !! 557\n",
        "Setting the local time info !! DONE !! 557\n",
        "Setting the local time info !! DONE !!"
       ]
      },
      {
       "output_type": "stream",
       "stream": "stdout",
       "text": [
        " 558\n",
        "Setting the local time info !! DONE !! 558\n",
        "Setting the local time info !! DONE !! 559\n",
        "Setting the local time info !! DONE !!"
       ]
      },
      {
       "output_type": "stream",
       "stream": "stdout",
       "text": [
        " 560\n",
        "Setting the local time info !! DONE !!"
       ]
      },
      {
       "output_type": "stream",
       "stream": "stdout",
       "text": [
        " 561\n",
        "Setting the local time info !! DONE !! 561\n",
        "Setting the local time info !! DONE !! 561\n",
        "Setting the local time info !! DONE !! 562\n",
        "Setting the local time info !! DONE !! 563\n",
        "Setting the local time info !! DONE !!"
       ]
      },
      {
       "output_type": "stream",
       "stream": "stdout",
       "text": [
        " 564\n",
        "Setting the local time info !! DONE !!"
       ]
      },
      {
       "output_type": "stream",
       "stream": "stdout",
       "text": [
        " 565\n",
        "Setting the local time info !! DONE !! 565\n",
        "Setting the local time info !! DONE !! 565\n",
        "Setting the local time info !! DONE !! 566\n",
        "Setting the local time info !! DONE !! 566\n",
        "Setting the local time info !! DONE !! 566\n",
        "Setting the local time info !! DONE !! 566\n",
        "Setting the local time info !! DONE !! 566\n",
        "Setting the local time info !! DONE !! 566\n",
        "Setting the local time info !! DONE !! 566\n",
        "Setting the local time info !! DONE !! 566\n",
        "Setting the local time info !! DONE !! 566\n"
       ]
      },
      {
       "output_type": "stream",
       "stream": "stdout",
       "text": [
        "Setting the local time info !! DONE !! 566\n",
        "Setting the local time info !! DONE !! 566\n",
        "Setting the local time info !! DONE !! 566\n",
        "Setting the local time info !! DONE !! 567\n",
        "Setting the local time info !! DONE !! 567\n",
        "Setting the local time info !! DONE !! 567\n",
        "Setting the local time info !! DONE !! 567\n",
        "Setting the local time info !! DONE !!"
       ]
      },
      {
       "output_type": "stream",
       "stream": "stdout",
       "text": [
        " 568\n",
        "Setting the local time info !! DONE !! 568\n",
        "Setting the local time info !! DONE !! 569\n",
        "Setting the local time info !! DONE !! 569\n",
        "Setting the local time info !! DONE !! 569\n",
        "Setting the local time info !! DONE !! 569\n",
        "Setting the local time info !! DONE !! 569\n",
        "Setting the local time info !! DONE !! 569\n",
        "Setting the local time info !! DONE !! 569\n",
        "Setting the local time info !! DONE !! 569\n",
        "Setting the local time info !! DONE !! 569\n",
        "Setting the local time info !! DONE !! 569\n",
        "Setting the local time info !! DONE !! 569\n",
        "Setting the local time info !! DONE !! 569\n",
        "Setting the local time info !! DONE !! 569\n",
        "Setting the local time info !! DONE !! 569\n",
        "Setting the local time info !! DONE !! 569\n",
        "Setting the local time info !! DONE !! 570\n",
        "Setting the local time info !! DONE !! 571\n",
        "Setting the local time info !! DONE !!"
       ]
      },
      {
       "output_type": "stream",
       "stream": "stdout",
       "text": [
        " 572\n",
        "Setting the local time info !! DONE !!"
       ]
      },
      {
       "output_type": "stream",
       "stream": "stdout",
       "text": [
        " 573\n",
        "Setting the local time info !! DONE !! 573\n",
        "Setting the local time info !! DONE !! 574\n",
        "Setting the local time info !! DONE !! 574\n",
        "Setting the local time info !! DONE !! 574\n",
        "Setting the local time info !! DONE !!"
       ]
      },
      {
       "output_type": "stream",
       "stream": "stdout",
       "text": [
        " 575\n",
        "Setting the local time info !! DONE !! 575\n",
        "Setting the local time info !! DONE !! 575\n",
        "Setting the local time info !! DONE !! 575\n",
        "Setting the local time info !! DONE !! 575\n",
        "Setting the local time info !! DONE !! 575\n",
        "Setting the local time info !! DONE !! 575\n",
        "Setting the local time info !! DONE !! 575\n",
        "Setting the local time info !! DONE !! 575\n",
        "Setting the local time info !! DONE !! 576\n",
        "Setting the local time info !! DONE !! 576\n",
        "Setting the local time info !! DONE !!"
       ]
      },
      {
       "output_type": "stream",
       "stream": "stdout",
       "text": [
        " 577\n",
        "Setting the local time info !! DONE !! 578\n",
        "Setting the local time info !! DONE !! 578\n",
        "Setting the local time info !! DONE !! 578\n",
        "Setting the local time info !! DONE !! 579\n",
        "Setting the local time info !! DONE !!"
       ]
      },
      {
       "output_type": "stream",
       "stream": "stdout",
       "text": [
        " 580\n",
        "Setting the local time info !! DONE !! 580\n",
        "Setting the local time info !! DONE !!"
       ]
      },
      {
       "output_type": "stream",
       "stream": "stdout",
       "text": [
        " 581\n",
        "Setting the local time info !! DONE !! 581\n",
        "Setting the local time info !! DONE !! 581\n",
        "Setting the local time info !! DONE !! 582\n",
        "Setting the local time info !! DONE !! 582\n",
        "Setting the local time info !! DONE !! 582\n",
        "Setting the local time info !! DONE !! 582\n",
        "Setting the local time info !! DONE !!"
       ]
      },
      {
       "output_type": "stream",
       "stream": "stdout",
       "text": [
        " 583\n",
        "Setting the local time info !! DONE !! 583\n",
        "Setting the local time info !! DONE !! 583\n",
        "Setting the local time info !! DONE !! 583\n",
        "Setting the local time info !! DONE !! 583\n",
        "Setting the local time info !! DONE !! 583\n",
        "Setting the local time info !! DONE !! 583\n",
        "Setting the local time info !! DONE !! 584\n",
        "Setting the local time info !! DONE !! 585\n",
        "Setting the local time info !! DONE !! 585\n",
        "Setting the local time info !! DONE !!"
       ]
      },
      {
       "output_type": "stream",
       "stream": "stdout",
       "text": [
        " 586\n",
        "Setting the local time info !! DONE !! 586\n",
        "Setting the local time info !! DONE !! 586\n",
        "Setting the local time info !! DONE !! 586\n",
        "Setting the local time info !! DONE !! 586\n",
        "Setting the local time info !! DONE !! 586\n",
        "Setting the local time info !! DONE !! 586\n",
        "Setting the local time info !! DONE !! 587\n",
        "Setting the local time info !! DONE !! 588\n",
        "Setting the local time info !! DONE !! 588\n",
        "Setting the local time info !! DONE !! 588\n",
        "Setting the local time info !! DONE !! 589\n",
        "Setting the local time info !! DONE !! 589\n",
        "Setting the local time info !! DONE !!"
       ]
      },
      {
       "output_type": "stream",
       "stream": "stdout",
       "text": [
        " 590\n",
        "Setting the local time info !! DONE !! 590\n",
        "Setting the local time info !! DONE !! 590\n",
        "Setting the local time info !! DONE !! 590\n",
        "Setting the local time info !! DONE !! 590\n",
        "Setting the local time info !! DONE !! 590\n",
        "Setting the local time info !! DONE !! 590\n",
        "Setting the local time info !! DONE !! 590\n",
        "Setting the local time info !! DONE !! 590\n",
        "Setting the local time info !! DONE !! 591\n",
        "Setting the local time info !! DONE !! 591\n",
        "Setting the local time info !! DONE !! 591\n",
        "Setting the local time info !! DONE !! 591\n",
        "Setting the local time info !! DONE !!"
       ]
      },
      {
       "output_type": "stream",
       "stream": "stdout",
       "text": [
        " 592\n",
        "Setting the local time info !! DONE !! 592\n",
        "Setting the local time info !! DONE !! 592\n",
        "Setting the local time info !! DONE !! 592\n",
        "Setting the local time info !! DONE !! 592\n",
        "Setting the local time info !! DONE !! 592\n",
        "Setting the local time info !! DONE !!"
       ]
      },
      {
       "output_type": "stream",
       "stream": "stdout",
       "text": [
        " 593\n",
        "Setting the local time info !! DONE !! 593\n",
        "Setting the local time info !! DONE !! 593\n",
        "Setting the local time info !! DONE !! 593\n",
        "Setting the local time info !! DONE !! 593\n",
        "Setting the local time info !! DONE !! 593\n",
        "Setting the local time info !! DONE !! 593\n",
        "Setting the local time info !! DONE !! 594\n",
        "Setting the local time info !! DONE !! 594\n",
        "Setting the local time info !! DONE !! 594\n",
        "Setting the local time info !! DONE !! 594\n",
        "Setting the local time info !! DONE !! 594\n",
        "Setting the local time info !! DONE !! 594\n",
        "Setting the local time info !! DONE !! 594\n",
        "Setting the local time info !! DONE !!"
       ]
      },
      {
       "output_type": "stream",
       "stream": "stdout",
       "text": [
        " 595\n",
        "Setting the local time info !! DONE !! 595\n",
        "Setting the local time info !! DONE !! 595\n",
        "Setting the local time info !! DONE !! 596\n",
        "Setting the local time info !! DONE !!"
       ]
      },
      {
       "output_type": "stream",
       "stream": "stdout",
       "text": [
        " 597\n",
        "Setting the local time info !! DONE !! 597\n",
        "Setting the local time info !! DONE !! 597\n",
        "Setting the local time info !! DONE !! 597\n",
        "Setting the local time info !! DONE !! 597\n",
        "Setting the local time info !! DONE !! 597\n",
        "Setting the local time info !! DONE !! 597\n",
        "Setting the local time info !! DONE !! 598\n",
        "Setting the local time info !! DONE !! 598\n",
        "Setting the local time info !! DONE !! 598\n",
        "Setting the local time info !! DONE !! 599\n",
        "Setting the local time info !! DONE !! 599\n",
        "Setting the local time info !! DONE !!"
       ]
      },
      {
       "output_type": "stream",
       "stream": "stdout",
       "text": [
        " 600\n",
        "Setting the local time info !! DONE !! 601\n",
        "Setting the local time info !! DONE !! 601\n",
        "Setting the local time info !! DONE !!"
       ]
      },
      {
       "output_type": "stream",
       "stream": "stdout",
       "text": [
        " 602\n",
        "Setting the local time info !! DONE !! 602\n",
        "Setting the local time info !! DONE !! 603\n",
        "Setting the local time info !! DONE !!"
       ]
      },
      {
       "output_type": "stream",
       "stream": "stdout",
       "text": [
        " 604\n",
        "Setting the local time info !! DONE !! 604\n",
        "Setting the local time info !! DONE !! 605\n",
        "Setting the local time info !! DONE !!"
       ]
      },
      {
       "output_type": "stream",
       "stream": "stdout",
       "text": [
        " 606\n",
        "Setting the local time info !! DONE !! 606\n",
        "Setting the local time info !! DONE !! 606\n",
        "Setting the local time info !! DONE !! 606\n",
        "Setting the local time info !! DONE !! 607\n",
        "Setting the local time info !! DONE !! 607\n",
        "Setting the local time info !! DONE !! 607\n",
        "Setting the local time info !! DONE !!"
       ]
      },
      {
       "output_type": "stream",
       "stream": "stdout",
       "text": [
        " 608\n",
        "Setting the local time info !! DONE !! 608\n",
        "Setting the local time info !! DONE !! 608\n",
        "Setting the local time info !! DONE !! 609\n",
        "Setting the local time info !! DONE !! 610\n",
        "Setting the local time info !! DONE !!"
       ]
      },
      {
       "output_type": "stream",
       "stream": "stdout",
       "text": [
        " 611\n",
        "Setting the local time info !! DONE !! 611\n",
        "Setting the local time info !! DONE !!"
       ]
      },
      {
       "output_type": "stream",
       "stream": "stdout",
       "text": [
        " 612\n",
        "Setting the local time info !! DONE !!"
       ]
      },
      {
       "output_type": "stream",
       "stream": "stdout",
       "text": [
        " 613\n",
        "Setting the local time info !! DONE !! 613\n",
        "Setting the local time info !! DONE !! 613\n",
        "Setting the local time info !! DONE !! 613\n",
        "Setting the local time info !! DONE !! 614\n",
        "Setting the local time info !! DONE !! 614\n",
        "Setting the local time info !! DONE !!"
       ]
      },
      {
       "output_type": "stream",
       "stream": "stdout",
       "text": [
        " 615\n",
        "Setting the local time info !! DONE !! 615\n",
        "Setting the local time info !! DONE !! 615\n",
        "Setting the local time info !! DONE !!"
       ]
      },
      {
       "output_type": "stream",
       "stream": "stdout",
       "text": [
        " 616\n",
        "Setting the local time info !! DONE !! 617\n",
        "Setting the local time info !! DONE !! 617\n",
        "Setting the local time info !! DONE !! 617\n",
        "Setting the local time info !! DONE !! 617\n",
        "Setting the local time info !! DONE !!"
       ]
      },
      {
       "output_type": "stream",
       "stream": "stdout",
       "text": [
        " 618\n",
        "Setting the local time info !! DONE !!"
       ]
      },
      {
       "output_type": "stream",
       "stream": "stdout",
       "text": [
        " 619\n",
        "Setting the local time info !! DONE !! 620\n",
        "Setting the local time info !! DONE !! 620\n",
        "Setting the local time info !! DONE !!"
       ]
      },
      {
       "output_type": "stream",
       "stream": "stdout",
       "text": [
        " 621\n",
        "Setting the local time info !! DONE !! 621\n",
        "Setting the local time info !! DONE !! 621\n",
        "Setting the local time info !! DONE !! 621\n",
        "Setting the local time info !! DONE !! 621\n",
        "Setting the local time info !! DONE !! 621\n",
        "Setting the local time info !! DONE !! 621\n",
        "Setting the local time info !! DONE !! 621\n",
        "Setting the local time info !! DONE !! 621\n",
        "Setting the local time info !! DONE !! 621\n",
        "Setting the local time info !! DONE !! 621\n",
        "Setting the local time info !! DONE !! 622\n",
        "Setting the local time info !! DONE !! 622\n",
        "Setting the local time info !! DONE !! 622\n",
        "Setting the local time info !! DONE !! 622\n",
        "Setting the local time info !! DONE !! 622\n",
        "Setting the local time info !! DONE !! 622\n",
        "Setting the local time info !! DONE !! 623\n",
        "Setting the local time info !! DONE !! 623\n",
        "Setting the local time info !! DONE !! 623\n",
        "Setting the local time info !! DONE !!"
       ]
      },
      {
       "output_type": "stream",
       "stream": "stdout",
       "text": [
        " 624\n",
        "Setting the local time info !! DONE !!"
       ]
      },
      {
       "output_type": "stream",
       "stream": "stdout",
       "text": [
        " 625\n",
        "Setting the local time info !! DONE !! 626\n",
        "Setting the local time info !! DONE !! 626\n",
        "Setting the local time info !! DONE !!"
       ]
      },
      {
       "output_type": "stream",
       "stream": "stdout",
       "text": [
        " 627\n",
        "Setting the local time info !! DONE !! 627\n",
        "Setting the local time info !! DONE !! 628\n",
        "Setting the local time info !! DONE !! 628\n",
        "Setting the local time info !! DONE !! 628\n",
        "Setting the local time info !! DONE !! 628\n",
        "Setting the local time info !! DONE !!"
       ]
      },
      {
       "output_type": "stream",
       "stream": "stdout",
       "text": [
        " 629\n",
        "Setting the local time info !! DONE !! 629\n",
        "Setting the local time info !! DONE !! 629\n",
        "Setting the local time info !! DONE !! 630\n",
        "Setting the local time info !! DONE !! 630\n",
        "Setting the local time info !! DONE !! 630\n",
        "Setting the local time info !! DONE !!"
       ]
      },
      {
       "output_type": "stream",
       "stream": "stdout",
       "text": [
        " 631\n",
        "Setting the local time info !! DONE !!"
       ]
      },
      {
       "output_type": "stream",
       "stream": "stdout",
       "text": [
        " 632\n",
        "Setting the local time info !! DONE !! 632\n",
        "Setting the local time info !! DONE !! 632\n",
        "Setting the local time info !! DONE !! 632\n",
        "Setting the local time info !! DONE !!"
       ]
      },
      {
       "output_type": "stream",
       "stream": "stdout",
       "text": [
        " 633\n",
        "Setting the local time info !! DONE !! 633\n",
        "Setting the local time info !! DONE !! 634\n",
        "Setting the local time info !! DONE !! 635\n",
        "Setting the local time info !! DONE !! 635\n",
        "Setting the local time info !! DONE !! 635\n",
        "Setting the local time info !! DONE !! 635\n",
        "Setting the local time info !! DONE !! 635\n",
        "Setting the local time info !! DONE !! 635\n",
        "Setting the local time info !! DONE !! 635\n",
        "Setting the local time info !! DONE !!"
       ]
      },
      {
       "output_type": "stream",
       "stream": "stdout",
       "text": [
        " 636\n",
        "Setting the local time info !! DONE !!"
       ]
      },
      {
       "output_type": "stream",
       "stream": "stdout",
       "text": [
        " 637\n",
        "Setting the local time info !! DONE !! 638\n",
        "Setting the local time info !! DONE !! 638\n",
        "Setting the local time info !! DONE !! 638\n",
        "Setting the local time info !! DONE !!"
       ]
      },
      {
       "output_type": "stream",
       "stream": "stdout",
       "text": [
        " 639\n",
        "Setting the local time info !! DONE !! 639\n",
        "Setting the local time info !! DONE !! 640\n",
        "Setting the local time info !! DONE !! 640\n",
        "Setting the local time info !! DONE !! 640\n",
        "Setting the local time info !! DONE !!"
       ]
      },
      {
       "output_type": "stream",
       "stream": "stdout",
       "text": [
        " 641\n",
        "Setting the local time info !! DONE !! 642\n",
        "Setting the local time info !! DONE !!"
       ]
      },
      {
       "output_type": "stream",
       "stream": "stdout",
       "text": [
        " 643\n",
        "Setting the local time info !! DONE !! 643\n",
        "Setting the local time info !! DONE !! 643\n",
        "Setting the local time info !! DONE !! 643\n",
        "Setting the local time info !! DONE !! 643\n",
        "Setting the local time info !! DONE !! 644\n",
        "Setting the local time info !! DONE !! 645\n",
        "Setting the local time info !! DONE !! 645\n",
        "Setting the local time info !! DONE !! 645\n",
        "Setting the local time info !! DONE !! 645\n",
        "Setting the local time info !! DONE !! 645\n",
        "Setting the local time info !! DONE !! 645\n",
        "Setting the local time info !! DONE !! 645\n",
        "Setting the local time info !! DONE !! 645\n",
        "Setting the local time info !! DONE !! 645\n",
        "Setting the local time info !! DONE !!"
       ]
      },
      {
       "output_type": "stream",
       "stream": "stdout",
       "text": [
        " 646\n",
        "Setting the local time info !! DONE !! 646\n",
        "Setting the local time info !! DONE !! 646\n",
        "Setting the local time info !! DONE !! 646\n",
        "Setting the local time info !! DONE !! 646\n",
        "Setting the local time info !! DONE !! 646\n",
        "Setting the local time info !! DONE !! 646\n",
        "Setting the local time info !! DONE !! 646\n",
        "Setting the local time info !! DONE !! 646\n",
        "Setting the local time info !! DONE !! 646\n",
        "Setting the local time info !! DONE !! 647\n",
        "Setting the local time info !! DONE !!"
       ]
      },
      {
       "output_type": "stream",
       "stream": "stdout",
       "text": [
        " 648\n",
        "Setting the local time info !! DONE !! 649\n",
        "Setting the local time info !! DONE !!"
       ]
      },
      {
       "output_type": "stream",
       "stream": "stdout",
       "text": [
        " 650\n",
        "Setting the local time info !! DONE !! 650\n",
        "Setting the local time info !! DONE !! 650\n",
        "Setting the local time info !! DONE !! 650\n",
        "Setting the local time info !! DONE !! 650\n",
        "Setting the local time info !! DONE !! 651\n",
        "Setting the local time info !! DONE !! 652\n",
        "Setting the local time info !! DONE !!"
       ]
      },
      {
       "output_type": "stream",
       "stream": "stdout",
       "text": [
        " 653\n",
        "Setting the local time info !! DONE !! 653\n",
        "Setting the local time info !! DONE !! 654\n",
        "Setting the local time info !! DONE !! 654"
       ]
      },
      {
       "output_type": "stream",
       "stream": "stdout",
       "text": [
        "\n",
        "Setting the local time info !! DONE !! 654\n",
        "Setting the local time info !! DONE !!"
       ]
      },
      {
       "output_type": "stream",
       "stream": "stdout",
       "text": [
        " 655\n",
        "Setting the local time info !! DONE !! 656\n",
        "Setting the local time info !! DONE !! 656\n",
        "Setting the local time info !! DONE !! 657\n",
        "Setting the local time info !! DONE !! 657\n",
        "Setting the local time info !! DONE !! 657\n",
        "Setting the local time info !! DONE !!"
       ]
      },
      {
       "output_type": "stream",
       "stream": "stdout",
       "text": [
        " 658\n",
        "Setting the local time info !! DONE !! 658\n",
        "Setting the local time info !! DONE !! 658\n",
        "Setting the local time info !! DONE !! 658\n",
        "Setting the local time info !! DONE !!"
       ]
      },
      {
       "output_type": "stream",
       "stream": "stdout",
       "text": [
        " 659\n",
        "Setting the local time info !! DONE !! 659\n",
        "Setting the local time info !! DONE !! 659\n",
        "Setting the local time info !! DONE !!"
       ]
      },
      {
       "output_type": "stream",
       "stream": "stdout",
       "text": [
        " 660\n",
        "Setting the local time info !! DONE !! 660\n",
        "Setting the local time info !! DONE !! 661\n",
        "Setting the local time info !! DONE !!"
       ]
      },
      {
       "output_type": "stream",
       "stream": "stdout",
       "text": [
        " 662\n",
        "Setting the local time info !! DONE !! 662\n",
        "Setting the local time info !! DONE !! 663\n",
        "Setting the local time info !! DONE !!"
       ]
      },
      {
       "output_type": "stream",
       "stream": "stdout",
       "text": [
        " 664\n",
        "Setting the local time info !! DONE !! 665\n",
        "Setting the local time info !! DONE !!"
       ]
      },
      {
       "output_type": "stream",
       "stream": "stdout",
       "text": [
        " 666\n",
        "Setting the local time info !! DONE !! 667\n",
        "Setting the local time info !! DONE !! 667\n",
        "Setting the local time info !! DONE !! 667\n",
        "Setting the local time info !! DONE !! 668\n",
        "Setting the local time info !! DONE !! 668\n",
        "Setting the local time info !! DONE !! 668\n",
        "Setting the local time info !! DONE !! 668\n",
        "Setting the local time info !! DONE !! 668\n",
        "Setting the local time info !! DONE !! 668\n",
        "Setting the local time info !! DONE !! 668\n",
        "Setting the local time info !! DONE !! 668\n",
        "Setting the local time info !! DONE !! 668\n",
        "Setting the local time info !! DONE !! 669\n",
        "Setting the local time info !! DONE !! 669\n",
        "Setting the local time info !! DONE !! 669\n",
        "Setting the local time info !! DONE !! 669\n",
        "Setting the local time info !! DONE !! 669\n",
        "Setting the local time info !! DONE !! 669\n",
        "Setting the local time info !! DONE !!"
       ]
      },
      {
       "output_type": "stream",
       "stream": "stdout",
       "text": [
        " 670\n",
        "Setting the local time info !! DONE !! 670\n",
        "Setting the local time info !! DONE !! 670\n",
        "Setting the local time info !! DONE !! 670\n",
        "Setting the local time info !! DONE !! 670\n",
        "Setting the local time info !! DONE !!"
       ]
      },
      {
       "output_type": "stream",
       "stream": "stdout",
       "text": [
        " 671\n",
        "Setting the local time info !! DONE !! 671\n",
        "Setting the local time info !! DONE !! 672\n",
        "Setting the local time info !! DONE !! 672\n",
        "Setting the local time info !! DONE !! 672\n",
        "Setting the local time info !! DONE !! 672\n",
        "Setting the local time info !! DONE !! 672\n",
        "Setting the local time info !! DONE !! 672\n",
        "Setting the local time info !! DONE !! 672\n",
        "Setting the local time info !! DONE !! 672\n",
        "Setting the local time info !! DONE !! 673\n",
        "Setting the local time info !! DONE !! 673\n",
        "Setting the local time info !! DONE !!"
       ]
      },
      {
       "output_type": "stream",
       "stream": "stdout",
       "text": [
        " 674\n",
        "Setting the local time info !! DONE !! 675\n",
        "Setting the local time info !! DONE !! 675\n",
        "Setting the local time info !! DONE !! 675\n",
        "Setting the local time info !! DONE !! 675\n",
        "Setting the local time info !! DONE !!"
       ]
      },
      {
       "output_type": "stream",
       "stream": "stdout",
       "text": [
        " 676\n",
        "Setting the local time info !! DONE !! 676\n",
        "Setting the local time info !! DONE !! 676\n",
        "Setting the local time info !! DONE !! 677\n",
        "Setting the local time info !! DONE !! 677\n",
        "Setting the local time info !! DONE !! 677\n",
        "Setting the local time info !! DONE !! 678\n",
        "Setting the local time info !! DONE !! 678\n",
        "Setting the local time info !! DONE !! 679\n",
        "Setting the local time info !! DONE !! 679\n",
        "Setting the local time info !! DONE !!"
       ]
      },
      {
       "output_type": "stream",
       "stream": "stdout",
       "text": [
        " 680\n",
        "Setting the local time info !! DONE !! 680\n",
        "Setting the local time info !! DONE !! 680\n",
        "Setting the local time info !! DONE !!"
       ]
      },
      {
       "output_type": "stream",
       "stream": "stdout",
       "text": [
        " 681\n",
        "Setting the local time info !! DONE !! 681\n",
        "Setting the local time info !! DONE !! 681\n",
        "Setting the local time info !! DONE !! 681\n",
        "Setting the local time info !! DONE !! 681\n",
        "Setting the local time info !! DONE !! 681\n",
        "Setting the local time info !! DONE !! 682\n",
        "Setting the local time info !! DONE !! 682\n",
        "Setting the local time info !! DONE !! 682\n",
        "Setting the local time info !! DONE !! 683\n",
        "Setting the local time info !! DONE !! 683\n",
        "Setting the local time info !! DONE !!"
       ]
      },
      {
       "output_type": "stream",
       "stream": "stdout",
       "text": [
        " 684\n",
        "Setting the local time info !! DONE !! 684\n",
        "Setting the local time info !! DONE !!"
       ]
      },
      {
       "output_type": "stream",
       "stream": "stdout",
       "text": [
        " 685\n",
        "Setting the local time info !! DONE !! 685\n",
        "Setting the local time info !! DONE !! 685\n",
        "Setting the local time info !! DONE !! 686\n",
        "Setting the local time info !! DONE !!"
       ]
      },
      {
       "output_type": "stream",
       "stream": "stdout",
       "text": [
        " 687\n",
        "Setting the local time info !! DONE !! 688\n",
        "Setting the local time info !! DONE !! 688\n",
        "Setting the local time info !! DONE !!"
       ]
      },
      {
       "output_type": "stream",
       "stream": "stdout",
       "text": [
        " 689\n",
        "Setting the local time info !! DONE !! 690\n",
        "Setting the local time info !! DONE !! 690\n",
        "Setting the local time info !! DONE !! 690\n",
        "Setting the local time info !! DONE !! 690\n",
        "Setting the local time info !! DONE !! 690\n",
        "Setting the local time info !! DONE !!"
       ]
      },
      {
       "output_type": "stream",
       "stream": "stdout",
       "text": [
        " 691\n",
        "Setting the local time info !! DONE !! 691\n",
        "Setting the local time info !! DONE !! 691\n",
        "Setting the local time info !! DONE !! 691\n",
        "Setting the local time info !! DONE !!"
       ]
      },
      {
       "output_type": "stream",
       "stream": "stdout",
       "text": [
        " 692\n",
        "Setting the local time info !! DONE !! 692\n",
        "Setting the local time info !! DONE !! 692\n",
        "Setting the local time info !! DONE !! 692\n",
        "Setting the local time info !! DONE !! 692\n",
        "Setting the local time info !! DONE !! 692\n",
        "Setting the local time info !! DONE !! 692\n",
        "Setting the local time info !! DONE !! 693\n",
        "Setting the local time info !! DONE !! 694\n",
        "Setting the local time info !! DONE !!"
       ]
      },
      {
       "output_type": "stream",
       "stream": "stdout",
       "text": [
        " 695\n",
        "Setting the local time info !! DONE !! 695\n",
        "Setting the local time info !! DONE !! 695\n",
        "Setting the local time info !! DONE !! 695\n",
        "Setting the local time info !! DONE !! 695\n",
        "Setting the local time info !! DONE !! 695\n",
        "Setting the local time info !! DONE !! 696\n",
        "Setting the local time info !! DONE !! 696\n",
        "Setting the local time info !! DONE !! 696\n",
        "Setting the local time info !! DONE !! 696\n",
        "Setting the local time info !! DONE !! 696\n",
        "Setting the local time info !! DONE !! 696\n",
        "Setting the local time info !! DONE !!"
       ]
      },
      {
       "output_type": "stream",
       "stream": "stdout",
       "text": [
        " 697\n",
        "Setting the local time info !! DONE !! 698\n",
        "Setting the local time info !! DONE !! 698\n",
        "Setting the local time info !! DONE !! 698\n",
        "Setting the local time info !! DONE !! 698\n",
        "Setting the local time info !! DONE !! 698\n",
        "Setting the local time info !! DONE !! 698\n",
        "Setting the local time info !! DONE !! 698\n",
        "Setting the local time info !! DONE !! 698\n",
        "Setting the local time info !! DONE !! 698\n",
        "Setting the local time info !! DONE !! 698\n",
        "Setting the local time info !! DONE !! 698\n",
        "Setting the local time info !! DONE !! 698\n",
        "Setting the local time info !! DONE !! 698\n",
        "Setting the local time info !! DONE !! 698\n",
        "Setting the local time info !! DONE !! 699\n",
        "Setting the local time info !! DONE !! 699\n",
        "Setting the local time info !! DONE !! 699\n",
        "Setting the local time info !! DONE !! 699\n",
        "Setting the local time info !! DONE !! 699\n",
        "Setting the local time info !! DONE !!"
       ]
      },
      {
       "output_type": "stream",
       "stream": "stdout",
       "text": [
        " 700\n",
        "Setting the local time info !! DONE !! 700\n",
        "Setting the local time info !! DONE !! 701\n",
        "Setting the local time info !! DONE !! 701\n",
        "Setting the local time info !! DONE !! 701\n",
        "Setting the local time info !! DONE !!"
       ]
      },
      {
       "output_type": "stream",
       "stream": "stdout",
       "text": [
        " 702\n",
        "Setting the local time info !! DONE !! 703\n",
        "Setting the local time info !! DONE !!"
       ]
      },
      {
       "output_type": "stream",
       "stream": "stdout",
       "text": [
        " 704\n",
        "Setting the local time info !! DONE !! 704\n",
        "Setting the local time info !! DONE !! 704\n",
        "Setting the local time info !! DONE !! 705\n",
        "Setting the local time info !! DONE !! 705\n",
        "Setting the local time info !! DONE !! 705\n",
        "Setting the local time info !! DONE !! 705\n",
        "Setting the local time info !! DONE !! 705\n",
        "Setting the local time info !! DONE !! 705\n",
        "Setting the local time info !! DONE !! 706\n",
        "Setting the local time info !! DONE !! 706\n",
        "Setting the local time info !! DONE !! 706\n",
        "Setting the local time info !! DONE !! 706\n",
        "Setting the local time info !! DONE !! 706\n",
        "Setting the local time info !! DONE !! 706\n",
        "Setting the local time info !! DONE !! 706\n",
        "Setting the local time info !! DONE !! 706\n",
        "Setting the local time info !! DONE !! 706\n",
        "Setting the local time info !! DONE !! 706\n",
        "Setting the local time info !! DONE !! 706\n",
        "Setting the local time info !! DONE !! 707\n",
        "Setting the local time info !! DONE !! 707\n",
        "Setting the local time info !! DONE !!"
       ]
      },
      {
       "output_type": "stream",
       "stream": "stdout",
       "text": [
        " 708\n",
        "Setting the local time info !! DONE !! 709\n",
        "Setting the local time info !! DONE !! 709\n",
        "Setting the local time info !! DONE !! 709\n",
        "Setting the local time info !! DONE !! 710\n",
        "Setting the local time info !! DONE !! 711\n",
        "Setting the local time info !! DONE !! 711\n",
        "Setting the local time info !! DONE !! "
       ]
      },
      {
       "output_type": "stream",
       "stream": "stdout",
       "text": [
        "712\n",
        "Setting the local time info !! DONE !! 713\n",
        "Setting the local time info !! DONE !! 713\n",
        "Setting the local time info !! DONE !! 714\n",
        "Setting the local time info !! DONE !! 714\n",
        "Setting the local time info !! DONE !!"
       ]
      },
      {
       "output_type": "stream",
       "stream": "stdout",
       "text": [
        " 715\n",
        "Setting the local time info !! DONE !! 715\n",
        "Setting the local time info !! DONE !! 715\n",
        "Setting the local time info !! DONE !! 715\n",
        "Setting the local time info !! DONE !! 715\n",
        "Setting the local time info !! DONE !! 715\n",
        "Setting the local time info !! DONE !! 715\n",
        "Setting the local time info !! DONE !! 715\n",
        "Setting the local time info !! DONE !! 715\n",
        "Setting the local time info !! DONE !! 715\n",
        "Setting the local time info !! DONE !! 715\n",
        "Setting the local time info !! DONE !! 715\n",
        "Setting the local time info !! DONE !! 715\n",
        "Setting the local time info !! DONE !! 716\n",
        "Setting the local time info !! DONE !! 716\n",
        "Setting the local time info !! DONE !! 716\n",
        "Setting the local time info !! DONE !! 716\n",
        "Setting the local time info !! DONE !! 716\n",
        "Setting the local time info !! DONE !! 716\n",
        "Setting the local time info !! DONE !! 716\n",
        "Setting the local time info !! DONE !! 716\n",
        "Setting the local time info !! DONE !! 716\n",
        "Setting the local time info !! DONE !! 716\n",
        "Setting the local time info !! DONE !! 717\n",
        "Setting the local time info !! DONE !!"
       ]
      },
      {
       "output_type": "stream",
       "stream": "stdout",
       "text": [
        " 718\n",
        "Setting the local time info !! DONE !! 718\n",
        "Setting the local time info !! DONE !! 718\n",
        "Setting the local time info !! DONE !! 718\n",
        "Setting the local time info !! DONE !! 718\n",
        "Setting the local time info !! DONE !! 718\n",
        "Setting the local time info !! DONE !! 718\n",
        "Setting the local time info !! DONE !! 718\n",
        "Setting the local time info !! DONE !! 718\n",
        "Setting the local time info !! DONE !! 718\n",
        "Setting the local time info !! DONE !! 718\n",
        "Setting the local time info !! DONE !! 718\n",
        "Setting the local time info !! DONE !! 719\n",
        "Setting the local time info !! DONE !! 719\n",
        "Setting the local time info !! DONE !! 719\n",
        "Setting the local time info !! DONE !! 719\n",
        "Setting the local time info !! DONE !! 719\n",
        "Setting the local time info !! DONE !! 720\n",
        "Setting the local time info !! DONE !! 720\n",
        "Setting the local time info !! DONE !! 720\n",
        "Setting the local time info !! DONE !! 720\n",
        "Setting the local time info !! DONE !! 720\n",
        "Setting the local time info !! DONE !! 720\n",
        "Setting the local time info !! DONE !! 720\n",
        "Setting the local time info !! DONE !! 720\n",
        "Setting the local time info !! DONE !! 720\n",
        "Setting the local time info !! DONE !!"
       ]
      },
      {
       "output_type": "stream",
       "stream": "stdout",
       "text": [
        " 721\n",
        "Setting the local time info !! DONE !! 721\n",
        "Setting the local time info !! DONE !! 722\n",
        "Setting the local time info !! DONE !! 723\n",
        "Setting the local time info !! DONE !! 723\n",
        "Setting the local time info !! DONE !! 723\n",
        "Setting the local time info !! DONE !! 723\n",
        "Setting the local time info !! DONE !! 723\n",
        "Setting the local time info !! DONE !! 723\n",
        "Setting the local time info !! DONE !! 724\n",
        "Setting the local time info !! DONE !!"
       ]
      },
      {
       "output_type": "stream",
       "stream": "stdout",
       "text": [
        " 725\n",
        "Setting the local time info !! DONE !! 725\n",
        "Setting the local time info !! DONE !! 725\n",
        "Setting the local time info !! DONE !! 725\n",
        "Setting the local time info !! DONE !! 725\n",
        "Setting the local time info !! DONE !! 726\n",
        "Setting the local time info !! DONE !! 727\n",
        "Setting the local time info !! DONE !! 727\n",
        "Setting the local time info !! DONE !! 728\n",
        "Setting the local time info !! DONE !! 728\n",
        "Setting the local time info !! DONE !! 729\n",
        "Setting the local time info !! DONE !! 729\n",
        "Setting the local time info !! DONE !! 729\n",
        "Setting the local time info !! DONE !!"
       ]
      },
      {
       "output_type": "stream",
       "stream": "stdout",
       "text": [
        " 730\n",
        "Setting the local time info !! DONE !! 730\n",
        "Setting the local time info !! DONE !! 730\n",
        "Setting the local time info !! DONE !! 731\n",
        "Setting the local time info !! DONE !! 731\n",
        "Setting the local time info !! DONE !!"
       ]
      },
      {
       "output_type": "stream",
       "stream": "stdout",
       "text": [
        " 732\n",
        "Setting the local time info !! DONE !! 733\n",
        "Setting the local time info !! DONE !! 733\n",
        "Setting the local time info !! DONE !! 733\n",
        "Setting the local time info !! DONE !! 734\n",
        "Setting the local time info !! DONE !! 735\n",
        "Setting the local time info !! DONE !! 735\n",
        "Setting the local time info !! DONE !! 735\n",
        "Setting the local time info !! DONE !! 735\n",
        "Setting the local time info !! DONE !! 736\n",
        "Setting the local time info !! DONE !!"
       ]
      },
      {
       "output_type": "stream",
       "stream": "stdout",
       "text": [
        " 737\n",
        "Setting the local time info !! DONE !! 738\n",
        "Setting the local time info !! DONE !! 738\n",
        "Setting the local time info !! DONE !! 738\n",
        "Setting the local time info !! DONE !! 738\n",
        "Setting the local time info !! DONE !! 739\n",
        "Setting the local time info !! DONE !! 739\n",
        "Setting the local time info !! DONE !! 739\n",
        "Setting the local time info !! DONE !! 739\n",
        "Setting the local time info !! DONE !! 739\n",
        "Setting the local time info !! DONE !! 739\n",
        "Setting the local time info !! DONE !! 740\n",
        "Setting the local time info !! DONE !! 740\n",
        "Setting the local time info !! DONE !! 740\n",
        "Setting the local time info !! DONE !! 740\n",
        "Setting the local time info !! DONE !! 740\n",
        "Setting the local time info !! DONE !! 741\n",
        "Setting the local time info !! DONE !! 741\n",
        "Setting the local time info !! DONE !! 741\n",
        "Setting the local time info !! DONE !! 741\n",
        "Setting the local time info !! DONE !! 741\n",
        "Setting the local time info !! DONE !! 741\n",
        "Setting the local time info !! DONE !! 741\n",
        "Setting the local time info !! DONE !!"
       ]
      },
      {
       "output_type": "stream",
       "stream": "stdout",
       "text": [
        " 742\n",
        "Setting the local time info !! DONE !! 743\n",
        "Setting the local time info !! DONE !! 743\n",
        "Setting the local time info !! DONE !! 743\n",
        "Setting the local time info !! DONE !! 743\n",
        "Setting the local time info !! DONE !! 744\n",
        "Setting the local time info !! DONE !! 745\n",
        "Setting the local time info !! DONE !! 745\n",
        "Setting the local time info !! DONE !!"
       ]
      },
      {
       "output_type": "stream",
       "stream": "stdout",
       "text": [
        " 746\n",
        "Setting the local time info !! DONE !! 746\n",
        "Setting the local time info !! DONE !! 746\n",
        "Setting the local time info !! DONE !! 746\n",
        "Setting the local time info !! DONE !! 747\n",
        "Setting the local time info !! DONE !! 747\n",
        "Setting the local time info !! DONE !! 747\n",
        "Setting the local time info !! DONE !! 748\n",
        "Setting the local time info !! DONE !! 748\n",
        "Setting the local time info !! DONE !! 748\n",
        "Setting the local time info !! DONE !! 748\n",
        "Setting the local time info !! DONE !! 748\n",
        "Setting the local time info !! DONE !! 749\n",
        "Setting the local time info !! DONE !! 749\n",
        "Setting the local time info !! DONE !!"
       ]
      },
      {
       "output_type": "stream",
       "stream": "stdout",
       "text": [
        " 750\n",
        "Setting the local time info !! DONE !! 750\n",
        "Setting the local time info !! DONE !! 750\n",
        "Setting the local time info !! DONE !! 751\n",
        "Setting the local time info !! DONE !! 752\n",
        "Setting the local time info !! DONE !! 752\n",
        "Setting the local time info !! DONE !!"
       ]
      },
      {
       "output_type": "stream",
       "stream": "stdout",
       "text": [
        " 753\n",
        "Setting the local time info !! DONE !! 754\n",
        "Setting the local time info !! DONE !! 755\n",
        "Setting the local time info !! DONE !! 755\n",
        "Setting the local time info !! DONE !! 756\n",
        "Setting the local time info !! DONE !! 756\n",
        "Setting the local time info !! DONE !! 756\n",
        "Setting the local time info !! DONE !! 756\n",
        "Setting the local time info !! DONE !! 757\n",
        "Setting the local time info !! DONE !!"
       ]
      },
      {
       "output_type": "stream",
       "stream": "stdout",
       "text": [
        " 758\n",
        "Setting the local time info !! DONE !! 758\n",
        "Setting the local time info !! DONE !! 758\n",
        "Setting the local time info !! DONE !! 758\n",
        "Setting the local time info !! DONE !! 759\n",
        "Setting the local time info !! DONE !! 760\n",
        "Setting the local time info !! DONE !! 760\n",
        "Setting the local time info !! DONE !! 760\n",
        "Setting the local time info !! DONE !! 760\n",
        "Setting the local time info !! DONE !! 760\n",
        "Setting the local time info !! DONE !!"
       ]
      },
      {
       "output_type": "stream",
       "stream": "stdout",
       "text": [
        " 761\n",
        "Setting the local time info !! DONE !! 761\n",
        "Setting the local time info !! DONE !! 762\n",
        "Setting the local time info !! DONE !! 762\n",
        "Setting the local time info !! DONE !! 762\n",
        "Setting the local time info !! DONE !! 762\n",
        "Setting the local time info !! DONE !! 762\n",
        "Setting the local time info !! DONE !! 762\n",
        "Setting the local time info !! DONE !! 762\n",
        "Setting the local time info !! DONE !! 762\n",
        "Setting the local time info !! DONE !! 762\n",
        "Setting the local time info !! DONE !! 763\n",
        "Setting the local time info !! DONE !! 763\n",
        "Setting the local time info !! DONE !!"
       ]
      },
      {
       "output_type": "stream",
       "stream": "stdout",
       "text": [
        " 764\n",
        "Setting the local time info !! DONE !! 764\n",
        "Setting the local time info !! DONE !!"
       ]
      },
      {
       "output_type": "stream",
       "stream": "stdout",
       "text": [
        " 765\n",
        "Setting the local time info !! DONE !! 765\n",
        "Setting the local time info !! DONE !! 765\n",
        "Setting the local time info !! DONE !! 766\n",
        "Setting the local time info !! DONE !!"
       ]
      },
      {
       "output_type": "stream",
       "stream": "stdout",
       "text": [
        " 767\n",
        "Setting the local time info !! DONE !! 767\n",
        "Setting the local time info !! DONE !! 768\n",
        "Setting the local time info !! DONE !! 768\n",
        "Setting the local time info !! DONE !!"
       ]
      },
      {
       "output_type": "stream",
       "stream": "stdout",
       "text": [
        " 769\n",
        "Setting the local time info !! DONE !! 769\n",
        "Setting the local time info !! DONE !! 769\n",
        "Setting the local time info !! DONE !! 769\n",
        "Setting the local time info !! DONE !! 769\n",
        "Setting the local time info !! DONE !! 769\n",
        "Setting the local time info !! DONE !! 769\n",
        "Setting the local time info !! DONE !! 770\n",
        "Setting the local time info !! DONE !!"
       ]
      },
      {
       "output_type": "stream",
       "stream": "stdout",
       "text": [
        " 771\n",
        "Setting the local time info !! DONE !! 771\n",
        "Setting the local time info !! DONE !! 772\n",
        "Setting the local time info !! DONE !! 772\n",
        "Setting the local time info !! DONE !! 773\n",
        "Setting the local time info !! DONE !! 773\n",
        "Setting the local time info !! DONE !! 773\n",
        "Setting the local time info !! DONE !! 773\n",
        "Setting the local time info !! DONE !!"
       ]
      },
      {
       "output_type": "stream",
       "stream": "stdout",
       "text": [
        " 774\n",
        "Setting the local time info !! DONE !! 774\n",
        "Setting the local time info !! DONE !! 774\n",
        "Setting the local time info !! DONE !! 775\n",
        "Setting the local time info !! DONE !! 775\n",
        "Setting the local time info !! DONE !! 776\n",
        "Setting the local time info !! DONE !!"
       ]
      },
      {
       "output_type": "stream",
       "stream": "stdout",
       "text": [
        " 777\n",
        "Setting the local time info !! DONE !! 777\n",
        "Setting the local time info !! DONE !! 777\n",
        "Setting the local time info !! DONE !! 777\n",
        "Setting the local time info !! DONE !! 777\n",
        "Setting the local time info !! DONE !! 777\n",
        "Setting the local time info !! DONE !! 778\n",
        "Setting the local time info !! DONE !! 779\n",
        "Setting the local time info !! DONE !! 779\n",
        "Setting the local time info !! DONE !! 780\n",
        "Setting the local time info !! DONE !! 780\n",
        "Setting the local time info !! DONE !! 780\n",
        "Setting the local time info !! DONE !! 780\n",
        "Setting the local time info !! DONE !!"
       ]
      },
      {
       "output_type": "stream",
       "stream": "stdout",
       "text": [
        " 781\n",
        "Setting the local time info !! DONE !! 782\n",
        "Setting the local time info !! DONE !! 782\n",
        "Setting the local time info !! DONE !! 782\n",
        "Setting the local time info !! DONE !!"
       ]
      },
      {
       "output_type": "stream",
       "stream": "stdout",
       "text": [
        " 783\n",
        "Setting the local time info !! DONE !! 783\n",
        "Setting the local time info !! DONE !! 783\n",
        "Setting the local time info !! DONE !! 783\n",
        "Setting the local time info !! DONE !! 784\n",
        "Setting the local time info !! DONE !! 784\n",
        "Setting the local time info !! DONE !! 784\n",
        "Setting the local time info !! DONE !! 784\n",
        "Setting the local time info !! DONE !! 784\n",
        "Setting the local time info !! DONE !! 784\n",
        "Setting the local time info !! DONE !! 784\n",
        "Setting the local time info !! DONE !! 784\n",
        "Setting the local time info !! DONE !! 785\n",
        "Setting the local time info !! DONE !! 785\n",
        "Setting the local time info !! DONE !! 785\n",
        "Setting the local time info !! DONE !! 785\n",
        "Setting the local time info !! DONE !! 785\n",
        "Setting the local time info !! DONE !! 785\n",
        "Setting the local time info !! DONE !! 785\n",
        "Setting the local time info !! DONE !! 785\n",
        "Setting the local time info !! DONE !! 786\n",
        "Setting the local time info !! DONE !! 786\n",
        "Setting the local time info !! DONE !! 786\n",
        "Setting the local time info !! DONE !! 786\n",
        "Setting the local time info !! DONE !! 786\n",
        "Setting the local time info !! DONE !! 786\n",
        "Setting the local time info !! DONE !!"
       ]
      },
      {
       "output_type": "stream",
       "stream": "stdout",
       "text": [
        " 787\n",
        "Setting the local time info !! DONE !! 787\n",
        "Setting the local time info !! DONE !! 787\n",
        "Setting the local time info !! DONE !! 787\n",
        "Setting the local time info !! DONE !! 788\n",
        "Setting the local time info !! DONE !! 788\n",
        "Setting the local time info !! DONE !! 788\n",
        "Setting the local time info !! DONE !! 788\n",
        "Setting the local time info !! DONE !! 788\n",
        "Setting the local time info !! DONE !! 788\n",
        "Setting the local time info !! DONE !! 788\n",
        "Setting the local time info !! DONE !! 789\n",
        "Setting the local time info !! DONE !! 789\n",
        "Setting the local time info !! DONE !! 790\n",
        "Setting the local time info !! DONE !! 790\n",
        "Setting the local time info !! DONE !! 790\n",
        "Setting the local time info !! DONE !! 790\n",
        "Setting the local time info !! DONE !! 790\n"
       ]
      },
      {
       "output_type": "stream",
       "stream": "stdout",
       "text": [
        "Setting the local time info !! DONE !! 790\n",
        "Setting the local time info !! DONE !! 790\n",
        "Setting the local time info !! DONE !! 790\n",
        "Setting the local time info !! DONE !! 790\n",
        "Setting the local time info !! DONE !! 791\n",
        "Setting the local time info !! DONE !! 791\n",
        "Setting the local time info !! DONE !! 791\n",
        "Setting the local time info !! DONE !! 792\n",
        "Setting the local time info !! DONE !! 792\n",
        "Setting the local time info !! DONE !!"
       ]
      },
      {
       "output_type": "stream",
       "stream": "stdout",
       "text": [
        " 793\n",
        "Setting the local time info !! DONE !! 793\n",
        "Setting the local time info !! DONE !! 793\n",
        "Setting the local time info !! DONE !! 794\n",
        "Setting the local time info !! DONE !! 794\n",
        "Setting the local time info !! DONE !! 794\n",
        "Setting the local time info !! DONE !! 794\n",
        "Setting the local time info !! DONE !! 794\n",
        "Setting the local time info !! DONE !! 794\n",
        "Setting the local time info !! DONE !! 794\n",
        "Setting the local time info !! DONE !! 794\n",
        "Setting the local time info !! DONE !! 794\n",
        "Setting the local time info !! DONE !! 795\n",
        "Setting the local time info !! DONE !! 795\n",
        "Setting the local time info !! DONE !!"
       ]
      },
      {
       "output_type": "stream",
       "stream": "stdout",
       "text": [
        " 796\n",
        "Setting the local time info !! DONE !! 797\n",
        "Setting the local time info !! DONE !! 798\n",
        "Setting the local time info !! DONE !! 799\n",
        "Setting the local time info !! DONE !! 800\n",
        "Setting the local time info !! DONE !! 800\n",
        "Setting the local time info !! DONE !! 800\n",
        "Setting the local time info !! DONE !! 800\n",
        "Setting the local time info !! DONE !! 801\n",
        "Setting the local time info !! DONE !! 801\n",
        "Setting the local time info !! DONE !! 801\n",
        "Setting the local time info !! DONE !! 801\n",
        "Setting the local time info !! DONE !! 801\n",
        "Setting the local time info !! DONE !! 801\n",
        "Setting the local time info !! DONE !! 801\n",
        "Setting the local time info !! DONE !!"
       ]
      },
      {
       "output_type": "stream",
       "stream": "stdout",
       "text": [
        " 802\n",
        "Setting the local time info !! DONE !! 802\n",
        "Setting the local time info !! DONE !! 803\n",
        "Setting the local time info !! DONE !! 803\n",
        "Setting the local time info !! DONE !! 803\n",
        "Setting the local time info !! DONE !! 803\n",
        "Setting the local time info !! DONE !! 803\n",
        "Setting the local time info !! DONE !!"
       ]
      },
      {
       "output_type": "stream",
       "stream": "stdout",
       "text": [
        " 804\n",
        "Setting the local time info !! DONE !! 804\n",
        "Setting the local time info !! DONE !! 804\n",
        "Setting the local time info !! DONE !! 804\n",
        "Setting the local time info !! DONE !! 804\n",
        "Setting the local time info !! DONE !! 805\n",
        "Setting the local time info !! DONE !! 806\n",
        "Setting the local time info !! DONE !!"
       ]
      },
      {
       "output_type": "stream",
       "stream": "stdout",
       "text": [
        " 807\n",
        "Setting the local time info !! DONE !! 807\n",
        "Setting the local time info !! DONE !! 808\n",
        "Setting the local time info !! DONE !! 808\n",
        "Setting the local time info !! DONE !! 808\n",
        "Setting the local time info !! DONE !! 808\n",
        "Setting the local time info !! DONE !! 808\n",
        "Setting the local time info !! DONE !! 808\n",
        "Setting the local time info !! DONE !! 808\n",
        "Setting the local time info !! DONE !!"
       ]
      },
      {
       "output_type": "stream",
       "stream": "stdout",
       "text": [
        " 809\n",
        "Setting the local time info !! DONE !! 810\n",
        "Setting the local time info !! DONE !! 811\n",
        "Setting the local time info !! DONE !!"
       ]
      },
      {
       "output_type": "stream",
       "stream": "stdout",
       "text": [
        " 812\n",
        "Setting the local time info !! DONE !! 813\n",
        "Setting the local time info !! DONE !! 813\n",
        "Setting the local time info !! DONE !!"
       ]
      },
      {
       "output_type": "stream",
       "stream": "stdout",
       "text": [
        " 814\n",
        "Setting the local time info !! DONE !! 815\n",
        "Setting the local time info !! DONE !! 815\n",
        "Setting the local time info !! DONE !! 815\n",
        "Setting the local time info !! DONE !! 815\n",
        "Setting the local time info !! DONE !! 815\n",
        "Setting the local time info !! DONE !!"
       ]
      },
      {
       "output_type": "stream",
       "stream": "stdout",
       "text": [
        " 816\n",
        "Setting the local time info !! DONE !! 817\n",
        "Setting the local time info !! DONE !! 818\n",
        "Setting the local time info !! DONE !! 818\n",
        "Setting the local time info !! DONE !! 819\n",
        "Setting the local time info !! DONE !! 819\n",
        "Setting the local time info !! DONE !! 819\n",
        "Setting the local time info !! DONE !! 820\n",
        "Setting the local time info !! DONE !!"
       ]
      },
      {
       "output_type": "stream",
       "stream": "stdout",
       "text": [
        " 821\n",
        "Setting the local time info !! DONE !! 821\n",
        "Setting the local time info !! DONE !! 822\n",
        "Setting the local time info !! DONE !! 823\n",
        "Setting the local time info !! DONE !! 823\n",
        "Setting the local time info !! DONE !! 823\n",
        "Setting the local time info !! DONE !! 823\n",
        "Setting the local time info !! DONE !! 823\n",
        "Setting the local time info !! DONE !! 823\n",
        "Setting the local time info !! DONE !! 823\n",
        "Setting the local time info !! DONE !!"
       ]
      },
      {
       "output_type": "stream",
       "stream": "stdout",
       "text": [
        " 824\n",
        "Setting the local time info !! DONE !! 824\n",
        "Setting the local time info !! DONE !! 824\n",
        "Setting the local time info !! DONE !! 824\n",
        "Setting the local time info !! DONE !! 825\n",
        "Setting the local time info !! DONE !! 826\n",
        "Setting the local time info !! DONE !! 826\n",
        "Setting the local time info !! DONE !! 826\n",
        "Setting the local time info !! DONE !!"
       ]
      },
      {
       "output_type": "stream",
       "stream": "stdout",
       "text": [
        " 827\n",
        "Setting the local time info !! DONE !!"
       ]
      },
      {
       "output_type": "stream",
       "stream": "stdout",
       "text": [
        " 828\n",
        "Setting the local time info !! DONE !! 828\n",
        "Setting the local time info !! DONE !! 828\n",
        "Setting the local time info !! DONE !! 829\n",
        "Setting the local time info !! DONE !! 830\n",
        "Setting the local time info !! DONE !! 831\n",
        "Setting the local time info !! DONE !! 831\n",
        "Setting the local time info !! DONE !! 831\n",
        "Setting the local time info !! DONE !! 831\n",
        "Setting the local time info !! DONE !! 831\n",
        "Setting the local time info !! DONE !! 831\n",
        "Setting the local time info !! DONE !!"
       ]
      },
      {
       "output_type": "stream",
       "stream": "stdout",
       "text": [
        " 832\n",
        "Setting the local time info !! DONE !! 832\n",
        "Setting the local time info !! DONE !! 833\n",
        "Setting the local time info !! DONE !! 833\n",
        "Setting the local time info !! DONE !! 833\n",
        "Setting the local time info !! DONE !! 833\n",
        "Setting the local time info !! DONE !! 833\n",
        "Setting the local time info !! DONE !! 833\n",
        "Setting the local time info !! DONE !!"
       ]
      },
      {
       "output_type": "stream",
       "stream": "stdout",
       "text": [
        " 834\n",
        "Setting the local time info !! DONE !! 834\n",
        "Setting the local time info !! DONE !! 834\n",
        "Setting the local time info !! DONE !! 834\n",
        "Setting the local time info !! DONE !! 834\n",
        "Setting the local time info !! DONE !! 835\n",
        "Setting the local time info !! DONE !! 836\n",
        "Setting the local time info !! DONE !! 837\n",
        "Setting the local time info !! DONE !! 837\n",
        "Setting the local time info !! DONE !! 837\n",
        "Setting the local time info !! DONE !!"
       ]
      },
      {
       "output_type": "stream",
       "stream": "stdout",
       "text": [
        " 838\n",
        "Setting the local time info !! DONE !! 838\n",
        "Setting the local time info !! DONE !! 838\n",
        "Setting the local time info !! DONE !! 839\n",
        "Setting the local time info !! DONE !!"
       ]
      },
      {
       "output_type": "stream",
       "stream": "stdout",
       "text": [
        " 840\n",
        "Setting the local time info !! DONE !! 840\n",
        "Setting the local time info !! DONE !! 841\n",
        "Setting the local time info !! DONE !! 841\n",
        "Setting the local time info !! DONE !! 842\n",
        "Setting the local time info !! DONE !! 842\n",
        "Setting the local time info !! DONE !! 843\n",
        "Setting the local time info !! DONE !! 843\n",
        "Setting the local time info !! DONE !! 843\n",
        "Setting the local time info !! DONE !! 843\n",
        "Setting the local time info !! DONE !!"
       ]
      },
      {
       "output_type": "stream",
       "stream": "stdout",
       "text": [
        " 844\n",
        "Setting the local time info !! DONE !! 844\n",
        "Setting the local time info !! DONE !! 844\n",
        "Setting the local time info !! DONE !! 844\n",
        "Setting the local time info !! DONE !! 844\n",
        "Setting the local time info !! DONE !! 844\n",
        "Setting the local time info !! DONE !! 844\n",
        "Setting the local time info !! DONE !! 844\n",
        "Setting the local time info !! DONE !! 844\n",
        "Setting the local time info !! DONE !! 844\n",
        "Setting the local time info !! DONE !! 844\n",
        "Setting the local time info !! DONE !! 844\n",
        "Setting the local time info !! DONE !! 844\n",
        "Setting the local time info !! DONE !! 845\n",
        "Setting the local time info !! DONE !! 845\n",
        "Setting the local time info !! DONE !! 846\n",
        "Setting the local time info !! DONE !! 847\n",
        "Setting the local time info !! DONE !!"
       ]
      },
      {
       "output_type": "stream",
       "stream": "stdout",
       "text": [
        " 848\n",
        "Setting the local time info !! DONE !! 849\n",
        "Setting the local time info !! DONE !! 849\n",
        "Setting the local time info !! DONE !! 849\n",
        "Setting the local time info !! DONE !! 850\n",
        "Setting the local time info !! DONE !! 850\n",
        "Setting the local time info !! DONE !! 851\n",
        "Setting the local time info !! DONE !! 852\n",
        "Setting the local time info !! DONE !! 852\n",
        "Setting the local time info !! DONE !! 853\n",
        "Setting the local time info !! DONE !!"
       ]
      },
      {
       "output_type": "stream",
       "stream": "stdout",
       "text": [
        " 854\n",
        "Setting the local time info !! DONE !! 854\n",
        "Setting the local time info !! DONE !! 854\n",
        "Setting the local time info !! DONE !! 855\n",
        "Setting the local time info !! DONE !!"
       ]
      },
      {
       "output_type": "stream",
       "stream": "stdout",
       "text": [
        " 856\n",
        "Setting the local time info !! DONE !! 857\n",
        "Setting the local time info !! DONE !! 857\n",
        "Setting the local time info !! DONE !! 857\n",
        "Setting the local time info !! DONE !! 857\n",
        "Setting the local time info !! DONE !! 857\n",
        "Setting the local time info !! DONE !! 858\n",
        "Setting the local time info !! DONE !! 858\n",
        "Setting the local time info !! DONE !! 858\n",
        "Setting the local time info !! DONE !! 858\n",
        "Setting the local time info !! DONE !! 858\n",
        "Setting the local time info !! DONE !! 858\n",
        "Setting the local time info !! DONE !! 859\n",
        "Setting the local time info !! DONE !! 859\n",
        "Setting the local time info !! DONE !! 859\n",
        "Setting the local time info !! DONE !! 860\n",
        "Setting the local time info !! DONE !! 860\n",
        "Setting the local time info !! DONE !!"
       ]
      },
      {
       "output_type": "stream",
       "stream": "stdout",
       "text": [
        " 861\n",
        "Setting the local time info !! DONE !! 861\n",
        "Setting the local time info !! DONE !! 861\n",
        "Setting the local time info !! DONE !! 862\n",
        "Setting the local time info !! DONE !! 862\n",
        "Setting the local time info !! DONE !! 863\n",
        "Setting the local time info !! DONE !!"
       ]
      },
      {
       "output_type": "stream",
       "stream": "stdout",
       "text": [
        " 864\n",
        "Setting the local time info !! DONE !! 865\n",
        "Setting the local time info !! DONE !! 865\n",
        "Setting the local time info !! DONE !! 865\n",
        "Setting the local time info !! DONE !! 865\n",
        "Setting the local time info !! DONE !! 865\n",
        "Setting the local time info !! DONE !! 865\n",
        "Setting the local time info !! DONE !! 865\n",
        "Setting the local time info !! DONE !! 865\n",
        "Setting the local time info !! DONE !! 865\n",
        "Setting the local time info !! DONE !! 866\n",
        "Setting the local time info !! DONE !! 866\n",
        "Setting the local time info !! DONE !! 867\n",
        "Setting the local time info !! DONE !! 867\n",
        "Setting the local time info !! DONE !! 867\n",
        "Setting the local time info !! DONE !! 867\n",
        "Setting the local time info !! DONE !! 868\n",
        "Setting the local time info !! DONE !! 868\n",
        "Setting the local time info !! DONE !! 868\n",
        "Setting the local time info !! DONE !! 868\n",
        "Setting the local time info !! DONE !! 868\n",
        "Setting the local time info !! DONE !! 868\n",
        "Setting the local time info !! DONE !! 868\n",
        "Setting the local time info !! DONE !!"
       ]
      },
      {
       "output_type": "stream",
       "stream": "stdout",
       "text": [
        " 869\n",
        "Setting the local time info !! DONE !! 869\n",
        "Setting the local time info !! DONE !! 869\n",
        "Setting the local time info !! DONE !! 869\n",
        "Setting the local time info !! DONE !! 869\n",
        "Setting the local time info !! DONE !! 869\n",
        "Setting the local time info !! DONE !! 869\n",
        "Setting the local time info !! DONE !! 869\n",
        "Setting the local time info !! DONE !! 870\n",
        "Setting the local time info !! DONE !! 870\n",
        "Setting the local time info !! DONE !!"
       ]
      },
      {
       "output_type": "stream",
       "stream": "stdout",
       "text": [
        " 871\n",
        "Setting the local time info !! DONE !! 871\n",
        "Setting the local time info !! DONE !! 872\n",
        "Setting the local time info !! DONE !! 873\n",
        "Setting the local time info !! DONE !! 874\n",
        "Setting the local time info !! DONE !!"
       ]
      },
      {
       "output_type": "stream",
       "stream": "stdout",
       "text": [
        " 875\n",
        "Setting the local time info !! DONE !! 876\n",
        "Setting the local time info !! DONE !! 877\n",
        "Setting the local time info !! DONE !! 878\n",
        "Setting the local time info !! DONE !! 878\n",
        "Setting the local time info !! DONE !! 878\n",
        "Setting the local time info !! DONE !! 879\n",
        "Setting the local time info !! DONE !! 879\n",
        "Setting the local time info !! DONE !! 879\n",
        "Setting the local time info !! DONE !! 879\n",
        "Setting the local time info !! DONE !! 880\n",
        "Setting the local time info !! DONE !! 880\n",
        "Setting the local time info !! DONE !! 880\n",
        "Setting the local time info !! DONE !!"
       ]
      },
      {
       "output_type": "stream",
       "stream": "stdout",
       "text": [
        " 881\n",
        "Setting the local time info !! DONE !! 881\n",
        "Setting the local time info !! DONE !! 881\n",
        "Setting the local time info !! DONE !! 881\n",
        "Setting the local time info !! DONE !! 881\n",
        "Setting the local time info !! DONE !! 881\n",
        "Setting the local time info !! DONE !! 882\n",
        "Setting the local time info !! DONE !! 882\n",
        "Setting the local time info !! DONE !! 883\n",
        "Setting the local time info !! DONE !! 883\n",
        "Setting the local time info !! DONE !! 883\n",
        "Setting the local time info !! DONE !! 883\n",
        "Setting the local time info !! DONE !!"
       ]
      },
      {
       "output_type": "stream",
       "stream": "stdout",
       "text": [
        " 884\n",
        "Setting the local time info !! DONE !! 884\n",
        "Setting the local time info !! DONE !! 885\n",
        "Setting the local time info !! DONE !! 885\n",
        "Setting the local time info !! DONE !! 885\n",
        "Setting the local time info !! DONE !! 885\n",
        "Setting the local time info !! DONE !! 885\n",
        "Setting the local time info !! DONE !! 886\n",
        "Setting the local time info !! DONE !! 886\n",
        "Setting the local time info !! DONE !! 886\n",
        "Setting the local time info !! DONE !! 886\n",
        "Setting the local time info !! DONE !! 887\n",
        "Setting the local time info !! DONE !! 887\n",
        "Setting the local time info !! DONE !! 887\n",
        "Setting the local time info !! DONE !! 887\n",
        "Setting the local time info !! DONE !! 887\n",
        "Setting the local time info !! DONE !! 887\n",
        "Setting the local time info !! DONE !! 887\n",
        "Setting the local time info !! DONE !! 887\n",
        "Setting the local time info !! DONE !! 887\n",
        "Setting the local time info !! DONE !! 888\n",
        "Setting the local time info !! DONE !! 888\n",
        "Setting the local time info !! DONE !! 888\n",
        "Setting the local time info !! DONE !! 888\n",
        "Setting the local time info !! DONE !! 888\n",
        "Setting the local time info !! DONE !! 888\n",
        "Setting the local time info !! DONE !! 888\n",
        "Setting the local time info !! DONE !! 889\n",
        "Setting the local time info !! DONE !! 889\n",
        "Setting the local time info !! DONE !!"
       ]
      },
      {
       "output_type": "stream",
       "stream": "stdout",
       "text": [
        " 890\n",
        "Setting the local time info !! DONE !! 891\n",
        "Setting the local time info !! DONE !! 892\n",
        "Setting the local time info !! DONE !! 892\n",
        "Setting the local time info !! DONE !! 892\n",
        "Setting the local time info !! DONE !! 892\n",
        "Setting the local time info !! DONE !! 892\n",
        "Setting the local time info !! DONE !!"
       ]
      },
      {
       "output_type": "stream",
       "stream": "stdout",
       "text": [
        " 893\n",
        "Setting the local time info !! DONE !! 893\n",
        "Setting the local time info !! DONE !! 893\n",
        "Setting the local time info !! DONE !! 893\n",
        "Setting the local time info !! DONE !! 893\n",
        "Setting the local time info !! DONE !! 893\n",
        "Setting the local time info !! DONE !! 893\n",
        "Setting the local time info !! DONE !! 894\n",
        "Setting the local time info !! DONE !! 894\n",
        "Setting the local time info !! DONE !! 895\n",
        "Setting the local time info !! DONE !! 895\n",
        "Setting the local time info !! DONE !! 895\n",
        "Setting the local time info !! DONE !! 895\n",
        "Setting the local time info !! DONE !! 895\n",
        "Setting the local time info !! DONE !! 895\n",
        "Setting the local time info !! DONE !! 895\n",
        "Setting the local time info !! DONE !! 895\n",
        "Setting the local time info !! DONE !! 895\n",
        "Setting the local time info !! DONE !! 895\n",
        "Setting the local time info !! DONE !! 895\n",
        "Setting the local time info !! DONE !! 895\n",
        "Setting the local time info !! DONE !! 895\n",
        "Setting the local time info !! DONE !! 895\n",
        "Setting the local time info !! DONE !!"
       ]
      },
      {
       "output_type": "stream",
       "stream": "stdout",
       "text": [
        " 896\n",
        "Setting the local time info !! DONE !! 896\n",
        "Setting the local time info !! DONE !! 897\n",
        "Setting the local time info !! DONE !! 898\n",
        "Setting the local time info !! DONE !! 898\n",
        "Setting the local time info !! DONE !! 898\n",
        "Setting the local time info !! DONE !!"
       ]
      },
      {
       "output_type": "stream",
       "stream": "stdout",
       "text": [
        " 899\n",
        "Setting the local time info !! DONE !! 899\n",
        "Setting the local time info !! DONE !! 900\n",
        "Setting the local time info !! DONE !! 901\n",
        "Setting the local time info !! DONE !! 901\n",
        "Setting the local time info !! DONE !! 901\n",
        "Setting the local time info !! DONE !! 901\n",
        "Setting the local time info !! DONE !!"
       ]
      },
      {
       "output_type": "stream",
       "stream": "stdout",
       "text": [
        " 902\n",
        "Setting the local time info !! DONE !! 902\n",
        "Setting the local time info !! DONE !! 903\n",
        "Setting the local time info !! DONE !! 904\n",
        "Setting the local time info !! DONE !! "
       ]
      },
      {
       "output_type": "stream",
       "stream": "stdout",
       "text": [
        "905\n",
        "Setting the local time info !! DONE !! 905\n",
        "Setting the local time info !! DONE !! 905\n",
        "Setting the local time info !! DONE !! 905\n",
        "Setting the local time info !! DONE !! 905\n",
        "Setting the local time info !! DONE !! 905\n",
        "Setting the local time info !! DONE !! 905\n",
        "Setting the local time info !! DONE !! 905\n",
        "Setting the local time info !! DONE !! 905\n",
        "Setting the local time info !! DONE !! 906\n",
        "Setting the local time info !! DONE !! 906\n",
        "Setting the local time info !! DONE !! 906\n",
        "Setting the local time info !! DONE !! 907\n",
        "Setting the local time info !! DONE !! 907\n",
        "Setting the local time info !! DONE !!"
       ]
      },
      {
       "output_type": "stream",
       "stream": "stdout",
       "text": [
        " 908\n",
        "Setting the local time info !! DONE !! 908\n",
        "Setting the local time info !! DONE !! 908\n",
        "Setting the local time info !! DONE !! 908\n",
        "Setting the local time info !! DONE !! 909\n",
        "Setting the local time info !! DONE !! 910\n",
        "Setting the local time info !! DONE !! 910\n",
        "Setting the local time info !! DONE !! 910\n",
        "Setting the local time info !! DONE !!"
       ]
      },
      {
       "output_type": "stream",
       "stream": "stdout",
       "text": [
        " 911\n",
        "Setting the local time info !! DONE !! 912\n",
        "Setting the local time info !! DONE !! 912\n",
        "Setting the local time info !! DONE !! 912\n",
        "Setting the local time info !! DONE !! 913\n",
        "Setting the local time info !! DONE !! 913\n",
        "Setting the local time info !! DONE !! 913\n",
        "Setting the local time info !! DONE !! 913\n",
        "Setting the local time info !! DONE !! 913\n",
        "Setting the local time info !! DONE !!"
       ]
      },
      {
       "output_type": "stream",
       "stream": "stdout",
       "text": [
        " 914\n",
        "Setting the local time info !! DONE !! 914\n",
        "Setting the local time info !! DONE !! 914\n",
        "Setting the local time info !! DONE !! 914\n",
        "Setting the local time info !! DONE !! 914\n",
        "Setting the local time info !! DONE !! 914\n",
        "Setting the local time info !! DONE !! 914\n",
        "Setting the local time info !! DONE !! 914\n",
        "Setting the local time info !! DONE !! 914\n",
        "Setting the local time info !! DONE !! 914\n",
        "Setting the local time info !! DONE !! 914\n",
        "Setting the local time info !! DONE !! 915\n",
        "Setting the local time info !! DONE !! 916\n",
        "Setting the local time info !! DONE !! 916\n",
        "Setting the local time info !! DONE !! 916\n",
        "Setting the local time info !! DONE !! 916\n",
        "Setting the local time info !! DONE !! 917\n",
        "Setting the local time info !! DONE !!"
       ]
      },
      {
       "output_type": "stream",
       "stream": "stdout",
       "text": [
        " 918\n",
        "Setting the local time info !! DONE !! 919\n",
        "Setting the local time info !! DONE !! 919\n",
        "Setting the local time info !! DONE !! 919\n",
        "Setting the local time info !! DONE !! 920\n",
        "Setting the local time info !! DONE !! 920\n",
        "Setting the local time info !! DONE !! 920\n",
        "Setting the local time info !! DONE !! 921\n",
        "Setting the local time info !! DONE !! 921\n",
        "Setting the local time info !! DONE !! 921\n",
        "Setting the local time info !! DONE !! 921\n",
        "Setting the local time info !! DONE !!"
       ]
      },
      {
       "output_type": "stream",
       "stream": "stdout",
       "text": [
        " 922\n",
        "Setting the local time info !! DONE !! 922\n",
        "Setting the local time info !! DONE !! 923\n",
        "Setting the local time info !! DONE !! 923\n",
        "Setting the local time info !! DONE !! 923\n",
        "Setting the local time info !! DONE !!"
       ]
      },
      {
       "output_type": "stream",
       "stream": "stdout",
       "text": [
        " 924\n",
        "Setting the local time info !! DONE !! 925\n",
        "Setting the local time info !! DONE !!"
       ]
      },
      {
       "output_type": "stream",
       "stream": "stdout",
       "text": [
        " 926\n",
        "Setting the local time info !! DONE !! 926\n",
        "Setting the local time info !! DONE !! 927\n",
        "Setting the local time info !! DONE !! 928\n",
        "Setting the local time info !! DONE !! 928\n",
        "Setting the local time info !! DONE !! 928\n",
        "Setting the local time info !! DONE !! 928\n",
        "Setting the local time info !! DONE !! 928\n",
        "Setting the local time info !! DONE !! 928\n",
        "Setting the local time info !! DONE !! 928\n",
        "Setting the local time info !! DONE !! 928\n",
        "Setting the local time info !! DONE !! 928\n",
        "Setting the local time info !! DONE !! 928\n",
        "Setting the local time info !! DONE !! 928\n",
        "Setting the local time info !! DONE !! 928\n",
        "Setting the local time info !! DONE !! 929\n",
        "Setting the local time info !! DONE !! 929\n",
        "Setting the local time info !! DONE !!"
       ]
      },
      {
       "output_type": "stream",
       "stream": "stdout",
       "text": [
        " 930\n",
        "Setting the local time info !! DONE !! 930\n",
        "Setting the local time info !! DONE !! 930\n",
        "Setting the local time info !! DONE !! 931\n",
        "Setting the local time info !! DONE !! 931\n",
        "Setting the local time info !! DONE !! 931\n",
        "Setting the local time info !! DONE !! 932\n",
        "Setting the local time info !! DONE !! 932\n",
        "Setting the local time info !! DONE !!"
       ]
      },
      {
       "output_type": "stream",
       "stream": "stdout",
       "text": [
        " 933\n",
        "Setting the local time info !! DONE !! 934\n",
        "Setting the local time info !! DONE !! 934\n",
        "Setting the local time info !! DONE !! 935\n",
        "Setting the local time info !! DONE !! 936\n",
        "Setting the local time info !! DONE !! 936\n",
        "Setting the local time info !! DONE !! 936\n",
        "Setting the local time info !! DONE !! 937\n",
        "Setting the local time info !! DONE !! 937\n",
        "Setting the local time info !! DONE !!"
       ]
      },
      {
       "output_type": "stream",
       "stream": "stdout",
       "text": [
        " 938\n",
        "Setting the local time info !! DONE !! 939\n",
        "Setting the local time info !! DONE !! 939\n",
        "Setting the local time info !! DONE !!"
       ]
      },
      {
       "output_type": "stream",
       "stream": "stdout",
       "text": [
        " 940\n",
        "Setting the local time info !! DONE !! 941\n",
        "Setting the local time info !! DONE !! 941\n",
        "Setting the local time info !! DONE !! 941\n",
        "Setting the local time info !! DONE !!"
       ]
      },
      {
       "output_type": "stream",
       "stream": "stdout",
       "text": [
        " 942\n",
        "Setting the local time info !! DONE !! 942\n",
        "Setting the local time info !! DONE !! 943\n",
        "Setting the local time info !! DONE !! 944\n",
        "Setting the local time info !! DONE !! 944\n",
        "Setting the local time info !! DONE !! 944\n",
        "Setting the local time info !! DONE !! 945\n",
        "Setting the local time info !! DONE !! 945\n",
        "Setting the local time info !! DONE !! 945\n",
        "Setting the local time info !! DONE !! 945\n",
        "Setting the local time info !! DONE !! 945\n",
        "Setting the local time info !! DONE !! 945\n",
        "Setting the local time info !! DONE !! 946\n",
        "Setting the local time info !! DONE !! 946\n",
        "Setting the local time info !! DONE !!"
       ]
      },
      {
       "output_type": "stream",
       "stream": "stdout",
       "text": [
        " 947\n",
        "Setting the local time info !! DONE !! 947\n",
        "Setting the local time info !! DONE !! 948\n",
        "Setting the local time info !! DONE !! 948\n",
        "Setting the local time info !! DONE !! 948\n",
        "Setting the local time info !! DONE !!"
       ]
      },
      {
       "output_type": "stream",
       "stream": "stdout",
       "text": [
        " 949\n",
        "Setting the local time info !! DONE !! 950\n",
        "Setting the local time info !! DONE !! 950\n",
        "Setting the local time info !! DONE !! 951\n",
        "Setting the local time info !! DONE !! 951\n",
        "Setting the local time info !! DONE !! 951\n",
        "Setting the local time info !! DONE !! 951\n",
        "Setting the local time info !! DONE !! 952\n",
        "Setting the local time info !! DONE !! 952\n",
        "Setting the local time info !! DONE !!"
       ]
      },
      {
       "output_type": "stream",
       "stream": "stdout",
       "text": [
        " 953\n",
        "Setting the local time info !! DONE !! 953\n",
        "Setting the local time info !! DONE !! 953\n",
        "Setting the local time info !! DONE !! 953\n",
        "Setting the local time info !! DONE !! 953\n",
        "Setting the local time info !! DONE !! 953\n",
        "Setting the local time info !! DONE !! 953\n",
        "Setting the local time info !! DONE !! 953\n",
        "Setting the local time info !! DONE !! 953\n",
        "Setting the local time info !! DONE !! 953\n",
        "Setting the local time info !! DONE !! 953\n",
        "Setting the local time info !! DONE !! 953\n",
        "Setting the local time info !! DONE !! 953\n",
        "Setting the local time info !! DONE !! 954\n",
        "Setting the local time info !! DONE !! 954\n",
        "Setting the local time info !! DONE !! 954\n",
        "Setting the local time info !! DONE !! 955\n",
        "Setting the local time info !! DONE !! 955\n",
        "Setting the local time info !! DONE !! 955\n",
        "Setting the local time info !! DONE !! 956\n",
        "Setting the local time info !! DONE !!"
       ]
      },
      {
       "output_type": "stream",
       "stream": "stdout",
       "text": [
        " 957\n",
        "Setting the local time info !! DONE !! 957\n",
        "Setting the local time info !! DONE !! 958\n",
        "Setting the local time info !! DONE !! 959\n",
        "Setting the local time info !! DONE !! 959\n",
        "Setting the local time info !! DONE !! 959\n",
        "Setting the local time info !! DONE !!"
       ]
      },
      {
       "output_type": "stream",
       "stream": "stdout",
       "text": [
        " 960\n",
        "Setting the local time info !! DONE !! 960\n",
        "Setting the local time info !! DONE !! 960\n",
        "Setting the local time info !! DONE !! 960\n",
        "Setting the local time info !! DONE !! 960\n",
        "Setting the local time info !! DONE !! 960\n",
        "Setting the local time info !! DONE !!"
       ]
      },
      {
       "output_type": "stream",
       "stream": "stdout",
       "text": [
        " 961\n",
        "Setting the local time info !! DONE !! 961\n",
        "Setting the local time info !! DONE !! 962\n",
        "Setting the local time info !! DONE !! 962\n",
        "Setting the local time info !! DONE !! 962\n",
        "Setting the local time info !! DONE !! 962\n",
        "Setting the local time info !! DONE !! 962\n",
        "Setting the local time info !! DONE !! 962\n",
        "Setting the local time info !! DONE !! 962\n",
        "Setting the local time info !! DONE !! 962\n",
        "Setting the local time info !! DONE !! 963\n",
        "Setting the local time info !! DONE !! 963\n",
        "Setting the local time info !! DONE !! 963\n",
        "Setting the local time info !! DONE !! 964\n",
        "Setting the local time info !! DONE !! 964\n",
        "Setting the local time info !! DONE !! 965\n",
        "Setting the local time info !! DONE !! 965\n",
        "Setting the local time info !! DONE !! 965\n",
        "Setting the local time info !! DONE !! 965\n",
        "Setting the local time info !! DONE !! 966\n",
        "Setting the local time info !! DONE !! 966\n",
        "Setting the local time info !! DONE !!"
       ]
      },
      {
       "output_type": "stream",
       "stream": "stdout",
       "text": [
        " 967\n",
        "Setting the local time info !! DONE !! 967\n",
        "Setting the local time info !! DONE !! 968\n",
        "Setting the local time info !! DONE !! 969\n",
        "Setting the local time info !! DONE !! 969\n",
        "Setting the local time info !! DONE !! 969\n",
        "Setting the local time info !! DONE !! 970\n",
        "Setting the local time info !! DONE !!"
       ]
      },
      {
       "output_type": "stream",
       "stream": "stdout",
       "text": [
        " 971\n",
        "Setting the local time info !! DONE !! 971\n",
        "Setting the local time info !! DONE !! 972\n",
        "Setting the local time info !! DONE !! 972\n",
        "Setting the local time info !! DONE !! 973\n",
        "Setting the local time info !! DONE !! 973\n",
        "Setting the local time info !! DONE !! 974\n",
        "Setting the local time info !! DONE !! 975\n",
        "Setting the local time info !! DONE !!"
       ]
      },
      {
       "output_type": "stream",
       "stream": "stdout",
       "text": [
        " 976\n",
        "Setting the local time info !! DONE !! 977\n",
        "Setting the local time info !! DONE !! 977\n",
        "Setting the local time info !! DONE !! 978\n",
        "Setting the local time info !! DONE !! 978\n",
        "Setting the local time info !! DONE !! 978\n",
        "Setting the local time info !! DONE !! 978\n",
        "Setting the local time info !! DONE !! 978\n",
        "Setting the local time info !! DONE !!"
       ]
      },
      {
       "output_type": "stream",
       "stream": "stdout",
       "text": [
        " 979\n",
        "Setting the local time info !! DONE !! 979\n",
        "Setting the local time info !! DONE !! 979\n",
        "Setting the local time info !! DONE !! 979\n",
        "Setting the local time info !! DONE !! 980\n",
        "Setting the local time info !! DONE !! 980\n",
        "Setting the local time info !! DONE !! 981\n",
        "Setting the local time info !! DONE !! 981\n",
        "Setting the local time info !! DONE !! 981\n",
        "Setting the local time info !! DONE !!"
       ]
      },
      {
       "output_type": "stream",
       "stream": "stdout",
       "text": [
        " 982\n",
        "Setting the local time info !! DONE !! 982\n",
        "Setting the local time info !! DONE !! 982\n",
        "Setting the local time info !! DONE !! 983\n",
        "Setting the local time info !! DONE !! 983\n",
        "Setting the local time info !! DONE !! 983\n",
        "Setting the local time info !! DONE !! 983\n",
        "Setting the local time info !! DONE !! 984\n",
        "Setting the local time info !! DONE !! 985\n",
        "Setting the local time info !! DONE !! 985\n",
        "Setting the local time info !! DONE !! 985\n",
        "Setting the local time info !! DONE !! 985\n",
        "Setting the local time info !! DONE !! 985\n",
        "Setting the local time info !! DONE !! 985\n",
        "Setting the local time info !! DONE !! 986\n",
        "Setting the local time info !! DONE !! 987\n",
        "Setting the local time info !! DONE !! 987\n",
        "Setting the local time info !! DONE !! 987\n",
        "Setting the local time info !! DONE !!"
       ]
      },
      {
       "output_type": "stream",
       "stream": "stdout",
       "text": [
        " 988\n",
        "Setting the local time info !! DONE !! 988\n",
        "Setting the local time info !! DONE !! 988\n",
        "Setting the local time info !! DONE !! 988\n",
        "Setting the local time info !! DONE !! 988\n",
        "Setting the local time info !! DONE !! 988\n",
        "Setting the local time info !! DONE !! 989\n",
        "Setting the local time info !! DONE !! 989\n",
        "Setting the local time info !! DONE !! 989\n",
        "Setting the local time info !! DONE !! 990\n",
        "Setting the local time info !! DONE !! 990\n",
        "Setting the local time info !! DONE !! 990\n",
        "Setting the local time info !! DONE !! 991\n",
        "Setting the local time info !! DONE !! 991\n",
        "Setting the local time info !! DONE !! 991\n",
        "Setting the local time info !! DONE !! 991\n",
        "Setting the local time info !! DONE !! 991\n",
        "Setting the local time info !! DONE !! 992\n",
        "Setting the local time info !! DONE !! 992\n",
        "Setting the local time info !! DONE !! 992\n",
        "Setting the local time info !! DONE !! 992\n",
        "Setting the local time info !! DONE !! 992\n",
        "Setting the local time info !! DONE !! 993\n",
        "Setting the local time info !! DONE !! 993\n",
        "Setting the local time info !! DONE !!"
       ]
      },
      {
       "output_type": "stream",
       "stream": "stdout",
       "text": [
        " 994\n",
        "Setting the local time info !! DONE !!"
       ]
      },
      {
       "output_type": "stream",
       "stream": "stdout",
       "text": [
        " 995\n",
        "Setting the local time info !! DONE !! 996\n",
        "Setting the local time info !! DONE !! 996\n",
        "Setting the local time info !! DONE !! 996\n",
        "Setting the local time info !! DONE !! 996\n",
        "Setting the local time info !! DONE !! 997\n",
        "Setting the local time info !! DONE !! 998\n",
        "Setting the local time info !! DONE !! 998\n",
        "Setting the local time info !! DONE !! 999\n",
        "Setting the local time info !! DONE !! 999\n",
        "Setting the local time info !! DONE !! 999\n",
        "Setting the local time info !! DONE !! 999\n",
        "Setting the local time info !! DONE !! 999\n",
        "Setting the local time info !! DONE !! 999\n",
        "Setting the local time info !! DONE !! 999\n",
        "Setting the local time info !! DONE !! 999\n",
        "Setting the local time info !! DONE !!"
       ]
      },
      {
       "output_type": "stream",
       "stream": "stdout",
       "text": [
        " 1000\n",
        "Setting the local time info !! DONE !! 1001\n",
        "Setting the local time info !! DONE !! 1002\n",
        "Setting the local time info !! DONE !! 1002\n",
        "Setting the local time info !! DONE !! 1002\n",
        "Setting the local time info !! DONE !! 1002\n",
        "Setting the local time info !! DONE !! 1002\n",
        "Setting the local time info !! DONE !! 1002\n",
        "Setting the local time info !! DONE !! 1002\n",
        "Setting the local time info !! DONE !! 1002\n",
        "Setting the local time info !! DONE !! 1002\n",
        "Setting the local time info !! DONE !! 1002\n",
        "Setting the local time info !! DONE !! 1002\n",
        "Setting the local time info !! DONE !! 1002\n",
        "Setting the local time info !! DONE !! 1003\n",
        "Setting the local time info !! DONE !!"
       ]
      },
      {
       "output_type": "stream",
       "stream": "stdout",
       "text": [
        " 1004\n",
        "Setting the local time info !! DONE !! 1005\n",
        "Setting the local time info !! DONE !! 1006\n",
        "Setting the local time info !! DONE !! 1006\n",
        "Setting the local time info !! DONE !! 1006\n",
        "Setting the local time info !! DONE !! 1006\n",
        "Setting the local time info !! DONE !! 1006\n",
        "Setting the local time info !! DONE !! 1007\n",
        "Setting the local time info !! DONE !!"
       ]
      },
      {
       "output_type": "stream",
       "stream": "stdout",
       "text": [
        " 1008\n",
        "Setting the local time info !! DONE !! 1009\n",
        "Setting the local time info !! DONE !! 1010\n",
        "Setting the local time info !! DONE !! 1010\n",
        "Setting the local time info !! DONE !! 1010\n",
        "Setting the local time info !! DONE !! 1010\n",
        "Setting the local time info !! DONE !! 1010\n",
        "Setting the local time info !! DONE !! 1010\n",
        "Setting the local time info !! DONE !! 1011\n",
        "Setting the local time info !! DONE !! 1011\n",
        "Setting the local time info !! DONE !!"
       ]
      },
      {
       "output_type": "stream",
       "stream": "stdout",
       "text": [
        " 1012\n",
        "Setting the local time info !! DONE !! 1012\n",
        "Setting the local time info !! DONE !! 1012\n",
        "Setting the local time info !! DONE !! 1013\n",
        "Setting the local time info !! DONE !! 1014\n",
        "Setting the local time info !! DONE !! 1014\n",
        "Setting the local time info !! DONE !! 1015\n",
        "Setting the local time info !! DONE !! 1015\n",
        "Setting the local time info !! DONE !! 1015\n",
        "Setting the local time info !! DONE !! 1015\n",
        "Setting the local time info !! DONE !! 1015\n",
        "Setting the local time info !! DONE !! 1016\n",
        "Setting the local time info !! DONE !! 1016\n",
        "Setting the local time info !! DONE !! 1016\n",
        "Setting the local time info !! DONE !! 1016\n",
        "Setting the local time info !! DONE !! 1017\n",
        "Setting the local time info !! DONE !! 1017\n",
        "Setting the local time info !! DONE !! 1017\n",
        "Setting the local time info !! DONE !! 1017\n",
        "Setting the local time info !! DONE !! 1017\n",
        "Setting the local time info !! DONE !! 1017\n",
        "Setting the local time info !! DONE !! 1018\n",
        "Setting the local time info !! DONE !! 1018\n",
        "Setting the local time info !! DONE !! 1018\n",
        "Setting the local time info !! DONE !! 1018\n",
        "Setting the local time info !! DONE !! 1018\n",
        "Setting the local time info !! DONE !! 1018\n",
        "Setting the local time info !! DONE !!"
       ]
      },
      {
       "output_type": "stream",
       "stream": "stdout",
       "text": [
        " 1019\n",
        "Setting the local time info !! DONE !! 1019\n",
        "Setting the local time info !! DONE !! 1019\n",
        "Setting the local time info !! DONE !! 1020\n",
        "Setting the local time info !! DONE !! 1020\n",
        "Setting the local time info !! DONE !! 1021\n",
        "Setting the local time info !! DONE !! 1021\n",
        "Setting the local time info !! DONE !! 1021\n",
        "Setting the local time info !! DONE !! 1021\n",
        "Setting the local time info !! DONE !! 1022\n",
        "Setting the local time info !! DONE !! 1022\n",
        "Setting the local time info !! DONE !! 1022\n",
        "Setting the local time info !! DONE !! 1022\n",
        "Setting the local time info !! DONE !! 1022\n",
        "Setting the local time info !! DONE !! 1023\n",
        "Setting the local time info !! DONE !! 1023\n",
        "Setting the local time info !! DONE !! 1023\n",
        "Setting the local time info !! DONE !! 1023\n",
        "Setting the local time info !! DONE !! 1023\n",
        "Setting the local time info !! DONE !! 1023\n",
        "Setting the local time info !! DONE !! 1023\n",
        "Setting the local time info !! DONE !! 1023\n",
        "Setting the local time info !! DONE !! 1023\n",
        "Setting the local time info !! DONE !!"
       ]
      },
      {
       "output_type": "stream",
       "stream": "stdout",
       "text": [
        " 1024\n",
        "Setting the local time info !! DONE !! 1024\n",
        "Setting the local time info !! DONE !! 1024\n",
        "Setting the local time info !! DONE !! 1024\n",
        "Setting the local time info !! DONE !! 1024\n",
        "Setting the local time info !! DONE !! 1024\n",
        "Setting the local time info !! DONE !! 1024\n",
        "Setting the local time info !! DONE !! 1024\n",
        "Setting the local time info !! DONE !! 1024\n",
        "Setting the local time info !! DONE !! 1024\n",
        "Setting the local time info !! DONE !! 1024\n",
        "Setting the local time info !! DONE !! 1025\n",
        "Setting the local time info !! DONE !! 1025\n",
        "Setting the local time info !! DONE !! 1026\n",
        "Setting the local time info !! DONE !!"
       ]
      },
      {
       "output_type": "stream",
       "stream": "stdout",
       "text": [
        " 1027\n",
        "Setting the local time info !! DONE !! 1027\n",
        "Setting the local time info !! DONE !! 1027\n",
        "Setting the local time info !! DONE !! 1027\n",
        "Setting the local time info !! DONE !! 1027\n",
        "Setting the local time info !! DONE !! 1027\n",
        "Setting the local time info !! DONE !! 1027\n",
        "Setting the local time info !! DONE !! 1027\n",
        "Setting the local time info !! DONE !! 1028\n",
        "Setting the local time info !! DONE !! 1029\n",
        "Setting the local time info !! DONE !! 1029\n",
        "Setting the local time info !! DONE !! 1029\n",
        "Setting the local time info !! DONE !! 1030\n",
        "Setting the local time info !! DONE !! 1030\n",
        "Setting the local time info !! DONE !! 1031\n",
        "Setting the local time info !! DONE !! 1031\n",
        "Setting the local time info !! DONE !! 1031\n",
        "Setting the local time info !! DONE !! 1031\n",
        "Setting the local time info !! DONE !! 1031\n",
        "Setting the local time info !! DONE !! 1031\n",
        "Setting the local time info !! DONE !! 1031\n",
        "Setting the local time info !! DONE !! 1031\n",
        "Setting the local time info !! DONE !!"
       ]
      },
      {
       "output_type": "stream",
       "stream": "stdout",
       "text": [
        " 1032\n",
        "Setting the local time info !! DONE !! 1033\n",
        "Setting the local time info !! DONE !! 1033\n",
        "Setting the local time info !! DONE !! 1033\n",
        "Setting the local time info !! DONE !! 1033\n",
        "Setting the local time info !! DONE !! 1033\n",
        "Setting the local time info !! DONE !! 1034\n",
        "Setting the local time info !! DONE !! 1034\n",
        "Setting the local time info !! DONE !! 1035\n",
        "Setting the local time info !! DONE !! 1036\n",
        "Setting the local time info !! DONE !! 1037\n",
        "Setting the local time info !! DONE !!"
       ]
      },
      {
       "output_type": "stream",
       "stream": "stdout",
       "text": [
        " 1038\n",
        "Setting the local time info !! DONE !! 1038\n",
        "Setting the local time info !! DONE !! 1039\n",
        "Setting the local time info !! DONE !! 1040\n",
        "Setting the local time info !! DONE !! 1040\n",
        "Setting the local time info !! DONE !! 1040\n",
        "Setting the local time info !! DONE !! 1040\n",
        "Setting the local time info !! DONE !! 1040\n",
        "Setting the local time info !! DONE !!"
       ]
      },
      {
       "output_type": "stream",
       "stream": "stdout",
       "text": [
        " 1041\n",
        "Setting the local time info !! DONE !! 1041\n",
        "Setting the local time info !! DONE !! 1042\n",
        "Setting the local time info !! DONE !!"
       ]
      },
      {
       "output_type": "stream",
       "stream": "stdout",
       "text": [
        " 1043\n",
        "Setting the local time info !! DONE !! 1043\n",
        "Setting the local time info !! DONE !! 1043\n",
        "Setting the local time info !! DONE !! 1043\n",
        "Setting the local time info !! DONE !! 1043\n",
        "Setting the local time info !! DONE !! 1043\n",
        "Setting the local time info !! DONE !! 1044\n",
        "Setting the local time info !! DONE !! 1044\n",
        "Setting the local time info !! DONE !! 1044\n",
        "Setting the local time info !! DONE !! 1044\n",
        "Setting the local time info !! DONE !! 1045\n",
        "Setting the local time info !! DONE !! 1046\n",
        "Setting the local time info !! DONE !!"
       ]
      },
      {
       "output_type": "stream",
       "stream": "stdout",
       "text": [
        " 1047\n",
        "Setting the local time info !! DONE !! 1047\n",
        "Setting the local time info !! DONE !! 1048\n",
        "Setting the local time info !! DONE !! 1048\n",
        "Setting the local time info !! DONE !! 1048\n",
        "Setting the local time info !! DONE !! 1048\n",
        "Setting the local time info !! DONE !! 1048\n",
        "Setting the local time info !! DONE !! 1048\n",
        "Setting the local time info !! DONE !! 1049\n",
        "Setting the local time info !! DONE !! 1050\n",
        "Setting the local time info !! DONE !! 1050\n",
        "Setting the local time info !! DONE !! 1050\n",
        "Setting the local time info !! DONE !!"
       ]
      },
      {
       "output_type": "stream",
       "stream": "stdout",
       "text": [
        " 1051\n",
        "Setting the local time info !! DONE !! 1051\n",
        "Setting the local time info !! DONE !! 1051\n",
        "Setting the local time info !! DONE !! 1051\n",
        "Setting the local time info !! DONE !! 1052\n",
        "Setting the local time info !! DONE !! 1052\n",
        "Setting the local time info !! DONE !! 1052\n",
        "Setting the local time info !! DONE !! 1052\n",
        "Setting the local time info !! DONE !! 1052\n",
        "Setting the local time info !! DONE !! 1052\n",
        "Setting the local time info !! DONE !! 1052\n",
        "Setting the local time info !! DONE !! 1052\n",
        "Setting the local time info !! DONE !! 1053\n",
        "Setting the local time info !! DONE !! 1053\n",
        "Setting the local time info !! DONE !! 1053\n",
        "Setting the local time info !! DONE !! 1053\n",
        "Setting the local time info !! DONE !! 1053\n",
        "Setting the local time info !! DONE !! 1053\n",
        "Setting the local time info !! DONE !! 1054\n",
        "Setting the local time info !! DONE !! 1054\n",
        "Setting the local time info !! DONE !! 1054\n",
        "Setting the local time info !! DONE !! 1054\n",
        "Setting the local time info !! DONE !! 1054\n",
        "Setting the local time info !! DONE !! 1054\n",
        "Setting the local time info !! DONE !! 1054\n",
        "Setting the local time info !! DONE !! 1055\n",
        "Setting the local time info !! DONE !! 1056\n",
        "Setting the local time info !! DONE !! 1056\n",
        "Setting the local time info !! DONE !!"
       ]
      },
      {
       "output_type": "stream",
       "stream": "stdout",
       "text": [
        " 1057\n",
        "Setting the local time info !! DONE !! 1057\n",
        "Setting the local time info !! DONE !! 1058\n",
        "Setting the local time info !! DONE !! 1058\n",
        "Setting the local time info !! DONE !! 1058\n",
        "Setting the local time info !! DONE !! 1058\n",
        "Setting the local time info !! DONE !! 1058\n",
        "Setting the local time info !! DONE !! 1058\n",
        "Setting the local time info !! DONE !! 1058\n",
        "Setting the local time info !! DONE !! 1058\n",
        "Setting the local time info !! DONE !! 1058\n",
        "Setting the local time info !! DONE !! 1058\n",
        "Setting the local time info !! DONE !! 1059\n",
        "Setting the local time info !! DONE !! 1060\n",
        "Setting the local time info !! DONE !! 1060\n",
        "Setting the local time info !! DONE !! 1060\n",
        "Setting the local time info !! DONE !! 1060\n",
        "Setting the local time info !! DONE !! 1060\n",
        "Setting the local time info !! DONE !! 1060\n",
        "Setting the local time info !! DONE !! 1060\n",
        "Setting the local time info !! DONE !! 1060\n",
        "Setting the local time info !! DONE !! 1060\n",
        "Setting the local time info !! DONE !! 1060\n",
        "Setting the local time info !! DONE !! 1060\n",
        "Setting the local time info !! DONE !! 1060\n",
        "Setting the local time info !! DONE !! 1060\n",
        "Setting the local time info !! DONE !! 1060\n",
        "Setting the local time info !! DONE !! 1060\n",
        "Setting the local time info !! DONE !! 1061\n",
        "Setting the local time info !! DONE !! 1061\n",
        "Setting the local time info !! DONE !! 1061\n",
        "Setting the local time info !! DONE !! 1061\n",
        "Setting the local time info !! DONE !! 1061\n",
        "Setting the local time info !! DONE !! 1061\n",
        "Setting the local time info !! DONE !! 1061\n",
        "Setting the local time info !! DONE !! 1061\n",
        "Setting the local time info !! DONE !! 1061\n",
        "Setting the local time info !! DONE !! 1061\n",
        "Setting the local time info !! DONE !!"
       ]
      },
      {
       "output_type": "stream",
       "stream": "stdout",
       "text": [
        " 1062\n",
        "Setting the local time info !! DONE !! 1062\n",
        "Setting the local time info !! DONE !! 1062\n",
        "Setting the local time info !! DONE !! 1062\n",
        "Setting the local time info !! DONE !! 1063\n",
        "Setting the local time info !! DONE !! 1063\n",
        "Setting the local time info !! DONE !! 1064\n",
        "Setting the local time info !! DONE !! 1064\n",
        "Setting the local time info !! DONE !! 1064\n",
        "Setting the local time info !! DONE !! 1064\n",
        "Setting the local time info !! DONE !! 1064\n",
        "Setting the local time info !! DONE !! 1065\n",
        "Setting the local time info !! DONE !! 1066\n",
        "Setting the local time info !! DONE !!"
       ]
      },
      {
       "output_type": "stream",
       "stream": "stdout",
       "text": [
        " 1067\n",
        "Setting the local time info !! DONE !! 1067\n",
        "Setting the local time info !! DONE !! 1067\n",
        "Setting the local time info !! DONE !! 1067\n",
        "Setting the local time info !! DONE !! 1067\n",
        "Setting the local time info !! DONE !! 1068\n",
        "Setting the local time info !! DONE !! 1069\n",
        "Setting the local time info !! DONE !! 1069\n",
        "Setting the local time info !! DONE !! 1069\n",
        "Setting the local time info !! DONE !! 1069\n",
        "Setting the local time info !! DONE !! 1069\n",
        "Setting the local time info !! DONE !! 1069\n",
        "Setting the local time info !! DONE !! 1069\n",
        "Setting the local time info !! DONE !! 1069\n",
        "Setting the local time info !! DONE !! 1069\n",
        "Setting the local time info !! DONE !! 1069\n",
        "Setting the local time info !! DONE !! 1069\n",
        "Setting the local time info !! DONE !! 1069\n",
        "Setting the local time info !! DONE !! 1069\n",
        "Setting the local time info !! DONE !! 1069\n",
        "Setting the local time info !! DONE !! 1069\n",
        "Setting the local time info !! DONE !! 1069\n",
        "Setting the local time info !! DONE !! 1069\n",
        "Setting the local time info !! DONE !! 1069\n",
        "Setting the local time info !! DONE !! 1069\n",
        "Setting the local time info !! DONE !! 1070\n",
        "Setting the local time info !! DONE !! 1070\n",
        "Setting the local time info !! DONE !! 1070\n",
        "Setting the local time info !! DONE !!"
       ]
      },
      {
       "output_type": "stream",
       "stream": "stdout",
       "text": [
        " 1071\n",
        "Setting the local time info !! DONE !! 1072\n",
        "Setting the local time info !! DONE !! 1072\n",
        "Setting the local time info !! DONE !! 1073\n",
        "Setting the local time info !! DONE !! 1074\n",
        "Setting the local time info !! DONE !! 1074\n",
        "Setting the local time info !! DONE !! 1074\n",
        "Setting the local time info !! DONE !! 1075\n",
        "Setting the local time info !! DONE !! 1075\n",
        "Setting the local time info !! DONE !! 1075\n",
        "Setting the local time info !! DONE !! 1075\n",
        "Setting the local time info !! DONE !! 1076\n",
        "Setting the local time info !! DONE !! 1076\n",
        "Setting the local time info !! DONE !! 1076\n",
        "Setting the local time info !! DONE !! 1076\n",
        "Setting the local time info !! DONE !! 1076\n",
        "Setting the local time info !! DONE !!"
       ]
      },
      {
       "output_type": "stream",
       "stream": "stdout",
       "text": [
        " 1077\n",
        "Setting the local time info !! DONE !! 1078\n",
        "Setting the local time info !! DONE !! 1078\n",
        "Setting the local time info !! DONE !! 1078\n",
        "Setting the local time info !! DONE !! 1079\n",
        "Setting the local time info !! DONE !! 1079\n",
        "Setting the local time info !! DONE !! 1079\n",
        "Setting the local time info !! DONE !! 1080\n",
        "Setting the local time info !! DONE !! 1081\n",
        "Setting the local time info !! DONE !! 1081\n",
        "Setting the local time info !! DONE !! 1081\n",
        "Setting the local time info !! DONE !! 1081\n",
        "Setting the local time info !! DONE !! 1081\n",
        "Setting the local time info !! DONE !! 1081\n",
        "Setting the local time info !! DONE !! 1081\n",
        "Setting the local time info !! DONE !! 1081\n",
        "Setting the local time info !! DONE !! 1081\n",
        "Setting the local time info !! DONE !! 1081\n",
        "Setting the local time info !! DONE !! 1081\n",
        "Setting the local time info !! DONE !! 1081\n",
        "Setting the local time info !! DONE !! 1082\n",
        "Setting the local time info !! DONE !!"
       ]
      },
      {
       "output_type": "stream",
       "stream": "stdout",
       "text": [
        " 1083\n",
        "Setting the local time info !! DONE !! 1083\n",
        "Setting the local time info !! DONE !! 1083\n",
        "Setting the local time info !! DONE !! 1083\n",
        "Setting the local time info !! DONE !! 1084\n",
        "Setting the local time info !! DONE !! 1084\n",
        "Setting the local time info !! DONE !! 1084\n",
        "Setting the local time info !! DONE !! 1084\n",
        "Setting the local time info !! DONE !! 1084\n",
        "Setting the local time info !! DONE !! 1084\n",
        "Setting the local time info !! DONE !! 1085\n",
        "Setting the local time info !! DONE !!"
       ]
      },
      {
       "output_type": "stream",
       "stream": "stdout",
       "text": [
        " 1086\n",
        "Setting the local time info !! DONE !! 1087\n",
        "Setting the local time info !! DONE !! 1088\n",
        "Setting the local time info !! DONE !! 1088\n",
        "Setting the local time info !! DONE !!"
       ]
      },
      {
       "output_type": "stream",
       "stream": "stdout",
       "text": [
        " 1089\n",
        "Setting the local time info !! DONE !! 1090\n",
        "Setting the local time info !! DONE !! 1090\n",
        "Setting the local time info !! DONE !! 1090\n",
        "Setting the local time info !! DONE !! 1090\n",
        "Setting the local time info !! DONE !! 1090\n",
        "Setting the local time info !! DONE !! 1090\n",
        "Setting the local time info !! DONE !! 1090\n",
        "Setting the local time info !! DONE !! 1090\n",
        "Setting the local time info !! DONE !!"
       ]
      },
      {
       "output_type": "stream",
       "stream": "stdout",
       "text": [
        " 1091\n",
        "Setting the local time info !! DONE !! 1092\n",
        "Setting the local time info !! DONE !! 1092\n",
        "Setting the local time info !! DONE !! 1092\n",
        "Setting the local time info !! DONE !! 1092\n",
        "Setting the local time info !! DONE !! 1092\n",
        "Setting the local time info !! DONE !! 1092\n",
        "Setting the local time info !! DONE !! 1092\n",
        "Setting the local time info !! DONE !! 1093\n",
        "Setting the local time info !! DONE !! 1093\n",
        "Setting the local time info !! DONE !! 1093\n",
        "Setting the local time info !! DONE !! 1094\n",
        "Setting the local time info !! DONE !! 1094\n",
        "Setting the local time info !! DONE !! 1094\n",
        "Setting the local time info !! DONE !! 1094\n",
        "Setting the local time info !! DONE !!"
       ]
      },
      {
       "output_type": "stream",
       "stream": "stdout",
       "text": [
        " 1095\n",
        "Setting the local time info !! DONE !! 1095\n",
        "Setting the local time info !! DONE !! 1096\n",
        "Setting the local time info !! DONE !! 1096\n",
        "Setting the local time info !! DONE !! 1097\n",
        "Setting the local time info !! DONE !! 1098\n",
        "Setting the local time info !! DONE !! 1099\n",
        "Setting the local time info !! DONE !! 1099\n",
        "Setting the local time info !! DONE !! 1100\n",
        "Setting the local time info !! DONE !! 1100\n",
        "Setting the local time info !! DONE !! 1100\n",
        "Setting the local time info !! DONE !! 1100\n",
        "Setting the local time info !! DONE !!"
       ]
      },
      {
       "output_type": "stream",
       "stream": "stdout",
       "text": [
        " 1101\n",
        "Setting the local time info !! DONE !! 1101\n",
        "Setting the local time info !! DONE !! 1101\n",
        "Setting the local time info !! DONE !! 1101\n",
        "Setting the local time info !! DONE !! 1101\n",
        "Setting the local time info !! DONE !! 1101\n",
        "Setting the local time info !! DONE !! 1102\n",
        "Setting the local time info !! DONE !! 1102\n",
        "Setting the local time info !! DONE !! 1103\n",
        "Setting the local time info !! DONE !! 1103\n",
        "Setting the local time info !! DONE !! 1103\n",
        "Setting the local time info !! DONE !! 1103\n",
        "Setting the local time info !! DONE !! 1103\n",
        "Setting the local time info !! DONE !! 1103\n",
        "Setting the local time info !! DONE !! 1104\n",
        "Setting the local time info !! DONE !! 1105\n",
        "Setting the local time info !! DONE !! 1106\n",
        "Setting the local time info !! DONE !! 1106\n",
        "Setting the local time info !! DONE !! 1106\n",
        "Setting the local time info !! DONE !! 1106\n",
        "Setting the local time info !! DONE !! 1107\n",
        "Setting the local time info !! DONE !! 1107\n",
        "Setting the local time info !! DONE !!"
       ]
      },
      {
       "output_type": "stream",
       "stream": "stdout",
       "text": [
        " 1108\n",
        "Setting the local time info !! DONE !! 1109\n",
        "Setting the local time info !! DONE !! 1110\n",
        "Setting the local time info !! DONE !! 1110\n",
        "Setting the local time info !! DONE !! 1110\n",
        "Setting the local time info !! DONE !! 1110\n",
        "Setting the local time info !! DONE !! 1110\n",
        "Setting the local time info !! DONE !! 1110\n",
        "Setting the local time info !! DONE !!"
       ]
      },
      {
       "output_type": "stream",
       "stream": "stdout",
       "text": [
        " 1111\n",
        "Setting the local time info !! DONE !! 1111\n",
        "Setting the local time info !! DONE !! 1111\n",
        "Setting the local time info !! DONE !! 1112\n",
        "Setting the local time info !! DONE !! 1112\n",
        "Setting the local time info !! DONE !! 1112\n",
        "Setting the local time info !! DONE !! 1112\n",
        "Setting the local time info !! DONE !! 1112\n",
        "Setting the local time info !! DONE !! 1112\n",
        "Setting the local time info !! DONE !! 1112\n",
        "Setting the local time info !! DONE !! 1112\n",
        "Setting the local time info !! DONE !! 1112\n",
        "Setting the local time info !! DONE !! 1113\n",
        "Setting the local time info !! DONE !! 1113\n",
        "Setting the local time info !! DONE !! 1113\n",
        "Setting the local time info !! DONE !! 1114\n",
        "Setting the local time info !! DONE !!"
       ]
      },
      {
       "output_type": "stream",
       "stream": "stdout",
       "text": [
        " 1115\n",
        "Setting the local time info !! DONE !! 1115\n",
        "Setting the local time info !! DONE !! 1115\n",
        "Setting the local time info !! DONE !! 1115\n",
        "Setting the local time info !! DONE !! 1115\n",
        "Setting the local time info !! DONE !! 1115\n",
        "Setting the local time info !! DONE !! 1115\n",
        "Setting the local time info !! DONE !! 1116\n",
        "Setting the local time info !! DONE !! 1116\n",
        "Setting the local time info !! DONE !! 1116\n",
        "Setting the local time info !! DONE !! 1116\n",
        "Setting the local time info !! DONE !! 1116\n",
        "Setting the local time info !! DONE !! 1116\n",
        "Setting the local time info !! DONE !! 1116\n",
        "Setting the local time info !! DONE !! 1116\n",
        "Setting the local time info !! DONE !! 1117\n",
        "Setting the local time info !! DONE !! 1117\n",
        "Setting the local time info !! DONE !! 1117\n",
        "Setting the local time info !! DONE !! 1117\n",
        "Setting the local time info !! DONE !! 1117\n",
        "Setting the local time info !! DONE !! 1117\n",
        "Setting the local time info !! DONE !! 1117\n",
        "Setting the local time info !! DONE !!"
       ]
      },
      {
       "output_type": "stream",
       "stream": "stdout",
       "text": [
        " 1118\n",
        "Setting the local time info !! DONE !! 1118\n",
        "Setting the local time info !! DONE !! 1118\n",
        "Setting the local time info !! DONE !! 1118\n",
        "Setting the local time info !! DONE !! 1118\n",
        "Setting the local time info !! DONE !! 1119\n",
        "Setting the local time info !! DONE !! 1120\n",
        "Setting the local time info !! DONE !! 1121\n",
        "Setting the local time info !! DONE !! 1121\n",
        "Setting the local time info !! DONE !! 1121\n",
        "Setting the local time info !! DONE !! 1121\n",
        "Setting the local time info !! DONE !! 1121\n",
        "Setting the local time info !! DONE !! 1121\n",
        "Setting the local time info !! DONE !! 1121\n",
        "Setting the local time info !! DONE !!"
       ]
      },
      {
       "output_type": "stream",
       "stream": "stdout",
       "text": [
        " 1122\n",
        "Setting the local time info !! DONE !! 1122\n",
        "Setting the local time info !! DONE !! 1123\n",
        "Setting the local time info !! DONE !! 1123\n",
        "Setting the local time info !! DONE !! 1124\n",
        "Setting the local time info !! DONE !! 1124\n",
        "Setting the local time info !! DONE !! 1124\n",
        "Setting the local time info !! DONE !! 1124\n",
        "Setting the local time info !! DONE !! 1124\n",
        "Setting the local time info !! DONE !!"
       ]
      },
      {
       "output_type": "stream",
       "stream": "stdout",
       "text": [
        " 1125\n",
        "Setting the local time info !! DONE !! 1125\n",
        "Setting the local time info !! DONE !! 1125\n",
        "Setting the local time info !! DONE !! 1126\n",
        "Setting the local time info !! DONE !! 1126\n",
        "Setting the local time info !! DONE !! 1127\n",
        "Setting the local time info !! DONE !! 1128\n",
        "Setting the local time info !! DONE !! 1129\n",
        "Setting the local time info !! DONE !! 1130\n",
        "Setting the local time info !! DONE !!"
       ]
      },
      {
       "output_type": "stream",
       "stream": "stdout",
       "text": [
        " 1131\n",
        "Setting the local time info !! DONE !! 1131\n",
        "Setting the local time info !! DONE !! 1131\n",
        "Setting the local time info !! DONE !! 1132\n",
        "Setting the local time info !! DONE !! 1132\n",
        "Setting the local time info !! DONE !! 1132\n",
        "Setting the local time info !! DONE !! 1132\n",
        "Setting the local time info !! DONE !! 1133\n",
        "Setting the local time info !! DONE !! 1134\n",
        "Setting the local time info !! DONE !! 1134\n",
        "Setting the local time info !! DONE !! 1134\n",
        "Setting the local time info !! DONE !! 1134\n",
        "Setting the local time info !! DONE !! 1134\n",
        "Setting the local time info !! DONE !! 1134\n",
        "Setting the local time info !! DONE !! 1135\n",
        "Setting the local time info !! DONE !! 1135\n",
        "Setting the local time info !! DONE !!"
       ]
      },
      {
       "output_type": "stream",
       "stream": "stdout",
       "text": [
        " 1136\n",
        "Setting the local time info !! DONE !! 1136\n",
        "Setting the local time info !! DONE !! 1136\n",
        "Setting the local time info !! DONE !! 1137\n",
        "Setting the local time info !! DONE !! 1137\n",
        "Setting the local time info !! DONE !! 1137\n",
        "Setting the local time info !! DONE !! 1137\n",
        "Setting the local time info !! DONE !! 1137\n",
        "Setting the local time info !! DONE !! 1137\n",
        "Setting the local time info !! DONE !! 1137\n",
        "Setting the local time info !! DONE !! 1138\n",
        "Setting the local time info !! DONE !! 1138\n",
        "Setting the local time info !! DONE !! 1138\n",
        "Setting the local time info !! DONE !! 1138\n",
        "Setting the local time info !! DONE !! 1138\n",
        "Setting the local time info !! DONE !! 1139\n",
        "Setting the local time info !! DONE !! 1139\n",
        "Setting the local time info !! DONE !! 1139\n",
        "Setting the local time info !! DONE !! 1140\n",
        "Setting the local time info !! DONE !! 1140\n",
        "Setting the local time info !! DONE !! 1140\n",
        "Setting the local time info !! DONE !! 1140\n",
        "Setting the local time info !! DONE !!"
       ]
      },
      {
       "output_type": "stream",
       "stream": "stdout",
       "text": [
        " 1141\n",
        "Setting the local time info !! DONE !! 1141\n",
        "Setting the local time info !! DONE !! 1141\n",
        "Setting the local time info !! DONE !! 1141\n",
        "Setting the local time info !! DONE !! 1142\n",
        "Setting the local time info !! DONE !! 1142\n",
        "Setting the local time info !! DONE !! 1142\n",
        "Setting the local time info !! DONE !! 1142\n",
        "Setting the local time info !! DONE !! 1142\n",
        "Setting the local time info !! DONE !! 1142\n",
        "Setting the local time info !! DONE !! 1142\n",
        "Setting the local time info !! DONE !! 1142\n",
        "Setting the local time info !! DONE !! 1142\n",
        "Setting the local time info !! DONE !! 1142\n",
        "Setting the local time info !! DONE !! 1142\n",
        "Setting the local time info !! DONE !! 1142\n",
        "Setting the local time info !! DONE !! 1142\n",
        "Setting the local time info !! DONE !! 1142\n",
        "Setting the local time info !! DONE !! 1142\n",
        "Setting the local time info !! DONE !! 1143\n",
        "Setting the local time info !! DONE !! 1143\n",
        "Setting the local time info !! DONE !! 1143\n",
        "Setting the local time info !! DONE !! 1143\n",
        "Setting the local time info !! DONE !! 1143\n",
        "Setting the local time info !! DONE !! 1143\n",
        "Setting the local time info !! DONE !! 1143\n",
        "Setting the local time info !! DONE !! 1143\n",
        "Setting the local time info !! DONE !! 1143\n",
        "Setting the local time info !! DONE !! 1144\n",
        "Setting the local time info !! DONE !! 1144\n",
        "Setting the local time info !! DONE !! 1144\n",
        "Setting the local time info !! DONE !! 1144\n",
        "Setting the local time info !! DONE !! 1144\n",
        "Setting the local time info !! DONE !! 1144\n",
        "Setting the local time info !! DONE !! 1144\n",
        "Setting the local time info !! DONE !! 1144\n",
        "Setting the local time info !! DONE !! 1144\n",
        "Setting the local time info !! DONE !! 1145\n",
        "Setting the local time info !! DONE !! 1145\n",
        "Setting the local time info !! DONE !! 1145\n",
        "Setting the local time info !! DONE !! 1145\n",
        "Setting the local time info !! DONE !! 1145\n",
        "Setting the local time info !! DONE !! 1146\n",
        "Setting the local time info !! DONE !! 1147\n",
        "Setting the local time info !! DONE !! 1147\n",
        "Setting the local time info !! DONE !! 1147\n",
        "Setting the local time info !! DONE !!"
       ]
      },
      {
       "output_type": "stream",
       "stream": "stdout",
       "text": [
        " 1148\n",
        "Setting the local time info !! DONE !! 1149\n",
        "Setting the local time info !! DONE !! 1150\n",
        "Setting the local time info !! DONE !! 1150\n",
        "Setting the local time info !! DONE !! 1151\n",
        "Setting the local time info !! DONE !! 1151\n",
        "Setting the local time info !! DONE !! 1151\n",
        "Setting the local time info !! DONE !! 1152\n",
        "Setting the local time info !! DONE !! 1152\n",
        "Setting the local time info !! DONE !! 1152\n",
        "Setting the local time info !! DONE !! 1152\n",
        "Setting the local time info !! DONE !! 1153\n",
        "Setting the local time info !! DONE !! 1153\n",
        "Setting the local time info !! DONE !! 1153\n",
        "Setting the local time info !! DONE !! 1153\n",
        "Setting the local time info !! DONE !! 1153\n",
        "Setting the local time info !! DONE !! 1153\n",
        "Setting the local time info !! DONE !! 1153\n",
        "Setting the local time info !! DONE !! 1153\n",
        "Setting the local time info !! DONE !! 1153\n",
        "Setting the local time info !! DONE !! 1153\n",
        "Setting the local time info !! DONE !! 1153\n",
        "Setting the local time info !! DONE !! 1153\n",
        "Setting the local time info !! DONE !! 1154\n",
        "Setting the local time info !! DONE !! 1154\n",
        "Setting the local time info !! DONE !! 1154\n",
        "Setting the local time info !! DONE !! 1155\n",
        "Setting the local time info !! DONE !! 1155\n",
        "Setting the local time info !! DONE !! 1155\n",
        "Setting the local time info !! DONE !! 1155\n",
        "Setting the local time info !! DONE !! 1155\n",
        "Setting the local time info !! DONE !!"
       ]
      },
      {
       "output_type": "stream",
       "stream": "stdout",
       "text": [
        " 1156\n",
        "Setting the local time info !! DONE !! 1156\n",
        "Setting the local time info !! DONE !! 1157\n",
        "Setting the local time info !! DONE !! 1157\n",
        "Setting the local time info !! DONE !! 1158\n",
        "Setting the local time info !! DONE !!"
       ]
      },
      {
       "output_type": "stream",
       "stream": "stdout",
       "text": [
        " 1159\n",
        "Setting the local time info !! DONE !! 1159\n",
        "Setting the local time info !! DONE !! 1159\n",
        "Setting the local time info !! DONE !! 1159\n",
        "Setting the local time info !! DONE !! 1159\n",
        "Setting the local time info !! DONE !! 1160\n",
        "Setting the local time info !! DONE !! 1161\n",
        "Setting the local time info !! DONE !! 1161\n",
        "Setting the local time info !! DONE !! 1162\n",
        "Setting the local time info !! DONE !! 1162\n",
        "Setting the local time info !! DONE !! 1162\n",
        "Setting the local time info !! DONE !! 1163\n",
        "Setting the local time info !! DONE !! 1163\n",
        "Setting the local time info !! DONE !! 1163\n",
        "Setting the local time info !! DONE !! 1163\n",
        "Setting the local time info !! DONE !! 1163\n",
        "Setting the local time info !! DONE !! 1163\n",
        "Setting the local time info !! DONE !! 1163\n",
        "Setting the local time info !! DONE !! 1164\n",
        "Setting the local time info !! DONE !!"
       ]
      },
      {
       "output_type": "stream",
       "stream": "stdout",
       "text": [
        " 1165\n",
        "Setting the local time info !! DONE !! 1165\n",
        "Setting the local time info !! DONE !! 1165\n",
        "Setting the local time info !! DONE !! 1165\n",
        "Setting the local time info !! DONE !! 1166\n",
        "Setting the local time info !! DONE !! 1166\n",
        "Setting the local time info !! DONE !! 1167\n",
        "Setting the local time info !! DONE !! 1167\n",
        "Setting the local time info !! DONE !! 1167\n",
        "Setting the local time info !! DONE !! 1167\n",
        "Setting the local time info !! DONE !! 1167\n",
        "Setting the local time info !! DONE !! 1167\n",
        "Setting the local time info !! DONE !! 1167\n",
        "Setting the local time info !! DONE !! 1168\n",
        "Setting the local time info !! DONE !! 1168\n",
        "Setting the local time info !! DONE !!"
       ]
      },
      {
       "output_type": "stream",
       "stream": "stdout",
       "text": [
        " 1169\n",
        "Setting the local time info !! DONE !! 1170\n",
        "Setting the local time info !! DONE !! 1170\n",
        "Setting the local time info !! DONE !! 1170\n",
        "Setting the local time info !! DONE !! 1170\n",
        "Setting the local time info !! DONE !! 1170\n",
        "Setting the local time info !! DONE !! 1170\n",
        "Setting the local time info !! DONE !! 1170\n",
        "Setting the local time info !! DONE !! 1170\n",
        "Setting the local time info !! DONE !! 1170\n",
        "Setting the local time info !! DONE !! 1171\n",
        "Setting the local time info !! DONE !! 1171\n",
        "Setting the local time info !! DONE !! 1172\n",
        "Setting the local time info !! DONE !! 1172\n",
        "Setting the local time info !! DONE !! 1172\n",
        "Setting the local time info !! DONE !! 1172\n",
        "Setting the local time info !! DONE !! 1173\n",
        "Setting the local time info !! DONE !! 1174\n",
        "Setting the local time info !! DONE !! 1174\n",
        "Setting the local time info !! DONE !! 1174\n",
        "Setting the local time info !! DONE !! 1174\n",
        "Setting the local time info !! DONE !! 1174\n",
        "Setting the local time info !! DONE !! 1175\n",
        "Setting the local time info !! DONE !! 1175\n",
        "Setting the local time info !! DONE !! 1176\n",
        "Setting the local time info !! DONE !! 1176\n",
        "Setting the local time info !! DONE !! 1176\n",
        "Setting the local time info !! DONE !! 1176\n",
        "Setting the local time info !! DONE !! 1176\n",
        "Setting the local time info !! DONE !! 1176\n",
        "Setting the local time info !! DONE !! 1176\n",
        "Setting the local time info !! DONE !! 1177\n",
        "Setting the local time info !! DONE !!"
       ]
      },
      {
       "output_type": "stream",
       "stream": "stdout",
       "text": [
        " 1178\n",
        "Setting the local time info !! DONE !! 1178\n",
        "Setting the local time info !! DONE !! 1178\n",
        "Setting the local time info !! DONE !! 1178\n",
        "Setting the local time info !! DONE !! 1178\n",
        "Setting the local time info !! DONE !! 1178\n",
        "Setting the local time info !! DONE !! 1178\n",
        "Setting the local time info !! DONE !! 1178\n",
        "Setting the local time info !! DONE !! 1178\n",
        "Setting the local time info !! DONE !! 1178\n",
        "Setting the local time info !! DONE !! 1178\n",
        "Setting the local time info !! DONE !! 1178\n",
        "Setting the local time info !! DONE !! 1178\n",
        "Setting the local time info !! DONE !! 1178\n",
        "Setting the local time info !! DONE !! 1179\n",
        "Setting the local time info !! DONE !! 1179\n",
        "Setting the local time info !! DONE !! 1179\n",
        "Setting the local time info !! DONE !! 1179\n",
        "Setting the local time info !! DONE !! 1179\n",
        "Setting the local time info !! DONE !! 1180\n",
        "Setting the local time info !! DONE !! 1180\n",
        "Setting the local time info !! DONE !! 1180\n",
        "Setting the local time info !! DONE !! 1180\n",
        "Setting the local time info !! DONE !! 1181\n",
        "Setting the local time info !! DONE !! 1181\n",
        "Setting the local time info !! DONE !! 1182\n",
        "Setting the local time info !! DONE !! 1182\n",
        "Setting the local time info !! DONE !! 1183\n",
        "Setting the local time info !! DONE !! 1183\n",
        "Setting the local time info !! DONE !! 1183\n",
        "Setting the local time info !! DONE !! 1183\n",
        "Setting the local time info !! DONE !! 1183\n",
        "Setting the local time info !! DONE !!"
       ]
      },
      {
       "output_type": "stream",
       "stream": "stdout",
       "text": [
        " 1184\n",
        "Setting the local time info !! DONE !! 1184\n",
        "Setting the local time info !! DONE !! 1184\n",
        "Setting the local time info !! DONE !! 1184\n",
        "Setting the local time info !! DONE !! 1184\n",
        "Setting the local time info !! DONE !! 1184\n",
        "Setting the local time info !! DONE !! 1184\n",
        "Setting the local time info !! DONE !! 1184\n",
        "Setting the local time info !! DONE !! 1185\n",
        "Setting the local time info !! DONE !! 1186\n",
        "Setting the local time info !! DONE !! 1186\n",
        "Setting the local time info !! DONE !! 1186\n",
        "Setting the local time info !! DONE !! 1186\n",
        "Setting the local time info !! DONE !! 1186\n",
        "Setting the local time info !! DONE !! 1186\n",
        "Setting the local time info !! DONE !! 1186\n",
        "Setting the local time info !! DONE !! 1186\n",
        "Setting the local time info !! DONE !! 1187\n",
        "Setting the local time info !! DONE !! 1187\n",
        "Setting the local time info !! DONE !! 1187\n",
        "Setting the local time info !! DONE !! 1187\n",
        "Setting the local time info !! DONE !! 1188\n",
        "Setting the local time info !! DONE !! 1188\n",
        "Setting the local time info !! DONE !! 1189\n",
        "Setting the local time info !! DONE !! 1189\n",
        "Setting the local time info !! DONE !! 1189\n",
        "Setting the local time info !! DONE !! 1189\n",
        "Setting the local time info !! DONE !! 1189\n",
        "Setting the local time info !! DONE !!"
       ]
      },
      {
       "output_type": "stream",
       "stream": "stdout",
       "text": [
        " 1190\n",
        "Setting the local time info !! DONE !! 1190\n",
        "Setting the local time info !! DONE !! 1191\n",
        "Setting the local time info !! DONE !! 1191\n",
        "Setting the local time info !! DONE !! 1191\n",
        "Setting the local time info !! DONE !! 1192\n",
        "Setting the local time info !! DONE !! 1192\n",
        "Setting the local time info !! DONE !! 1192\n",
        "Setting the local time info !! DONE !! 1192\n",
        "Setting the local time info !! DONE !! 1192\n",
        "Setting the local time info !! DONE !! 1193\n",
        "Setting the local time info !! DONE !! 1193\n",
        "Setting the local time info !! DONE !!"
       ]
      },
      {
       "output_type": "stream",
       "stream": "stdout",
       "text": [
        " 1194\n",
        "Setting the local time info !! DONE !! 1194\n",
        "Setting the local time info !! DONE !! 1195\n",
        "Setting the local time info !! DONE !! 1195\n",
        "Setting the local time info !! DONE !! 1195\n",
        "Setting the local time info !! DONE !! 1195\n",
        "Setting the local time info !! DONE !! 1195\n",
        "Setting the local time info !! DONE !! 1195\n",
        "Setting the local time info !! DONE !! 1196\n",
        "Setting the local time info !! DONE !! 1196\n",
        "Setting the local time info !! DONE !! 1196\n",
        "Setting the local time info !! DONE !! 1196\n",
        "Setting the local time info !! DONE !! 1196\n",
        "Setting the local time info !! DONE !! 1197\n",
        "Setting the local time info !! DONE !! 1197\n",
        "Setting the local time info !! DONE !! 1197\n",
        "Setting the local time info !! DONE !! 1197\n",
        "Setting the local time info !! DONE !! 1198\n",
        "Setting the local time info !! DONE !! 1199\n",
        "Setting the local time info !! DONE !! 1199\n",
        "Setting the local time info !! DONE !! 1199\n",
        "Setting the local time info !! DONE !! 1199\n",
        "Setting the local time info !! DONE !! 1200\n",
        "Setting the local time info !! DONE !! 1200\n",
        "Setting the local time info !! DONE !! 1200\n",
        "Setting the local time info !! DONE !! 1200\n",
        "Setting the local time info !! DONE !! 1200\n",
        "Setting the local time info !! DONE !! 1200\n",
        "Setting the local time info !! DONE !! 1200\n",
        "Setting the local time info !! DONE !! 1200\n",
        "Setting the local time info !! DONE !! 1200\n",
        "Setting the local time info !! DONE !! 1200\n",
        "Setting the local time info !! DONE !! 1200\n",
        "Setting the local time info !! DONE !! 1200\n",
        "Setting the local time info !! DONE !!"
       ]
      },
      {
       "output_type": "stream",
       "stream": "stdout",
       "text": [
        " 1201\n",
        "Setting the local time info !! DONE !! 1201\n",
        "Setting the local time info !! DONE !! 1202\n",
        "Setting the local time info !! DONE !! 1202\n",
        "Setting the local time info !! DONE !! 1202\n",
        "Setting the local time info !! DONE !! 1202\n",
        "Setting the local time info !! DONE !! 1202\n",
        "Setting the local time info !! DONE !! 1202\n",
        "Setting the local time info !! DONE !! 1202\n",
        "Setting the local time info !! DONE !! 1202\n",
        "Setting the local time info !! DONE !! 1203\n",
        "Setting the local time info !! DONE !! 1203\n",
        "Setting the local time info !! DONE !! 1204\n",
        "Setting the local time info !! DONE !! 1204\n",
        "Setting the local time info !! DONE !! 1204\n",
        "Setting the local time info !! DONE !! 1205\n",
        "Setting the local time info !! DONE !! 1206\n",
        "Setting the local time info !! DONE !! 1206\n",
        "Setting the local time info !! DONE !! 1206\n",
        "Setting the local time info !! DONE !! 1206\n",
        "Setting the local time info !! DONE !!"
       ]
      },
      {
       "output_type": "stream",
       "stream": "stdout",
       "text": [
        " 1207\n",
        "Setting the local time info !! DONE !! 1208\n",
        "Setting the local time info !! DONE !! 1209\n",
        "Setting the local time info !! DONE !! 1209\n",
        "Setting the local time info !! DONE !! 1209\n",
        "Setting the local time info !! DONE !! 1209\n",
        "Setting the local time info !! DONE !! 1210\n",
        "Setting the local time info !! DONE !!"
       ]
      },
      {
       "output_type": "stream",
       "stream": "stdout",
       "text": [
        " 1211\n",
        "Setting the local time info !! DONE !! 1211\n",
        "Setting the local time info !! DONE !! 1211\n",
        "Setting the local time info !! DONE !! 1211\n",
        "Setting the local time info !! DONE !! 1211\n",
        "Setting the local time info !! DONE !! 1211\n",
        "Setting the local time info !! DONE !! 1211\n",
        "Setting the local time info !! DONE !! 1211\n",
        "Setting the local time info !! DONE !! 1211\n",
        "Setting the local time info !! DONE !! 1212\n",
        "Setting the local time info !! DONE !! 1212\n",
        "Setting the local time info !! DONE !! 1212\n",
        "Setting the local time info !! DONE !! 1212\n",
        "Setting the local time info !! DONE !! 1212\n",
        "Setting the local time info !! DONE !! 1212\n",
        "Setting the local time info !! DONE !! 1212\n",
        "Setting the local time info !! DONE !! 1213\n",
        "Setting the local time info !! DONE !! 1214\n",
        "Setting the local time info !! DONE !! 1214\n",
        "Setting the local time info !! DONE !! 1215\n",
        "Setting the local time info !! DONE !! 1215\n",
        "Setting the local time info !! DONE !!"
       ]
      },
      {
       "output_type": "stream",
       "stream": "stdout",
       "text": [
        " 1216\n",
        "Setting the local time info !! DONE !! 1216\n",
        "Setting the local time info !! DONE !! 1216\n",
        "Setting the local time info !! DONE !! 1216\n",
        "Setting the local time info !! DONE !! 1216\n",
        "Setting the local time info !! DONE !! 1216\n",
        "Setting the local time info !! DONE !! 1216\n",
        "Setting the local time info !! DONE !! 1216\n",
        "Setting the local time info !! DONE !! 1216\n",
        "Setting the local time info !! DONE !! 1217\n",
        "Setting the local time info !! DONE !! 1217\n",
        "Setting the local time info !! DONE !! 1217\n",
        "Setting the local time info !! DONE !! 1217\n",
        "Setting the local time info !! DONE !! 1217\n",
        "Setting the local time info !! DONE !! 1218\n",
        "Setting the local time info !! DONE !! 1218\n",
        "Setting the local time info !! DONE !! 1218\n",
        "Setting the local time info !! DONE !! 1218\n",
        "Setting the local time info !! DONE !! 1218\n",
        "Setting the local time info !! DONE !! 1219\n",
        "Setting the local time info !! DONE !! 1220\n",
        "Setting the local time info !! DONE !! 1221\n",
        "Setting the local time info !! DONE !! 1222\n",
        "Setting the local time info !! DONE !! 1223\n",
        "Setting the local time info !! DONE !! 1224\n",
        "Setting the local time info !! DONE !! 1225\n",
        "Setting the local time info !! DONE !! 1225\n",
        "Setting the local time info !! DONE !! 1225\n",
        "Setting the local time info !! DONE !! 1225\n",
        "Setting the local time info !! DONE !! 1225\n",
        "Setting the local time info !! DONE !! 1225\n",
        "Setting the local time info !! DONE !! 1225\n",
        "Setting the local time info !! DONE !!"
       ]
      },
      {
       "output_type": "stream",
       "stream": "stdout",
       "text": [
        " 1226\n",
        "Setting the local time info !! DONE !! 1227\n",
        "Setting the local time info !! DONE !! 1227\n",
        "Setting the local time info !! DONE !! 1227\n",
        "Setting the local time info !! DONE !! 1227\n",
        "Setting the local time info !! DONE !! 1228\n",
        "Setting the local time info !! DONE !! 1229\n",
        "Setting the local time info !! DONE !! 1229\n",
        "Setting the local time info !! DONE !! 1229\n",
        "Setting the local time info !! DONE !! 1230\n",
        "Setting the local time info !! DONE !!"
       ]
      },
      {
       "output_type": "stream",
       "stream": "stdout",
       "text": [
        " 1231\n",
        "Setting the local time info !! DONE !! 1232\n",
        "Setting the local time info !! DONE !! 1232\n",
        "Setting the local time info !! DONE !! 1232\n",
        "Setting the local time info !! DONE !! 1232\n",
        "Setting the local time info !! DONE !! 1232\n",
        "Setting the local time info !! DONE !! 1232\n",
        "Setting the local time info !! DONE !! 1233\n",
        "Setting the local time info !! DONE !! 1233\n",
        "Setting the local time info !! DONE !! 1233\n",
        "Setting the local time info !! DONE !! 1234\n",
        "Setting the local time info !! DONE !! 1234\n",
        "Setting the local time info !! DONE !! 1234\n",
        "Setting the local time info !! DONE !! 1234\n",
        "Setting the local time info !! DONE !! 1234\n",
        "Setting the local time info !! DONE !! 1234\n",
        "Setting the local time info !! DONE !! 1234\n",
        "Setting the local time info !! DONE !! 1234\n",
        "Setting the local time info !! DONE !! 1234\n",
        "Setting the local time info !! DONE !!"
       ]
      },
      {
       "output_type": "stream",
       "stream": "stdout",
       "text": [
        " 1235\n",
        "Setting the local time info !! DONE !! 1236\n",
        "Setting the local time info !! DONE !! 1236\n",
        "Setting the local time info !! DONE !! 1236\n",
        "Setting the local time info !! DONE !! 1236\n",
        "Setting the local time info !! DONE !! 1237\n",
        "Setting the local time info !! DONE !! 1238\n",
        "Setting the local time info !! DONE !! 1238\n",
        "Setting the local time info !! DONE !! 1239\n",
        "Setting the local time info !! DONE !! 1239\n",
        "Setting the local time info !! DONE !! 1239\n",
        "Setting the local time info !! DONE !! 1239\n",
        "Setting the local time info !! DONE !! 1239\n",
        "Setting the local time info !! DONE !! 1240\n",
        "Setting the local time info !! DONE !! 1240\n",
        "Setting the local time info !! DONE !! 1241\n",
        "Setting the local time info !! DONE !! 1241\n",
        "Setting the local time info !! DONE !! 1242\n",
        "Setting the local time info !! DONE !! 1242\n",
        "Setting the local time info !! DONE !!"
       ]
      },
      {
       "output_type": "stream",
       "stream": "stdout",
       "text": [
        " 1243\n",
        "Setting the local time info !! DONE !! 1243\n",
        "Setting the local time info !! DONE !! 1243\n",
        "Setting the local time info !! DONE !! 1243\n",
        "Setting the local time info !! DONE !! 1243\n",
        "Setting the local time info !! DONE !! 1244\n",
        "Setting the local time info !! DONE !! 1244\n",
        "Setting the local time info !! DONE !! 1245\n",
        "Setting the local time info !! DONE !! 1245\n",
        "Setting the local time info !! DONE !! 1245\n",
        "Setting the local time info !! DONE !! 1245\n",
        "Setting the local time info !! DONE !! 1245\n",
        "Setting the local time info !! DONE !! 1245\n",
        "Setting the local time info !! DONE !! 1246\n",
        "Setting the local time info !! DONE !! 1246\n",
        "Setting the local time info !! DONE !! 1246\n",
        "Setting the local time info !! DONE !! 1247\n",
        "Setting the local time info !! DONE !! 1248\n",
        "Setting the local time info !! DONE !! 1248\n",
        "Setting the local time info !! DONE !! 1248\n",
        "Setting the local time info !! DONE !! 1249\n",
        "Setting the local time info !! DONE !! 1249\n",
        "Setting the local time info !! DONE !! 1250\n",
        "Setting the local time info !! DONE !! 1251\n",
        "Setting the local time info !! DONE !!"
       ]
      },
      {
       "output_type": "stream",
       "stream": "stdout",
       "text": [
        " 1252\n",
        "Setting the local time info !! DONE !! 1253\n",
        "Setting the local time info !! DONE !! 1254\n",
        "Setting the local time info !! DONE !! 1254\n",
        "Setting the local time info !! DONE !! 1255\n",
        "Setting the local time info !! DONE !! 1255\n",
        "Setting the local time info !! DONE !! 1255\n",
        "Setting the local time info !! DONE !! 1255\n",
        "Setting the local time info !! DONE !! 1255\n",
        "Setting the local time info !! DONE !! 1255\n",
        "Setting the local time info !! DONE !! 1255\n",
        "Setting the local time info !! DONE !! 1255\n",
        "Setting the local time info !! DONE !! 1255\n",
        "Setting the local time info !! DONE !! 1255\n",
        "Setting the local time info !! DONE !! 1255\n",
        "Setting the local time info !! DONE !! 1255\n",
        "Setting the local time info !! DONE !! 1256\n",
        "Setting the local time info !! DONE !! 1256\n",
        "Setting the local time info !! DONE !! 1257\n",
        "Setting the local time info !! DONE !! 1257\n",
        "Setting the local time info !! DONE !! 1257\n",
        "Setting the local time info !! DONE !! 1257\n",
        "Setting the local time info !! DONE !! 1257\n",
        "Setting the local time info !! DONE !! 1258\n",
        "Setting the local time info !! DONE !! 1258\n",
        "Setting the local time info !! DONE !! 1259\n",
        "Setting the local time info !! DONE !! 1259\n",
        "Setting the local time info !! DONE !! 1259\n",
        "Setting the local time info !! DONE !! 1259\n",
        "Setting the local time info !! DONE !!"
       ]
      },
      {
       "output_type": "stream",
       "stream": "stdout",
       "text": [
        " 1260\n",
        "Setting the local time info !! DONE !! 1260\n",
        "Setting the local time info !! DONE !! 1260\n",
        "Setting the local time info !! DONE !! 1260\n",
        "Setting the local time info !! DONE !! 1260\n",
        "Setting the local time info !! DONE !! 1261\n",
        "Setting the local time info !! DONE !! 1262\n",
        "Setting the local time info !! DONE !! 1262\n",
        "Setting the local time info !! DONE !! 1262\n",
        "Setting the local time info !! DONE !! 1262\n",
        "Setting the local time info !! DONE !! 1263\n",
        "Setting the local time info !! DONE !! 1263\n",
        "Setting the local time info !! DONE !! 1263\n",
        "Setting the local time info !! DONE !! 1264\n",
        "Setting the local time info !! DONE !! 1264\n",
        "Setting the local time info !! DONE !! 1264\n",
        "Setting the local time info !! DONE !!"
       ]
      },
      {
       "output_type": "stream",
       "stream": "stdout",
       "text": [
        " 1265\n",
        "Setting the local time info !! DONE !! 1266\n",
        "Setting the local time info !! DONE !! 1267\n",
        "Setting the local time info !! DONE !! 1267\n",
        "Setting the local time info !! DONE !! 1267\n",
        "Setting the local time info !! DONE !!"
       ]
      },
      {
       "output_type": "stream",
       "stream": "stdout",
       "text": [
        " 1268\n",
        "Setting the local time info !! DONE !! 1268\n",
        "Setting the local time info !! DONE !! 1268\n",
        "Setting the local time info !! DONE !! 1268\n",
        "Setting the local time info !! DONE !! 1268\n",
        "Setting the local time info !! DONE !! 1268\n",
        "Setting the local time info !! DONE !! 1268\n",
        "Setting the local time info !! DONE !! 1268\n",
        "Setting the local time info !! DONE !! 1268\n",
        "Setting the local time info !! DONE !! 1269\n",
        "Setting the local time info !! DONE !! 1270\n",
        "Setting the local time info !! DONE !! 1271\n",
        "Setting the local time info !! DONE !!"
       ]
      },
      {
       "output_type": "stream",
       "stream": "stdout",
       "text": [
        " 1272\n",
        "Setting the local time info !! DONE !! 1272\n",
        "Setting the local time info !! DONE !! 1272\n",
        "Setting the local time info !! DONE !! 1272\n",
        "Setting the local time info !! DONE !! 1272\n",
        "Setting the local time info !! DONE !! 1273\n",
        "Setting the local time info !! DONE !! 1273\n",
        "Setting the local time info !! DONE !! 1274\n",
        "Setting the local time info !! DONE !! 1275\n",
        "Setting the local time info !! DONE !! 1276\n",
        "Setting the local time info !! DONE !! 1276\n",
        "Setting the local time info !! DONE !! 1276\n",
        "Setting the local time info !! DONE !! 1276\n",
        "Setting the local time info !! DONE !! 1276\n",
        "Setting the local time info !! DONE !! 1276\n",
        "Setting the local time info !! DONE !! 1277\n",
        "Setting the local time info !! DONE !! 1277\n",
        "Setting the local time info !! DONE !! 1277\n",
        "Setting the local time info !! DONE !!"
       ]
      },
      {
       "output_type": "stream",
       "stream": "stdout",
       "text": [
        " 1278\n",
        "Setting the local time info !! DONE !! 1278\n",
        "Setting the local time info !! DONE !! 1278\n",
        "Setting the local time info !! DONE !! 1279\n",
        "Setting the local time info !! DONE !! 1279\n",
        "Setting the local time info !! DONE !! 1280\n",
        "Setting the local time info !! DONE !! 1280\n",
        "Setting the local time info !! DONE !!"
       ]
      },
      {
       "output_type": "stream",
       "stream": "stdout",
       "text": [
        " 1281\n",
        "Setting the local time info !! DONE !! 1282\n",
        "Setting the local time info !! DONE !! 1282\n",
        "Setting the local time info !! DONE !! 1282\n",
        "Setting the local time info !! DONE !! 1282\n",
        "Setting the local time info !! DONE !! 1282\n",
        "Setting the local time info !! DONE !! 1282\n",
        "Setting the local time info !! DONE !! 1282\n",
        "Setting the local time info !! DONE !! 1282\n",
        "Setting the local time info !! DONE !! 1282\n",
        "Setting the local time info !! DONE !! 1282\n",
        "Setting the local time info !! DONE !! 1282\n",
        "Setting the local time info !! DONE !! 1282\n",
        "Setting the local time info !! DONE !! 1283\n",
        "Setting the local time info !! DONE !! 1283\n",
        "Setting the local time info !! DONE !! 1284\n",
        "Setting the local time info !! DONE !! 1285\n",
        "Setting the local time info !! DONE !! 1285\n",
        "Setting the local time info !! DONE !! 1285\n",
        "Setting the local time info !! DONE !! 1285\n",
        "Setting the local time info !! DONE !! 1285\n",
        "Setting the local time info !! DONE !! 1285\n",
        "Setting the local time info !! DONE !! 1285\n",
        "Setting the local time info !! DONE !! 1285\n",
        "Setting the local time info !! DONE !! 1285\n",
        "Setting the local time info !! DONE !! 1285\n",
        "Setting the local time info !! DONE !! 1286\n",
        "Setting the local time info !! DONE !!"
       ]
      },
      {
       "output_type": "stream",
       "stream": "stdout",
       "text": [
        " 1287\n",
        "Setting the local time info !! DONE !! 1287\n",
        "Setting the local time info !! DONE !! 1287\n",
        "Setting the local time info !! DONE !! 1287\n",
        "Setting the local time info !! DONE !! 1287\n",
        "Setting the local time info !! DONE !! 1287\n",
        "Setting the local time info !! DONE !! 1288\n",
        "Setting the local time info !! DONE !! 1288\n",
        "Setting the local time info !! DONE !! 1289\n",
        "Setting the local time info !! DONE !! 1289\n",
        "Setting the local time info !! DONE !! 1290\n",
        "Setting the local time info !! DONE !! 1290\n",
        "Setting the local time info !! DONE !! 1290\n",
        "Setting the local time info !! DONE !! 1291\n",
        "Setting the local time info !! DONE !! 1291\n",
        "Setting the local time info !! DONE !! 1291\n",
        "Setting the local time info !! DONE !! 1291\n",
        "Setting the local time info !! DONE !! 1292\n",
        "Setting the local time info !! DONE !! 1292\n",
        "Setting the local time info !! DONE !! 1292\n",
        "Setting the local time info !! DONE !! 1293\n",
        "Setting the local time info !! DONE !! 1293\n",
        "Setting the local time info !! DONE !! 1293\n",
        "Setting the local time info !! DONE !! 1293\n",
        "Setting the local time info !! DONE !!"
       ]
      },
      {
       "output_type": "stream",
       "stream": "stdout",
       "text": [
        " 1294\n",
        "Setting the local time info !! DONE !! 1294\n",
        "Setting the local time info !! DONE !! 1295\n",
        "Setting the local time info !! DONE !! 1296\n",
        "Setting the local time info !! DONE !! 1296\n",
        "Setting the local time info !! DONE !! 1296\n",
        "Setting the local time info !! DONE !! 1296\n",
        "Setting the local time info !! DONE !! 1297\n",
        "Setting the local time info !! DONE !! 1297\n",
        "Setting the local time info !! DONE !! 1298\n",
        "Setting the local time info !! DONE !! 1299\n",
        "Setting the local time info !! DONE !! 1299\n",
        "Setting the local time info !! DONE !! 1299\n",
        "Setting the local time info !! DONE !! 1300\n",
        "Setting the local time info !! DONE !! 1300\n",
        "Setting the local time info !! DONE !!"
       ]
      },
      {
       "output_type": "stream",
       "stream": "stdout",
       "text": [
        " 1301\n",
        "Setting the local time info !! DONE !! 1302\n",
        "Setting the local time info !! DONE !! 1303\n",
        "Setting the local time info !! DONE !! 1303\n",
        "Setting the local time info !! DONE !! 1303\n",
        "Setting the local time info !! DONE !!"
       ]
      },
      {
       "output_type": "stream",
       "stream": "stdout",
       "text": [
        " 1304\n",
        "Setting the local time info !! DONE !! 1304\n",
        "Setting the local time info !! DONE !! 1304\n",
        "Setting the local time info !! DONE !! 1304\n",
        "Setting the local time info !! DONE !! 1305\n",
        "Setting the local time info !! DONE !! 1306\n",
        "Setting the local time info !! DONE !! 1306\n",
        "Setting the local time info !! DONE !! 1306\n",
        "Setting the local time info !! DONE !! 1307\n",
        "Setting the local time info !! DONE !! 1307\n",
        "Setting the local time info !! DONE !! 1307\n",
        "Setting the local time info !! DONE !! 1308\n",
        "Setting the local time info !! DONE !! 1308\n",
        "Setting the local time info !! DONE !! 1309\n",
        "Setting the local time info !! DONE !! 1309\n",
        "Setting the local time info !! DONE !! 1310\n",
        "Setting the local time info !! DONE !! 1310\n",
        "Setting the local time info !! DONE !! 1311\n",
        "Setting the local time info !! DONE !!"
       ]
      },
      {
       "output_type": "stream",
       "stream": "stdout",
       "text": [
        " 1312\n",
        "Setting the local time info !! DONE !! 1312\n",
        "Setting the local time info !! DONE !! 1312\n",
        "Setting the local time info !! DONE !! 1312\n",
        "Setting the local time info !! DONE !! 1312\n",
        "Setting the local time info !! DONE !! 1312\n",
        "Setting the local time info !! DONE !! 1313\n",
        "Setting the local time info !! DONE !! 1313\n",
        "Setting the local time info !! DONE !! 1313\n",
        "Setting the local time info !! DONE !! 1313\n",
        "Setting the local time info !! DONE !! 1313\n",
        "Setting the local time info !! DONE !! 1313\n",
        "Setting the local time info !! DONE !! 1313\n",
        "Setting the local time info !! DONE !! 1314\n",
        "Setting the local time info !! DONE !! 1314\n",
        "Setting the local time info !! DONE !! 1314\n",
        "Setting the local time info !! DONE !! 1314\n",
        "Setting the local time info !! DONE !! 1314\n",
        "Setting the local time info !! DONE !! 1314\n",
        "Setting the local time info !! DONE !! 1314\n",
        "Setting the local time info !! DONE !! 1314\n",
        "Setting the local time info !! DONE !! 1314\n",
        "Setting the local time info !! DONE !! 1314\n",
        "Setting the local time info !! DONE !! 1315\n",
        "Setting the local time info !! DONE !! 1315\n",
        "Setting the local time info !! DONE !! 1315\n",
        "Setting the local time info !! DONE !! 1315\n",
        "Setting the local time info !! DONE !! 1315\n",
        "Setting the local time info !! DONE !! 1315\n",
        "Setting the local time info !! DONE !! 1315\n",
        "Setting the local time info !! DONE !! 1315\n",
        "Setting the local time info !! DONE !! 1315\n",
        "Setting the local time info !! DONE !! 1315\n",
        "Setting the local time info !! DONE !! 1316\n",
        "Setting the local time info !! DONE !! 1316\n",
        "Setting the local time info !! DONE !! 1316\n",
        "Setting the local time info !! DONE !!"
       ]
      },
      {
       "output_type": "stream",
       "stream": "stdout",
       "text": [
        " 1317\n",
        "Setting the local time info !! DONE !! 1317\n",
        "Setting the local time info !! DONE !! 1317\n",
        "Setting the local time info !! DONE !! 1318\n",
        "Setting the local time info !! DONE !! 1318\n",
        "Setting the local time info !! DONE !! 1318\n",
        "Setting the local time info !! DONE !! 1318\n",
        "Setting the local time info !! DONE !! 1318\n",
        "Setting the local time info !! DONE !! 1318\n",
        "Setting the local time info !! DONE !! 1319\n",
        "Setting the local time info !! DONE !! 1319\n",
        "Setting the local time info !! DONE !! 1319\n",
        "Setting the local time info !! DONE !! 1319\n",
        "Setting the local time info !! DONE !! 1319\n",
        "Setting the local time info !! DONE !! 1319\n",
        "Setting the local time info !! DONE !! 1319\n",
        "Setting the local time info !! DONE !!"
       ]
      },
      {
       "output_type": "stream",
       "stream": "stdout",
       "text": [
        " 1320\n",
        "Setting the local time info !! DONE !! 1320\n",
        "Setting the local time info !! DONE !! 1320\n",
        "Setting the local time info !! DONE !! 1321\n",
        "Setting the local time info !! DONE !! 1322\n",
        "Setting the local time info !! DONE !! 1322\n",
        "Setting the local time info !! DONE !! 1322\n",
        "Setting the local time info !! DONE !! 1323\n",
        "Setting the local time info !! DONE !! 1323\n",
        "Setting the local time info !! DONE !! 1323\n",
        "Setting the local time info !! DONE !! 1323\n",
        "Setting the local time info !! DONE !! 1323\n",
        "Setting the local time info !! DONE !! 1323\n",
        "Setting the local time info !! DONE !! 1323\n",
        "Setting the local time info !! DONE !! 1323\n",
        "Setting the local time info !! DONE !! 1323\n",
        "Setting the local time info !! DONE !! 1324\n",
        "Setting the local time info !! DONE !! 1324\n",
        "Setting the local time info !! DONE !! 1324\n",
        "Setting the local time info !! DONE !! 1324\n",
        "Setting the local time info !! DONE !! 1324\n",
        "Setting the local time info !! DONE !! 1324\n",
        "Setting the local time info !! DONE !! 1324\n",
        "Setting the local time info !! DONE !! 1324\n",
        "Setting the local time info !! DONE !! 1324\n",
        "Setting the local time info !! DONE !! 1324\n",
        "Setting the local time info !! DONE !! 1324\n",
        "Setting the local time info !! DONE !! 1324\n",
        "Setting the local time info !! DONE !! 1325\n",
        "Setting the local time info !! DONE !!"
       ]
      },
      {
       "output_type": "stream",
       "stream": "stdout",
       "text": [
        " 1326\n",
        "Setting the local time info !! DONE !! 1326\n",
        "Setting the local time info !! DONE !! 1326\n",
        "Setting the local time info !! DONE !! 1327\n",
        "Setting the local time info !! DONE !! 1327\n",
        "Setting the local time info !! DONE !! 1327\n",
        "Setting the local time info !! DONE !! 1327\n",
        "Setting the local time info !! DONE !! 1328\n",
        "Setting the local time info !! DONE !! 1328\n",
        "Setting the local time info !! DONE !! 1328\n",
        "Setting the local time info !! DONE !! 1328\n",
        "Setting the local time info !! DONE !! 1329\n",
        "Setting the local time info !! DONE !! 1329\n",
        "Setting the local time info !! DONE !!"
       ]
      },
      {
       "output_type": "stream",
       "stream": "stdout",
       "text": [
        " 1330\n",
        "Setting the local time info !! DONE !! 1331\n",
        "Setting the local time info !! DONE !! 1332\n",
        "Setting the local time info !! DONE !! 1332\n",
        "Setting the local time info !! DONE !! 1332\n",
        "Setting the local time info !! DONE !! 1332\n",
        "Setting the local time info !! DONE !! 1332\n",
        "Setting the local time info !! DONE !! 1332\n",
        "Setting the local time info !! DONE !! 1332\n",
        "Setting the local time info !! DONE !! 1333\n",
        "Setting the local time info !! DONE !! 1333\n",
        "Setting the local time info !! DONE !!"
       ]
      },
      {
       "output_type": "stream",
       "stream": "stdout",
       "text": [
        " 1334\n",
        "Setting the local time info !! DONE !! 1334\n",
        "Setting the local time info !! DONE !! 1334\n",
        "Setting the local time info !! DONE !! 1334\n",
        "Setting the local time info !! DONE !! 1334\n",
        "Setting the local time info !! DONE !! 1334\n",
        "Setting the local time info !! DONE !! 1335\n",
        "Setting the local time info !! DONE !! 1335\n",
        "Setting the local time info !! DONE !! 1335\n",
        "Setting the local time info !! DONE !! 1335\n",
        "Setting the local time info !! DONE !! 1336\n",
        "Setting the local time info !! DONE !! 1336\n",
        "Setting the local time info !! DONE !! 1336\n",
        "Setting the local time info !! DONE !! 1337\n",
        "Setting the local time info !! DONE !! 1338\n",
        "Setting the local time info !! DONE !! 1338\n",
        "Setting the local time info !! DONE !!"
       ]
      },
      {
       "output_type": "stream",
       "stream": "stdout",
       "text": [
        " 1339\n",
        "Setting the local time info !! DONE !! 1340\n",
        "Setting the local time info !! DONE !! 1340\n",
        "Setting the local time info !! DONE !! 1340\n",
        "Setting the local time info !! DONE !! 1340\n",
        "Setting the local time info !! DONE !! 1341\n",
        "Setting the local time info !! DONE !! 1342\n",
        "Setting the local time info !! DONE !!"
       ]
      },
      {
       "output_type": "stream",
       "stream": "stdout",
       "text": [
        " 1343\n",
        "Setting the local time info !! DONE !! 1343\n",
        "Setting the local time info !! DONE !! 1343\n",
        "Setting the local time info !! DONE !! 1343\n",
        "Setting the local time info !! DONE !! 1344\n",
        "Setting the local time info !! DONE !! 1344\n",
        "Setting the local time info !! DONE !! 1345\n",
        "Setting the local time info !! DONE !! 1345\n",
        "Setting the local time info !! DONE !! 1346\n",
        "Setting the local time info !! DONE !!"
       ]
      },
      {
       "output_type": "stream",
       "stream": "stdout",
       "text": [
        " 1347\n",
        "Setting the local time info !! DONE !! 1347\n",
        "Setting the local time info !! DONE !! 1347\n",
        "Setting the local time info !! DONE !! 1348\n",
        "Setting the local time info !! DONE !! 1348\n",
        "Setting the local time info !! DONE !! 1348\n",
        "Setting the local time info !! DONE !! 1348\n",
        "Setting the local time info !! DONE !! 1348\n",
        "Setting the local time info !! DONE !! 1348\n",
        "Setting the local time info !! DONE !! 1348\n",
        "Setting the local time info !! DONE !! 1348\n",
        "Setting the local time info !! DONE !! 1348\n",
        "Setting the local time info !! DONE !! 1348\n",
        "Setting the local time info !! DONE !! 1349\n",
        "Setting the local time info !! DONE !!"
       ]
      },
      {
       "output_type": "stream",
       "stream": "stdout",
       "text": [
        " 1350\n",
        "Setting the local time info !! DONE !! 1350\n",
        "Setting the local time info !! DONE !! 1350\n",
        "Setting the local time info !! DONE !! 1350\n",
        "Setting the local time info !! DONE !! 1350\n",
        "Setting the local time info !! DONE !! 1351\n",
        "Setting the local time info !! DONE !! 1352\n",
        "Setting the local time info !! DONE !! 1353\n",
        "Setting the local time info !! DONE !! 1353\n",
        "Setting the local time info !! DONE !! 1354\n",
        "Setting the local time info !! DONE !!"
       ]
      },
      {
       "output_type": "stream",
       "stream": "stdout",
       "text": [
        " 1355\n",
        "Setting the local time info !! DONE !! 1355\n",
        "Setting the local time info !! DONE !! 1356\n",
        "Setting the local time info !! DONE !! 1356\n",
        "Setting the local time info !! DONE !! 1356\n",
        "Setting the local time info !! DONE !! 1356\n",
        "Setting the local time info !! DONE !! 1356\n",
        "Setting the local time info !! DONE !! 1356\n",
        "Setting the local time info !! DONE !! 1356\n",
        "Setting the local time info !! DONE !! 1356\n",
        "Setting the local time info !! DONE !! 1357\n",
        "Setting the local time info !! DONE !! 1357\n",
        "Setting the local time info !! DONE !! 1358\n",
        "Setting the local time info !! DONE !! 1358\n",
        "Setting the local time info !! DONE !! 1358\n",
        "Setting the local time info !! DONE !! 1359\n",
        "Setting the local time info !! DONE !! 1360\n",
        "Setting the local time info !! DONE !! 1360\n",
        "Setting the local time info !! DONE !! 1360\n",
        "Setting the local time info !! DONE !! 1360\n",
        "Setting the local time info !! DONE !! 1360\n",
        "Setting the local time info !! DONE !! 1360\n",
        "Setting the local time info !! DONE !! 1360\n",
        "Setting the local time info !! DONE !! 1360\n",
        "Setting the local time info !! DONE !! 1360\n",
        "Setting the local time info !! DONE !! 1361\n",
        "Setting the local time info !! DONE !! 1361\n",
        "Setting the local time info !! DONE !! 1361\n",
        "Setting the local time info !! DONE !! 1361\n",
        "Setting the local time info !! DONE !! 1362\n",
        "Setting the local time info !! DONE !! 1362\n",
        "Setting the local time info !! DONE !! 1362\n",
        "Setting the local time info !! DONE !! 1362\n",
        "Setting the local time info !! DONE !! 1362\n",
        "Setting the local time info !! DONE !! 1362\n",
        "Setting the local time info !! DONE !! 1362\n",
        "Setting the local time info !! DONE !!"
       ]
      },
      {
       "output_type": "stream",
       "stream": "stdout",
       "text": [
        " 1363\n",
        "Setting the local time info !! DONE !! 1363\n",
        "Setting the local time info !! DONE !! 1364\n",
        "Setting the local time info !! DONE !! 1364\n",
        "Setting the local time info !! DONE !! 1364\n",
        "Setting the local time info !! DONE !! 1364\n",
        "Setting the local time info !! DONE !! 1364\n",
        "Setting the local time info !! DONE !! 1365\n",
        "Setting the local time info !! DONE !!"
       ]
      },
      {
       "output_type": "stream",
       "stream": "stdout",
       "text": [
        " 1366\n",
        "Setting the local time info !! DONE !! 1367\n",
        "Setting the local time info !! DONE !! 1367\n",
        "Setting the local time info !! DONE !! 1367\n",
        "Setting the local time info !! DONE !! 1367\n",
        "Setting the local time info !! DONE !! 1367\n",
        "Setting the local time info !! DONE !! 1367\n",
        "Setting the local time info !! DONE !! 1367\n",
        "Setting the local time info !! DONE !! 1367\n",
        "Setting the local time info !! DONE !! 1368\n",
        "Setting the local time info !! DONE !! 1369\n",
        "Setting the local time info !! DONE !! 1370\n",
        "Setting the local time info !! DONE !! 1370\n",
        "Setting the local time info !! DONE !! 1370\n",
        "Setting the local time info !! DONE !!"
       ]
      },
      {
       "output_type": "stream",
       "stream": "stdout",
       "text": [
        " 1371\n",
        "Setting the local time info !! DONE !! 1371\n",
        "Setting the local time info !! DONE !! 1371\n",
        "Setting the local time info !! DONE !! 1371\n",
        "Setting the local time info !! DONE !! 1372\n",
        "Setting the local time info !! DONE !! 1372\n",
        "Setting the local time info !! DONE !! 1373\n",
        "Setting the local time info !! DONE !! 1373\n",
        "Setting the local time info !! DONE !! 1373\n",
        "Setting the local time info !! DONE !! 1374\n",
        "Setting the local time info !! DONE !!"
       ]
      },
      {
       "output_type": "stream",
       "stream": "stdout",
       "text": [
        " 1375\n",
        "Setting the local time info !! DONE !! 1375\n",
        "Setting the local time info !! DONE !! 1376\n",
        "Setting the local time info !! DONE !! 1377\n",
        "Setting the local time info !! DONE !! 1378\n",
        "Setting the local time info !! DONE !! 1378\n",
        "Setting the local time info !! DONE !! 1379\n",
        "Setting the local time info !! DONE !! 1379\n",
        "Setting the local time info !! DONE !! 1379\n",
        "Setting the local time info !! DONE !! 1380\n",
        "Setting the local time info !! DONE !! 1381\n",
        "Setting the local time info !! DONE !! 1381\n",
        "Setting the local time info !! DONE !! 1381\n",
        "Setting the local time info !! DONE !!"
       ]
      },
      {
       "output_type": "stream",
       "stream": "stdout",
       "text": [
        " 1382\n",
        "Setting the local time info !! DONE !! 1382\n",
        "Setting the local time info !! DONE !! 1382\n",
        "Setting the local time info !! DONE !! 1382\n",
        "Setting the local time info !! DONE !! 1382\n",
        "Setting the local time info !! DONE !! 1382\n",
        "Setting the local time info !! DONE !! 1382\n",
        "Setting the local time info !! DONE !! 1382\n",
        "Setting the local time info !! DONE !! 1383\n",
        "Setting the local time info !! DONE !! 1383\n",
        "Setting the local time info !! DONE !! 1383\n",
        "Setting the local time info !! DONE !! 1384\n",
        "Setting the local time info !! DONE !! 1384\n",
        "Setting the local time info !! DONE !! 1384\n",
        "Setting the local time info !! DONE !! 1384\n",
        "Setting the local time info !! DONE !! 1384\n",
        "Setting the local time info !! DONE !! 1384\n",
        "Setting the local time info !! DONE !! 1385\n",
        "Setting the local time info !! DONE !! 1385\n",
        "Setting the local time info !! DONE !! 1385\n",
        "Setting the local time info !! DONE !! 1385\n",
        "Setting the local time info !! DONE !! 1385\n",
        "Setting the local time info !! DONE !! 1385\n",
        "Setting the local time info !! DONE !! 1385\n",
        "Setting the local time info !! DONE !! 1385\n",
        "Setting the local time info !! DONE !! 1386\n",
        "Setting the local time info !! DONE !! 1386\n",
        "Setting the local time info !! DONE !!"
       ]
      },
      {
       "output_type": "stream",
       "stream": "stdout",
       "text": [
        " 1387\n",
        "Setting the local time info !! DONE !! 1387\n",
        "Setting the local time info !! DONE !! 1387\n",
        "Setting the local time info !! DONE !! 1387\n",
        "Setting the local time info !! DONE !! 1387\n",
        "Setting the local time info !! DONE !! 1387\n",
        "Setting the local time info !! DONE !! 1387\n",
        "Setting the local time info !! DONE !! 1387\n",
        "Setting the local time info !! DONE !! 1387\n",
        "Setting the local time info !! DONE !! 1388\n",
        "Setting the local time info !! DONE !! 1388\n",
        "Setting the local time info !! DONE !! 1388\n",
        "Setting the local time info !! DONE !! 1388\n",
        "Setting the local time info !! DONE !! 1388\n",
        "Setting the local time info !! DONE !! 1388\n",
        "Setting the local time info !! DONE !! 1389\n",
        "Setting the local time info !! DONE !! 1389\n",
        "Setting the local time info !! DONE !! 1390\n",
        "Setting the local time info !! DONE !! 1390\n",
        "Setting the local time info !! DONE !! 1390\n",
        "Setting the local time info !! DONE !! 1390\n",
        "Setting the local time info !! DONE !! 1390\n",
        "Setting the local time info !! DONE !! 1390\n",
        "Setting the local time info !! DONE !! 1391\n",
        "Setting the local time info !! DONE !! 1391\n",
        "Setting the local time info !! DONE !!"
       ]
      },
      {
       "output_type": "stream",
       "stream": "stdout",
       "text": [
        " 1392\n",
        "Setting the local time info !! DONE !! 1392\n",
        "Setting the local time info !! DONE !! 1392\n",
        "Setting the local time info !! DONE !! 1393\n",
        "Setting the local time info !! DONE !! 1394\n",
        "Setting the local time info !! DONE !! "
       ]
      },
      {
       "output_type": "stream",
       "stream": "stdout",
       "text": [
        "1395\n",
        "Setting the local time info !! DONE !! 1396\n",
        "Setting the local time info !! DONE !! 1397\n",
        "Setting the local time info !! DONE !! 1397\n",
        "Setting the local time info !! DONE !! 1397\n",
        "Setting the local time info !! DONE !! 1398\n",
        "Setting the local time info !! DONE !! 1398\n",
        "Setting the local time info !! DONE !! 1398\n",
        "Setting the local time info !! DONE !! 1398\n",
        "Setting the local time info !! DONE !! 1398\n",
        "Setting the local time info !! DONE !! 1399\n",
        "Setting the local time info !! DONE !! 1399\n",
        "Setting the local time info !! DONE !! 1399\n",
        "Setting the local time info !! DONE !! 1399\n",
        "Setting the local time info !! DONE !! 1399\n",
        "Setting the local time info !! DONE !! 1399\n",
        "Setting the local time info !! DONE !!"
       ]
      },
      {
       "output_type": "stream",
       "stream": "stdout",
       "text": [
        " 1400\n",
        "Setting the local time info !! DONE !! 1400\n",
        "Setting the local time info !! DONE !! 1400\n",
        "Setting the local time info !! DONE !! 1400\n",
        "Setting the local time info !! DONE !! 1400\n",
        "Setting the local time info !! DONE !! 1400\n",
        "Setting the local time info !! DONE !! 1401\n",
        "Setting the local time info !! DONE !! 1402\n",
        "Setting the local time info !! DONE !! 1402\n",
        "Setting the local time info !! DONE !! 1403\n",
        "Setting the local time info !! DONE !! 1403\n",
        "Setting the local time info !! DONE !! 1403\n",
        "Setting the local time info !! DONE !! 1403\n",
        "Setting the local time info !! DONE !! 1404\n",
        "Setting the local time info !! DONE !! 1404\n",
        "Setting the local time info !! DONE !! 1405\n",
        "Setting the local time info !! DONE !! 1405\n",
        "Setting the local time info !! DONE !! 1405\n",
        "Setting the local time info !! DONE !! 1406\n",
        "Setting the local time info !! DONE !! 1406\n",
        "Setting the local time info !! DONE !!"
       ]
      },
      {
       "output_type": "stream",
       "stream": "stdout",
       "text": [
        " 1407\n",
        "Setting the local time info !! DONE !! 1408\n",
        "Setting the local time info !! DONE !! 1408\n",
        "Setting the local time info !! DONE !! 1408\n",
        "Setting the local time info !! DONE !! 1408\n",
        "Setting the local time info !! DONE !! 1408\n",
        "Setting the local time info !! DONE !! 1409\n",
        "Setting the local time info !! DONE !! 1409\n",
        "Setting the local time info !! DONE !! 1409\n",
        "Setting the local time info !! DONE !! 1409\n",
        "Setting the local time info !! DONE !! 1409\n",
        "Setting the local time info !! DONE !!"
       ]
      },
      {
       "output_type": "stream",
       "stream": "stdout",
       "text": [
        " 1410\n",
        "Setting the local time info !! DONE !! 1411\n",
        "Setting the local time info !! DONE !! 1411\n",
        "Setting the local time info !! DONE !! 1411\n",
        "Setting the local time info !! DONE !! 1411\n",
        "Setting the local time info !! DONE !! 1411\n",
        "Setting the local time info !! DONE !! 1412\n",
        "Setting the local time info !! DONE !! 1413\n",
        "Setting the local time info !! DONE !! 1414\n",
        "Setting the local time info !! DONE !! 1415\n",
        "Setting the local time info !! DONE !! 1416\n",
        "Setting the local time info !! DONE !! 1416\n",
        "Setting the local time info !! DONE !!"
       ]
      },
      {
       "output_type": "stream",
       "stream": "stdout",
       "text": [
        " 1417\n",
        "Setting the local time info !! DONE !! 1417\n",
        "Setting the local time info !! DONE !! 1418\n",
        "Setting the local time info !! DONE !! 1418\n",
        "Setting the local time info !! DONE !! 1418\n",
        "Setting the local time info !! DONE !! 1419\n",
        "Setting the local time info !! DONE !! 1419\n",
        "Setting the local time info !! DONE !! 1419\n",
        "Setting the local time info !! DONE !! 1420\n",
        "Setting the local time info !! DONE !! 1420\n",
        "Setting the local time info !! DONE !! 1421\n",
        "Setting the local time info !! DONE !! 1421\n",
        "Setting the local time info !! DONE !!"
       ]
      },
      {
       "output_type": "stream",
       "stream": "stdout",
       "text": [
        " 1422\n",
        "Setting the local time info !! DONE !! 1423\n",
        "Setting the local time info !! DONE !! 1423\n",
        "Setting the local time info !! DONE !! 1423\n",
        "Setting the local time info !! DONE !! 1423\n",
        "Setting the local time info !! DONE !! 1423\n",
        "Setting the local time info !! DONE !! 1423\n",
        "Setting the local time info !! DONE !! 1423\n",
        "Setting the local time info !! DONE !! 1424\n",
        "Setting the local time info !! DONE !! 1424\n",
        "Setting the local time info !! DONE !!"
       ]
      },
      {
       "output_type": "stream",
       "stream": "stdout",
       "text": [
        " 1425\n",
        "Setting the local time info !! DONE !! 1425\n",
        "Setting the local time info !! DONE !! 1425\n",
        "Setting the local time info !! DONE !! 1426\n",
        "Setting the local time info !! DONE !! 1427\n",
        "Setting the local time info !! DONE !! 1427\n",
        "Setting the local time info !! DONE !! 1427\n",
        "Setting the local time info !! DONE !! 1427\n",
        "Setting the local time info !! DONE !! 1427\n",
        "Setting the local time info !! DONE !! 1428\n",
        "Setting the local time info !! DONE !! 1428\n",
        "Setting the local time info !! DONE !! 1428\n",
        "Setting the local time info !! DONE !! 1429\n",
        "Setting the local time info !! DONE !! 1429\n",
        "Setting the local time info !! DONE !! 1429\n",
        "Setting the local time info !! DONE !! 1430\n",
        "Setting the local time info !! DONE !! 1430\n",
        "Setting the local time info !! DONE !! 1430\n",
        "Setting the local time info !! DONE !! 1431\n",
        "Setting the local time info !! DONE !! 1431\n",
        "Setting the local time info !! DONE !!"
       ]
      },
      {
       "output_type": "stream",
       "stream": "stdout",
       "text": [
        " 1432\n",
        "Setting the local time info !! DONE !! 1432\n",
        "Setting the local time info !! DONE !! 1432\n",
        "Setting the local time info !! DONE !! 1432\n",
        "Setting the local time info !! DONE !! 1432\n",
        "Setting the local time info !! DONE !! 1432\n",
        "Setting the local time info !! DONE !! 1432\n",
        "Setting the local time info !! DONE !! 1432\n",
        "Setting the local time info !! DONE !! 1432\n",
        "Setting the local time info !! DONE !! 1432\n",
        "Setting the local time info !! DONE !! 1432\n",
        "Setting the local time info !! DONE !! 1432\n",
        "Setting the local time info !! DONE !! 1432\n",
        "Setting the local time info !! DONE !! 1433\n",
        "Setting the local time info !! DONE !! 1433\n",
        "Setting the local time info !! DONE !! 1433\n",
        "Setting the local time info !! DONE !! 1433\n",
        "Setting the local time info !! DONE !! 1433\n",
        "Setting the local time info !! DONE !! 1433\n",
        "Setting the local time info !! DONE !! 1434\n",
        "Setting the local time info !! DONE !! 1434\n",
        "Setting the local time info !! DONE !! 1435\n",
        "Setting the local time info !! DONE !! 1436\n",
        "Setting the local time info !! DONE !! 1436\n",
        "Setting the local time info !! DONE !! 1436\n",
        "Setting the local time info !! DONE !! 1436\n",
        "Setting the local time info !! DONE !! 1436\n",
        "Setting the local time info !! DONE !! 1436\n",
        "Setting the local time info !! DONE !! 1437\n",
        "Setting the local time info !! DONE !! 1437\n",
        "Setting the local time info !! DONE !! 1437\n",
        "Setting the local time info !! DONE !! 1437\n",
        "Setting the local time info !! DONE !! 1437\n",
        "Setting the local time info !! DONE !! 1437\n",
        "Setting the local time info !! DONE !!"
       ]
      },
      {
       "output_type": "stream",
       "stream": "stdout",
       "text": [
        " 1438\n",
        "Setting the local time info !! DONE !! 1438\n",
        "Setting the local time info !! DONE !! 1439\n",
        "Setting the local time info !! DONE !! 1440\n",
        "Setting the local time info !! DONE !!"
       ]
      },
      {
       "output_type": "stream",
       "stream": "stdout",
       "text": [
        " 1441\n",
        "Setting the local time info !! DONE !! 1441\n",
        "Setting the local time info !! DONE !! 1441\n",
        "Setting the local time info !! DONE !! 1442\n",
        "Setting the local time info !! DONE !! 1442\n",
        "Setting the local time info !! DONE !! 1442\n",
        "Setting the local time info !! DONE !! 1442\n",
        "Setting the local time info !! DONE !! 1443\n",
        "Setting the local time info !! DONE !! 1444\n",
        "Setting the local time info !! DONE !! 1444\n",
        "Setting the local time info !! DONE !! 1444\n",
        "Setting the local time info !! DONE !! 1445\n",
        "Setting the local time info !! DONE !! 1446\n",
        "Setting the local time info !! DONE !!"
       ]
      },
      {
       "output_type": "stream",
       "stream": "stdout",
       "text": [
        " 1447\n",
        "Setting the local time info !! DONE !! 1447\n",
        "Setting the local time info !! DONE !! 1447\n",
        "Setting the local time info !! DONE !! 1447\n",
        "Setting the local time info !! DONE !! 1447\n",
        "Setting the local time info !! DONE !! 1447\n",
        "Setting the local time info !! DONE !! 1447\n",
        "Setting the local time info !! DONE !! 1447\n",
        "Setting the local time info !! DONE !! 1448\n",
        "Setting the local time info !! DONE !! 1448\n",
        "Setting the local time info !! DONE !! 1448\n",
        "Setting the local time info !! DONE !! 1449\n",
        "Setting the local time info !! DONE !! 1450\n",
        "Setting the local time info !! DONE !! 1450\n",
        "Setting the local time info !! DONE !! 1450\n",
        "Setting the local time info !! DONE !! 1450\n",
        "Setting the local time info !! DONE !! 1450\n",
        "Setting the local time info !! DONE !! 1450\n",
        "Setting the local time info !! DONE !! 1450\n",
        "Setting the local time info !! DONE !! 1450\n",
        "Setting the local time info !! DONE !! 1451\n",
        "Setting the local time info !! DONE !! 1451\n",
        "Setting the local time info !! DONE !! 1451\n",
        "Setting the local time info !! DONE !! 1451\n",
        "Setting the local time info !! DONE !! 1451\n",
        "Setting the local time info !! DONE !! 1452\n",
        "Setting the local time info !! DONE !! 1452\n",
        "Setting the local time info !! DONE !! 1452\n",
        "Setting the local time info !! DONE !! 1452\n",
        "Setting the local time info !! DONE !! 1452\n",
        "Setting the local time info !! DONE !! 1452\n",
        "Setting the local time info !! DONE !! 1452\n",
        "Setting the local time info !! DONE !! 1452\n",
        "Setting the local time info !! DONE !! 1452\n",
        "Setting the local time info !! DONE !! 1452\n",
        "Setting the local time info !! DONE !! 1452\n",
        "Setting the local time info !! DONE !! 1453\n",
        "Setting the local time info !! DONE !!"
       ]
      },
      {
       "output_type": "stream",
       "stream": "stdout",
       "text": [
        " 1454\n",
        "Setting the local time info !! DONE !! 1454\n",
        "Setting the local time info !! DONE !! 1455\n",
        "Setting the local time info !! DONE !! 1456\n",
        "Setting the local time info !! DONE !! 1456\n",
        "Setting the local time info !! DONE !! 1457\n",
        "Setting the local time info !! DONE !! 1457\n",
        "Setting the local time info !! DONE !! 1457\n",
        "Setting the local time info !! DONE !! 1457\n",
        "Setting the local time info !! DONE !! 1457\n",
        "Setting the local time info !! DONE !! 1457\n",
        "Setting the local time info !! DONE !! 1457\n",
        "Setting the local time info !! DONE !! 1458\n",
        "Setting the local time info !! DONE !!"
       ]
      },
      {
       "output_type": "stream",
       "stream": "stdout",
       "text": [
        " 1459\n",
        "Setting the local time info !! DONE !! 1459\n",
        "Setting the local time info !! DONE !! 1460\n",
        "Setting the local time info !! DONE !! 1460\n",
        "Setting the local time info !! DONE !! 1460\n",
        "Setting the local time info !! DONE !! 1460\n",
        "Setting the local time info !! DONE !! 1460\n",
        "Setting the local time info !! DONE !! 1460\n",
        "Setting the local time info !! DONE !! 1460\n",
        "Setting the local time info !! DONE !! 1460\n",
        "Setting the local time info !! DONE !! 1460\n",
        "Setting the local time info !! DONE !! 1460\n",
        "Setting the local time info !! DONE !! 1461\n",
        "Setting the local time info !! DONE !! 1461\n",
        "Setting the local time info !! DONE !!"
       ]
      },
      {
       "output_type": "stream",
       "stream": "stdout",
       "text": [
        " 1462\n",
        "Setting the local time info !! DONE !! 1463\n",
        "Setting the local time info !! DONE !! 1464\n",
        "Setting the local time info !! DONE !! 1464\n",
        "Setting the local time info !! DONE !! 1464\n",
        "Setting the local time info !! DONE !! 1464\n",
        "Setting the local time info !! DONE !! 1464\n",
        "Setting the local time info !! DONE !! 1464\n",
        "Setting the local time info !! DONE !! 1465\n",
        "Setting the local time info !! DONE !! 1465\n",
        "Setting the local time info !! DONE !! 1465\n",
        "Setting the local time info !! DONE !! 1466\n",
        "Setting the local time info !! DONE !! 1466\n",
        "Setting the local time info !! DONE !! 1466\n",
        "Setting the local time info !! DONE !! 1466\n",
        "Setting the local time info !! DONE !! 1467\n",
        "Setting the local time info !! DONE !! 1467\n",
        "Setting the local time info !! DONE !! 1467\n",
        "Setting the local time info !! DONE !! 1467\n",
        "Setting the local time info !! DONE !! 1467\n",
        "Setting the local time info !! DONE !! 1467\n",
        "Setting the local time info !! DONE !!"
       ]
      },
      {
       "output_type": "stream",
       "stream": "stdout",
       "text": [
        " 1468\n",
        "Setting the local time info !! DONE !! 1468\n",
        "Setting the local time info !! DONE !! 1469\n",
        "Setting the local time info !! DONE !! 1469\n",
        "Setting the local time info !! DONE !! 1469\n",
        "Setting the local time info !! DONE !! 1469\n",
        "Setting the local time info !! DONE !! 1470\n",
        "Setting the local time info !! DONE !! 1470\n",
        "Setting the local time info !! DONE !! 1470\n",
        "Setting the local time info !! DONE !! 1471\n",
        "Setting the local time info !! DONE !! 1472\n",
        "Setting the local time info !! DONE !! 1472\n",
        "Setting the local time info !! DONE !! 1473\n",
        "Setting the local time info !! DONE !! 1473\n",
        "Setting the local time info !! DONE !! 1473\n",
        "Setting the local time info !! DONE !! 1473\n",
        "Setting the local time info !! DONE !! 1473\n",
        "Setting the local time info !! DONE !! 1473\n",
        "Setting the local time info !! DONE !! 1473\n",
        "Setting the local time info !! DONE !! 1473\n",
        "Setting the local time info !! DONE !! 1473\n",
        "Setting the local time info !! DONE !! 1473\n",
        "Setting the local time info !! DONE !! 1473\n",
        "Setting the local time info !! DONE !! 1474\n",
        "Setting the local time info !! DONE !! 1475\n",
        "Setting the local time info !! DONE !! 1475\n",
        "Setting the local time info !! DONE !! 1475\n",
        "Setting the local time info !! DONE !! 1476\n",
        "Setting the local time info !! DONE !! 1476\n",
        "Setting the local time info !! DONE !! 1476\n",
        "Setting the local time info !! DONE !! 1476\n",
        "Setting the local time info !! DONE !! 1476\n",
        "Setting the local time info !! DONE !! 1476\n",
        "Setting the local time info !! DONE !! 1476\n",
        "Setting the local time info !! DONE !! 1476\n",
        "Setting the local time info !! DONE !! 1476\n",
        "Setting the local time info !! DONE !! 1476\n",
        "Setting the local time info !! DONE !! 1476\n",
        "Setting the local time info !! DONE !! 1476\n",
        "Setting the local time info !! DONE !! 1476\n",
        "Setting the local time info !! DONE !! 1476\n",
        "Setting the local time info !! DONE !!"
       ]
      },
      {
       "output_type": "stream",
       "stream": "stdout",
       "text": [
        " 1477\n",
        "Setting the local time info !! DONE !! 1477\n",
        "Setting the local time info !! DONE !! 1477\n",
        "Setting the local time info !! DONE !! 1477\n",
        "Setting the local time info !! DONE !! 1478\n",
        "Setting the local time info !! DONE !! 1478\n",
        "Setting the local time info !! DONE !! 1478\n",
        "Setting the local time info !! DONE !! 1478\n",
        "Setting the local time info !! DONE !! 1478\n",
        "Setting the local time info !! DONE !! 1478\n",
        "Setting the local time info !! DONE !! 1478\n",
        "Setting the local time info !! DONE !! 1478\n",
        "Setting the local time info !! DONE !! 1478\n",
        "Setting the local time info !! DONE !! 1479\n",
        "Setting the local time info !! DONE !! 1480\n",
        "Setting the local time info !! DONE !! 1480\n",
        "Setting the local time info !! DONE !!"
       ]
      },
      {
       "output_type": "stream",
       "stream": "stdout",
       "text": [
        " 1481\n",
        "Setting the local time info !! DONE !! 1482\n",
        "Setting the local time info !! DONE !! 1482\n",
        "Setting the local time info !! DONE !! 1482\n",
        "Setting the local time info !! DONE !! 1482\n",
        "Setting the local time info !! DONE !! 1482\n",
        "Setting the local time info !! DONE !! 1482\n",
        "Setting the local time info !! DONE !! 1482\n",
        "Setting the local time info !! DONE !! 1482\n",
        "Setting the local time info !! DONE !! 1483\n",
        "Setting the local time info !! DONE !! 1483\n",
        "Setting the local time info !! DONE !! 1483\n",
        "Setting the local time info !! DONE !! 1484\n",
        "Setting the local time info !! DONE !! 1484\n",
        "Setting the local time info !! DONE !! 1484\n",
        "Setting the local time info !! DONE !! 1484\n",
        "Setting the local time info !! DONE !! 1484\n",
        "Setting the local time info !! DONE !! 1484\n",
        "Setting the local time info !! DONE !! 1484\n",
        "Setting the local time info !! DONE !! 1484\n",
        "Setting the local time info !! DONE !! 1485\n",
        "Setting the local time info !! DONE !! 1485\n",
        "Setting the local time info !! DONE !! 1485\n",
        "Setting the local time info !! DONE !! 1485\n",
        "Setting the local time info !! DONE !! 1485\n",
        "Setting the local time info !! DONE !! 1485\n",
        "Setting the local time info !! DONE !! 1485\n",
        "Setting the local time info !! DONE !! 1485\n",
        "Setting the local time info !! DONE !! 1485\n",
        "Setting the local time info !! DONE !! 1485\n",
        "Setting the local time info !! DONE !! 1485\n",
        "Setting the local time info !! DONE !! 1485\n",
        "Setting the local time info !! DONE !! 1485\n",
        "Setting the local time info !! DONE !! 1485\n",
        "Setting the local time info !! DONE !! 1485\n",
        "Setting the local time info !! DONE !!"
       ]
      },
      {
       "output_type": "stream",
       "stream": "stdout",
       "text": [
        " 1486\n",
        "Setting the local time info !! DONE !! 1486\n",
        "Setting the local time info !! DONE !! 1487\n",
        "Setting the local time info !! DONE !! 1487\n",
        "Setting the local time info !! DONE !! 1488\n",
        "Setting the local time info !! DONE !! 1488\n",
        "Setting the local time info !! DONE !! 1489\n",
        "Setting the local time info !! DONE !! 1489\n",
        "Setting the local time info !! DONE !! 1490\n",
        "Setting the local time info !! DONE !! 1490\n",
        "Setting the local time info !! DONE !! 1491\n",
        "Setting the local time info !! DONE !!"
       ]
      },
      {
       "output_type": "stream",
       "stream": "stdout",
       "text": [
        " 1492\n",
        "Setting the local time info !! DONE !! 1492\n",
        "Setting the local time info !! DONE !! 1493\n",
        "Setting the local time info !! DONE !! 1493\n",
        "Setting the local time info !! DONE !! 1493\n",
        "Setting the local time info !! DONE !! 1493\n",
        "Setting the local time info !! DONE !! 1494\n",
        "Setting the local time info !! DONE !! 1494\n",
        "Setting the local time info !! DONE !! 1494\n",
        "Setting the local time info !! DONE !! 1494\n",
        "Setting the local time info !! DONE !! 1494\n",
        "Setting the local time info !! DONE !! 1495\n",
        "Setting the local time info !! DONE !! 1495\n",
        "Setting the local time info !! DONE !! 1495\n",
        "Setting the local time info !! DONE !! 1495\n",
        "Setting the local time info !! DONE !! 1495\n",
        "Setting the local time info !! DONE !! 1495\n",
        "Setting the local time info !! DONE !!"
       ]
      },
      {
       "output_type": "stream",
       "stream": "stdout",
       "text": [
        " 1496\n",
        "Setting the local time info !! DONE !! 1496\n",
        "Setting the local time info !! DONE !! 1496\n",
        "Setting the local time info !! DONE !! 1496\n",
        "Setting the local time info !! DONE !! 1496\n",
        "Setting the local time info !! DONE !! 1497\n",
        "Setting the local time info !! DONE !! 1497\n",
        "Setting the local time info !! DONE !! 1498\n",
        "Setting the local time info !! DONE !! 1498\n",
        "Setting the local time info !! DONE !! 1498\n",
        "Setting the local time info !! DONE !! 1498\n",
        "Setting the local time info !! DONE !!"
       ]
      },
      {
       "output_type": "stream",
       "stream": "stdout",
       "text": [
        " 1499\n",
        "Setting the local time info !! DONE !! 1499\n",
        "Setting the local time info !! DONE !! 1499\n",
        "Setting the local time info !! DONE !! 1499\n",
        "Setting the local time info !! DONE !!"
       ]
      },
      {
       "output_type": "stream",
       "stream": "stdout",
       "text": [
        " 1500\n",
        "Setting the local time info !! DONE !! 1500\n",
        "Setting the local time info !! DONE !! 1501\n",
        "Setting the local time info !! DONE !! 1501\n",
        "Setting the local time info !! DONE !! 1502\n",
        "Setting the local time info !! DONE !! 1502\n",
        "Setting the local time info !! DONE !! 1502\n",
        "Setting the local time info !! DONE !!"
       ]
      },
      {
       "output_type": "stream",
       "stream": "stdout",
       "text": [
        " 1503\n",
        "Setting the local time info !! DONE !! 1503\n",
        "Setting the local time info !! DONE !! 1504\n",
        "Setting the local time info !! DONE !! 1505\n",
        "Setting the local time info !! DONE !! 1505\n",
        "Setting the local time info !! DONE !! 1505\n",
        "Setting the local time info !! DONE !!"
       ]
      },
      {
       "output_type": "stream",
       "stream": "stdout",
       "text": [
        " 1506\n",
        "Setting the local time info !! DONE !! 1506\n",
        "Setting the local time info !! DONE !! 1507\n",
        "Setting the local time info !! DONE !!"
       ]
      },
      {
       "output_type": "stream",
       "stream": "stdout",
       "text": [
        " 1508\n",
        "Setting the local time info !! DONE !! 1508\n",
        "Setting the local time info !! DONE !! 1509\n",
        "Setting the local time info !! DONE !! 1510\n",
        "Setting the local time info !! DONE !! 1510\n",
        "Setting the local time info !! DONE !! 1510\n",
        "Setting the local time info !! DONE !!"
       ]
      },
      {
       "output_type": "stream",
       "stream": "stdout",
       "text": [
        " 1511\n",
        "Setting the local time info !! DONE !! 1511\n",
        "Setting the local time info !! DONE !! 1511\n",
        "Setting the local time info !! DONE !! 1512\n",
        "Setting the local time info !! DONE !! 1513\n",
        "Setting the local time info !! DONE !! 1514\n",
        "Setting the local time info !! DONE !! 1514\n",
        "Setting the local time info !! DONE !! 1514\n",
        "Setting the local time info !! DONE !! 1514\n",
        "Setting the local time info !! DONE !! 1515\n",
        "Setting the local time info !! DONE !! 1515\n",
        "Setting the local time info !! DONE !! 1515\n",
        "Setting the local time info !! DONE !! 1515\n",
        "Setting the local time info !! DONE !! 1515\n",
        "Setting the local time info !! DONE !! 1515\n",
        "Setting the local time info !! DONE !! 1515\n",
        "Setting the local time info !! DONE !! 1515\n",
        "Setting the local time info !! DONE !! 1515\n",
        "Setting the local time info !! DONE !! 1515\n",
        "Setting the local time info !! DONE !!"
       ]
      },
      {
       "output_type": "stream",
       "stream": "stdout",
       "text": [
        " 1516\n",
        "Setting the local time info !! DONE !! 1516\n",
        "Setting the local time info !! DONE !! 1516\n",
        "Setting the local time info !! DONE !! 1517\n",
        "Setting the local time info !! DONE !! 1517\n",
        "Setting the local time info !! DONE !! 1517\n",
        "Setting the local time info !! DONE !!"
       ]
      },
      {
       "output_type": "stream",
       "stream": "stdout",
       "text": [
        " 1518\n",
        "Setting the local time info !! DONE !! 1519\n",
        "Setting the local time info !! DONE !! 1519\n",
        "Setting the local time info !! DONE !! 1519\n",
        "Setting the local time info !! DONE !! 1520\n",
        "Setting the local time info !! DONE !! 1520\n",
        "Setting the local time info !! DONE !! 1520\n",
        "Setting the local time info !! DONE !! 1521\n",
        "Setting the local time info !! DONE !! 1521\n",
        "Setting the local time info !! DONE !! 1521\n",
        "Setting the local time info !! DONE !! 1521\n",
        "Setting the local time info !! DONE !!"
       ]
      },
      {
       "output_type": "stream",
       "stream": "stdout",
       "text": [
        " 1522\n",
        "Setting the local time info !! DONE !! 1522\n",
        "Setting the local time info !! DONE !!"
       ]
      },
      {
       "output_type": "stream",
       "stream": "stdout",
       "text": [
        " 1523\n",
        "Setting the local time info !! DONE !! 1524\n",
        "Setting the local time info !! DONE !! 1525\n",
        "Setting the local time info !! DONE !! 1525\n",
        "Setting the local time info !! DONE !!"
       ]
      },
      {
       "output_type": "stream",
       "stream": "stdout",
       "text": [
        " 1526\n",
        "Setting the local time info !! DONE !! 1526\n",
        "Setting the local time info !! DONE !! 1526\n",
        "Setting the local time info !! DONE !! 1527\n",
        "Setting the local time info !! DONE !! 1527\n",
        "Setting the local time info !! DONE !! 1527\n",
        "Setting the local time info !! DONE !! 1527\n",
        "Setting the local time info !! DONE !! 1528\n",
        "Setting the local time info !! DONE !! 1528\n",
        "Setting the local time info !! DONE !!"
       ]
      },
      {
       "output_type": "stream",
       "stream": "stdout",
       "text": [
        " 1529\n",
        "Setting the local time info !! DONE !! 1530\n",
        "Setting the local time info !! DONE !! 1531\n",
        "Setting the local time info !! DONE !! 1531\n",
        "Setting the local time info !! DONE !! 1531\n",
        "Setting the local time info !! DONE !! 1532\n",
        "Setting the local time info !! DONE !! 1532\n",
        "Setting the local time info !! DONE !! 1532\n",
        "Setting the local time info !! DONE !! 1532\n",
        "Setting the local time info !! DONE !!"
       ]
      },
      {
       "output_type": "stream",
       "stream": "stdout",
       "text": [
        " 1533\n",
        "Setting the local time info !! DONE !! 1533\n",
        "Setting the local time info !! DONE !! 1533\n",
        "Setting the local time info !! DONE !! 1534\n",
        "Setting the local time info !! DONE !! 1534\n",
        "Setting the local time info !! DONE !! 1534\n",
        "Setting the local time info !! DONE !! 1534\n",
        "Setting the local time info !! DONE !! 1535\n",
        "Setting the local time info !! DONE !! 1535\n",
        "Setting the local time info !! DONE !!"
       ]
      },
      {
       "output_type": "stream",
       "stream": "stdout",
       "text": [
        " 1536\n",
        "Setting the local time info !! DONE !! 1536\n",
        "Setting the local time info !! DONE !! 1536\n",
        "Setting the local time info !! DONE !! 1536\n",
        "Setting the local time info !! DONE !! 1536\n",
        "Setting the local time info !! DONE !! 1537\n",
        "Setting the local time info !! DONE !! 1537\n",
        "Setting the local time info !! DONE !! 1537\n",
        "Setting the local time info !! DONE !! 1537\n",
        "Setting the local time info !! DONE !! 1537\n",
        "Setting the local time info !! DONE !! 1537\n",
        "Setting the local time info !! DONE !! 1537\n",
        "Setting the local time info !! DONE !! 1537\n",
        "Setting the local time info !! DONE !! 1537\n",
        "Setting the local time info !! DONE !! 1537\n",
        "Setting the local time info !! DONE !! 1538\n",
        "Setting the local time info !! DONE !! 1538\n",
        "Setting the local time info !! DONE !!"
       ]
      },
      {
       "output_type": "stream",
       "stream": "stdout",
       "text": [
        " 1539\n",
        "Setting the local time info !! DONE !! 1539\n",
        "Setting the local time info !! DONE !! 1540\n",
        "Setting the local time info !! DONE !! 1540\n",
        "Setting the local time info !! DONE !! 1541\n",
        "Setting the local time info !! DONE !! 1541\n",
        "Setting the local time info !! DONE !! 1541\n",
        "Setting the local time info !! DONE !! 1541\n",
        "Setting the local time info !! DONE !! 1541\n",
        "Setting the local time info !! DONE !! 1541\n",
        "Setting the local time info !! DONE !! 1541\n",
        "Setting the local time info !! DONE !!"
       ]
      },
      {
       "output_type": "stream",
       "stream": "stdout",
       "text": [
        " 1542\n",
        "Setting the local time info !! DONE !! 1543\n",
        "Setting the local time info !! DONE !! 1543\n",
        "Setting the local time info !! DONE !! 1543\n",
        "Setting the local time info !! DONE !! 1543\n",
        "Setting the local time info !! DONE !! 1543\n",
        "Setting the local time info !! DONE !! 1543\n",
        "Setting the local time info !! DONE !! 1543\n",
        "Setting the local time info !! DONE !!"
       ]
      },
      {
       "output_type": "stream",
       "stream": "stdout",
       "text": [
        " 1544\n",
        "Setting the local time info !! DONE !! 1545\n",
        "Setting the local time info !! DONE !!"
       ]
      },
      {
       "output_type": "stream",
       "stream": "stdout",
       "text": [
        " 1546\n",
        "Setting the local time info !! DONE !! 1546\n",
        "Setting the local time info !! DONE !! 1546\n",
        "Setting the local time info !! DONE !! 1546\n",
        "Setting the local time info !! DONE !! 1546\n",
        "Setting the local time info !! DONE !! 1546\n",
        "Setting the local time info !! DONE !! 1546\n",
        "Setting the local time info !! DONE !! 1546\n",
        "Setting the local time info !! DONE !! 1546\n",
        "Setting the local time info !! DONE !! 1546\n",
        "Setting the local time info !! DONE !! 1547\n",
        "Setting the local time info !! DONE !! 1547\n",
        "Setting the local time info !! DONE !! 1547\n",
        "Setting the local time info !! DONE !! 1547\n",
        "Setting the local time info !! DONE !!"
       ]
      },
      {
       "output_type": "stream",
       "stream": "stdout",
       "text": [
        " 1548\n",
        "Setting the local time info !! DONE !! 1548\n",
        "Setting the local time info !! DONE !! 1548\n",
        "Setting the local time info !! DONE !! 1548\n",
        "Setting the local time info !! DONE !! 1549\n",
        "Setting the local time info !! DONE !! 1549\n",
        "Setting the local time info !! DONE !! 1549\n",
        "Setting the local time info !! DONE !! 1550\n",
        "Setting the local time info !! DONE !! 1550\n",
        "Setting the local time info !! DONE !! 1550\n",
        "Setting the local time info !! DONE !! 1550\n",
        "Setting the local time info !! DONE !! 1550\n",
        "Setting the local time info !! DONE !! 1550\n",
        "Setting the local time info !! DONE !! 1550\n",
        "Setting the local time info !! DONE !! 1550\n",
        "Setting the local time info !! DONE !! 1550\n",
        "Setting the local time info !! DONE !! 1550\n",
        "Setting the local time info !! DONE !! 1550\n",
        "Setting the local time info !! DONE !! 1550\n",
        "Setting the local time info !! DONE !! 1550\n",
        "Setting the local time info !! DONE !! 1550\n",
        "Setting the local time info !! DONE !! 1550\n",
        "Setting the local time info !! DONE !! 1550\n",
        "Setting the local time info !! DONE !! 1550\n",
        "Setting the local time info !! DONE !! 1550\n",
        "Setting the local time info !! DONE !! 1550\n",
        "Setting the local time info !! DONE !! 1550\n",
        "Setting the local time info !! DONE !!"
       ]
      },
      {
       "output_type": "stream",
       "stream": "stdout",
       "text": [
        " 1551\n",
        "Setting the local time info !! DONE !! 1551\n",
        "Setting the local time info !! DONE !! 1552\n",
        "Setting the local time info !! DONE !! 1552\n",
        "Setting the local time info !! DONE !! 1552\n",
        "Setting the local time info !! DONE !! 1552\n",
        "Setting the local time info !! DONE !! 1552\n",
        "Setting the local time info !! DONE !!"
       ]
      },
      {
       "output_type": "stream",
       "stream": "stdout",
       "text": [
        " 1553\n",
        "Setting the local time info !! DONE !! 1553\n",
        "Setting the local time info !! DONE !! 1553\n",
        "Setting the local time info !! DONE !! 1553\n",
        "Setting the local time info !! DONE !! 1554\n",
        "Setting the local time info !! DONE !! 1554\n",
        "Setting the local time info !! DONE !! 1554\n",
        "Setting the local time info !! DONE !! 1554\n",
        "Setting the local time info !! DONE !! 1554\n",
        "Setting the local time info !! DONE !! 1554\n",
        "Setting the local time info !! DONE !! 1554\n",
        "Setting the local time info !! DONE !! 1554\n",
        "Setting the local time info !! DONE !! 1554\n",
        "Setting the local time info !! DONE !! 1554\n",
        "Setting the local time info !! DONE !! 1554\n",
        "Setting the local time info !! DONE !! 1554\n",
        "Setting the local time info !! DONE !! 1554\n",
        "Setting the local time info !! DONE !! 1554\n",
        "Setting the local time info !! DONE !! 1554\n",
        "Setting the local time info !! DONE !! 1555\n",
        "Setting the local time info !! DONE !! 1555\n",
        "Setting the local time info !! DONE !!"
       ]
      },
      {
       "output_type": "stream",
       "stream": "stdout",
       "text": [
        " 1556\n",
        "Setting the local time info !! DONE !! 1557\n",
        "Setting the local time info !! DONE !! 1557\n",
        "Setting the local time info !! DONE !! 1557\n",
        "Setting the local time info !! DONE !! 1557\n",
        "Setting the local time info !! DONE !! 1557\n",
        "Setting the local time info !! DONE !! 1557\n",
        "Setting the local time info !! DONE !!"
       ]
      },
      {
       "output_type": "stream",
       "stream": "stdout",
       "text": [
        " 1558\n",
        "Setting the local time info !! DONE !! 1558\n",
        "Setting the local time info !! DONE !! 1558\n",
        "Setting the local time info !! DONE !! 1558\n",
        "Setting the local time info !! DONE !! 1558\n",
        "Setting the local time info !! DONE !! 1558\n",
        "Setting the local time info !! DONE !! 1559\n",
        "Setting the local time info !! DONE !!"
       ]
      },
      {
       "output_type": "stream",
       "stream": "stdout",
       "text": [
        " 1560\n",
        "Setting the local time info !! DONE !! 1560\n",
        "Setting the local time info !! DONE !! 1561\n",
        "Setting the local time info !! DONE !! 1561\n",
        "Setting the local time info !! DONE !! 1561\n",
        "Setting the local time info !! DONE !!"
       ]
      },
      {
       "output_type": "stream",
       "stream": "stdout",
       "text": [
        " 1562\n",
        "Setting the local time info !! DONE !! 1563\n",
        "Setting the local time info !! DONE !! 1563\n",
        "Setting the local time info !! DONE !! 1563\n",
        "Setting the local time info !! DONE !! 1563\n",
        "Setting the local time info !! DONE !! 1563\n",
        "Setting the local time info !! DONE !! 1563\n",
        "Setting the local time info !! DONE !! 1563\n",
        "Setting the local time info !! DONE !!"
       ]
      },
      {
       "output_type": "stream",
       "stream": "stdout",
       "text": [
        " 1564\n",
        "Setting the local time info !! DONE !! 1564\n",
        "Setting the local time info !! DONE !! 1565\n",
        "Setting the local time info !! DONE !! 1565\n",
        "Setting the local time info !! DONE !! 1565\n",
        "Setting the local time info !! DONE !! 1565\n",
        "Setting the local time info !! DONE !! 1565\n",
        "Setting the local time info !! DONE !! 1565\n",
        "Setting the local time info !! DONE !! 1566\n",
        "Setting the local time info !! DONE !! 1566\n",
        "Setting the local time info !! DONE !! 1566\n",
        "Setting the local time info !! DONE !! 1566\n",
        "Setting the local time info !! DONE !! 1566\n",
        "Setting the local time info !! DONE !! 1566\n",
        "Setting the local time info !! DONE !! 1566\n",
        "Setting the local time info !! DONE !! 1566\n",
        "Setting the local time info !! DONE !! 1566\n",
        "Setting the local time info !! DONE !! 1566\n",
        "Setting the local time info !! DONE !! 1566\n",
        "Setting the local time info !! DONE !! 1566\n",
        "Setting the local time info !! DONE !! 1566\n",
        "Setting the local time info !! DONE !!"
       ]
      },
      {
       "output_type": "stream",
       "stream": "stdout",
       "text": [
        " 1567\n",
        "Setting the local time info !! DONE !! 1568\n",
        "Setting the local time info !! DONE !! 1568\n",
        "Setting the local time info !! DONE !!"
       ]
      },
      {
       "output_type": "stream",
       "stream": "stdout",
       "text": [
        " 1569\n",
        "Setting the local time info !! DONE !!"
       ]
      },
      {
       "output_type": "stream",
       "stream": "stdout",
       "text": [
        " 1570\n",
        "Setting the local time info !! DONE !! 1570\n",
        "Setting the local time info !! DONE !! 1570\n",
        "Setting the local time info !! DONE !! 1570\n",
        "Setting the local time info !! DONE !! 1570\n",
        "Setting the local time info !! DONE !! 1570\n",
        "Setting the local time info !! DONE !! 1571\n",
        "Setting the local time info !! DONE !! 1571\n",
        "Setting the local time info !! DONE !!"
       ]
      },
      {
       "output_type": "stream",
       "stream": "stdout",
       "text": [
        " 1572\n",
        "Setting the local time info !! DONE !! 1572\n",
        "Setting the local time info !! DONE !! 1572\n",
        "Setting the local time info !! DONE !!"
       ]
      },
      {
       "output_type": "stream",
       "stream": "stdout",
       "text": [
        " 1573\n",
        "Setting the local time info !! DONE !! 1573\n",
        "Setting the local time info !! DONE !! 1574\n",
        "Setting the local time info !! DONE !! 1574\n",
        "Setting the local time info !! DONE !!"
       ]
      },
      {
       "output_type": "stream",
       "stream": "stdout",
       "text": [
        " 1575\n",
        "Setting the local time info !! DONE !! 1575\n",
        "Setting the local time info !! DONE !! 1575\n",
        "Setting the local time info !! DONE !! 1575\n",
        "Setting the local time info !! DONE !! 1575\n",
        "Setting the local time info !! DONE !! 1575\n",
        "Setting the local time info !! DONE !! 1575\n",
        "Setting the local time info !! DONE !! 1575\n",
        "Setting the local time info !! DONE !! 1575\n",
        "Setting the local time info !! DONE !! 1575\n",
        "Setting the local time info !! DONE !! 1575\n",
        "Setting the local time info !! DONE !! 1575\n",
        "Setting the local time info !! DONE !! 1575\n",
        "Setting the local time info !! DONE !! 1575\n",
        "Setting the local time info !! DONE !! 1576\n",
        "Setting the local time info !! DONE !! 1576\n",
        "Setting the local time info !! DONE !! 1577\n",
        "Setting the local time info !! DONE !! 1578\n",
        "Setting the local time info !! DONE !! 1578\n",
        "Setting the local time info !! DONE !! 1578\n",
        "Setting the local time info !! DONE !!"
       ]
      },
      {
       "output_type": "stream",
       "stream": "stdout",
       "text": [
        " 1579\n",
        "Setting the local time info !! DONE !! 1579\n",
        "Setting the local time info !! DONE !! 1580\n",
        "Setting the local time info !! DONE !!"
       ]
      },
      {
       "output_type": "stream",
       "stream": "stdout",
       "text": [
        " 1581\n",
        "Setting the local time info !! DONE !! 1581\n",
        "Setting the local time info !! DONE !! 1582\n",
        "Setting the local time info !! DONE !! 1582\n",
        "Setting the local time info !! DONE !! 1582\n",
        "Setting the local time info !! DONE !! 1582\n",
        "Setting the local time info !! DONE !! 1582\n",
        "Setting the local time info !! DONE !! 1582\n",
        "Setting the local time info !! DONE !! 1582\n",
        "Setting the local time info !! DONE !! 1582\n",
        "Setting the local time info !! DONE !!"
       ]
      },
      {
       "output_type": "stream",
       "stream": "stdout",
       "text": [
        " 1583\n",
        "Setting the local time info !! DONE !! 1583\n",
        "Setting the local time info !! DONE !! 1583\n",
        "Setting the local time info !! DONE !! 1583\n",
        "Setting the local time info !! DONE !! 1583\n",
        "Setting the local time info !! DONE !! 1583\n",
        "Setting the local time info !! DONE !! 1584\n",
        "Setting the local time info !! DONE !! 1584\n",
        "Setting the local time info !! DONE !! 1584\n",
        "Setting the local time info !! DONE !! 1585\n",
        "Setting the local time info !! DONE !! 1585\n",
        "Setting the local time info !! DONE !!"
       ]
      },
      {
       "output_type": "stream",
       "stream": "stdout",
       "text": [
        " 1586\n",
        "Setting the local time info !! DONE !! 1586\n",
        "Setting the local time info !! DONE !! 1586\n",
        "Setting the local time info !! DONE !! 1587\n",
        "Setting the local time info !! DONE !! 1587\n",
        "Setting the local time info !! DONE !! 1588\n",
        "Setting the local time info !! DONE !! 1588\n",
        "Setting the local time info !! DONE !! 1588\n",
        "Setting the local time info !! DONE !! 1588\n",
        "Setting the local time info !! DONE !! 1588\n",
        "Setting the local time info !! DONE !! 1588\n",
        "Setting the local time info !! DONE !! 1588\n",
        "Setting the local time info !! DONE !! 1588\n",
        "Setting the local time info !! DONE !! 1588\n",
        "Setting the local time info !! DONE !!"
       ]
      },
      {
       "output_type": "stream",
       "stream": "stdout",
       "text": [
        " 1589\n",
        "Setting the local time info !! DONE !! 1589\n",
        "Setting the local time info !! DONE !! 1589\n",
        "Setting the local time info !! DONE !! 1589\n",
        "Setting the local time info !! DONE !! 1589\n",
        "Setting the local time info !! DONE !! 1590\n",
        "Setting the local time info !! DONE !! 1591\n",
        "Setting the local time info !! DONE !!"
       ]
      },
      {
       "output_type": "stream",
       "stream": "stdout",
       "text": [
        " 1592\n",
        "Setting the local time info !! DONE !! 1593\n",
        "Setting the local time info !! DONE !! 1593\n",
        "Setting the local time info !! DONE !! 1593\n",
        "Setting the local time info !! DONE !! 1593\n",
        "Setting the local time info !! DONE !! 1593\n",
        "Setting the local time info !! DONE !!"
       ]
      },
      {
       "output_type": "stream",
       "stream": "stdout",
       "text": [
        " 1594\n",
        "Setting the local time info !! DONE !! 1594\n",
        "Setting the local time info !! DONE !! 1595\n",
        "Setting the local time info !! DONE !! 1595\n",
        "Setting the local time info !! DONE !! 1596\n",
        "Setting the local time info !! DONE !! 1597\n",
        "Setting the local time info !! DONE !! 1597\n",
        "Setting the local time info !! DONE !!"
       ]
      },
      {
       "output_type": "stream",
       "stream": "stdout",
       "text": [
        " 1598\n",
        "Setting the local time info !! DONE !! 1598\n",
        "Setting the local time info !! DONE !! 1599\n",
        "Setting the local time info !! DONE !! 1600\n",
        "Setting the local time info !! DONE !! 1600\n",
        "Setting the local time info !! DONE !! 1601\n",
        "Setting the local time info !! DONE !! 1601\n",
        "Setting the local time info !! DONE !!"
       ]
      },
      {
       "output_type": "stream",
       "stream": "stdout",
       "text": [
        " 1602\n",
        "Setting the local time info !! DONE !! 1602\n",
        "Setting the local time info !! DONE !! 1603\n",
        "Setting the local time info !! DONE !! 1603\n",
        "Setting the local time info !! DONE !! 1603\n",
        "Setting the local time info !! DONE !!"
       ]
      },
      {
       "output_type": "stream",
       "stream": "stdout",
       "text": [
        " 1604\n",
        "Setting the local time info !! DONE !! 1604\n",
        "Setting the local time info !! DONE !! 1605\n",
        "Setting the local time info !! DONE !!"
       ]
      },
      {
       "output_type": "stream",
       "stream": "stdout",
       "text": [
        " 1606\n",
        "Setting the local time info !! DONE !! 1606\n",
        "Setting the local time info !! DONE !! 1606\n",
        "Setting the local time info !! DONE !! 1606\n",
        "Setting the local time info !! DONE !!"
       ]
      },
      {
       "output_type": "stream",
       "stream": "stdout",
       "text": [
        " 1607\n",
        "Setting the local time info !! DONE !! 1607\n",
        "Setting the local time info !! DONE !! 1608\n",
        "Setting the local time info !! DONE !! 1609\n",
        "Setting the local time info !! DONE !! 1609\n",
        "Setting the local time info !! DONE !! 1609\n",
        "Setting the local time info !! DONE !! 1610\n",
        "Setting the local time info !! DONE !! 1610\n",
        "Setting the local time info !! DONE !! 1610\n",
        "Setting the local time info !! DONE !! 1610\n",
        "Setting the local time info !! DONE !! 1610\n",
        "Setting the local time info !! DONE !! 1611\n",
        "Setting the local time info !! DONE !! 1611\n",
        "Setting the local time info !! DONE !! 1611\n",
        "Setting the local time info !! DONE !! 1611\n",
        "Setting the local time info !! DONE !! 1611\n",
        "Setting the local time info !! DONE !! 1611\n",
        "Setting the local time info !! DONE !! 1611\n",
        "Setting the local time info !! DONE !! 1611\n",
        "Setting the local time info !! DONE !! 1611\n",
        "Setting the local time info !! DONE !! 1611\n",
        "Setting the local time info !! DONE !!"
       ]
      },
      {
       "output_type": "stream",
       "stream": "stdout",
       "text": [
        " 1612\n",
        "Setting the local time info !! DONE !! 1612\n",
        "Setting the local time info !! DONE !! 1612\n",
        "Setting the local time info !! DONE !! 1613\n",
        "Setting the local time info !! DONE !! 1613\n",
        "Setting the local time info !! DONE !! 1613\n",
        "Setting the local time info !! DONE !! 1613\n",
        "Setting the local time info !! DONE !! 1613\n",
        "Setting the local time info !! DONE !!"
       ]
      },
      {
       "output_type": "stream",
       "stream": "stdout",
       "text": [
        " 1614\n",
        "Setting the local time info !! DONE !! 1615\n",
        "Setting the local time info !! DONE !! 1615\n",
        "Setting the local time info !! DONE !!"
       ]
      },
      {
       "output_type": "stream",
       "stream": "stdout",
       "text": [
        " 1616\n",
        "Setting the local time info !! DONE !!"
       ]
      },
      {
       "output_type": "stream",
       "stream": "stdout",
       "text": [
        " 1617\n",
        "Setting the local time info !! DONE !! 1618\n",
        "Setting the local time info !! DONE !! 1618\n",
        "Setting the local time info !! DONE !! 1618\n",
        "Setting the local time info !! DONE !! 1618\n",
        "Setting the local time info !! DONE !!"
       ]
      },
      {
       "output_type": "stream",
       "stream": "stdout",
       "text": [
        " 1619\n",
        "Setting the local time info !! DONE !! 1620\n",
        "Setting the local time info !! DONE !! 1620\n",
        "Setting the local time info !! DONE !! 1620\n",
        "Setting the local time info !! DONE !! 1620\n",
        "Setting the local time info !! DONE !! 1620\n",
        "Setting the local time info !! DONE !! 1621\n",
        "Setting the local time info !! DONE !! 1621\n",
        "Setting the local time info !! DONE !! 1622\n",
        "Setting the local time info !! DONE !!"
       ]
      },
      {
       "output_type": "stream",
       "stream": "stdout",
       "text": [
        " 1623\n",
        "Setting the local time info !! DONE !! 1623\n",
        "Setting the local time info !! DONE !! 1623\n",
        "Setting the local time info !! DONE !! 1623\n",
        "Setting the local time info !! DONE !! 1624\n",
        "Setting the local time info !! DONE !! 1624\n",
        "Setting the local time info !! DONE !!"
       ]
      },
      {
       "output_type": "stream",
       "stream": "stdout",
       "text": [
        " 1625\n",
        "Setting the local time info !! DONE !! 1626\n",
        "Setting the local time info !! DONE !!"
       ]
      },
      {
       "output_type": "stream",
       "stream": "stdout",
       "text": [
        " 1627\n",
        "Setting the local time info !! DONE !! 1627\n",
        "Setting the local time info !! DONE !! 1628\n",
        "Setting the local time info !! DONE !! 1629\n",
        "Setting the local time info !! DONE !! 1629\n",
        "Setting the local time info !! DONE !!"
       ]
      },
      {
       "output_type": "stream",
       "stream": "stdout",
       "text": [
        " 1630\n",
        "Setting the local time info !! DONE !! 1631\n",
        "Setting the local time info !! DONE !! 1631\n",
        "Setting the local time info !! DONE !!"
       ]
      },
      {
       "output_type": "stream",
       "stream": "stdout",
       "text": [
        " 1632\n",
        "Setting the local time info !! DONE !! 1632\n",
        "Setting the local time info !! DONE !! 1633\n",
        "Setting the local time info !! DONE !! 1633\n",
        "Setting the local time info !! DONE !! 1634\n",
        "Setting the local time info !! DONE !!"
       ]
      },
      {
       "output_type": "stream",
       "stream": "stdout",
       "text": [
        " 1635\n",
        "Setting the local time info !! DONE !! 1635\n",
        "Setting the local time info !! DONE !! 1635\n",
        "Setting the local time info !! DONE !! 1635\n",
        "Setting the local time info !! DONE !! 1635\n",
        "Setting the local time info !! DONE !! 1635\n",
        "Setting the local time info !! DONE !! 1635\n",
        "Setting the local time info !! DONE !! 1635\n",
        "Setting the local time info !! DONE !! 1635\n",
        "Setting the local time info !! DONE !! 1635\n",
        "Setting the local time info !! DONE !! 1635\n",
        "Setting the local time info !! DONE !!"
       ]
      },
      {
       "output_type": "stream",
       "stream": "stdout",
       "text": [
        " 1636\n",
        "Setting the local time info !! DONE !!"
       ]
      },
      {
       "output_type": "stream",
       "stream": "stdout",
       "text": [
        " 1637\n",
        "Setting the local time info !! DONE !! 1638\n",
        "Setting the local time info !! DONE !! 1638\n",
        "Setting the local time info !! DONE !! 1639\n",
        "Setting the local time info !! DONE !! 1639\n",
        "Setting the local time info !! DONE !!"
       ]
      },
      {
       "output_type": "stream",
       "stream": "stdout",
       "text": [
        " 1640\n",
        "Setting the local time info !! DONE !! 1640\n",
        "Setting the local time info !! DONE !!"
       ]
      },
      {
       "output_type": "stream",
       "stream": "stdout",
       "text": [
        " 1641\n",
        "Setting the local time info !! DONE !! 1642\n",
        "Setting the local time info !! DONE !! 1642\n",
        "Setting the local time info !! DONE !! 1643\n",
        "Setting the local time info !! DONE !!"
       ]
      },
      {
       "output_type": "stream",
       "stream": "stdout",
       "text": [
        " 1644\n",
        "Setting the local time info !! DONE !! 1644\n",
        "Setting the local time info !! DONE !! 1645\n",
        "Setting the local time info !! DONE !! 1645\n",
        "Setting the local time info !! DONE !! 1645\n",
        "Setting the local time info !! DONE !! 1645\n",
        "Setting the local time info !! DONE !! 1646\n",
        "Setting the local time info !! DONE !! 1646\n",
        "Setting the local time info !! DONE !!"
       ]
      },
      {
       "output_type": "stream",
       "stream": "stdout",
       "text": [
        " 1647\n",
        "Setting the local time info !! DONE !! 1647\n",
        "Setting the local time info !! DONE !! 1648\n",
        "Setting the local time info !! DONE !! 1648\n",
        "Setting the local time info !! DONE !! 1648\n",
        "Setting the local time info !! DONE !! 1648\n",
        "Setting the local time info !! DONE !! 1648\n",
        "Setting the local time info !! DONE !! 1648\n",
        "Setting the local time info !! DONE !! 1648\n",
        "Setting the local time info !! DONE !! 1648\n",
        "Setting the local time info !! DONE !! 1648\n",
        "Setting the local time info !! DONE !! 1649\n",
        "Setting the local time info !! DONE !! 1649\n",
        "Setting the local time info !! DONE !!"
       ]
      },
      {
       "output_type": "stream",
       "stream": "stdout",
       "text": [
        " 1650\n",
        "Setting the local time info !! DONE !! 1650\n",
        "Setting the local time info !! DONE !! 1650\n",
        "Setting the local time info !! DONE !! 1650\n",
        "Setting the local time info !! DONE !! 1650\n",
        "Setting the local time info !! DONE !! 1650\n",
        "Setting the local time info !! DONE !! 1650\n",
        "Setting the local time info !! DONE !! 1650\n",
        "Setting the local time info !! DONE !! 1650\n",
        "Setting the local time info !! DONE !! 1651\n",
        "Setting the local time info !! DONE !! 1651\n",
        "Setting the local time info !! DONE !!"
       ]
      },
      {
       "output_type": "stream",
       "stream": "stdout",
       "text": [
        " 1652\n",
        "Setting the local time info !! DONE !! 1652\n",
        "Setting the local time info !! DONE !! 1652\n",
        "Setting the local time info !! DONE !! 1652\n",
        "Setting the local time info !! DONE !! 1652\n",
        "Setting the local time info !! DONE !! 1652\n",
        "Setting the local time info !! DONE !! 1652\n",
        "Setting the local time info !! DONE !! 1652\n",
        "Setting the local time info !! DONE !! 1653\n",
        "Setting the local time info !! DONE !! 1653\n",
        "Setting the local time info !! DONE !!"
       ]
      },
      {
       "output_type": "stream",
       "stream": "stdout",
       "text": [
        " 1654\n",
        "Setting the local time info !! DONE !! 1655\n",
        "Setting the local time info !! DONE !! 1655\n",
        "Setting the local time info !! DONE !!"
       ]
      },
      {
       "output_type": "stream",
       "stream": "stdout",
       "text": [
        " 1656\n",
        "Setting the local time info !! DONE !! 1656\n",
        "Setting the local time info !! DONE !! 1656\n",
        "Setting the local time info !! DONE !! 1656\n",
        "Setting the local time info !! DONE !! 1656\n",
        "Setting the local time info !! DONE !! 1656\n",
        "Setting the local time info !! DONE !! 1656\n",
        "Setting the local time info !! DONE !! 1656\n",
        "Setting the local time info !! DONE !! 1656\n",
        "Setting the local time info !! DONE !! 1656\n",
        "Setting the local time info !! DONE !! 1656\n",
        "Setting the local time info !! DONE !! 1657\n",
        "Setting the local time info !! DONE !! 1658\n",
        "Setting the local time info !! DONE !! 1658\n",
        "Setting the local time info !! DONE !! 1658\n",
        "Setting the local time info !! DONE !! 1658\n",
        "Setting the local time info !! DONE !! 1658\n",
        "Setting the local time info !! DONE !! 1659\n",
        "Setting the local time info !! DONE !! 1659\n",
        "Setting the local time info !! DONE !! 1659\n",
        "Setting the local time info !! DONE !! 1660\n",
        "Setting the local time info !! DONE !! 1660\n",
        "Setting the local time info !! DONE !!"
       ]
      },
      {
       "output_type": "stream",
       "stream": "stdout",
       "text": [
        " 1661\n",
        "Setting the local time info !! DONE !! 1662\n",
        "Setting the local time info !! DONE !! 1662\n",
        "Setting the local time info !! DONE !! 1662\n",
        "Setting the local time info !! DONE !! 1662\n",
        "Setting the local time info !! DONE !! 1662\n",
        "Setting the local time info !! DONE !!"
       ]
      },
      {
       "output_type": "stream",
       "stream": "stdout",
       "text": [
        " 1663\n",
        "Setting the local time info !! DONE !! 1664\n",
        "Setting the local time info !! DONE !! 1664\n",
        "Setting the local time info !! DONE !! 1664\n",
        "Setting the local time info !! DONE !! 1664\n",
        "Setting the local time info !! DONE !! 1664\n",
        "Setting the local time info !! DONE !! 1664\n",
        "Setting the local time info !! DONE !! 1664\n",
        "Setting the local time info !! DONE !! 1664\n",
        "Setting the local time info !! DONE !! 1664\n",
        "Setting the local time info !! DONE !! 1664\n",
        "Setting the local time info !! DONE !! 1664\n",
        "Setting the local time info !! DONE !! 1664\n",
        "Setting the local time info !! DONE !! 1665\n",
        "Setting the local time info !! DONE !! 1666\n",
        "Setting the local time info !! DONE !!"
       ]
      },
      {
       "output_type": "stream",
       "stream": "stdout",
       "text": [
        " 1667\n",
        "Setting the local time info !! DONE !! 1667\n",
        "Setting the local time info !! DONE !! 1668\n",
        "Setting the local time info !! DONE !! 1668\n",
        "Setting the local time info !! DONE !! 1668\n",
        "Setting the local time info !! DONE !! 1668\n",
        "Setting the local time info !! DONE !! 1668\n",
        "Setting the local time info !! DONE !! 1668\n",
        "Setting the local time info !! DONE !! 1668\n",
        "Setting the local time info !! DONE !! 1668\n",
        "Setting the local time info !! DONE !! 1668\n",
        "Setting the local time info !! DONE !!"
       ]
      },
      {
       "output_type": "stream",
       "stream": "stdout",
       "text": [
        " 1669\n",
        "Setting the local time info !! DONE !! 1670\n",
        "Setting the local time info !! DONE !! 1670\n",
        "Setting the local time info !! DONE !! 1670\n",
        "Setting the local time info !! DONE !! 1670\n",
        "Setting the local time info !! DONE !! 1671\n",
        "Setting the local time info !! DONE !! 1671\n",
        "Setting the local time info !! DONE !! 1672\n",
        "Setting the local time info !! DONE !! 1672\n",
        "Setting the local time info !! DONE !! 1672\n",
        "Setting the local time info !! DONE !! 1672\n",
        "Setting the local time info !! DONE !! 1672\n",
        "Setting the local time info !! DONE !! 1672\n",
        "Setting the local time info !! DONE !! 1672\n",
        "Setting the local time info !! DONE !! 1672\n",
        "Setting the local time info !! DONE !! 1672\n",
        "Setting the local time info !! DONE !!"
       ]
      },
      {
       "output_type": "stream",
       "stream": "stdout",
       "text": [
        " 1673\n",
        "Setting the local time info !! DONE !! 1673\n",
        "Setting the local time info !! DONE !! 1673\n",
        "Setting the local time info !! DONE !! 1673\n",
        "Setting the local time info !! DONE !! 1673\n",
        "Setting the local time info !! DONE !! 1673\n",
        "Setting the local time info !! DONE !! 1674\n",
        "Setting the local time info !! DONE !! 1674\n",
        "Setting the local time info !! DONE !! 1674\n",
        "Setting the local time info !! DONE !! 1675\n",
        "Setting the local time info !! DONE !! 1676\n",
        "Setting the local time info !! DONE !! 1676\n",
        "Setting the local time info !! DONE !!"
       ]
      },
      {
       "output_type": "stream",
       "stream": "stdout",
       "text": [
        " 1677\n",
        "Setting the local time info !! DONE !! 1677\n",
        "Setting the local time info !! DONE !! 1677\n",
        "Setting the local time info !! DONE !! 1677\n",
        "Setting the local time info !! DONE !! 1678\n",
        "Setting the local time info !! DONE !! 1678\n",
        "Setting the local time info !! DONE !! 1678\n",
        "Setting the local time info !! DONE !! 1678\n",
        "Setting the local time info !! DONE !! 1678\n",
        "Setting the local time info !! DONE !! 1678\n",
        "Setting the local time info !! DONE !!"
       ]
      },
      {
       "output_type": "stream",
       "stream": "stdout",
       "text": [
        " 1679\n",
        "Setting the local time info !! DONE !! 1679\n",
        "Setting the local time info !! DONE !! 1679\n",
        "Setting the local time info !! DONE !! 1679\n",
        "Setting the local time info !! DONE !! 1679\n",
        "Setting the local time info !! DONE !! 1680\n",
        "Setting the local time info !! DONE !! 1680\n",
        "Setting the local time info !! DONE !! 1680\n",
        "Setting the local time info !! DONE !! 1680\n",
        "Setting the local time info !! DONE !! 1680\n",
        "Setting the local time info !! DONE !! 1681\n",
        "Setting the local time info !! DONE !! 1681\n",
        "Setting the local time info !! DONE !! 1682\n",
        "Setting the local time info !! DONE !!"
       ]
      },
      {
       "output_type": "stream",
       "stream": "stdout",
       "text": [
        " 1683\n",
        "Setting the local time info !! DONE !! 1683\n",
        "Setting the local time info !! DONE !! 1683\n",
        "Setting the local time info !! DONE !! 1684\n",
        "Setting the local time info !! DONE !! 1684\n",
        "Setting the local time info !! DONE !! 1684\n",
        "Setting the local time info !! DONE !! 1684\n",
        "Setting the local time info !! DONE !! 1684\n",
        "Setting the local time info !! DONE !! 1684\n",
        "Setting the local time info !! DONE !! 1684\n",
        "Setting the local time info !! DONE !! 1685\n",
        "Setting the local time info !! DONE !! 1685\n",
        "Setting the local time info !! DONE !! 1685\n",
        "Setting the local time info !! DONE !! 1686\n",
        "Setting the local time info !! DONE !! 1686\n",
        "Setting the local time info !! DONE !! 1686\n",
        "Setting the local time info !! DONE !! 1687\n",
        "Setting the local time info !! DONE !! 1687\n",
        "Setting the local time info !! DONE !! 1687\n",
        "Setting the local time info !! DONE !! 1687\n",
        "Setting the local time info !! DONE !! 1687\n",
        "Setting the local time info !! DONE !! 1687\n",
        "Setting the local time info !! DONE !! 1687\n",
        "Setting the local time info !! DONE !!"
       ]
      },
      {
       "output_type": "stream",
       "stream": "stdout",
       "text": [
        " 1688\n",
        "Setting the local time info !! DONE !! 1688\n",
        "Setting the local time info !! DONE !! 1688\n",
        "Setting the local time info !! DONE !!"
       ]
      },
      {
       "output_type": "stream",
       "stream": "stdout",
       "text": [
        " 1689\n",
        "Setting the local time info !! DONE !! 1689\n",
        "Setting the local time info !! DONE !! 1689\n",
        "Setting the local time info !! DONE !! 1689\n",
        "Setting the local time info !! DONE !! 1689\n",
        "Setting the local time info !! DONE !! 1689\n",
        "Setting the local time info !! DONE !! 1689\n",
        "Setting the local time info !! DONE !! 1689\n",
        "Setting the local time info !! DONE !! 1690\n",
        "Setting the local time info !! DONE !! 1691\n",
        "Setting the local time info !! DONE !! 1691\n",
        "Setting the local time info !! DONE !! 1691\n",
        "Setting the local time info !! DONE !!"
       ]
      },
      {
       "output_type": "stream",
       "stream": "stdout",
       "text": [
        " 1692\n",
        "Setting the local time info !! DONE !! 1693\n",
        "Setting the local time info !! DONE !! 1694\n",
        "Setting the local time info !! DONE !! 1694\n",
        "Setting the local time info !! DONE !! 1694\n",
        "Setting the local time info !! DONE !! 1694\n",
        "Setting the local time info !! DONE !! 1694\n",
        "Setting the local time info !! DONE !! 1694\n",
        "Setting the local time info !! DONE !! 1694\n",
        "Setting the local time info !! DONE !! 1694\n",
        "Setting the local time info !! DONE !! 1695\n",
        "Setting the local time info !! DONE !! 1695\n",
        "Setting the local time info !! DONE !!"
       ]
      },
      {
       "output_type": "stream",
       "stream": "stdout",
       "text": [
        " 1696\n",
        "Setting the local time info !! DONE !! 1696\n",
        "Setting the local time info !! DONE !! 1696\n",
        "Setting the local time info !! DONE !! 1697\n",
        "Setting the local time info !! DONE !! 1697\n",
        "Setting the local time info !! DONE !! 1697\n",
        "Setting the local time info !! DONE !! 1697\n",
        "Setting the local time info !! DONE !!"
       ]
      },
      {
       "output_type": "stream",
       "stream": "stdout",
       "text": [
        " 1698\n",
        "Setting the local time info !! DONE !! 1698\n",
        "Setting the local time info !! DONE !! 1698\n",
        "Setting the local time info !! DONE !! 1698\n",
        "Setting the local time info !! DONE !! 1699\n",
        "Setting the local time info !! DONE !! 1700\n",
        "Setting the local time info !! DONE !!"
       ]
      },
      {
       "output_type": "stream",
       "stream": "stdout",
       "text": [
        " 1701\n",
        "Setting the local time info !! DONE !! 1701\n",
        "Setting the local time info !! DONE !! 1702\n",
        "Setting the local time info !! DONE !! 1702\n",
        "Setting the local time info !! DONE !! 1703\n",
        "Setting the local time info !! DONE !! 1703\n",
        "Setting the local time info !! DONE !! 1703\n",
        "Setting the local time info !! DONE !! 1704\n",
        "Setting the local time info !! DONE !! 1704\n",
        "Setting the local time info !! DONE !! 1704\n",
        "Setting the local time info !! DONE !! 1704\n",
        "Setting the local time info !! DONE !! 1704\n",
        "Setting the local time info !! DONE !! 1704\n",
        "Setting the local time info !! DONE !! 1704\n",
        "Setting the local time info !! DONE !! 1704\n",
        "Setting the local time info !! DONE !! 1704\n",
        "Setting the local time info !! DONE !! 1704\n",
        "Setting the local time info !! DONE !! 1704\n",
        "Setting the local time info !! DONE !! 1704\n",
        "Setting the local time info !! DONE !! 1705\n",
        "Setting the local time info !! DONE !!"
       ]
      },
      {
       "output_type": "stream",
       "stream": "stdout",
       "text": [
        " 1706\n",
        "Setting the local time info !! DONE !! 1706\n",
        "Setting the local time info !! DONE !! 1706\n",
        "Setting the local time info !! DONE !! 1706\n",
        "Setting the local time info !! DONE !! 1706\n",
        "Setting the local time info !! DONE !! 1706\n",
        "Setting the local time info !! DONE !!"
       ]
      },
      {
       "output_type": "stream",
       "stream": "stdout",
       "text": [
        " 1707\n",
        "Setting the local time info !! DONE !! 1707\n",
        "Setting the local time info !! DONE !! 1707\n",
        "Setting the local time info !! DONE !! 1707\n",
        "Setting the local time info !! DONE !! 1707\n",
        "Setting the local time info !! DONE !! 1708\n",
        "Setting the local time info !! DONE !! 1709\n",
        "Setting the local time info !! DONE !! 1709\n",
        "Setting the local time info !! DONE !! 1710\n",
        "Setting the local time info !! DONE !! 1710\n",
        "Setting the local time info !! DONE !! 1710\n",
        "Setting the local time info !! DONE !!"
       ]
      },
      {
       "output_type": "stream",
       "stream": "stdout",
       "text": [
        " 1711\n",
        "Setting the local time info !! DONE !! 1711\n",
        "Setting the local time info !! DONE !! 1711\n",
        "Setting the local time info !! DONE !! 1711\n",
        "Setting the local time info !! DONE !! 1712\n",
        "Setting the local time info !! DONE !! 1712\n",
        "Setting the local time info !! DONE !! 1712\n",
        "Setting the local time info !! DONE !! 1712\n",
        "Setting the local time info !! DONE !! 1712\n",
        "Setting the local time info !! DONE !! 1712\n",
        "Setting the local time info !! DONE !! 1712\n",
        "Setting the local time info !! DONE !! 1712\n",
        "Setting the local time info !! DONE !! 1712\n",
        "Setting the local time info !! DONE !! 1713\n",
        "Setting the local time info !! DONE !! 1713\n"
       ]
      },
      {
       "output_type": "stream",
       "stream": "stdout",
       "text": [
        "Setting the local time info !! DONE !! 1713\n",
        "Setting the local time info !! DONE !! 1713\n",
        "Setting the local time info !! DONE !! 1714\n",
        "Setting the local time info !! DONE !! 1714\n",
        "Setting the local time info !! DONE !! 1715\n",
        "Setting the local time info !! DONE !! 1715\n",
        "Setting the local time info !! DONE !! 1715\n",
        "Setting the local time info !! DONE !! 1715\n",
        "Setting the local time info !! DONE !! 1715\n",
        "Setting the local time info !! DONE !! 1715\n",
        "Setting the local time info !! DONE !! 1716\n",
        "Setting the local time info !! DONE !! 1717\n",
        "Setting the local time info !! DONE !! 1717\n",
        "Setting the local time info !! DONE !! 1717\n",
        "Setting the local time info !! DONE !!"
       ]
      },
      {
       "output_type": "stream",
       "stream": "stdout",
       "text": [
        " 1718\n",
        "Setting the local time info !! DONE !! 1719\n",
        "Setting the local time info !! DONE !!"
       ]
      },
      {
       "output_type": "stream",
       "stream": "stdout",
       "text": [
        " 1720\n",
        "Setting the local time info !! DONE !! 1721\n",
        "Setting the local time info !! DONE !! 1722\n",
        "Setting the local time info !! DONE !! 1722\n",
        "Setting the local time info !! DONE !! 1722\n",
        "Setting the local time info !! DONE !! 1722\n",
        "Setting the local time info !! DONE !! 1722\n",
        "Setting the local time info !! DONE !! 1723\n",
        "Setting the local time info !! DONE !! 1723\n",
        "Setting the local time info !! DONE !! 1723\n",
        "Setting the local time info !! DONE !! 1723\n",
        "Setting the local time info !! DONE !!"
       ]
      },
      {
       "output_type": "stream",
       "stream": "stdout",
       "text": [
        " 1724\n",
        "Setting the local time info !! DONE !! 1724\n",
        "Setting the local time info !! DONE !! 1725\n",
        "Setting the local time info !! DONE !! 1725\n",
        "Setting the local time info !! DONE !! 1725\n",
        "Setting the local time info !! DONE !! 1725\n",
        "Setting the local time info !! DONE !! 1725\n",
        "Setting the local time info !! DONE !! 1725\n",
        "Setting the local time info !! DONE !!"
       ]
      },
      {
       "output_type": "stream",
       "stream": "stdout",
       "text": [
        " 1726\n",
        "Setting the local time info !! DONE !! 1727\n",
        "Setting the local time info !! DONE !! 1727\n",
        "Setting the local time info !! DONE !! 1727\n",
        "Setting the local time info !! DONE !! 1727\n",
        "Setting the local time info !! DONE !! 1727\n",
        "Setting the local time info !! DONE !! 1727\n",
        "Setting the local time info !! DONE !! 1727\n",
        "Setting the local time info !! DONE !! 1728\n",
        "Setting the local time info !! DONE !! 1728\n",
        "Setting the local time info !! DONE !!"
       ]
      },
      {
       "output_type": "stream",
       "stream": "stdout",
       "text": [
        " 1729\n",
        "Setting the local time info !! DONE !! 1729\n",
        "Setting the local time info !! DONE !! 1730\n",
        "Setting the local time info !! DONE !! 1730\n",
        "Setting the local time info !! DONE !! 1730\n",
        "Setting the local time info !! DONE !! 1731\n",
        "Setting the local time info !! DONE !!"
       ]
      },
      {
       "output_type": "stream",
       "stream": "stdout",
       "text": [
        " 1732\n",
        "Setting the local time info !! DONE !! 1732\n",
        "Setting the local time info !! DONE !! 1733\n",
        "Setting the local time info !! DONE !! 1733\n",
        "Setting the local time info !! DONE !! 1733\n",
        "Setting the local time info !! DONE !!"
       ]
      },
      {
       "output_type": "stream",
       "stream": "stdout",
       "text": [
        " 1734\n",
        "Setting the local time info !! DONE !! 1735\n",
        "Setting the local time info !! DONE !! 1735\n",
        "Setting the local time info !! DONE !! 1735\n",
        "Setting the local time info !! DONE !! 1735\n",
        "Setting the local time info !! DONE !! 1736\n",
        "Setting the local time info !! DONE !! 1736\n",
        "Setting the local time info !! DONE !! 1736\n",
        "Setting the local time info !! DONE !! 1736\n",
        "Setting the local time info !! DONE !! 1736\n",
        "Setting the local time info !! DONE !! 1736\n",
        "Setting the local time info !! DONE !! 1736\n",
        "Setting the local time info !! DONE !! 1737\n",
        "Setting the local time info !! DONE !!"
       ]
      },
      {
       "output_type": "stream",
       "stream": "stdout",
       "text": [
        " 1738\n",
        "Setting the local time info !! DONE !! 1739\n",
        "Setting the local time info !! DONE !! 1740\n",
        "Setting the local time info !! DONE !! 1741\n",
        "Setting the local time info !! DONE !! 1741\n",
        "Setting the local time info !! DONE !!"
       ]
      },
      {
       "output_type": "stream",
       "stream": "stdout",
       "text": [
        " 1742\n",
        "Setting the local time info !! DONE !! 1743\n",
        "Setting the local time info !! DONE !! 1743\n",
        "Setting the local time info !! DONE !! 1743\n",
        "Setting the local time info !! DONE !! 1743\n",
        "Setting the local time info !! DONE !! 1743\n",
        "Setting the local time info !! DONE !! 1743\n",
        "Setting the local time info !! DONE !! 1743\n",
        "Setting the local time info !! DONE !! 1743\n",
        "Setting the local time info !! DONE !! 1744\n",
        "Setting the local time info !! DONE !! 1744\n",
        "Setting the local time info !! DONE !! 1744\n",
        "Setting the local time info !! DONE !! 1744\n",
        "Setting the local time info !! DONE !! 1744\n",
        "Setting the local time info !! DONE !!"
       ]
      },
      {
       "output_type": "stream",
       "stream": "stdout",
       "text": [
        " 1745\n",
        "Setting the local time info !! DONE !! 1745\n",
        "Setting the local time info !! DONE !! 1745\n",
        "Setting the local time info !! DONE !! 1746\n",
        "Setting the local time info !! DONE !! 1746\n",
        "Setting the local time info !! DONE !! 1746\n",
        "Setting the local time info !! DONE !! 1746\n",
        "Setting the local time info !! DONE !! 1746\n",
        "Setting the local time info !! DONE !! 1746\n",
        "Setting the local time info !! DONE !! 1746\n",
        "Setting the local time info !! DONE !! 1746\n",
        "Setting the local time info !! DONE !! 1746\n",
        "Setting the local time info !! DONE !!"
       ]
      },
      {
       "output_type": "stream",
       "stream": "stdout",
       "text": [
        " 1747\n",
        "Setting the local time info !! DONE !! 1747\n",
        "Setting the local time info !! DONE !! 1748\n",
        "Setting the local time info !! DONE !! 1748\n",
        "Setting the local time info !! DONE !! 1749\n",
        "Setting the local time info !! DONE !! 1749\n",
        "Setting the local time info !! DONE !! 1750\n",
        "Setting the local time info !! DONE !! 1750\n",
        "Setting the local time info !! DONE !!"
       ]
      },
      {
       "output_type": "stream",
       "stream": "stdout",
       "text": [
        " 1751\n",
        "Setting the local time info !! DONE !! 1751\n",
        "Setting the local time info !! DONE !! 1752\n",
        "Setting the local time info !! DONE !! 1752\n",
        "Setting the local time info !! DONE !!"
       ]
      },
      {
       "output_type": "stream",
       "stream": "stdout",
       "text": [
        " 1753\n",
        "Setting the local time info !! DONE !! 1753\n",
        "Setting the local time info !! DONE !!"
       ]
      },
      {
       "output_type": "stream",
       "stream": "stdout",
       "text": [
        " 1754\n",
        "Setting the local time info !! DONE !! 1754\n",
        "Setting the local time info !! DONE !! 1755\n",
        "Setting the local time info !! DONE !! 1756\n",
        "Setting the local time info !! DONE !! 1756\n",
        "Setting the local time info !! DONE !! 1756\n",
        "Setting the local time info !! DONE !! 1756\n",
        "Setting the local time info !! DONE !! 1757\n",
        "Setting the local time info !! DONE !! 1757\n",
        "Setting the local time info !! DONE !! 1757\n",
        "Setting the local time info !! DONE !! 1758\n",
        "Setting the local time info !! DONE !! 1758\n",
        "Setting the local time info !! DONE !! 1758\n",
        "Setting the local time info !! DONE !! 1758\n",
        "Setting the local time info !! DONE !! 1758\n",
        "Setting the local time info !! DONE !! 1758\n",
        "Setting the local time info !! DONE !! 1758\n",
        "Setting the local time info !! DONE !! 1758\n",
        "Setting the local time info !! DONE !! 1758\n",
        "Setting the local time info !! DONE !! 1758\n",
        "Setting the local time info !! DONE !! 1758\n",
        "Setting the local time info !! DONE !! 1759\n",
        "Setting the local time info !! DONE !! 1760\n",
        "Setting the local time info !! DONE !! 1761\n",
        "Setting the local time info !! DONE !!"
       ]
      },
      {
       "output_type": "stream",
       "stream": "stdout",
       "text": [
        " 1762\n",
        "Setting the local time info !! DONE !! 1762\n",
        "Setting the local time info !! DONE !! 1762\n",
        "Setting the local time info !! DONE !! 1762\n",
        "Setting the local time info !! DONE !! 1762\n",
        "Setting the local time info !! DONE !! 1762\n",
        "Setting the local time info !! DONE !! 1762\n",
        "Setting the local time info !! DONE !! 1762\n",
        "Setting the local time info !! DONE !! 1762\n",
        "Setting the local time info !! DONE !! 1762\n",
        "Setting the local time info !! DONE !! 1763\n",
        "Setting the local time info !! DONE !! 1764\n",
        "Setting the local time info !! DONE !! 1764\n",
        "Setting the local time info !! DONE !! 1764\n",
        "Setting the local time info !! DONE !! 1764\n",
        "Setting the local time info !! DONE !! 1764\n",
        "Setting the local time info !! DONE !! 1765\n",
        "Setting the local time info !! DONE !! 1765\n",
        "Setting the local time info !! DONE !! 1766\n",
        "Setting the local time info !! DONE !! 1766\n",
        "Setting the local time info !! DONE !! 1767\n",
        "Setting the local time info !! DONE !! 1767\n",
        "Setting the local time info !! DONE !! 1767\n",
        "Setting the local time info !! DONE !! 1767\n",
        "Setting the local time info !! DONE !!"
       ]
      },
      {
       "output_type": "stream",
       "stream": "stdout",
       "text": [
        " 1768\n",
        "Setting the local time info !! DONE !! 1768\n",
        "Setting the local time info !! DONE !! 1769\n",
        "Setting the local time info !! DONE !! 1770\n",
        "Setting the local time info !! DONE !! 1770\n",
        "Setting the local time info !! DONE !! 1770\n",
        "Setting the local time info !! DONE !!"
       ]
      },
      {
       "output_type": "stream",
       "stream": "stdout",
       "text": [
        " 1771\n",
        "Setting the local time info !! DONE !! 1771\n",
        "Setting the local time info !! DONE !! 1771\n",
        "Setting the local time info !! DONE !! 1771\n",
        "Setting the local time info !! DONE !! 1771\n",
        "Setting the local time info !! DONE !! 1771\n",
        "Setting the local time info !! DONE !! 1772\n",
        "Setting the local time info !! DONE !! 1772\n",
        "Setting the local time info !! DONE !!"
       ]
      },
      {
       "output_type": "stream",
       "stream": "stdout",
       "text": [
        " 1773\n",
        "Setting the local time info !! DONE !! 1773\n",
        "Setting the local time info !! DONE !! 1773\n",
        "Setting the local time info !! DONE !! 1773\n",
        "Setting the local time info !! DONE !! 1774\n",
        "Setting the local time info !! DONE !! 1774\n",
        "Setting the local time info !! DONE !! 1775\n",
        "Setting the local time info !! DONE !! 1775\n",
        "Setting the local time info !! DONE !! 1776\n",
        "Setting the local time info !! DONE !!"
       ]
      },
      {
       "output_type": "stream",
       "stream": "stdout",
       "text": [
        " 1777\n",
        "Setting the local time info !! DONE !! 1777\n",
        "Setting the local time info !! DONE !! 1777\n",
        "Setting the local time info !! DONE !! 1778\n",
        "Setting the local time info !! DONE !!"
       ]
      },
      {
       "output_type": "stream",
       "stream": "stdout",
       "text": [
        " 1779\n",
        "Setting the local time info !! DONE !! 1779\n",
        "Setting the local time info !! DONE !! 1780\n",
        "Setting the local time info !! DONE !! 1780\n",
        "Setting the local time info !! DONE !! 1780\n",
        "Setting the local time info !! DONE !! 1780\n",
        "Setting the local time info !! DONE !! 1780\n",
        "Setting the local time info !! DONE !! 1780\n",
        "Setting the local time info !! DONE !! 1781\n",
        "Setting the local time info !! DONE !! 1781\n",
        "Setting the local time info !! DONE !! 1781\n",
        "Setting the local time info !! DONE !! 1781\n",
        "Setting the local time info !! DONE !! 1781\n",
        "Setting the local time info !! DONE !! 1781\n",
        "Setting the local time info !! DONE !! 1781\n",
        "Setting the local time info !! DONE !!"
       ]
      },
      {
       "output_type": "stream",
       "stream": "stdout",
       "text": [
        " 1782\n",
        "Setting the local time info !! DONE !! 1783\n",
        "Setting the local time info !! DONE !! 1784\n",
        "Setting the local time info !! DONE !! 1785\n",
        "Setting the local time info !! DONE !! 1785\n",
        "Setting the local time info !! DONE !! 1785\n",
        "Setting the local time info !! DONE !! 1785\n",
        "Setting the local time info !! DONE !! 1785\n",
        "Setting the local time info !! DONE !! 1785\n",
        "Setting the local time info !! DONE !!"
       ]
      },
      {
       "output_type": "stream",
       "stream": "stdout",
       "text": [
        " 1786\n",
        "Setting the local time info !! DONE !! 1786\n",
        "Setting the local time info !! DONE !! 1786\n",
        "Setting the local time info !! DONE !! 1786\n",
        "Setting the local time info !! DONE !! 1786\n",
        "Setting the local time info !! DONE !! 1786\n",
        "Setting the local time info !! DONE !! 1786\n",
        "Setting the local time info !! DONE !! 1786\n",
        "Setting the local time info !! DONE !! 1787\n",
        "Setting the local time info !! DONE !! 1788\n",
        "Setting the local time info !! DONE !! 1788\n",
        "Setting the local time info !! DONE !! 1789\n",
        "Setting the local time info !! DONE !! 1789\n",
        "Setting the local time info !! DONE !! 1790\n",
        "Setting the local time info !! DONE !! 1790\n",
        "Setting the local time info !! DONE !! 1790\n",
        "Setting the local time info !! DONE !!"
       ]
      },
      {
       "output_type": "stream",
       "stream": "stdout",
       "text": [
        " 1791\n",
        "Setting the local time info !! DONE !! 1791\n",
        "Setting the local time info !! DONE !! 1791\n",
        "Setting the local time info !! DONE !! 1792\n",
        "Setting the local time info !! DONE !! 1792\n",
        "Setting the local time info !! DONE !! 1792\n",
        "Setting the local time info !! DONE !! 1792\n",
        "Setting the local time info !! DONE !! 1792\n",
        "Setting the local time info !! DONE !! 1792\n",
        "Setting the local time info !! DONE !!"
       ]
      },
      {
       "output_type": "stream",
       "stream": "stdout",
       "text": [
        " 1793\n",
        "Setting the local time info !! DONE !! 1793\n",
        "Setting the local time info !! DONE !! 1793\n",
        "Setting the local time info !! DONE !! 1793\n",
        "Setting the local time info !! DONE !! 1793\n",
        "Setting the local time info !! DONE !! 1794\n",
        "Setting the local time info !! DONE !! 1794\n",
        "Setting the local time info !! DONE !! 1794\n",
        "Setting the local time info !! DONE !! 1794\n",
        "Setting the local time info !! DONE !!"
       ]
      },
      {
       "output_type": "stream",
       "stream": "stdout",
       "text": [
        " 1795\n",
        "Setting the local time info !! DONE !! 1795\n",
        "Setting the local time info !! DONE !! 1795\n",
        "Setting the local time info !! DONE !! 1796\n",
        "Setting the local time info !! DONE !! 1796\n",
        "Setting the local time info !! DONE !! 1796\n",
        "Setting the local time info !! DONE !! 1796\n",
        "Setting the local time info !! DONE !! 1796\n",
        "Setting the local time info !! DONE !!"
       ]
      },
      {
       "output_type": "stream",
       "stream": "stdout",
       "text": [
        " 1797\n",
        "Setting the local time info !! DONE !! 1797\n",
        "Setting the local time info !! DONE !! 1797\n",
        "Setting the local time info !! DONE !! 1797\n",
        "Setting the local time info !! DONE !! 1798\n",
        "Setting the local time info !! DONE !! 1798\n",
        "Setting the local time info !! DONE !! 1798\n",
        "Setting the local time info !! DONE !! 1799\n",
        "Setting the local time info !! DONE !! 1799\n",
        "Setting the local time info !! DONE !!"
       ]
      },
      {
       "output_type": "stream",
       "stream": "stdout",
       "text": [
        " 1800\n",
        "Setting the local time info !! DONE !! 1800\n",
        "Setting the local time info !! DONE !! 1801\n",
        "Setting the local time info !! DONE !! 1802\n",
        "Setting the local time info !! DONE !! 1802\n",
        "Setting the local time info !! DONE !! 1803\n",
        "Setting the local time info !! DONE !! 1804\n",
        "Setting the local time info !! DONE !!"
       ]
      }
     ],
     "prompt_number": 2
    },
    {
     "cell_type": "code",
     "collapsed": false,
     "input": [
      "# To check the local time setting info \n",
      "count = 0\n",
      "for post_id in post_dict:\n",
      "    if post_dict[post_id].loc and count <10:\n",
      "        print post_dict[post_id].local_tim, post_dict[post_id].local_tz_name\n",
      "        count += 1"
     ],
     "language": "python",
     "metadata": {},
     "outputs": [
      {
       "output_type": "stream",
       "stream": "stdout",
       "text": [
        "2014-11-04 18:41:17 Europe/London\n",
        "2014-03-16 09:43:22 Europe/Rome\n",
        "2013-07-06 23:25:50 Asia/Bangkok\n",
        "2014-10-13 22:07:40 Europe/Stockholm\n",
        "2014-10-07 23:18:01 Asia/Seoul\n",
        "2014-06-28 18:34:13 Europe/Rome\n",
        "2014-09-03 06:36:40 Australia/Brisbane\n",
        "2014-10-02 08:20:15 Asia/Manila\n",
        "2014-09-16 00:03:07 Europe/Rome\n",
        "2013-08-18 23:12:59 America/Guayaquil\n"
       ]
      }
     ],
     "prompt_number": 6
    },
    {
     "cell_type": "markdown",
     "metadata": {},
     "source": [
      "#### Loading the nut info"
     ]
    },
    {
     "cell_type": "code",
     "collapsed": false,
     "input": [
      "nut_info_path = 'C:\\\\Users\\\\Shweta\\\\Desktop\\\\CS 8903\\\\FINAL\\\\results\\\\'\n",
      "nut_info_file_name_list = ['hit_2_step_1.txt','hit_direct.txt','miss.txt']\n",
      "# Reading the file into the system memory\n",
      "lines = []\n",
      "for file_name in nut_info_file_name_list :\n",
      "    with open(nut_info_path+file_name,'r') as f:\n",
      "        lines.extend(list(f))\n",
      "count = 0\n"
     ],
     "language": "python",
     "metadata": {},
     "outputs": [],
     "prompt_number": 7
    },
    {
     "cell_type": "markdown",
     "metadata": {},
     "source": [
      "#### Now Actually setting the nut info"
     ]
    },
    {
     "cell_type": "code",
     "collapsed": false,
     "input": [
      "for line in lines:\n",
      "    post_dict[line.split('\\t')[0]].set_nut_info(line)\n",
      "    count += 1\n",
      "    if not count%1000:\n",
      "        print count"
     ],
     "language": "python",
     "metadata": {},
     "outputs": [
      {
       "output_type": "stream",
       "stream": "stdout",
       "text": [
        "1000\n",
        "2000"
       ]
      },
      {
       "output_type": "stream",
       "stream": "stdout",
       "text": [
        "\n",
        "3000"
       ]
      },
      {
       "output_type": "stream",
       "stream": "stdout",
       "text": [
        "\n",
        "4000"
       ]
      },
      {
       "output_type": "stream",
       "stream": "stdout",
       "text": [
        "\n",
        "5000"
       ]
      },
      {
       "output_type": "stream",
       "stream": "stdout",
       "text": [
        "\n",
        "6000"
       ]
      },
      {
       "output_type": "stream",
       "stream": "stdout",
       "text": [
        "\n",
        "7000"
       ]
      },
      {
       "output_type": "stream",
       "stream": "stdout",
       "text": [
        "\n",
        "8000"
       ]
      },
      {
       "output_type": "stream",
       "stream": "stdout",
       "text": [
        "\n",
        "9000"
       ]
      },
      {
       "output_type": "stream",
       "stream": "stdout",
       "text": [
        "\n"
       ]
      }
     ],
     "prompt_number": 8
    },
    {
     "cell_type": "markdown",
     "metadata": {},
     "source": [
      "#### Removing the Posts without any nut info"
     ]
    },
    {
     "cell_type": "code",
     "collapsed": true,
     "input": [
      "# Now removing the bad ones, i.e. ones which do not have any nut info\n",
      "print len(post_dict)\n",
      "bad = []\n",
      "for post_id in post_dict:\n",
      "    if not post_dict[post_id].has_nuts:\n",
      "        bad.append(post_id)\n",
      "\n",
      "for post_id in bad:\n",
      "    del post_dict[post_id]\n",
      "\n",
      "print len(post_dict)"
     ],
     "language": "python",
     "metadata": {},
     "outputs": [
      {
       "output_type": "stream",
       "stream": "stdout",
       "text": [
        "10000\n",
        "8642\n"
       ]
      }
     ],
     "prompt_number": 9
    },
    {
     "cell_type": "markdown",
     "metadata": {},
     "source": [
      "#### Set comment info"
     ]
    },
    {
     "cell_type": "code",
     "collapsed": false,
     "input": [
      "lines = read_lines('C:\\Users\\Shweta\\Desktop\\CS 8903\\FINAL\\Data\\sample_comments.txt')\n",
      "print 'Setting the comments'\n",
      "for line in lines:\n",
      "    if line.split('\\t')[0] in post_dict:\n",
      "        post_dict[line.split('\\t')[0]].set_comment(line)"
     ],
     "language": "python",
     "metadata": {},
     "outputs": [
      {
       "output_type": "stream",
       "stream": "stdout",
       "text": [
        "Setting the comments\n"
       ]
      }
     ],
     "prompt_number": 10
    },
    {
     "cell_type": "code",
     "collapsed": false,
     "input": [
      "# For how many of the comments is the number of comments not equal to the length of the loaded comments\n",
      "count = 0\n",
      "for post_id in post_dict:\n",
      "    if post_dict[post_id].num_comments !=  -1:\n",
      "        if post_dict[post_id].num_comments !=  len(post_dict[post_id].comm_list):\n",
      "            count += 1\n",
      "print 'For how many of the comments is the number of comments not equal to the length of the loaded comments = ',count"
     ],
     "language": "python",
     "metadata": {},
     "outputs": [
      {
       "output_type": "stream",
       "stream": "stdout",
       "text": [
        "For how many of the comments is the number of comments not equal to the length of the loaded comments =  296\n"
       ]
      }
     ],
     "prompt_number": 11
    },
    {
     "cell_type": "markdown",
     "metadata": {},
     "source": [
      "#### Getting the  median calories info"
     ]
    },
    {
     "cell_type": "code",
     "collapsed": false,
     "input": [
      "l = []\n",
      "has_nuts= 0\n",
      "# Computing the median calories, and creating a \n",
      "for post_id in post_dict.keys():\n",
      "    if post_dict[post_id].has_nuts:\n",
      "        has_nuts += 1\n",
      "        l.append(float(post_dict[post_id].calories))\n",
      "zmed = np.median(np.array(l))\n",
      "avg = sum(l)/has_nuts\n"
     ],
     "language": "python",
     "metadata": {},
     "outputs": [],
     "prompt_number": 12
    },
    {
     "cell_type": "code",
     "collapsed": true,
     "input": [
      "len(l)\n",
      "med = np.median(l)\n",
      "l_count = 0\n",
      "h_count = 0\n",
      "for a in l:\n",
      "    if a >= med:\n",
      "        h_count += 1\n",
      "    else:\n",
      "        l_count += 1\n",
      "print h_count, l_count\n",
      "#sort_dict(count_list(l))[:20]\n",
      "#plt.hist(l, bins = 150)\n",
      "#plt.show()\n"
     ],
     "language": "python",
     "metadata": {},
     "outputs": [
      {
       "output_type": "stream",
       "stream": "stdout",
       "text": [
        "4325 4317\n"
       ]
      }
     ],
     "prompt_number": 13
    },
    {
     "cell_type": "markdown",
     "metadata": {},
     "source": [
      "##### Setting if each post is in high cal or low cal"
     ]
    },
    {
     "cell_type": "code",
     "collapsed": false,
     "input": [
      "# Using the set_cal_class function to set the caloric value for all posts\n",
      "for post_id in post_dict:\n",
      "    post_dict[post_id].set_cal_class(post_dict[post_id].calories >= med)\n",
      "# Computing the difference between the number of high_cal posts and low_cal posts\n",
      "x = 0\n",
      "for post_id in post_dict:\n",
      "    x += 1 if post_dict[post_id].high_cal else -1\n",
      "print x"
     ],
     "language": "python",
     "metadata": {},
     "outputs": [
      {
       "output_type": "stream",
       "stream": "stdout",
       "text": [
        "8\n"
       ]
      }
     ],
     "prompt_number": 14
    },
    {
     "cell_type": "markdown",
     "metadata": {},
     "source": [
      "### Graphs from Poster"
     ]
    },
    {
     "cell_type": "code",
     "collapsed": false,
     "input": [
      "from collections import defaultdict\n",
      "import numpy as np\n",
      "import matplotlib.pyplot as plt"
     ],
     "language": "python",
     "metadata": {},
     "outputs": [],
     "prompt_number": 15
    },
    {
     "cell_type": "markdown",
     "metadata": {},
     "source": [
      "##### Creating the data for plotting"
     ]
    },
    {
     "cell_type": "code",
     "collapsed": false,
     "input": [
      "post_cal = defaultdict(int)\n",
      "likes_cal = defaultdict(int)\n",
      "comms_cal = defaultdict(int)\n",
      "for post_id in post_dict:\n",
      "    post = post_dict[post_id]\n",
      "    if post.has_nuts:\n",
      "        cal = np.round(float(post.calories))\n",
      "        post_cal[cal] += 1\n",
      "        likes_cal[cal] += post.likes\n",
      "        comms_cal[cal] += post.num_comments if post.num_comments >= len(post.comm_list) and post.num_comments != -1 else len(post.comm_list)"
     ],
     "language": "python",
     "metadata": {},
     "outputs": [],
     "prompt_number": 16
    },
    {
     "cell_type": "markdown",
     "metadata": {},
     "source": [
      "#### Normalizing the data"
     ]
    },
    {
     "cell_type": "code",
     "collapsed": false,
     "input": [
      "# Normalizing the plots, by the  number of posts\n",
      "#plt.plot( post_cal.keys(),range(0,len(post_cal.keys())) ,'rx'); plt.show()\n",
      "print max(post_cal.keys())\n",
      "for cal in post_cal.keys():\n",
      "    likes_cal[cal] /= post_cal[cal]\n",
      "    comms_cal[cal] /= post_cal[cal]"
     ],
     "language": "python",
     "metadata": {},
     "outputs": [
      {
       "output_type": "stream",
       "stream": "stdout",
       "text": [
        "902.0\n"
       ]
      }
     ],
     "prompt_number": 17
    },
    {
     "cell_type": "code",
     "collapsed": true,
     "input": [
      "#plot_dict(post_cal,'rx')    \n",
      "#plot_dict(likes_cal,'rx')\n",
      "#plot_dict(comms_cal,'rx')"
     ],
     "language": "python",
     "metadata": {},
     "outputs": [],
     "prompt_number": 18
    },
    {
     "cell_type": "markdown",
     "metadata": {},
     "source": [
      "## Location \n",
      "\n",
      "Download the database from this website \n",
      "https://github.com/pegler/pytzwhere/blob/master/tzwhere/tzwhere.py\n",
      "And set it up it will give you direct timezone from th lat long info\n",
      "Not sure if we will have to get some additional information for getting the UTC offset, or if this gives it directly, also there is some description here[url :http://www.pegler.co/p/about.html]"
     ]
    },
    {
     "cell_type": "markdown",
     "metadata": {},
     "source": [
      "1) Get tzone\n",
      "\n",
      "2) Get offset\n",
      "\n",
      "3) Get local time\n",
      "\n",
      "4) Apply offset to local time\n",
      "\n",
      "### To get the location info for any given lat/long, do\n",
      "> from tzwhere import tzwhere \n",
      "\n",
      "> w = tzwhere.tzwhere()\n",
      "\n",
      "> print w.tzNameAt(latitude, longitude)"
     ]
    },
    {
     "cell_type": "markdown",
     "metadata": {},
     "source": [
      "http://stackoverflow.com/questions/17733139/getting-the-correct-timezone-offset-in-python-using-local-timezone\n",
      "How to deal with timestamps"
     ]
    },
    {
     "cell_type": "code",
     "collapsed": false,
     "input": [
      "count = 0\n",
      "post_hour = defaultdict(int)\n",
      "for post_id in post_dict:\n",
      "    post = post_dict[post_id]\n",
      "    if post.loc:\n",
      "        time = post.local_\n",
      "        if time != None:\n",
      "            post_hour[time.hour*60+(time.minute/10)*10] += 1"
     ],
     "language": "python",
     "metadata": {},
     "outputs": [],
     "prompt_number": 17
    },
    {
     "cell_type": "code",
     "collapsed": false,
     "input": [
      "post_high_hour = defaultdict(int)\n",
      "for post_id in post_dict:\n",
      "    post = post_dict[post_id]\n",
      "    if post.loc:\n",
      "        if post.high_cal:\n",
      "            time = get_local_time(post)\n",
      "            if time != None :\n",
      "                post_high_hour[time.hour*60+(time.minute/10)*10] += 1"
     ],
     "language": "python",
     "metadata": {},
     "outputs": [],
     "prompt_number": 18
    },
    {
     "cell_type": "code",
     "collapsed": false,
     "input": [
      "post_low_hour = defaultdict(int)\n",
      "for post_id in post_dict:\n",
      "    post = post_dict[post_id]\n",
      "    if post.loc:\n",
      "        if not post.high_cal:\n",
      "            time = get_local_time(post)\n",
      "            if time != None:\n",
      "                post_low_hour[time.hour*60+(time.minute/10)*10] += 10"
     ],
     "language": "python",
     "metadata": {},
     "outputs": [],
     "prompt_number": 19
    },
    {
     "cell_type": "code",
     "collapsed": false,
     "input": [
      "x_tot  = sorted(post_hour.keys())\n",
      "v_tot = []\n",
      "for k in x_tot:\n",
      "    v_tot.append(post_hour[k])\n",
      "plt.plot(x_tot,v_tot,'gx');"
     ],
     "language": "python",
     "metadata": {},
     "outputs": [],
     "prompt_number": 20
    },
    {
     "cell_type": "code",
     "collapsed": false,
     "input": [
      "x_l  = sorted(post_low_hour.keys())\n",
      "v_l = []\n",
      "for k in x_l:\n",
      "    v_l.append(post_low_hour[k])\n",
      "plt.plot(x_l,v_l,'bx');"
     ],
     "language": "python",
     "metadata": {},
     "outputs": [],
     "prompt_number": 21
    },
    {
     "cell_type": "code",
     "collapsed": false,
     "input": [
      "p_h = defaultdict(int)\n",
      "p_h.update(post_high_hour)\n",
      "x_h  = sorted(post_high_hour.keys())\n",
      "v_h = []\n",
      "for k in x_l:\n",
      "    v_h.append(p_h[k])\n",
      "plt.plot(x_l,v_h,'rx');plt.show()\n",
      "print len(p_h)"
     ],
     "language": "python",
     "metadata": {},
     "outputs": [
      {
       "output_type": "stream",
       "stream": "stdout",
       "text": [
        "140\n"
       ]
      }
     ],
     "prompt_number": 22
    },
    {
     "cell_type": "code",
     "collapsed": false,
     "input": [
      "print len(x_l) == len(v_l)\n",
      "print len(v_l)\n",
      "print len(x_l)\n",
      "print len(x_h)\n",
      "print len(v_h)"
     ],
     "language": "python",
     "metadata": {},
     "outputs": [
      {
       "output_type": "stream",
       "stream": "stdout",
       "text": [
        "True\n",
        "133\n",
        "133\n",
        "130\n",
        "133\n"
       ]
      }
     ],
     "prompt_number": 23
    },
    {
     "cell_type": "code",
     "collapsed": false,
     "input": [
      "N = len(x_l)\n",
      "menMeans = v_l\n",
      "#menStd =   (2, 3, 4, 1, 2)\n",
      "\n",
      "ind = np.arange(N)  # the x locations for the groups\n",
      "width = 0.21   # the width of the bars\n",
      "\n",
      "fig, ax = plt.subplots()\n",
      "rects1 = ax.bar(ind, v_l, width, color='r')\n",
      "\n",
      "womenMeans = v_h\n",
      "#womenStd =   (3, 5, 2, 3, 3)\n",
      "rects2 = ax.bar(ind, v_h, width, color='b')\n",
      "\n",
      "# add some text for labels, title and axes ticks\n",
      "\n",
      "ax.legend( (rects1[0], rects2[0]), ('Low', 'High') )\n",
      "\n",
      "#def autolabel(rects):\n",
      "    # attach some text labels\n",
      "#    for rect in rects:\n",
      "#        height = rect.get_height()\n",
      "#        ax.text(rect.get_x()+rect.get_width()/2., 1.05*height, '%d'%int(height),\n",
      "#                ha='center', va='bottom')\n",
      "\n",
      "#autolabel(rects1)\n",
      "#autolabel(rects2)\n",
      "\n",
      "plt.show()"
     ],
     "language": "python",
     "metadata": {},
     "outputs": [],
     "prompt_number": 24
    },
    {
     "cell_type": "code",
     "collapsed": false,
     "input": [
      "lis = []\n",
      "for i in range(len(x_l)):\n",
      "    lis.append((v_h[i]-v_l[i]))\n",
      "plt.plot(lis,'bx-');plt.ylim([-5,20]);plt.show()\n",
      "print max(lis)"
     ],
     "language": "python",
     "metadata": {},
     "outputs": [
      {
       "output_type": "stream",
       "stream": "stdout",
       "text": [
        "-4\n"
       ]
      }
     ],
     "prompt_number": 27
    },
    {
     "cell_type": "code",
     "collapsed": false,
     "input": [
      "count = 0\n",
      "for post_id in post_dict:\n",
      "    if post_dict[post_id].loc:\n",
      "        if post_dict[post_id].high_cal:\n",
      "            count += 1\n",
      "        else:\n",
      "            count -= 1\n",
      "print count"
     ],
     "language": "python",
     "metadata": {},
     "outputs": [
      {
       "output_type": "stream",
       "stream": "stdout",
       "text": [
        "-60\n"
       ]
      }
     ],
     "prompt_number": 28
    },
    {
     "cell_type": "code",
     "collapsed": false,
     "input": [
      "fig = plt.figure()\n",
      "ax = fig.add_subplot(111)\n",
      "width = 0.32\n",
      "rects1 = ax.bar(x_l,v_h,width)\n",
      "rects2 = ax.bar(x_l+width,v_l,width)\n",
      "plt.show()"
     ],
     "language": "python",
     "metadata": {},
     "outputs": [
      {
       "ename": "TypeError",
       "evalue": "can only concatenate list (not \"float\") to list",
       "output_type": "pyerr",
       "traceback": [
        "\u001b[1;31m---------------------------------------------------------------------------\u001b[0m\n\u001b[1;31mTypeError\u001b[0m                                 Traceback (most recent call last)",
        "\u001b[1;32m<ipython-input-29-8f937802c6f8>\u001b[0m in \u001b[0;36m<module>\u001b[1;34m()\u001b[0m\n\u001b[0;32m      3\u001b[0m \u001b[0mwidth\u001b[0m \u001b[1;33m=\u001b[0m \u001b[1;36m0.32\u001b[0m\u001b[1;33m\u001b[0m\u001b[0m\n\u001b[0;32m      4\u001b[0m \u001b[0mrects1\u001b[0m \u001b[1;33m=\u001b[0m \u001b[0max\u001b[0m\u001b[1;33m.\u001b[0m\u001b[0mbar\u001b[0m\u001b[1;33m(\u001b[0m\u001b[0mx_l\u001b[0m\u001b[1;33m,\u001b[0m\u001b[0mv_h\u001b[0m\u001b[1;33m,\u001b[0m\u001b[0mwidth\u001b[0m\u001b[1;33m)\u001b[0m\u001b[1;33m\u001b[0m\u001b[0m\n\u001b[1;32m----> 5\u001b[1;33m \u001b[0mrects2\u001b[0m \u001b[1;33m=\u001b[0m \u001b[0max\u001b[0m\u001b[1;33m.\u001b[0m\u001b[0mbar\u001b[0m\u001b[1;33m(\u001b[0m\u001b[0mx_l\u001b[0m\u001b[1;33m+\u001b[0m\u001b[0mwidth\u001b[0m\u001b[1;33m,\u001b[0m\u001b[0mv_l\u001b[0m\u001b[1;33m,\u001b[0m\u001b[0mwidth\u001b[0m\u001b[1;33m)\u001b[0m\u001b[1;33m\u001b[0m\u001b[0m\n\u001b[0m\u001b[0;32m      6\u001b[0m \u001b[0mplt\u001b[0m\u001b[1;33m.\u001b[0m\u001b[0mshow\u001b[0m\u001b[1;33m(\u001b[0m\u001b[1;33m)\u001b[0m\u001b[1;33m\u001b[0m\u001b[0m\n",
        "\u001b[1;31mTypeError\u001b[0m: can only concatenate list (not \"float\") to list"
       ]
      }
     ],
     "prompt_number": 29
    },
    {
     "cell_type": "code",
     "collapsed": true,
     "input": [
      "print sum(post_low_hour.values()),sum(post_high_hour.values())"
     ],
     "language": "python",
     "metadata": {},
     "outputs": [
      {
       "output_type": "stream",
       "stream": "stdout",
       "text": [
        "13220 1265\n"
       ]
      }
     ],
     "prompt_number": 30
    },
    {
     "cell_type": "code",
     "collapsed": true,
     "input": [
      "#plt.plot(post_hour.keys(),post_hour.values(),'kx')\n",
      "plt.plot(post_high_hour.keys(),post_high_hour.values(),'rx');plt.show()\n",
      "plt.plot(post_low_hour.keys(),post_low_hour.values(),'gx');plt.show()"
     ],
     "language": "python",
     "metadata": {},
     "outputs": [],
     "prompt_number": 31
    },
    {
     "cell_type": "code",
     "collapsed": false,
     "input": [
      "x_high = []; y_high = []\n",
      "x_low  = []; y_low = []\n",
      "for post_id in post_dict:\n",
      "    if post_dict[post_id].loc != 0:\n",
      "        loc = post_dict[post_id].loc.split(',')\n",
      "        if post.high_cal:\n",
      "            x_high.append(float(loc[0]))\n",
      "            y_high.append(float(loc[1]))\n",
      "        else:\n",
      "            x_low.append(float(loc[0]))\n",
      "            y_low.append(float(loc[1]))"
     ],
     "language": "python",
     "metadata": {},
     "outputs": [
      {
       "ename": "AttributeError",
       "evalue": "'bool' object has no attribute 'split'",
       "output_type": "pyerr",
       "traceback": [
        "\u001b[1;31m---------------------------------------------------------------------------\u001b[0m\n\u001b[1;31mAttributeError\u001b[0m                            Traceback (most recent call last)",
        "\u001b[1;32m<ipython-input-32-d0ae35105e51>\u001b[0m in \u001b[0;36m<module>\u001b[1;34m()\u001b[0m\n\u001b[0;32m      3\u001b[0m \u001b[1;32mfor\u001b[0m \u001b[0mpost_id\u001b[0m \u001b[1;32min\u001b[0m \u001b[0mpost_dict\u001b[0m\u001b[1;33m:\u001b[0m\u001b[1;33m\u001b[0m\u001b[0m\n\u001b[0;32m      4\u001b[0m     \u001b[1;32mif\u001b[0m \u001b[0mpost_dict\u001b[0m\u001b[1;33m[\u001b[0m\u001b[0mpost_id\u001b[0m\u001b[1;33m]\u001b[0m\u001b[1;33m.\u001b[0m\u001b[0mloc\u001b[0m \u001b[1;33m!=\u001b[0m \u001b[1;36m0\u001b[0m\u001b[1;33m:\u001b[0m\u001b[1;33m\u001b[0m\u001b[0m\n\u001b[1;32m----> 5\u001b[1;33m         \u001b[0mloc\u001b[0m \u001b[1;33m=\u001b[0m \u001b[0mpost_dict\u001b[0m\u001b[1;33m[\u001b[0m\u001b[0mpost_id\u001b[0m\u001b[1;33m]\u001b[0m\u001b[1;33m.\u001b[0m\u001b[0mloc\u001b[0m\u001b[1;33m.\u001b[0m\u001b[0msplit\u001b[0m\u001b[1;33m(\u001b[0m\u001b[1;34m','\u001b[0m\u001b[1;33m)\u001b[0m\u001b[1;33m\u001b[0m\u001b[0m\n\u001b[0m\u001b[0;32m      6\u001b[0m         \u001b[1;32mif\u001b[0m \u001b[0mpost\u001b[0m\u001b[1;33m.\u001b[0m\u001b[0mhigh_cal\u001b[0m\u001b[1;33m:\u001b[0m\u001b[1;33m\u001b[0m\u001b[0m\n\u001b[0;32m      7\u001b[0m             \u001b[0mx_high\u001b[0m\u001b[1;33m.\u001b[0m\u001b[0mappend\u001b[0m\u001b[1;33m(\u001b[0m\u001b[0mfloat\u001b[0m\u001b[1;33m(\u001b[0m\u001b[0mloc\u001b[0m\u001b[1;33m[\u001b[0m\u001b[1;36m0\u001b[0m\u001b[1;33m]\u001b[0m\u001b[1;33m)\u001b[0m\u001b[1;33m)\u001b[0m\u001b[1;33m\u001b[0m\u001b[0m\n",
        "\u001b[1;31mAttributeError\u001b[0m: 'bool' object has no attribute 'split'"
       ]
      }
     ],
     "prompt_number": 32
    },
    {
     "cell_type": "code",
     "collapsed": false,
     "input": [
      "len(x_high)"
     ],
     "language": "python",
     "metadata": {},
     "outputs": [
      {
       "metadata": {},
       "output_type": "pyout",
       "prompt_number": 33,
       "text": [
        "0"
       ]
      }
     ],
     "prompt_number": 33
    },
    {
     "cell_type": "code",
     "collapsed": false,
     "input": [
      "plt.plot(x_high,y_high,'rx');\n",
      "plt.plot(x_low,y_low,'gx');plt.show()"
     ],
     "language": "python",
     "metadata": {},
     "outputs": [],
     "prompt_number": 34
    },
    {
     "cell_type": "code",
     "collapsed": false,
     "input": [
      "h = 0\n",
      "l = 0\n",
      "for post_id in post_dict:\n",
      "    if post_dict[post_id].high_cal :\n",
      "        h += 1\n",
      "    else:\n",
      "        l += 1\n",
      "print l, h"
     ],
     "language": "python",
     "metadata": {},
     "outputs": [
      {
       "output_type": "stream",
       "stream": "stdout",
       "text": [
        "4317 4325\n"
       ]
      }
     ],
     "prompt_number": 35
    },
    {
     "cell_type": "code",
     "collapsed": true,
     "input": [
      "# Creating a new dict with only those which have a latitude and longitude informatio\n",
      "post_loc_dict = {}\n",
      "for post_id in post_dict:\n",
      "    if post_dict[post_id].loc:\n",
      "        post_loc_dict[post_id] =  post_dict[post_id]"
     ],
     "language": "python",
     "metadata": {},
     "outputs": [],
     "prompt_number": 36
    },
    {
     "cell_type": "code",
     "collapsed": false,
     "input": [
      "len(post_loc_dict)"
     ],
     "language": "python",
     "metadata": {},
     "outputs": [
      {
       "metadata": {},
       "output_type": "pyout",
       "prompt_number": 37,
       "text": [
        "2664"
       ]
      }
     ],
     "prompt_number": 37
    },
    {
     "cell_type": "code",
     "collapsed": false,
     "input": [
      "for post_id in len_post_dict:\n",
      "    post = "
     ],
     "language": "python",
     "metadata": {},
     "outputs": []
    },
    {
     "cell_type": "code",
     "collapsed": false,
     "input": [
      "cal = []\n",
      "for post_id in post_dict:\n",
      "    cal.append(post_dict[post_id].calories)"
     ],
     "language": "python",
     "metadata": {},
     "outputs": [],
     "prompt_number": 40
    },
    {
     "cell_type": "code",
     "collapsed": false,
     "input": [
      "print np.median(cal)\n",
      "print np.mean(cal)"
     ],
     "language": "python",
     "metadata": {},
     "outputs": [
      {
       "output_type": "stream",
       "stream": "stdout",
       "text": [
        "240.385\n",
        "274.719378385\n"
       ]
      }
     ],
     "prompt_number": 49
    },
    {
     "cell_type": "code",
     "collapsed": false,
     "input": [
      "plt.hist(cal,bins = 3);plt.show()"
     ],
     "language": "python",
     "metadata": {},
     "outputs": [],
     "prompt_number": 57
    },
    {
     "cell_type": "code",
     "collapsed": false,
     "input": [
      "print np.percentile(cal,25)\n",
      "print np.percentile(cal,50)\n",
      "print np.percentile(cal,75)"
     ],
     "language": "python",
     "metadata": {},
     "outputs": [
      {
       "output_type": "stream",
       "stream": "stdout",
       "text": [
        "166.03325\n",
        "240.385\n",
        "358.0\n"
       ]
      }
     ],
     "prompt_number": 55
    },
    {
     "cell_type": "code",
     "collapsed": false,
     "input": [
      "# For each post we assign it a digit 0,1,2,3 defining which percentile does it rank, and then we do the same as above\n"
     ],
     "language": "python",
     "metadata": {},
     "outputs": [],
     "prompt_number": 58
    },
    {
     "cell_type": "code",
     "collapsed": false,
     "input": [],
     "language": "python",
     "metadata": {},
     "outputs": []
    }
   ],
   "metadata": {}
  }
 ]
}