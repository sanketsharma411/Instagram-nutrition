{
 "metadata": {
  "name": "",
  "signature": "sha256:e7d9087c2c6797a3cc2aa627bb54444fe2142220ba0e4a4ed90ea108704ab509"
 },
 "nbformat": 3,
 "nbformat_minor": 0,
 "worksheets": [
  {
   "cells": [
    {
     "cell_type": "code",
     "collapsed": true,
     "input": [
      "import sys, urllib\n",
      "sys.path.append('C:\\Users\\Shweta\\Desktop\\CS 8903\\FINAL\\scripts')\n",
      "from InstaLib import *\n",
      "from analyze_utils import *\n",
      "from match_utils import *\n",
      "from random import shuffle, randint\n",
      "import numpy as np"
     ],
     "language": "python",
     "metadata": {},
     "outputs": [
      {
       "output_type": "stream",
       "stream": "stdout",
       "text": [
        "Reading json input file: C:\\Anaconda\\lib\\site-packages\\tzwhere-1.0-py2.7.egg\\tzwhere\\tz_world_compact.json\n",
        "Loading USDA data"
       ]
      },
      {
       "output_type": "stream",
       "stream": "stdout",
       "text": [
        "\n",
        "Loading USDA data"
       ]
      },
      {
       "output_type": "stream",
       "stream": "stdout",
       "text": [
        "\n"
       ]
      }
     ],
     "prompt_number": 1
    },
    {
     "cell_type": "markdown",
     "metadata": {},
     "source": [
      "#### Loading the post file"
     ]
    },
    {
     "cell_type": "code",
     "collapsed": true,
     "input": [
      "post_file = 'C:\\Users\\Shweta\\Desktop\\CS 8903\\FINAL\\Data\\sample_post.txt'\n",
      "post_dict = load_post(post_file)"
     ],
     "language": "python",
     "metadata": {},
     "outputs": [
      {
       "output_type": "stream",
       "stream": "stdout",
       "text": [
        "Loading the post File\n",
        "Loading the post File !! DONE !!"
       ]
      },
      {
       "output_type": "stream",
       "stream": "stdout",
       "text": [
        "\n",
        "Reading through the loaded data into local variables\n",
        "Reading through the loaded data into local variables !! DONE !!"
       ]
      },
      {
       "output_type": "stream",
       "stream": "stdout",
       "text": [
        " 0\n"
       ]
      }
     ],
     "prompt_number": 2
    },
    {
     "cell_type": "markdown",
     "metadata": {},
     "source": [
      "#### Loading the nut info"
     ]
    },
    {
     "cell_type": "code",
     "collapsed": true,
     "input": [
      "nut_info_path = 'C:\\\\Users\\\\Shweta\\\\Desktop\\\\CS 8903\\\\FINAL\\\\results\\\\'\n",
      "nut_info_file_name_list = ['hit_2_step_1.txt','hit_direct.txt','miss.txt']\n",
      "# Reading the file into the system memory\n",
      "lines = []\n",
      "for file_name in nut_info_file_name_list :\n",
      "    with open(nut_info_path+file_name,'r') as f:\n",
      "        lines.extend(list(f))\n",
      "count = 0\n"
     ],
     "language": "python",
     "metadata": {},
     "outputs": [],
     "prompt_number": 3
    },
    {
     "cell_type": "markdown",
     "metadata": {},
     "source": [
      "#### Now Actually setting the nut info"
     ]
    },
    {
     "cell_type": "code",
     "collapsed": true,
     "input": [
      "for line in lines:\n",
      "    post_dict[line.split('\\t')[0]].set_nut_info(line)\n",
      "    count += 1\n",
      "    if not count%1000:\n",
      "        print count"
     ],
     "language": "python",
     "metadata": {},
     "outputs": [
      {
       "output_type": "stream",
       "stream": "stdout",
       "text": [
        "1000\n",
        "2000"
       ]
      },
      {
       "output_type": "stream",
       "stream": "stdout",
       "text": [
        "\n",
        "3000"
       ]
      },
      {
       "output_type": "stream",
       "stream": "stdout",
       "text": [
        "\n",
        "4000"
       ]
      },
      {
       "output_type": "stream",
       "stream": "stdout",
       "text": [
        "\n",
        "5000"
       ]
      },
      {
       "output_type": "stream",
       "stream": "stdout",
       "text": [
        "\n",
        "6000"
       ]
      },
      {
       "output_type": "stream",
       "stream": "stdout",
       "text": [
        "\n",
        "7000"
       ]
      },
      {
       "output_type": "stream",
       "stream": "stdout",
       "text": [
        "\n",
        "8000"
       ]
      },
      {
       "output_type": "stream",
       "stream": "stdout",
       "text": [
        "\n",
        "9000"
       ]
      },
      {
       "output_type": "stream",
       "stream": "stdout",
       "text": [
        "\n"
       ]
      }
     ],
     "prompt_number": 4
    },
    {
     "cell_type": "markdown",
     "metadata": {},
     "source": [
      "#### Removing the Posts without any nut info"
     ]
    },
    {
     "cell_type": "code",
     "collapsed": false,
     "input": [
      "# Now removing the bad ones, i.e. ones which do not have any nut info\n",
      "print len(post_dict)\n",
      "bad = []\n",
      "for post_id in post_dict:\n",
      "    if not post_dict[post_id].has_nuts:\n",
      "        bad.append(post_id)\n",
      "\n",
      "for post_id in bad:\n",
      "    del post_dict[post_id]\n",
      "\n",
      "print len(post_dict)"
     ],
     "language": "python",
     "metadata": {},
     "outputs": [
      {
       "output_type": "stream",
       "stream": "stdout",
       "text": [
        "10000\n",
        "8642\n"
       ]
      }
     ],
     "prompt_number": 5
    },
    {
     "cell_type": "markdown",
     "metadata": {},
     "source": [
      "#### Getting the  median calories info"
     ]
    },
    {
     "cell_type": "code",
     "collapsed": true,
     "input": [
      "l = []\n",
      "has_nuts= 0\n",
      "# Computing the median calories, and creating a \n",
      "for post_id in post_dict.keys():\n",
      "    if post_dict[post_id].has_nuts:\n",
      "        has_nuts += 1\n",
      "        l.append(float(post_dict[post_id].calories))\n",
      "med = np.median(np.array(l))\n",
      "avg = sum(l)/has_nuts\n"
     ],
     "language": "python",
     "metadata": {},
     "outputs": [],
     "prompt_number": 6
    },
    {
     "cell_type": "code",
     "collapsed": false,
     "input": [
      "len(l)\n",
      "med = np.median(l)\n",
      "l_count = 0\n",
      "h_count = 0\n",
      "for a in l:\n",
      "    if a >= med:\n",
      "        h_count += 1\n",
      "    else:\n",
      "        l_count += 1\n",
      "print h_count, l_count\n",
      "#sort_dict(count_list(l))[:20]\n",
      "#plt.hist(l, bins = 900)\n",
      "#plt.show()"
     ],
     "language": "python",
     "metadata": {},
     "outputs": [
      {
       "output_type": "stream",
       "stream": "stdout",
       "text": [
        "4325 4317\n"
       ]
      }
     ],
     "prompt_number": 8
    },
    {
     "cell_type": "code",
     "collapsed": true,
     "input": [
      "up = 0\n",
      "down = 0\n",
      "for post_id in post_dict:\n",
      "    post_dict[post_id].set_cal_class(post_dict[post_id].calories >= med)"
     ],
     "language": "python",
     "metadata": {},
     "outputs": [],
     "prompt_number": 9
    },
    {
     "cell_type": "code",
     "collapsed": false,
     "input": [
      "for i in range(10):\n",
      "    post = get_rand_element(post_dict)\n",
      "    print post.high_cal"
     ],
     "language": "python",
     "metadata": {},
     "outputs": [
      {
       "output_type": "stream",
       "stream": "stdout",
       "text": [
        "True\n",
        "False\n",
        "True\n",
        "False\n",
        "True\n",
        "True\n",
        "False\n",
        "False\n",
        "False\n",
        "False\n"
       ]
      }
     ],
     "prompt_number": 10
    },
    {
     "cell_type": "markdown",
     "metadata": {},
     "source": [
      "#### Set comment info"
     ]
    },
    {
     "cell_type": "code",
     "collapsed": true,
     "input": [
      "lines = read_lines('C:\\Users\\Shweta\\Desktop\\CS 8903\\FINAL\\Data\\sample_comments.txt')\n",
      "print 'Setting the comments'\n",
      "for line in lines:\n",
      "    if line.split('\\t')[0] in post_dict:\n",
      "        post_dict[line.split('\\t')[0]].set_comment(line)"
     ],
     "language": "python",
     "metadata": {},
     "outputs": [
      {
       "output_type": "stream",
       "stream": "stdout",
       "text": [
        "Setting the comments\n"
       ]
      }
     ],
     "prompt_number": 12
    },
    {
     "cell_type": "code",
     "collapsed": true,
     "input": [
      "count = 0\n",
      "for post_id in post_dict:\n",
      "    if post_dict[post_id].num_comments !=  -1:\n",
      "        if post_dict[post_id].num_comments !=  len(post_dict[post_id].comm_list):\n",
      "            count += 1\n",
      "print count"
     ],
     "language": "python",
     "metadata": {},
     "outputs": [
      {
       "output_type": "stream",
       "stream": "stdout",
       "text": [
        "296\n"
       ]
      }
     ],
     "prompt_number": 13
    },
    {
     "cell_type": "markdown",
     "metadata": {},
     "source": [
      "### Graphs from Poster"
     ]
    },
    {
     "cell_type": "code",
     "collapsed": true,
     "input": [
      "from collections import defaultdict\n",
      "import numpy as np\n",
      "import matplotlib.pyplot as plt"
     ],
     "language": "python",
     "metadata": {},
     "outputs": [],
     "prompt_number": 14
    },
    {
     "cell_type": "code",
     "collapsed": true,
     "input": [
      "post_cal = defaultdict(int)\n",
      "likes_cal = defaultdict(int)\n",
      "comms_cal = defaultdict(int)"
     ],
     "language": "python",
     "metadata": {},
     "outputs": [],
     "prompt_number": 15
    },
    {
     "cell_type": "code",
     "collapsed": true,
     "input": [
      "for post_id in post_dict:\n",
      "    post = post_dict[post_id]\n",
      "    if post.has_nuts:\n",
      "        cal = np.round(float(post.calories))\n",
      "        post_cal[cal] += 1\n",
      "        likes_cal[cal] += post.likes\n",
      "        comms_cal[cal] += post.num_comments if post.num_comments >= len(post.comm_list) and post.num_comments != -1 else len(post.comm_list)"
     ],
     "language": "python",
     "metadata": {},
     "outputs": [],
     "prompt_number": 16
    },
    {
     "cell_type": "code",
     "collapsed": true,
     "input": [
      "plot_dict(post_cal,'rx')\n",
      "plot_dict(likes_cal,'rx')\n",
      "plot_dict(comms_cal,'rx')"
     ],
     "language": "python",
     "metadata": {},
     "outputs": [],
     "prompt_number": 17
    },
    {
     "cell_type": "code",
     "collapsed": true,
     "input": [
      "# Normalizing the plots, by the  number of posts\n",
      "#plt.plot( post_cal.keys(),range(0,len(post_cal.keys())) ,'rx'); plt.show()\n",
      "print max(post_cal.keys())\n",
      "for cal in post_cal.keys():\n",
      "    likes_cal[cal] /= 1.0*post_cal[cal]\n",
      "    comms_cal[cal] /= 1.0*post_cal[cal]\n",
      "plot_dict(post_cal,'rx')    \n",
      "plot_dict(likes_cal,'rx')\n",
      "plot_dict(comms_cal,'rx')"
     ],
     "language": "python",
     "metadata": {},
     "outputs": [
      {
       "output_type": "stream",
       "stream": "stdout",
       "text": [
        "902.0\n"
       ]
      }
     ],
     "prompt_number": 36
    },
    {
     "cell_type": "code",
     "collapsed": false,
     "input": [
      "from matplotlib.backends.backend_pdf import PdfPages"
     ],
     "language": "python",
     "metadata": {},
     "outputs": [],
     "prompt_number": 23
    },
    {
     "cell_type": "code",
     "collapsed": false,
     "input": [
      "\n",
      "with PdfPages('multipage_pdf.pdf') as pdf:\n",
      "    \n",
      "    pdf.savefig()  # saves the current figure into a pdf page\n",
      "    "
     ],
     "language": "python",
     "metadata": {},
     "outputs": [],
     "prompt_number": 25
    },
    {
     "cell_type": "code",
     "collapsed": false,
     "input": [],
     "language": "python",
     "metadata": {},
     "outputs": []
    }
   ],
   "metadata": {}
  }
 ]
}