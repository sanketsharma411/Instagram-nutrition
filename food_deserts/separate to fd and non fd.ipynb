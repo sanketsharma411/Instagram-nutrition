{
 "metadata": {
  "name": "",
  "signature": "sha256:5b9b2c26ea78c19cba8033c263df488a1fd90c1599ed93c3e0ad908f247ca29a"
 },
 "nbformat": 3,
 "nbformat_minor": 0,
 "worksheets": [
  {
   "cells": [
    {
     "cell_type": "markdown",
     "metadata": {},
     "source": [
      "### This file takes as input the .US file and based on the entry in the last column, it splits it into .US.fd and .US.nfd\n",
      "Format of the .US file is as follows\n",
      "-  0-15: post\n",
      "- 16-24: nut info\n",
      "- 25-28: US info\n",
      "\n",
      "The new files have this same format but only with either fd or only non fd posts"
     ]
    },
    {
     "cell_type": "code",
     "collapsed": false,
     "input": [
      "with open('post.txt.nut.US.ALL','r') as f:\n",
      "    lines = f.readlines()"
     ],
     "language": "python",
     "metadata": {},
     "outputs": [],
     "prompt_number": 1
    },
    {
     "cell_type": "code",
     "collapsed": false,
     "input": [
      "fd_nfd_dict = {'0':[], '1':[]}\n",
      "for line in lines:\n",
      "    try:\n",
      "        fd_nfd_dict[line.strip().split('\\t')[-1]].append(line)\n",
      "    except:\n",
      "        pass\n",
      "print len(fd_nfd_dict), len(fd_nfd_dict['0']), len(fd_nfd_dict['1'])"
     ],
     "language": "python",
     "metadata": {},
     "outputs": [
      {
       "output_type": "stream",
       "stream": "stdout",
       "text": [
        "2 96234 3763\n"
       ]
      }
     ],
     "prompt_number": 2
    },
    {
     "cell_type": "code",
     "collapsed": false,
     "input": [
      "# Writing to food desert file\n",
      "with open('post.txt.nut.US.nfd','w+') as f:\n",
      "    for line in fd_nfd_dict['0']:\n",
      "        f.write(line)\n",
      "        \n",
      "# Writing to non-food desert file\n",
      "with open('post.txt.nut.US.fd','w+') as f:\n",
      "    for line in fd_nfd_dict['1']:\n",
      "        f.write(line)        "
     ],
     "language": "python",
     "metadata": {},
     "outputs": [],
     "prompt_number": 3
    },
    {
     "cell_type": "code",
     "collapsed": false,
     "input": [
      "x = [len(line.split('\\t')) for line in lines]\n",
      "print set(x)"
     ],
     "language": "python",
     "metadata": {},
     "outputs": [
      {
       "output_type": "stream",
       "stream": "stdout",
       "text": [
        "set([18, 29])\n"
       ]
      }
     ],
     "prompt_number": 4
    },
    {
     "cell_type": "code",
     "collapsed": false,
     "input": [
      "x.count(29)"
     ],
     "language": "python",
     "metadata": {},
     "outputs": [
      {
       "metadata": {},
       "output_type": "pyout",
       "prompt_number": 6,
       "text": [
        "99997"
       ]
      }
     ],
     "prompt_number": 6
    },
    {
     "cell_type": "code",
     "collapsed": false,
     "input": [],
     "language": "python",
     "metadata": {},
     "outputs": []
    }
   ],
   "metadata": {}
  }
 ]
}